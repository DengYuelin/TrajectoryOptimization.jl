{
 "cells": [
  {
   "cell_type": "code",
   "execution_count": null,
   "metadata": {},
   "outputs": [],
   "source": [
    "using TrajectoryOptimization\n",
    "using Plots\n",
    "using MeshCat\n",
    "using GeometryTypes\n",
    "using CoordinateTransformations\n",
    "using FileIO\n",
    "using LinearAlgebra"
   ]
  },
  {
   "cell_type": "code",
   "execution_count": null,
   "metadata": {},
   "outputs": [],
   "source": [
    "### Solver options ###\n",
    "opts = SolverOptions()\n",
    "opts.verbose = false;"
   ]
  },
  {
   "cell_type": "code",
   "execution_count": null,
   "metadata": {},
   "outputs": [],
   "source": [
    "# Model\n",
    "n = 13 # states (quadrotor w/ quaternions)\n",
    "m = 4 # controls\n",
    "model = Model(Dynamics.quadrotor_dynamics!,n,m)"
   ]
  },
  {
   "cell_type": "code",
   "execution_count": null,
   "metadata": {},
   "outputs": [],
   "source": [
    "# Objective and constraints\n",
    "Qf = 100.0*Matrix{Float64}(I, n, n)\n",
    "Q = (0.5)*Matrix{Float64}(I, n, n)\n",
    "R = (0.1)*Matrix{Float64}(I, m, m)\n",
    "tf = 5.0\n",
    "dt = 0.05\n",
    "\n",
    "# -initial state\n",
    "x0 = zeros(n)\n",
    "x0[4:7] = [1;0;0;0]\n",
    "\n",
    "# -final state\n",
    "xf = zeros(n)\n",
    "xf[1:3] = [20.0;20.0;0.0] # xyz position\n",
    "xf[4:7] = [1;0;0;0]\n",
    "xf\n",
    "\n",
    "# -control limits\n",
    "u_min = -10.0\n",
    "u_max = 10.0\n",
    "\n",
    "# -obstacles\n",
    "quad_radius = 3.0\n",
    "sphere_radius = 1.0\n",
    "\n",
    "n_spheres = 4\n",
    "spheres = ([5.0;9.0;9.0;15.0;],[5.0;9.0;9.0;15.0],[0.0;0.0;4.0;0.0],[sphere_radius;sphere_radius;sphere_radius;sphere_radius])\n",
    "function cI(x,u)\n",
    "    [TrajectoryOptimization.sphere_constraint(x,spheres[1][1],spheres[2][1],spheres[3][1],spheres[4][1]+quad_radius);\n",
    "     TrajectoryOptimization.sphere_constraint(x,spheres[1][2],spheres[2][2],spheres[3][2],spheres[4][2]+quad_radius);\n",
    "     TrajectoryOptimization.sphere_constraint(x,spheres[1][3],spheres[2][3],spheres[3][3],spheres[4][3]+quad_radius);\n",
    "     TrajectoryOptimization.sphere_constraint(x,spheres[1][4],spheres[2][4],spheres[3][4],spheres[4][4]+quad_radius);\n",
    "     -x[3]]\n",
    "end\n",
    "\n",
    "# -constraint that quaternion should be unit\n",
    "#function cE(x,u)\n",
    "#    [x[4]^2 + x[5]^2 + x[6]^2 + x[7]^2 - 1.0]\n",
    "#end\n",
    "\n",
    "obj_uncon = UnconstrainedObjective(Q, R, Qf, tf, x0, xf)\n",
    "obj_con = TrajectoryOptimization.ConstrainedObjective(obj_uncon, u_min=u_min, u_max=u_max)\n",
    "#obj_con = TrajectoryOptimization.ConstrainedObjective(obj_uncon, u_min=u_min, u_max=u_max, cI=cI, cE = cE)"
   ]
  },
  {
   "cell_type": "code",
   "execution_count": null,
   "metadata": {},
   "outputs": [],
   "source": [
    "# Solver\n",
    "solver_uncon = Solver(model,obj_uncon,integration=:rk3,dt=dt,opts=opts)\n",
    "solver = Solver(model,obj_con,integration=:rk3,dt=dt,opts=opts)\n",
    "\n",
    "\n",
    "# - Initial control and state trajectories\n",
    "U = (0.5*9.8/4.0).*ones(solver.model.m, solver.N); #Stationary Hover\n",
    "# X_interp = line_trajectory(solver)"
   ]
  },
  {
   "cell_type": "code",
   "execution_count": null,
   "metadata": {},
   "outputs": [],
   "source": [
    "### Solve ###\n",
    "#results, stats = solve(solver_uncon,U)\n",
    "results, stats = solve(solver,U)"
   ]
  },
  {
   "cell_type": "code",
   "execution_count": null,
   "metadata": {},
   "outputs": [],
   "source": [
    "### Results ###\n",
    "println(\"Final position: $(results.X[end][1:3])\\n       desired: $(obj_uncon.xf[1:3])\\n    Iterations: $(stats[\"iterations\"])\\n Max violation: $(max_violation(results))\")"
   ]
  },
  {
   "cell_type": "code",
   "execution_count": null,
   "metadata": {},
   "outputs": [],
   "source": [
    "# Position\n",
    "xhist = hcat(results.X...)\n",
    "plot(xhist[1:3,:]',title=\"Quadrotor Position xyz\",xlabel=\"Time\",ylabel=\"Position\",label=[\"x\";\"y\";\"z\"])"
   ]
  },
  {
   "cell_type": "code",
   "execution_count": null,
   "metadata": {},
   "outputs": [],
   "source": [
    "# Control\n",
    "uhist = hcat(results.U...)\n",
    "plot(uhist')"
   ]
  },
  {
   "cell_type": "markdown",
   "metadata": {},
   "source": [
    "Quaternion Animation"
   ]
  },
  {
   "cell_type": "code",
   "execution_count": null,
   "metadata": {},
   "outputs": [],
   "source": [
    "### Visualizer using MeshCat and GeometryTypes ###\n",
    "# Set up visualizer\n",
    "vis = Visualizer()\n",
    "open(vis)\n",
    "\n",
    "# Import quadrotor obj file\n",
    "urdf_folder = joinpath(Pkg.dir(\"TrajectoryOptimization\"), \"dynamics/urdf\")\n",
    "# urdf = joinpath(joinpath(Pkg.dir(\"TrajectoryOptimization\"), \"dynamics/urdf\"), \"quadrotor.urdf\")\n",
    "obj = joinpath(joinpath(Pkg.dir(\"TrajectoryOptimization\"), \"dynamics/urdf\"), \"quadrotor_base.obj\")\n",
    "\n",
    "# color options\n",
    "green = MeshPhongMaterial(color=RGBA(0, 1, 0, 1.0))\n",
    "red = MeshPhongMaterial(color=RGBA(1, 0, 0, 1.0))\n",
    "blue = MeshPhongMaterial(color=RGBA(0, 0, 1, 1.0))\n",
    "orange = MeshPhongMaterial(color=RGBA(233/255, 164/255, 16/255, 1.0))\n",
    "black = MeshPhongMaterial(color=RGBA(0, 0, 0, 1.0))\n",
    "black_transparent = MeshPhongMaterial(color=RGBA(0, 0, 0, 0.1))\n",
    "\n",
    "# geometries\n",
    "robot_obj = load(obj)\n",
    "sphere_small = HyperSphere(Point3f0(0), convert(Float32,0.1*quad_radius)) # trajectory points\n",
    "sphere_medium = HyperSphere(Point3f0(0), convert(Float32,quad_radius))\n",
    "\n",
    "obstacles = vis[\"obs\"]\n",
    "traj = vis[\"traj\"]\n",
    "target = vis[\"target\"]\n",
    "robot = vis[\"robot\"]\n",
    "\n",
    "# Set camera location\n",
    "# settransform!(vis[\"/Cameras/default\"], compose(Translation(25., -5., 10),LinearMap(RotZ(-pi/4))))\n",
    "\n",
    "# Create and place obstacles\n",
    "for i = 1:n_spheres\n",
    "    setobject!(vis[\"obs\"][\"s$i\"],HyperSphere(Point3f0(0), convert(Float32,spheres[4][i])),red)\n",
    "    settransform!(vis[\"obs\"][\"s$i\"], Translation(spheres[1][i], spheres[2][i], spheres[3][i]))\n",
    "end\n",
    "\n",
    "# Create and place trajectory\n",
    "for i = 1:solver.N\n",
    "    setobject!(vis[\"traj\"][\"t$i\"],sphere_small,blue)\n",
    "    settransform!(vis[\"traj\"][\"t$i\"], Translation(results.X[1,i], results.X[2,i], results.X[3,i]))\n",
    "end"
   ]
  },
  {
   "cell_type": "code",
   "execution_count": null,
   "metadata": {},
   "outputs": [],
   "source": [
    "# Create and place initial position\n",
    "setobject!(vis[\"robot\"][\"ball\"],sphere_medium,black_transparent)\n",
    "setobject!(vis[\"robot\"][\"quad\"],robot_obj,black)\n",
    "settransform!(vis[\"robot\"],compose(Translation(results.X[1,1], results.X[2,1], results.X[3,1]),LinearMap(TrajectoryOptimization.quat2rot(results.X[4:7,1]))))"
   ]
  },
  {
   "cell_type": "code",
   "execution_count": null,
   "metadata": {},
   "outputs": [],
   "source": [
    "# Animate quadrotor\n",
    "for i = 1:solver.N\n",
    "    settransform!(vis[\"robot\"], compose(Translation(results.X[1,i], results.X[2,i], results.X[3,i]),LinearMap(TrajectoryOptimization.quat2rot(results.X[4:7,i]))))\n",
    "    sleep(solver.dt*2)\n",
    "end\n",
    "\n",
    "# # -unconstrained version\n",
    "# for i = 1:solver.N\n",
    "#     settransform!(vis[\"robot\"], compose(Translation(results_uncon.X[1,i], results_uncon_euler.X[2,i], results_uncon.X[3,i]),LinearMap(TrajectoryOptimization.quat2rot(results_uncon.X[4:7,i]))))\n",
    "#     sleep(solver.dt*2)\n",
    "# end\n"
   ]
  },
  {
   "cell_type": "code",
   "execution_count": null,
   "metadata": {},
   "outputs": [],
   "source": []
  }
 ],
 "metadata": {
  "kernelspec": {
   "display_name": "Julia 1.0.3",
   "language": "julia",
   "name": "julia-1.0"
  },
  "language_info": {
   "file_extension": ".jl",
   "mimetype": "application/julia",
   "name": "julia",
   "version": "1.0.3"
  }
 },
 "nbformat": 4,
 "nbformat_minor": 2
}
