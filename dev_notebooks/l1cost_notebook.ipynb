{
 "cells": [
  {
   "cell_type": "code",
   "execution_count": 6,
   "metadata": {},
   "outputs": [],
   "source": [
    "using TrajectoryOptimization\n",
    "using LinearAlgebra"
   ]
  },
  {
   "cell_type": "code",
   "execution_count": 7,
   "metadata": {},
   "outputs": [
    {
     "data": {
      "text/plain": [
       "Dict{String,Any} with 23 entries:\n",
       "  \"ν0\"       => [1.0 1.0 1.0; 1.0 1.0 1.0; … ; 1.0 1.0 1.0; 1.0 1.0 1.0]\n",
       "  \"Q\"        => [1.0 0.0 … 0.0 0.0; 0.0 1.0 … 0.0 0.0; … ; 0.0 0.0 … 1.0 0.0; 0…\n",
       "  \"c\"        => 0.0\n",
       "  \"x0\"       => [2000.0, 1500.0, 1000.0, 0.0, 0.0, 0.0]\n",
       "  \"dt\"       => 0.25\n",
       "  \"r\"        => [0.0, 0.0, 0.0]\n",
       "  \"xf\"       => [0.0, 0.0, 0.0, 0.0, 0.0, 0.0]\n",
       "  \"num_iter\" => 800\n",
       "  \"N\"        => 200\n",
       "  \"tf\"       => 50.0\n",
       "  \"u_min\"    => -5.0\n",
       "  \"q\"        => [0.0, 0.0, 0.0, 0.0, 0.0, 0.0]\n",
       "  \"H\"        => [0.0 0.0 … 0.0 0.0; 0.0 0.0 … 0.0 0.0; 0.0 0.0 … 0.0 0.0]\n",
       "  \"d\"        => 1.0\n",
       "  \"Qf\"       => [1.0 0.0 … 0.0 0.0; 0.0 1.0 … 0.0 0.0; … ; 0.0 0.0 … 1.0 0.0; 0…\n",
       "  \"u_max\"    => 5.0\n",
       "  \"α\"        => 1.0\n",
       "  \"qf\"       => [0.0, 0.0, 0.0, 0.0, 0.0, 0.0]\n",
       "  \"m\"        => 3\n",
       "  \"cf\"       => 0.0\n",
       "  \"ρ\"        => 0.01\n",
       "  \"R\"        => [1.0 0.0 0.0; 0.0 1.0 0.0; 0.0 0.0 1.0]\n",
       "  \"n\"        => 6"
      ]
     },
     "execution_count": 7,
     "metadata": {},
     "output_type": "execute_result"
    }
   ],
   "source": [
    "N = 200\n",
    "n = 6\n",
    "m = 3\n",
    "tf = 50.0\n",
    "dt = tf/N\n",
    "x0 = [2000.0, 1500.0, 1000.0, 0.0, 0.0, 0.0]\n",
    "xf = zeros(n)\n",
    "\n",
    "params = Dict(\"num_iter\" => 800, # number of iteration of ADMM\n",
    "              \"N\" => N, # horizon\n",
    "              \"n\"=> n, # state size\n",
    "              \"m\"=> m, # control size\n",
    "              \"ρ\" => 1e-2, # weighting parameter for augmented lagrangian\n",
    "              \"α\" => 1.0, # weighting parameter \n",
    "              \"dt\" => dt, # time step\n",
    "              \"tf\" => tf, # final time \n",
    "              \"ν0\" => ones(N, m), # initial dual      \n",
    "              \"x0\" => x0, # initial state     \n",
    "              \"xf\" => xf, # final state     \n",
    "              \"u_min\" => -5.0, # lower bound on u                 \n",
    "              \"u_max\" => 5.0, # upper bound on u   \n",
    "              \"Q\" => 1.0 * Matrix{Float64}(I, n, n), # Quadratic stage cost for states (n,n)\n",
    "              \"R\" => 1.0 * Matrix{Float64}(I, m, m), # Quadratic stage cost for controls (m,m)\n",
    "              \"H\" => zeros(m, n), # Quadratic Cross-coupling for state and controls (m,n)\n",
    "              \"q\" => zeros(n), # Linear term on states (n,)\n",
    "              \"r\" => zeros(m), # Linear term on controls (m,)\n",
    "              \"c\" => 0.0, # constant term\n",
    "              \"d\" => 1.0, # constant term\n",
    "              \"Qf\" => 1.0 * Matrix{Float64}(I, n, n), # Quadratic final cost for terminal state (n,n)\n",
    "              \"qf\" => zeros(n), # Linear term on terminal state (n,)\n",
    "              \"cf\" => 0.0, # constant term (terminal)\n",
    "               )"
   ]
  },
  {
   "cell_type": "code",
   "execution_count": 8,
   "metadata": {},
   "outputs": [
    {
     "data": {
      "text/plain": [
       "cw_dynamics! (generic function with 2 methods)"
      ]
     },
     "execution_count": 8,
     "metadata": {},
     "output_type": "execute_result"
    }
   ],
   "source": [
    "function cw_dynamics!(ẋ, x, u, params)\n",
    "    n_cst = sqrt(params[\"μ\"]/params[\"a\"]^3)\n",
    "    ẋ[1] = x[4]\n",
    "    ẋ[2] = x[5]\n",
    "    ẋ[3] = x[6]\n",
    "    ẋ[4] = 3*n_cst^2*x[1] + 2*n_cst*x[5] + u[1]\n",
    "    ẋ[5] = -2*n_cst*x[4] + u[2]\n",
    "    ẋ[6] = -n_cst^2*x[3] + u[3] \n",
    "end\n",
    "\n",
    "function cw_dynamics!(ẋ,x,u)\n",
    "    cw_dynamics!(ẋ, x, u, params)\n",
    "end    "
   ]
  },
  {
   "cell_type": "code",
   "execution_count": 9,
   "metadata": {},
   "outputs": [
    {
     "name": "stderr",
     "output_type": "stream",
     "text": [
      "┌ Info: Interpolating initial guess\n",
      "└ @ TrajectoryOptimization /home/simon/.julia/dev/TrajectoryOptimization/src/ilqr_methods.jl:242\n",
      "┌ Info: Solving Constrained Problem...\n",
      "└ @ TrajectoryOptimization /home/simon/.julia/dev/TrajectoryOptimization/src/ilqr_methods.jl:285\n"
     ]
    },
    {
     "ename": "KeyError",
     "evalue": "KeyError: key \"μ\" not found",
     "output_type": "error",
     "traceback": [
      "KeyError: key \"μ\" not found",
      "",
      "Stacktrace:",
      " [1] getindex at ./dict.jl:478 [inlined]",
      " [2] cw_dynamics!(::Array{Float64,1}, ::Array{Float64,1}, ::Array{Float64,1}, ::Dict{String,Any}) at ./In[8]:2",
      " [3] cw_dynamics!(::Array{Float64,1}, ::Array{Float64,1}, ::Array{Float64,1}) at ./In[8]:12",
      " [4] dynamics(::TrajectoryOptimization.AnalyticalModel{Continuous}, ::Array{Float64,1}, ::Array{Float64,1}, ::Array{Float64,1}) at /home/simon/.julia/dev/TrajectoryOptimization/src/model.jl:244",
      " [5] f! at /home/simon/.julia/dev/TrajectoryOptimization/src/solver.jl:115 [inlined]",
      " [6] (::getfield(TrajectoryOptimization, Symbol(\"#fd!#75\")){Float64,getfield(TrajectoryOptimization, Symbol(\"#f!#90\")){TrajectoryOptimization.AnalyticalModel{Continuous}}})(::SubArray{Float64,1,Array{Float64,1},Tuple{UnitRange{Int64}},true}, ::Array{Float64,1}, ::Array{Float64,1}, ::Float64) at /home/simon/.julia/dev/TrajectoryOptimization/src/integration.jl:61",
      " [7] rollout!(::Array{Array{Float64,1},1}, ::Array{Array{Float64,1},1}, ::Solver{TrajectoryOptimization.AnalyticalModel{Continuous},ConstrainedObjective{TrajectoryOptimization.L1Cost{Array{Float64,2},Array{Float64,2},Array{Float64,1},Float64}}}) at /home/simon/.julia/dev/TrajectoryOptimization/src/rollout.jl:46",
      " [8] rollout!(::ConstrainedVectorResults, ::Solver{TrajectoryOptimization.AnalyticalModel{Continuous},ConstrainedObjective{TrajectoryOptimization.L1Cost{Array{Float64,2},Array{Float64,2},Array{Float64,1},Float64}}}) at /home/simon/.julia/dev/TrajectoryOptimization/src/rollout.jl:8",
      " [9] #_solve#218(::Array{Any,1}, ::Array{Any,1}, ::ConstrainedVectorResults, ::BenchmarkTools.BenchmarkGroup, ::Function, ::Solver{TrajectoryOptimization.AnalyticalModel{Continuous},ConstrainedObjective{TrajectoryOptimization.L1Cost{Array{Float64,2},Array{Float64,2},Array{Float64,1},Float64}}}, ::Array{Float64,2}, ::Array{Float64,2}) at /home/simon/.julia/dev/TrajectoryOptimization/src/solve.jl:136",
      " [10] _solve at /home/simon/.julia/dev/TrajectoryOptimization/src/solve.jl:80 [inlined] (repeats 2 times)",
      " [11] solve(::Solver{TrajectoryOptimization.AnalyticalModel{Continuous},ConstrainedObjective{TrajectoryOptimization.L1Cost{Array{Float64,2},Array{Float64,2},Array{Float64,1},Float64}}}, ::Array{Float64,2}) at /home/simon/.julia/dev/TrajectoryOptimization/src/solve.jl:37",
      " [12] top-level scope at In[9]:31"
     ]
    }
   ],
   "source": [
    "# Create a L1Cost\n",
    "l1cost = TrajectoryOptimization.L1Cost(\n",
    "    params[\"Q\"],\n",
    "    params[\"R\"],\n",
    "    params[\"H\"],\n",
    "    params[\"q\"],\n",
    "    params[\"r\"],\n",
    "    params[\"c\"],\n",
    "    params[\"d\"],\n",
    "    params[\"Qf\"],\n",
    "    params[\"qf\"],\n",
    "    params[\"cf\"])\n",
    "\n",
    "model = Model(cw_dynamics!, n, m)\n",
    "\n",
    "# X = fill(fill(0.0, params[\"N\"]), params[\"n\"])\n",
    "# U = fill(fill(0.0, params[\"N\"]-1), params[\"m\"])\n",
    "# Lower control bounds (m,)\n",
    "u_min = params[\"u_min\"] * ones(params[\"m\"])\n",
    "# Upper control bounds (m,)\n",
    "u_max = params[\"u_max\"] * ones(params[\"m\"])\n",
    "\n",
    "unconstrained_objective = UnconstrainedObjective(l1cost, params[\"tf\"], params[\"x0\"], params[\"xf\"])\n",
    "constrained_objective = constrained_objective = ConstrainedObjective(unconstrained_objective, \n",
    "    u_min=u_min, u_max=u_max, use_xf_equality_constraint=false);\n",
    "    \n",
    "# l1solver = Solver(model, unconstrained_objective, N=N+1);\n",
    "l1solver = Solver(model, constrained_objective, N=N+1);\n",
    "\n",
    "U = zeros(N, m);\n",
    "results, stats = solve(l1solver, convert(Array{Float64,2}, U));   \n",
    "\n",
    "# l1problem = TrajectoryOptimization.Problem(model, l1cost, params[\"x0\"], X,\n",
    "#         U, params[\"N\"], params[\"dt\"], params[\"tf\"])\n",
    "# l1opts = TrajectoryOptimization.\n",
    "\n",
    "# # Create a L1Problem\n",
    "# unconstrained_objective = UnconstrainedObjective(l1cost, params[\"tf\"], params[\"x0\"], params[\"xf\"])"
   ]
  },
  {
   "cell_type": "code",
   "execution_count": null,
   "metadata": {},
   "outputs": [],
   "source": []
  },
  {
   "cell_type": "code",
   "execution_count": null,
   "metadata": {},
   "outputs": [],
   "source": []
  },
  {
   "cell_type": "code",
   "execution_count": null,
   "metadata": {},
   "outputs": [],
   "source": []
  },
  {
   "cell_type": "code",
   "execution_count": null,
   "metadata": {},
   "outputs": [],
   "source": []
  }
 ],
 "metadata": {
  "@webio": {
   "lastCommId": "a422b8af7df043448928866aa9c6113c",
   "lastKernelId": "2d53099e-227d-4654-a01d-a09a93a3427d"
  },
  "kernelspec": {
   "display_name": "Julia 1.0.1",
   "language": "julia",
   "name": "julia-1.0"
  },
  "language_info": {
   "file_extension": ".jl",
   "mimetype": "application/julia",
   "name": "julia",
   "version": "1.0.1"
  }
 },
 "nbformat": 4,
 "nbformat_minor": 2
}
