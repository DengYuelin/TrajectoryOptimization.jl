{
 "cells": [
  {
   "cell_type": "code",
   "execution_count": 1,
   "metadata": {},
   "outputs": [],
   "source": [
    "using Base.Test"
   ]
  },
  {
   "cell_type": "markdown",
   "metadata": {},
   "source": [
    "# Copying"
   ]
  },
  {
   "cell_type": "code",
   "execution_count": 14,
   "metadata": {},
   "outputs": [
    {
     "name": "stdout",
     "output_type": "stream",
     "text": [
      "x.X === A = true\n",
      "A === B = true\n"
     ]
    }
   ],
   "source": [
    "struct MyStruct\n",
    "    X::Array\n",
    "end\n",
    "A = rand(4,4)\n",
    "x = MyStruct(A)\n",
    "@show x.X === A  # \"===\" tests for memory equality (they point to the same array)\n",
    "B = x.X\n",
    "@show A === B;"
   ]
  },
  {
   "cell_type": "markdown",
   "metadata": {},
   "source": [
    "Basically, whenever you use \"=\" it will point to the same place in memory, even for elements of structs.\n",
    "\n",
    "Now, how do we \"copy\" data from one array to another without changing the pointer?"
   ]
  },
  {
   "cell_type": "code",
   "execution_count": 31,
   "metadata": {},
   "outputs": [
    {
     "name": "stdout",
     "output_type": "stream",
     "text": [
      "B === A = false\n",
      "A === B = true\n",
      "B === x.X = true\n",
      "B === A = true\n",
      "B === x.X = true\n",
      "B === A = true\n",
      "B === x.X = true\n"
     ]
    },
    {
     "data": {
      "text/plain": [
       "true"
      ]
     },
     "execution_count": 31,
     "metadata": {},
     "output_type": "execute_result"
    }
   ],
   "source": [
    "C = rand(4,4) # data we want to copy\n",
    "B = deepcopy(C)\n",
    "@show B === A\n",
    "# Clearly this doesn't work\n",
    "# let's reassign B to A\n",
    "B = A\n",
    "@show A === B\n",
    "@show B === x.X\n",
    "\n",
    "# Correct way:\n",
    "B .= C\n",
    "@show B === A\n",
    "@show B === x.X;\n",
    "\n",
    "# Another way\n",
    "copy!(B,C)\n",
    "@show B === A\n",
    "@show B === x.X"
   ]
  },
  {
   "cell_type": "markdown",
   "metadata": {},
   "source": [
    "Note: This does not work on integers (since dot indexing doesn't make sense in that case)"
   ]
  },
  {
   "cell_type": "markdown",
   "metadata": {},
   "source": [
    "# Concatenation\n",
    "Avoid concatenation, especially in time-critical code. It is better to allocate memory and fill it in than to concatenate arrays. \n",
    "```\n",
    "# Example (Pendulum Dynamics): This is slow\n",
    "return [x[2]; (u - m*g*lc*sin(x[1]) - b*x[2])];\n",
    "\n",
    "# This is about 3x faster\n",
    "xdot = zeros(x)\n",
    "xdot[1] = x[2]\n",
    "xdot[2] = u[1] - m*g*lc*sin(x[1]) - b*x[2]\n",
    "return xdot\n",
    "```\n",
    "Note that `zeros(x)` is used to create an array of generic type, which is useful for dynamics functions which need to work with `ForwardDiff.Dual` types"
   ]
  },
  {
   "cell_type": "code",
   "execution_count": 22,
   "metadata": {},
   "outputs": [
    {
     "ename": "LoadError",
     "evalue": "\u001b[91munsupported or misplaced expression return\u001b[39m",
     "output_type": "error",
     "traceback": [
      "\u001b[91munsupported or misplaced expression return\u001b[39m",
      ""
     ]
    }
   ],
   "source": []
  },
  {
   "cell_type": "code",
   "execution_count": null,
   "metadata": {},
   "outputs": [],
   "source": []
  }
 ],
 "metadata": {
  "kernelspec": {
   "display_name": "Julia 0.6.3",
   "language": "julia",
   "name": "julia-0.6"
  },
  "language_info": {
   "file_extension": ".jl",
   "mimetype": "application/julia",
   "name": "julia",
   "version": "0.6.3"
  }
 },
 "nbformat": 4,
 "nbformat_minor": 2
}
