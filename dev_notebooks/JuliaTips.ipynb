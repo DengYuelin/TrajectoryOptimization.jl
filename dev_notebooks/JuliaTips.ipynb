{
 "cells": [
  {
   "cell_type": "code",
   "execution_count": 21,
   "metadata": {},
   "outputs": [],
   "source": [
    "using Base.Test\n",
    "using BenchmarkTools"
   ]
  },
  {
   "cell_type": "markdown",
   "metadata": {},
   "source": [
    "# Copying"
   ]
  },
  {
   "cell_type": "code",
   "execution_count": 14,
   "metadata": {},
   "outputs": [
    {
     "name": "stdout",
     "output_type": "stream",
     "text": [
      "x.X === A = true\n",
      "A === B = true\n"
     ]
    }
   ],
   "source": [
    "struct MyStruct\n",
    "    X::Array\n",
    "end\n",
    "A = rand(4,4)\n",
    "x = MyStruct(A)\n",
    "@show x.X === A  # \"===\" tests for memory equality (they point to the same array)\n",
    "B = x.X\n",
    "@show A === B;"
   ]
  },
  {
   "cell_type": "markdown",
   "metadata": {},
   "source": [
    "Basically, whenever you use \"=\" it will point to the same place in memory, even for elements of structs.\n",
    "\n",
    "Now, how do we \"copy\" data from one array to another without changing the pointer?"
   ]
  },
  {
   "cell_type": "code",
   "execution_count": 31,
   "metadata": {},
   "outputs": [
    {
     "name": "stdout",
     "output_type": "stream",
     "text": [
      "B === A = false\n",
      "A === B = true\n",
      "B === x.X = true\n",
      "B === A = true\n",
      "B === x.X = true\n",
      "B === A = true\n",
      "B === x.X = true\n"
     ]
    },
    {
     "data": {
      "text/plain": [
       "true"
      ]
     },
     "execution_count": 31,
     "metadata": {},
     "output_type": "execute_result"
    }
   ],
   "source": [
    "C = rand(4,4) # data we want to copy\n",
    "B = deepcopy(C)\n",
    "@show B === A\n",
    "# Clearly this doesn't work\n",
    "# let's reassign B to A\n",
    "B = A\n",
    "@show A === B\n",
    "@show B === x.X\n",
    "\n",
    "# Correct way:\n",
    "B .= C\n",
    "@show B === A\n",
    "@show B === x.X;\n",
    "\n",
    "# Another way\n",
    "copy!(B,C)\n",
    "@show B === A\n",
    "@show B === x.X"
   ]
  },
  {
   "cell_type": "markdown",
   "metadata": {},
   "source": [
    "Note: This does not work on integers (since dot indexing doesn't make sense in that case)"
   ]
  },
  {
   "cell_type": "markdown",
   "metadata": {},
   "source": [
    "# Concatenation\n",
    "Avoid concatenation, especially in time-critical code. It is better to allocate memory and fill it in than to concatenate arrays. \n",
    "```\n",
    "# Example (Pendulum Dynamics): This is slow\n",
    "return [x[2]; (u - m*g*lc*sin(x[1]) - b*x[2])];\n",
    "\n",
    "# This is about 3x faster\n",
    "xdot = zeros(x)\n",
    "xdot[1] = x[2]\n",
    "xdot[2] = u[1] - m*g*lc*sin(x[1]) - b*x[2]\n",
    "return xdot\n",
    "```\n",
    "Note that `zeros(x)` is used to create an array of generic type, which is useful for dynamics functions which need to work with `ForwardDiff.Dual` types"
   ]
  },
  {
   "cell_type": "markdown",
   "metadata": {},
   "source": [
    "# Nested Functions\n",
    "Basically, nested functions don't lead to any overhead. Take for instance this function `wrapper` that returns another function that is dependent on it's input. Once compiled (the first time that's relative slow), the operation is very fast. Interestingly, we can pull out another function from `wrapper` that behaves differently but still operates under the same compilation of the first (notice no time decrease for the first time `f4` is called."
   ]
  },
  {
   "cell_type": "code",
   "execution_count": 15,
   "metadata": {},
   "outputs": [
    {
     "name": "stdout",
     "output_type": "stream",
     "text": [
      "  0.003214 seconds (175 allocations: 10.981 KiB)\n",
      "  0.000002 seconds (4 allocations: 160 bytes)\n",
      "  0.000001 seconds (3 allocations: 144 bytes)\n"
     ]
    },
    {
     "data": {
      "text/plain": [
       "1"
      ]
     },
     "execution_count": 15,
     "metadata": {},
     "output_type": "execute_result"
    }
   ],
   "source": [
    "function wrapper(x)\n",
    "    function inner(u)\n",
    "        x-u\n",
    "    end\n",
    "end\n",
    "f = wrapper(2)\n",
    "@time f(3)\n",
    "@time f(3)\n",
    "f4 = wrapper(4)\n",
    "@time f4(3)"
   ]
  },
  {
   "cell_type": "markdown",
   "metadata": {},
   "source": [
    "Now for the clincher, we can define a function that does not have any dependence on the outside function and it has exactly the same performance! Even better, it's performance is identical to the simple operation we're trying to perform. In other words, nested function result in minimal to no overhead!"
   ]
  },
  {
   "cell_type": "code",
   "execution_count": 11,
   "metadata": {},
   "outputs": [
    {
     "name": "stdout",
     "output_type": "stream",
     "text": [
      "  0.000004 seconds (4 allocations: 160 bytes)\n",
      "  0.000005 seconds (4 allocations: 160 bytes)\n"
     ]
    },
    {
     "data": {
      "text/plain": [
       "-1"
      ]
     },
     "execution_count": 11,
     "metadata": {},
     "output_type": "execute_result"
    }
   ],
   "source": [
    "function wrapper2()\n",
    "    function inner(u)\n",
    "        2-u\n",
    "    end\n",
    "end\n",
    "f = wrapper2()\n",
    "f(3)\n",
    "@time f(3)\n",
    "@time 2-3"
   ]
  },
  {
   "cell_type": "markdown",
   "metadata": {},
   "source": [
    "Further proving the point: nested functions are equivalent to passing in values as argument. However, these values cannot be changed"
   ]
  },
  {
   "cell_type": "code",
   "execution_count": 23,
   "metadata": {},
   "outputs": [
    {
     "name": "stdout",
     "output_type": "stream",
     "text": [
      "  0.005808 seconds (269 allocations: 25.769 KiB)\n",
      "  0.000009 seconds (5 allocations: 8.094 KiB)\n",
      "  0.000006 seconds (5 allocations: 8.094 KiB)\n"
     ]
    },
    {
     "data": {
      "text/plain": [
       "false"
      ]
     },
     "execution_count": 23,
     "metadata": {},
     "output_type": "execute_result"
    }
   ],
   "source": [
    "function outer(x,u)\n",
    "    x-u\n",
    "end\n",
    "a = rand(1000)\n",
    "b = rand(1000)\n",
    "@time outer(a,b)\n",
    "@time outer(a,b)\n",
    "inner = wrapper(a)\n",
    "@time c = inner(b);\n",
    "\n",
    "# Changing a doesn't change the function unless we call the wrapper again\n",
    "a = 10\n",
    "inner(b) == c\n",
    "inner2 = wrapper(a)\n",
    "inner2(b) == c"
   ]
  },
  {
   "cell_type": "markdown",
   "metadata": {},
   "source": [
    "Using nested functions allows you to change the value of a variable and acts the same as a reference to an outside function"
   ]
  },
  {
   "cell_type": "code",
   "execution_count": 1,
   "metadata": {},
   "outputs": [
    {
     "name": "stdout",
     "output_type": "stream",
     "text": [
      "  0.000005 seconds\n",
      "  0.000002 seconds\n",
      "inner2(2) == 0 = true\n",
      "  0.000002 seconds\n",
      "  0.000001 seconds\n",
      "inner2(2) == 2 = true\n",
      "  0.000001 seconds\n",
      "  0.000000 seconds\n",
      "inner2(2) == 0 = true\n",
      "  0.000000 seconds\n",
      "  0.000001 seconds\n",
      "inner2(2) == 2 = true\n"
     ]
    },
    {
     "data": {
      "text/plain": [
       "true"
      ]
     },
     "execution_count": 1,
     "metadata": {},
     "output_type": "execute_result"
    }
   ],
   "source": [
    "function wrapper_large(x)\n",
    "    var = 2\n",
    "    function inner2(u)\n",
    "        var-u\n",
    "    end\n",
    "    \n",
    "    @time inner2(x)\n",
    "    @time inner2(x)\n",
    "    @show inner2(x) == 0\n",
    "    var = 4\n",
    "    @time inner2(x)\n",
    "    @time inner2(x)\n",
    "    @show inner2(x) == 2\n",
    "end\n",
    "wrapper_large(5)\n",
    "\n",
    "function outer2(var,u)\n",
    "    var - u\n",
    "end\n",
    "function wrapper_outsideref(x)\n",
    "    var = 2\n",
    "    \n",
    "    @time outer2(var,2)\n",
    "    @time outer2(var,2)\n",
    "    @show outer2(var,2) == 0\n",
    "    var = 4\n",
    "    @time outer2(var,2)\n",
    "    @time outer2(var,2)\n",
    "    @show outer2(var,2) == 2\n",
    "end\n",
    "wrapper_large(5)\n",
    "    "
   ]
  },
  {
   "cell_type": "markdown",
   "metadata": {},
   "source": [
    "CONCLUSION: Nested functions have no overhead! Don't be afraid of them."
   ]
  },
  {
   "cell_type": "markdown",
   "metadata": {},
   "source": [
    "# Smart Initialization\n",
    "Defaults for subsequent arguments can depend on previous ones"
   ]
  },
  {
   "cell_type": "code",
   "execution_count": 17,
   "metadata": {},
   "outputs": [
    {
     "name": "stdout",
     "output_type": "stream",
     "text": [
      "[0.0 0.0 0.0; 0.0 0.0 0.0; 0.0 0.0 0.0; 0.0 0.0 0.0]\n"
     ]
    },
    {
     "data": {
      "text/plain": [
       "4-element Array{Float64,1}:\n",
       " 0.0\n",
       " 0.0\n",
       " 0.0\n",
       " 0.0"
      ]
     },
     "execution_count": 17,
     "metadata": {},
     "output_type": "execute_result"
    }
   ],
   "source": [
    "function myfun(A,b=zeros(size(A,1));C=zeros(A))\n",
    "    println(C)\n",
    "    return b\n",
    "end\n",
    "A = rand(4,3)\n",
    "myfun(A)"
   ]
  },
  {
   "cell_type": "markdown",
   "metadata": {},
   "source": [
    "If we ever want to use default values of another function, we can pass the keyword arguments of one function directly into another."
   ]
  },
  {
   "cell_type": "code",
   "execution_count": 22,
   "metadata": {},
   "outputs": [
    {
     "name": "stdout",
     "output_type": "stream",
     "text": [
      "My name is brian\n",
      "I'm 110 years old\n",
      "\n",
      "My name is brian\n",
      "I'm Inf years old\n"
     ]
    }
   ],
   "source": [
    "function inner(a, b; name=\"noname\",age=Inf)\n",
    "    println(\"My name is $name\")\n",
    "    println(\"I'm $age years old\")\n",
    "end\n",
    "function top(a; kwargs...)\n",
    "    inner(a,2; kwargs...)\n",
    "end\n",
    "top(1,name=\"brian\",age=110)\n",
    "println()\n",
    "top(1,name=\"brian\")"
   ]
  },
  {
   "cell_type": "markdown",
   "metadata": {},
   "source": [
    "Note that if we pass in an argument to the outer function that is not one of the keyword arguments of the inner function we will get an error"
   ]
  },
  {
   "cell_type": "code",
   "execution_count": 23,
   "metadata": {},
   "outputs": [
    {
     "ename": "LoadError",
     "evalue": "\u001b[91mMethodError: no method matching inner(::Int64, ::Int64; name=\"brian\", ssn=123)\u001b[0m\nClosest candidates are:\n  inner(::Any, ::Any; name, age) at In[22]:2\u001b[91m got unsupported keyword argument \"ssn\"\u001b[39m\u001b[39m",
     "output_type": "error",
     "traceback": [
      "\u001b[91mMethodError: no method matching inner(::Int64, ::Int64; name=\"brian\", ssn=123)\u001b[0m\nClosest candidates are:\n  inner(::Any, ::Any; name, age) at In[22]:2\u001b[91m got unsupported keyword argument \"ssn\"\u001b[39m\u001b[39m",
      "",
      "Stacktrace:",
      " [1] \u001b[1m(::#kw##inner)\u001b[22m\u001b[22m\u001b[1m(\u001b[22m\u001b[22m::Array{Any,1}, ::#inner, ::Int64, ::Int64\u001b[1m)\u001b[22m\u001b[22m at \u001b[1m.\\<missing>:0\u001b[22m\u001b[22m",
      " [2] \u001b[1m#top#25\u001b[22m\u001b[22m at \u001b[1m.\\In[22]:6\u001b[22m\u001b[22m [inlined]",
      " [3] \u001b[1m(::#kw##top)\u001b[22m\u001b[22m\u001b[1m(\u001b[22m\u001b[22m::Array{Any,1}, ::#top, ::Int64\u001b[1m)\u001b[22m\u001b[22m at \u001b[1m.\\<missing>:0\u001b[22m\u001b[22m"
     ]
    }
   ],
   "source": [
    "top(1,name=\"brian\",ssn=123)"
   ]
  },
  {
   "cell_type": "markdown",
   "metadata": {},
   "source": [
    "# Pass in Dictionary of kwargs\n",
    "Make sure to use a semi-colon"
   ]
  },
  {
   "cell_type": "code",
   "execution_count": 35,
   "metadata": {},
   "outputs": [
    {
     "name": "stdout",
     "output_type": "stream",
     "text": [
      "My name is brian\n",
      "I'm 23 years old\n"
     ]
    }
   ],
   "source": [
    "kwargs = Dict(:name=>\"brian\",:age=>14)\n",
    "kwargs[:age] = 23\n",
    "top(1; kwargs...)"
   ]
  },
  {
   "cell_type": "code",
   "execution_count": 40,
   "metadata": {},
   "outputs": [
    {
     "name": "stdout",
     "output_type": "stream",
     "text": [
      "My name is noname\n",
      "I'm Inf years old\n"
     ]
    }
   ],
   "source": [
    "d = Dict{Symbol,Any}()\n",
    "top(1; d...)"
   ]
  },
  {
   "cell_type": "markdown",
   "metadata": {},
   "source": [
    "# Push Performance\n",
    "It's faster to allocate an array and fill it than to append. However, if you allocate too much it's better to use push (this is pretty obvious). Also make sure to specify the type of the vector that you're pushing too."
   ]
  },
  {
   "cell_type": "code",
   "execution_count": 9,
   "metadata": {},
   "outputs": [
    {
     "name": "stdout",
     "output_type": "stream",
     "text": [
      "  1.236 μs (107 allocations: 3.83 KiB)\n",
      "  869.267 ns (1 allocation: 7.94 KiB)\n"
     ]
    }
   ],
   "source": [
    "function pushfill()\n",
    "    a = Vector{Float64}()\n",
    "    for i = 1:100\n",
    "        push!(a,i+0.1)\n",
    "    end\n",
    "end\n",
    "@btime pushfill()\n",
    "\n",
    "function allocatefill()\n",
    "    a = ones(1000)\n",
    "    for i = 1:100\n",
    "        a[i] = i+0.1\n",
    "    end\n",
    "end\n",
    "@btime allocatefill()\n"
   ]
  },
  {
   "cell_type": "markdown",
   "metadata": {},
   "source": [
    "# Multiple Outputs\n",
    "If you have more than one output and only request one, it will always be of type `Tuple`.\n",
    "If you request less than the total number of outputs (but greater than 1) the remaining outputs will be discarded."
   ]
  },
  {
   "cell_type": "code",
   "execution_count": 34,
   "metadata": {},
   "outputs": [
    {
     "name": "stdout",
     "output_type": "stream",
     "text": [
      "typeof(a) = Tuple{Int64,Int64}\n",
      "typeof(c) = Int64\n",
      "typeof(d) = Tuple{Int64,Int64,Int64}\n",
      "typeof(d) = Int64\n"
     ]
    },
    {
     "data": {
      "text/plain": [
       "Int64"
      ]
     },
     "execution_count": 34,
     "metadata": {},
     "output_type": "execute_result"
    }
   ],
   "source": [
    "twoout() = 1,2\n",
    "a = twoout()\n",
    "@show typeof(a)\n",
    "\n",
    "threeout() = 1,2,3\n",
    "b,c = threeout()  # The `3` value was never stored (all three are actually stored temporarily in `ans`)\n",
    "@show typeof(c)\n",
    "d = threeout()\n",
    "@show typeof(d)\n",
    "d, = threeout()\n",
    "@show typeof(d)"
   ]
  },
  {
   "cell_type": "markdown",
   "metadata": {},
   "source": [
    "# Array Assignment"
   ]
  },
  {
   "cell_type": "code",
   "execution_count": 26,
   "metadata": {},
   "outputs": [
    {
     "name": "stdout",
     "output_type": "stream",
     "text": [
      "  91.912 μs (10 allocations: 781.75 KiB)\n",
      "  28.237 μs (0 allocations: 0 bytes)\n",
      "  1.698 ns (0 allocations: 0 bytes)\n",
      "  28.266 μs (0 allocations: 0 bytes)\n"
     ]
    }
   ],
   "source": [
    "N = 100000\n",
    "a = zeros(Int,N);\n",
    "b = collect(1:N);\n",
    "@btime a = zeros(Int,N);\n",
    "@btime a .= b;\n",
    "@btime a = b;\n",
    "@btime a[:] = b;"
   ]
  },
  {
   "cell_type": "code",
   "execution_count": 24,
   "metadata": {},
   "outputs": [
    {
     "name": "stdout",
     "output_type": "stream",
     "text": [
      "  2.872 μs (2 allocations: 64 bytes)\n",
      "  8.003 μs (39 allocations: 1.23 KiB)\n"
     ]
    }
   ],
   "source": [
    "A = zeros(1000,1000)\n",
    "a = rand(100,100)\n",
    "@btime A[1:100,1:100] = a\n",
    "@btime A[1:100,1:100] .= a;"
   ]
  },
  {
   "cell_type": "code",
   "execution_count": 2,
   "metadata": {},
   "outputs": [
    {
     "data": {
      "text/plain": [
       "1"
      ]
     },
     "execution_count": 2,
     "metadata": {},
     "output_type": "execute_result"
    }
   ],
   "source": [
    "if true\n",
    "    a = 1\n",
    "else\n",
    "    b = 2\n",
    "end\n"
   ]
  },
  {
   "cell_type": "markdown",
   "metadata": {},
   "source": [
    "# Special Matrices"
   ]
  },
  {
   "cell_type": "code",
   "execution_count": 17,
   "metadata": {},
   "outputs": [],
   "source": [
    "n = 10\n",
    "N = 100\n",
    "A1 = Array{Diagonal{Float64}}(100)\n",
    "A2 = zeros(n,n,N)\n",
    "A3 = zeros(n,N)\n",
    "for i = 1:N\n",
    "    d = rand(n)\n",
    "    A1[i] = Diagonal(d)\n",
    "    A2[:,:,i] = Diagonal(d)\n",
    "    A3[:,i] = d\n",
    "end\n",
    "x = rand(n);"
   ]
  },
  {
   "cell_type": "code",
   "execution_count": 19,
   "metadata": {},
   "outputs": [
    {
     "name": "stdout",
     "output_type": "stream",
     "text": [
      "v1 = myquad(A1) = 155.55179302537456\n",
      "v2 = myquad(A2) = 155.55179302537456\n",
      "v3 = myquad(A3) = 155.55179302537456\n"
     ]
    },
    {
     "data": {
      "text/plain": [
       "155.55179302537456"
      ]
     },
     "execution_count": 19,
     "metadata": {},
     "output_type": "execute_result"
    }
   ],
   "source": [
    "\n",
    "function myquad(A::Array{Diagonal{Float64}})\n",
    "    v = 0\n",
    "    for i = 1:N\n",
    "        v += x'A[i]*x\n",
    "    end\n",
    "    v\n",
    "end\n",
    "function myquad(A::Array{Float64,3})\n",
    "    v = 0\n",
    "    for i = 1:N\n",
    "        v += x'A[:,:,i]*x\n",
    "    end\n",
    "    v\n",
    "end\n",
    "function myquad(A::Array{Float64,2})\n",
    "    v = 0\n",
    "    for i = 1:N\n",
    "        v += (x.^2)'A[:,i]\n",
    "    end\n",
    "    v\n",
    "end\n",
    "@show v1 = myquad(A1)\n",
    "@show v2 = myquad(A2)\n",
    "@show v3 = myquad(A3)"
   ]
  },
  {
   "cell_type": "code",
   "execution_count": 22,
   "metadata": {},
   "outputs": [
    {
     "name": "stdout",
     "output_type": "stream",
     "text": [
      "  22.233 μs (501 allocations: 23.47 KiB)\n",
      "  158.525 μs (2201 allocations: 140.66 KiB)\n",
      "  801.380 μs (4001 allocations: 160.97 KiB)\n"
     ]
    },
    {
     "data": {
      "text/plain": [
       "155.55179302537456"
      ]
     },
     "execution_count": 22,
     "metadata": {},
     "output_type": "execute_result"
    }
   ],
   "source": [
    "@btime myquad(A1)\n",
    "@btime myquad(A2)\n",
    "@btime myquad(A3)"
   ]
  },
  {
   "cell_type": "code",
   "execution_count": 23,
   "metadata": {},
   "outputs": [
    {
     "name": "stdout",
     "output_type": "stream",
     "text": [
      "sizeof(A1) = 800\n",
      "sizeof(A2) = 80000\n",
      "sizeof(A3) = 8000\n"
     ]
    },
    {
     "data": {
      "text/plain": [
       "8000"
      ]
     },
     "execution_count": 23,
     "metadata": {},
     "output_type": "execute_result"
    }
   ],
   "source": [
    "@show sizeof(A1)\n",
    "@show sizeof(A2)\n",
    "@show sizeof(A3)"
   ]
  },
  {
   "cell_type": "code",
   "execution_count": 32,
   "metadata": {},
   "outputs": [
    {
     "ename": "LoadError",
     "evalue": "\u001b[91msyntax: invalid type signature\u001b[39m",
     "output_type": "error",
     "traceback": [
      "\u001b[91msyntax: invalid type signature\u001b[39m",
      ""
     ]
    }
   ],
   "source": [
    "struct mypartype2{T} where T\n",
    "    x::T\n",
    "    A::AbstractArray{T}\n",
    "end"
   ]
  }
 ],
 "metadata": {
  "kernelspec": {
   "display_name": "Julia 0.6.4",
   "language": "julia",
   "name": "julia-0.6"
  },
  "language_info": {
   "file_extension": ".jl",
   "mimetype": "application/julia",
   "name": "julia",
   "version": "0.6.4"
  }
 },
 "nbformat": 4,
 "nbformat_minor": 2
}
