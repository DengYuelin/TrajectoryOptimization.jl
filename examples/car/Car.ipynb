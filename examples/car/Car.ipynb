{
 "cells": [
  {
   "cell_type": "markdown",
   "metadata": {},
   "source": [
    "## Car"
   ]
  },
  {
   "cell_type": "code",
   "execution_count": 1,
   "metadata": {},
   "outputs": [
    {
     "name": "stderr",
     "output_type": "stream",
     "text": [
      "┌ Info: Recompiling stale cache file /home/taylor/.julia/compiled/v1.1/TrajectoryOptimization/UVgeA.ji for TrajectoryOptimization [c79d492b-0548-5874-b488-5a62c1d9d0ca]\n",
      "└ @ Base loading.jl:1184\n",
      "WARNING: Method definition (::getfield(TrajectoryOptimization, Symbol(\"#∇f!#88\")){f, ∇f})(Any, Any) in module TrajectoryOptimization at /home/taylor/.julia/dev/TrajectoryOptimization/src/model_robust.jl:720 overwritten at /home/taylor/.julia/dev/TrajectoryOptimization/src/model_robust.jl:722.\n",
      "WARNING: Method definition (::getfield(TrajectoryOptimization, Symbol(\"#∇f!#88\")){f, ∇f})(Any, Any, Any, Any) in module TrajectoryOptimization at /home/taylor/.julia/dev/TrajectoryOptimization/src/model_robust.jl:728 overwritten at /home/taylor/.julia/dev/TrajectoryOptimization/src/model_robust.jl:730.\n",
      "WARNING: Method definition (::getfield(TrajectoryOptimization, Symbol(\"#∇f!#89\")){∇f, f})(Any, Any, Any) in module TrajectoryOptimization at /home/taylor/.julia/dev/TrajectoryOptimization/src/model_robust.jl:758 overwritten at /home/taylor/.julia/dev/TrajectoryOptimization/src/model_robust.jl:760.\n",
      "WARNING: Method definition (::getfield(TrajectoryOptimization, Symbol(\"#∇f!#89\")){∇f, f})(Any, Any, Any, Any, Any) in module TrajectoryOptimization at /home/taylor/.julia/dev/TrajectoryOptimization/src/model_robust.jl:766 overwritten at /home/taylor/.julia/dev/TrajectoryOptimization/src/model_robust.jl:768.\n",
      "┌ Warning: Package TrajectoryOptimization does not have MatrixCalculus in its dependencies:\n",
      "│ - If you have TrajectoryOptimization checked out for development and have\n",
      "│   added MatrixCalculus as a dependency but haven't updated your primary\n",
      "│   environment's manifest file, try `Pkg.resolve()`.\n",
      "│ - Otherwise you may need to report an issue with TrajectoryOptimization\n",
      "└ Loading MatrixCalculus into TrajectoryOptimization from project dependency, future warnings for TrajectoryOptimization are suppressed.\n"
     ]
    }
   ],
   "source": [
    "using TrajectoryOptimization\n",
    "using Plots, LinearAlgebra"
   ]
  },
  {
   "cell_type": "markdown",
   "metadata": {},
   "source": [
    "Import the car model"
   ]
  },
  {
   "cell_type": "code",
   "execution_count": 2,
   "metadata": {},
   "outputs": [],
   "source": [
    "model = Dynamics.car_model\n",
    "n = model.n # number of states\n",
    "m = model.m; # number of controls"
   ]
  },
  {
   "cell_type": "markdown",
   "metadata": {},
   "source": [
    "Define numerical type"
   ]
  },
  {
   "cell_type": "code",
   "execution_count": 3,
   "metadata": {},
   "outputs": [],
   "source": [
    "T = Float64;"
   ]
  },
  {
   "cell_type": "markdown",
   "metadata": {},
   "source": [
    "Define initial and goals states"
   ]
  },
  {
   "cell_type": "code",
   "execution_count": 4,
   "metadata": {},
   "outputs": [
    {
     "data": {
      "text/plain": [
       "3-element Array{Float64,1}:\n",
       " 0.0\n",
       " 1.0\n",
       " 0.0"
      ]
     },
     "execution_count": 4,
     "metadata": {},
     "output_type": "execute_result"
    }
   ],
   "source": [
    "x0 = [0.; 0.; 0.]\n",
    "xf = [0.; 1.; 0.]"
   ]
  },
  {
   "cell_type": "markdown",
   "metadata": {},
   "source": [
    "Define a cost function, e.g., quadratic"
   ]
  },
  {
   "cell_type": "code",
   "execution_count": 5,
   "metadata": {},
   "outputs": [],
   "source": [
    "Q = (1.0e-2)*Diagonal(I,n)\n",
    "R = (1.0e-1)*Diagonal(I,m)\n",
    "Qf = 1000.0*Diagonal(I,n)\n",
    "cost = LQRCost(Q, R, Qf, xf);"
   ]
  },
  {
   "cell_type": "markdown",
   "metadata": {},
   "source": [
    "Define a problem"
   ]
  },
  {
   "cell_type": "code",
   "execution_count": 6,
   "metadata": {},
   "outputs": [],
   "source": [
    "N = 101 # number of knot points\n",
    "dt = 0.1 # total time\n",
    "\n",
    "U = [rand(m) for k = 1:N-1] \n",
    "obj = TrajectoryOptimization.Objective(cost,N) # objective with same stagewise costs\n",
    "\n",
    "prob = Problem(model,obj, x0=x0, integration=:rk4, N=N, dt=dt)\n",
    "initial_controls!(prob,U); # initialize problem with controls"
   ]
  },
  {
   "cell_type": "markdown",
   "metadata": {},
   "source": [
    "Solve problem"
   ]
  },
  {
   "cell_type": "code",
   "execution_count": 7,
   "metadata": {},
   "outputs": [
    {
     "name": "stderr",
     "output_type": "stream",
     "text": [
      "\u001b[32m\u001b[1m    iter cost          expected    z         α         ρ         dJ        grad      zero_count info                                              \u001b[22m\u001b[39m\n",
      "\u001b[32m\u001b[1m____----------------------------------------------------------------------------------------------------------------------------------------------\u001b[22m\u001b[39m\n",
      "    1     8242.8206159  6007.9168   0.913732  0.25      0e+00     5489.629  2.752176 0          \n",
      "    2     4431.8830851  3606.19114  1.056776  0.25      0e+00     3810.938  2.360161 0          \n",
      "    3     1482.5658402  3323.87932  0.887312  0.5       0e+00     2949.317  1.334793 0          \n",
      "    4     470.77095824  1111.9198   0.909953  0.5       0e+00     1011.795  1.148083 0          \n",
      "    5     220.75131721  353.067487  0.708136  0.5       0e+00     250.0196  0.657793 0          \n",
      "    6     72.479291978  220.736924  0.671714  1         0e+00     148.272   0.538525 0          \n",
      "    7     0.1730306289  72.4662535  0.997792  1         0e+00     72.30626  0.505693 0          \n",
      "    8     0.0132520338  0.16222281  0.984933  1         0e+00     0.159779  0.149015 0          \n",
      "    9     0.0107924085  0.00304938  0.806599  1         0e+00     0.00246   0.075449 0          \n",
      "    10    0.0102629993  0.00067525  0.784024  1         0e+00     0.000529  0.048428 0          \n",
      "\u001b[32m\u001b[1m    iter cost          expected    z         α         ρ         dJ        grad      zero_count info                                              \u001b[22m\u001b[39m\n",
      "\u001b[32m\u001b[1m____----------------------------------------------------------------------------------------------------------------------------------------------\u001b[22m\u001b[39m\n",
      "    11    0.0102254967  0.00016788  0.223394  1         0e+00     3.75e-05  0.033089 0          \n"
     ]
    },
    {
     "data": {
      "text/plain": [
       "0.01022549673990532"
      ]
     },
     "execution_count": 7,
     "metadata": {},
     "output_type": "execute_result"
    }
   ],
   "source": [
    "solve!(prob, iLQRSolverOptions{T}(verbose=true)) # solve with iLQR"
   ]
  },
  {
   "cell_type": "code",
   "execution_count": 24,
   "metadata": {},
   "outputs": [
    {
     "data": {
      "image/svg+xml": [
       "<?xml version=\"1.0\" encoding=\"utf-8\"?>\n",
       "<svg xmlns=\"http://www.w3.org/2000/svg\" xmlns:xlink=\"http://www.w3.org/1999/xlink\" width=\"600\" height=\"400\" viewBox=\"0 0 2400 1600\">\n",
       "<defs>\n",
       "  <clipPath id=\"clip3300\">\n",
       "    <rect x=\"0\" y=\"0\" width=\"2400\" height=\"1600\"/>\n",
       "  </clipPath>\n",
       "</defs>\n",
       "<polygon clip-path=\"url(#clip3300)\" points=\"\n",
       "0,1600 2400,1600 2400,0 0,0 \n",
       "  \" fill=\"#ffffff\" fill-rule=\"evenodd\" fill-opacity=\"1\"/>\n",
       "<defs>\n",
       "  <clipPath id=\"clip3301\">\n",
       "    <rect x=\"480\" y=\"0\" width=\"1681\" height=\"1600\"/>\n",
       "  </clipPath>\n",
       "</defs>\n",
       "<polygon clip-path=\"url(#clip3300)\" points=\"\n",
       "251.149,1440.48 2321.26,1440.48 2321.26,125.984 251.149,125.984 \n",
       "  \" fill=\"#ffffff\" fill-rule=\"evenodd\" fill-opacity=\"1\"/>\n",
       "<defs>\n",
       "  <clipPath id=\"clip3302\">\n",
       "    <rect x=\"251\" y=\"125\" width=\"2071\" height=\"1315\"/>\n",
       "  </clipPath>\n",
       "</defs>\n",
       "<polyline clip-path=\"url(#clip3302)\" style=\"stroke:#000000; stroke-width:2; stroke-opacity:0.1; fill:none\" points=\"\n",
       "  458.936,1440.48 458.936,125.984 \n",
       "  \"/>\n",
       "<polyline clip-path=\"url(#clip3302)\" style=\"stroke:#000000; stroke-width:2; stroke-opacity:0.1; fill:none\" points=\"\n",
       "  886.992,1440.48 886.992,125.984 \n",
       "  \"/>\n",
       "<polyline clip-path=\"url(#clip3302)\" style=\"stroke:#000000; stroke-width:2; stroke-opacity:0.1; fill:none\" points=\"\n",
       "  1315.05,1440.48 1315.05,125.984 \n",
       "  \"/>\n",
       "<polyline clip-path=\"url(#clip3302)\" style=\"stroke:#000000; stroke-width:2; stroke-opacity:0.1; fill:none\" points=\"\n",
       "  1743.1,1440.48 1743.1,125.984 \n",
       "  \"/>\n",
       "<polyline clip-path=\"url(#clip3302)\" style=\"stroke:#000000; stroke-width:2; stroke-opacity:0.1; fill:none\" points=\"\n",
       "  2171.16,1440.48 2171.16,125.984 \n",
       "  \"/>\n",
       "<polyline clip-path=\"url(#clip3302)\" style=\"stroke:#000000; stroke-width:2; stroke-opacity:0.1; fill:none\" points=\"\n",
       "  251.149,1380.7 2321.26,1380.7 \n",
       "  \"/>\n",
       "<polyline clip-path=\"url(#clip3302)\" style=\"stroke:#000000; stroke-width:2; stroke-opacity:0.1; fill:none\" points=\"\n",
       "  251.149,1076.32 2321.26,1076.32 \n",
       "  \"/>\n",
       "<polyline clip-path=\"url(#clip3302)\" style=\"stroke:#000000; stroke-width:2; stroke-opacity:0.1; fill:none\" points=\"\n",
       "  251.149,771.948 2321.26,771.948 \n",
       "  \"/>\n",
       "<polyline clip-path=\"url(#clip3302)\" style=\"stroke:#000000; stroke-width:2; stroke-opacity:0.1; fill:none\" points=\"\n",
       "  251.149,467.573 2321.26,467.573 \n",
       "  \"/>\n",
       "<polyline clip-path=\"url(#clip3302)\" style=\"stroke:#000000; stroke-width:2; stroke-opacity:0.1; fill:none\" points=\"\n",
       "  251.149,163.197 2321.26,163.197 \n",
       "  \"/>\n",
       "<polyline clip-path=\"url(#clip3300)\" style=\"stroke:#000000; stroke-width:4; stroke-opacity:1; fill:none\" points=\"\n",
       "  251.149,1440.48 2321.26,1440.48 \n",
       "  \"/>\n",
       "<polyline clip-path=\"url(#clip3300)\" style=\"stroke:#000000; stroke-width:4; stroke-opacity:1; fill:none\" points=\"\n",
       "  251.149,1440.48 251.149,125.984 \n",
       "  \"/>\n",
       "<polyline clip-path=\"url(#clip3300)\" style=\"stroke:#000000; stroke-width:4; stroke-opacity:1; fill:none\" points=\"\n",
       "  458.936,1440.48 458.936,1420.77 \n",
       "  \"/>\n",
       "<polyline clip-path=\"url(#clip3300)\" style=\"stroke:#000000; stroke-width:4; stroke-opacity:1; fill:none\" points=\"\n",
       "  886.992,1440.48 886.992,1420.77 \n",
       "  \"/>\n",
       "<polyline clip-path=\"url(#clip3300)\" style=\"stroke:#000000; stroke-width:4; stroke-opacity:1; fill:none\" points=\"\n",
       "  1315.05,1440.48 1315.05,1420.77 \n",
       "  \"/>\n",
       "<polyline clip-path=\"url(#clip3300)\" style=\"stroke:#000000; stroke-width:4; stroke-opacity:1; fill:none\" points=\"\n",
       "  1743.1,1440.48 1743.1,1420.77 \n",
       "  \"/>\n",
       "<polyline clip-path=\"url(#clip3300)\" style=\"stroke:#000000; stroke-width:4; stroke-opacity:1; fill:none\" points=\"\n",
       "  2171.16,1440.48 2171.16,1420.77 \n",
       "  \"/>\n",
       "<polyline clip-path=\"url(#clip3300)\" style=\"stroke:#000000; stroke-width:4; stroke-opacity:1; fill:none\" points=\"\n",
       "  251.149,1380.7 282.2,1380.7 \n",
       "  \"/>\n",
       "<polyline clip-path=\"url(#clip3300)\" style=\"stroke:#000000; stroke-width:4; stroke-opacity:1; fill:none\" points=\"\n",
       "  251.149,1076.32 282.2,1076.32 \n",
       "  \"/>\n",
       "<polyline clip-path=\"url(#clip3300)\" style=\"stroke:#000000; stroke-width:4; stroke-opacity:1; fill:none\" points=\"\n",
       "  251.149,771.948 282.2,771.948 \n",
       "  \"/>\n",
       "<polyline clip-path=\"url(#clip3300)\" style=\"stroke:#000000; stroke-width:4; stroke-opacity:1; fill:none\" points=\"\n",
       "  251.149,467.573 282.2,467.573 \n",
       "  \"/>\n",
       "<polyline clip-path=\"url(#clip3300)\" style=\"stroke:#000000; stroke-width:4; stroke-opacity:1; fill:none\" points=\"\n",
       "  251.149,163.197 282.2,163.197 \n",
       "  \"/>\n",
       "<g clip-path=\"url(#clip3300)\">\n",
       "<text style=\"fill:#000000; fill-opacity:1; font-family:Arial,Helvetica Neue,Helvetica,sans-serif; font-size:48px; text-anchor:middle;\" transform=\"rotate(0, 458.936, 1494.48)\" x=\"458.936\" y=\"1494.48\">-0.6</text>\n",
       "</g>\n",
       "<g clip-path=\"url(#clip3300)\">\n",
       "<text style=\"fill:#000000; fill-opacity:1; font-family:Arial,Helvetica Neue,Helvetica,sans-serif; font-size:48px; text-anchor:middle;\" transform=\"rotate(0, 886.992, 1494.48)\" x=\"886.992\" y=\"1494.48\">-0.4</text>\n",
       "</g>\n",
       "<g clip-path=\"url(#clip3300)\">\n",
       "<text style=\"fill:#000000; fill-opacity:1; font-family:Arial,Helvetica Neue,Helvetica,sans-serif; font-size:48px; text-anchor:middle;\" transform=\"rotate(0, 1315.05, 1494.48)\" x=\"1315.05\" y=\"1494.48\">-0.2</text>\n",
       "</g>\n",
       "<g clip-path=\"url(#clip3300)\">\n",
       "<text style=\"fill:#000000; fill-opacity:1; font-family:Arial,Helvetica Neue,Helvetica,sans-serif; font-size:48px; text-anchor:middle;\" transform=\"rotate(0, 1743.1, 1494.48)\" x=\"1743.1\" y=\"1494.48\">0.0</text>\n",
       "</g>\n",
       "<g clip-path=\"url(#clip3300)\">\n",
       "<text style=\"fill:#000000; fill-opacity:1; font-family:Arial,Helvetica Neue,Helvetica,sans-serif; font-size:48px; text-anchor:middle;\" transform=\"rotate(0, 2171.16, 1494.48)\" x=\"2171.16\" y=\"1494.48\">0.2</text>\n",
       "</g>\n",
       "<g clip-path=\"url(#clip3300)\">\n",
       "<text style=\"fill:#000000; fill-opacity:1; font-family:Arial,Helvetica Neue,Helvetica,sans-serif; font-size:48px; text-anchor:end;\" transform=\"rotate(0, 227.149, 1398.2)\" x=\"227.149\" y=\"1398.2\">0.00</text>\n",
       "</g>\n",
       "<g clip-path=\"url(#clip3300)\">\n",
       "<text style=\"fill:#000000; fill-opacity:1; font-family:Arial,Helvetica Neue,Helvetica,sans-serif; font-size:48px; text-anchor:end;\" transform=\"rotate(0, 227.149, 1093.82)\" x=\"227.149\" y=\"1093.82\">0.25</text>\n",
       "</g>\n",
       "<g clip-path=\"url(#clip3300)\">\n",
       "<text style=\"fill:#000000; fill-opacity:1; font-family:Arial,Helvetica Neue,Helvetica,sans-serif; font-size:48px; text-anchor:end;\" transform=\"rotate(0, 227.149, 789.448)\" x=\"227.149\" y=\"789.448\">0.50</text>\n",
       "</g>\n",
       "<g clip-path=\"url(#clip3300)\">\n",
       "<text style=\"fill:#000000; fill-opacity:1; font-family:Arial,Helvetica Neue,Helvetica,sans-serif; font-size:48px; text-anchor:end;\" transform=\"rotate(0, 227.149, 485.073)\" x=\"227.149\" y=\"485.073\">0.75</text>\n",
       "</g>\n",
       "<g clip-path=\"url(#clip3300)\">\n",
       "<text style=\"fill:#000000; fill-opacity:1; font-family:Arial,Helvetica Neue,Helvetica,sans-serif; font-size:48px; text-anchor:end;\" transform=\"rotate(0, 227.149, 180.697)\" x=\"227.149\" y=\"180.697\">1.00</text>\n",
       "</g>\n",
       "<g clip-path=\"url(#clip3300)\">\n",
       "<text style=\"fill:#000000; fill-opacity:1; font-family:Arial,Helvetica Neue,Helvetica,sans-serif; font-size:84px; text-anchor:middle;\" transform=\"rotate(0, 1286.2, 73.2)\" x=\"1286.2\" y=\"73.2\">state trajectory</text>\n",
       "</g>\n",
       "<g clip-path=\"url(#clip3300)\">\n",
       "<text style=\"fill:#000000; fill-opacity:1; font-family:Arial,Helvetica Neue,Helvetica,sans-serif; font-size:66px; text-anchor:middle;\" transform=\"rotate(0, 1286.2, 1590.4)\" x=\"1286.2\" y=\"1590.4\">x</text>\n",
       "</g>\n",
       "<g clip-path=\"url(#clip3300)\">\n",
       "<text style=\"fill:#000000; fill-opacity:1; font-family:Arial,Helvetica Neue,Helvetica,sans-serif; font-size:66px; text-anchor:middle;\" transform=\"rotate(-90, 128.749, 783.233)\" x=\"128.749\" y=\"783.233\">y</text>\n",
       "</g>\n",
       "<polyline clip-path=\"url(#clip3302)\" style=\"stroke:#009af9; stroke-width:4; stroke-opacity:1; fill:none\" points=\"\n",
       "  1743.1,1380.7 1821.09,1380.92 1894.51,1381.64 1962.63,1382.91 2024.83,1384.75 2080.56,1387.1 2129.34,1389.87 2170.81,1392.88 2204.69,1395.94 2230.82,1398.8 \n",
       "  2249.15,1401.17 2259.71,1402.77 2262.67,1403.28 2258.29,1402.41 2246.92,1399.89 2228.99,1395.43 2205,1388.83 2175.5,1379.9 2141.07,1368.48 2102.32,1354.49 \n",
       "  2059.85,1337.87 2014.25,1318.62 1966.09,1296.79 1915.91,1272.44 1864.2,1245.69 1811.4,1216.68 1757.9,1185.57 1704.05,1152.56 1650.12,1117.83 1596.34,1081.61 \n",
       "  1542.92,1044.09 1489.98,1005.5 1437.63,966.063 1385.95,925.978 1334.96,885.461 1284.7,844.714 1235.16,803.933 1186.32,763.31 1138.18,723.026 1090.71,683.256 \n",
       "  1043.89,644.168 997.696,605.92 952.129,568.664 907.192,532.545 862.905,497.697 819.306,464.248 776.45,432.317 734.415,402.012 693.299,373.432 653.224,346.663 \n",
       "  614.334,321.78 576.794,298.844 540.788,277.9 506.521,258.978 474.212,242.091 444.092,227.23 416.4,214.371 391.381,203.468 369.274,194.455 350.315,187.245 \n",
       "  334.725,181.734 322.707,177.8 314.441,175.304 310.078,174.094 309.737,174.007 313.498,174.874 321.407,176.52 333.465,178.77 349.635,181.453 369.839,184.404 \n",
       "  393.964,187.469 421.856,190.505 453.334,193.385 488.186,196.001 526.177,198.261 567.049,200.093 610.531,201.446 656.339,202.286 704.181,202.599 753.76,202.388 \n",
       "  804.777,201.672 856.935,200.484 909.941,198.868 963.509,196.88 1017.36,194.579 1071.24,192.033 1124.9,189.309 1178.1,186.478 1230.63,183.604 1282.3,180.751 \n",
       "  1332.94,177.979 1382.37,175.338 1430.43,172.878 1476.97,170.638 1521.79,168.653 1564.72,166.952 1605.5,165.558 1643.84,164.487 1679.42,163.745 1712.09,163.323 \n",
       "  1743.1,163.187 \n",
       "  \"/>\n",
       "<circle clip-path=\"url(#clip3302)\" style=\"fill:#000000; stroke:none; fill-opacity:1\" cx=\"1743.1\" cy=\"1380.7\" r=\"18\"/>\n",
       "<circle clip-path=\"url(#clip3302)\" style=\"fill:#ff0000; stroke:none; fill-opacity:1\" cx=\"1743.1\" cy=\"1380.7\" r=\"14\"/>\n",
       "<circle clip-path=\"url(#clip3302)\" style=\"fill:#000000; stroke:none; fill-opacity:1\" cx=\"1743.1\" cy=\"163.187\" r=\"18\"/>\n",
       "<circle clip-path=\"url(#clip3302)\" style=\"fill:#008000; stroke:none; fill-opacity:1\" cx=\"1743.1\" cy=\"163.187\" r=\"14\"/>\n",
       "<polygon clip-path=\"url(#clip3300)\" points=\"\n",
       "1915.64,390.944 2249.26,390.944 2249.26,209.504 1915.64,209.504 \n",
       "  \" fill=\"#ffffff\" fill-rule=\"evenodd\" fill-opacity=\"1\"/>\n",
       "<polyline clip-path=\"url(#clip3300)\" style=\"stroke:#000000; stroke-width:4; stroke-opacity:1; fill:none\" points=\"\n",
       "  1915.64,390.944 2249.26,390.944 2249.26,209.504 1915.64,209.504 1915.64,390.944 \n",
       "  \"/>\n",
       "<polyline clip-path=\"url(#clip3300)\" style=\"stroke:#ff0000; stroke-width:4; stroke-opacity:1; fill:none\" points=\"\n",
       "  1939.64,269.984 2083.64,269.984 \n",
       "  \"/>\n",
       "<circle clip-path=\"url(#clip3300)\" style=\"fill:#000000; stroke:none; fill-opacity:1\" cx=\"2023.64\" cy=\"269.984\" r=\"25\"/>\n",
       "<circle clip-path=\"url(#clip3300)\" style=\"fill:#ff0000; stroke:none; fill-opacity:1\" cx=\"2023.64\" cy=\"269.984\" r=\"21\"/>\n",
       "<g clip-path=\"url(#clip3300)\">\n",
       "<text style=\"fill:#000000; fill-opacity:1; font-family:Arial,Helvetica Neue,Helvetica,sans-serif; font-size:48px; text-anchor:start;\" transform=\"rotate(0, 2107.64, 287.484)\" x=\"2107.64\" y=\"287.484\">start</text>\n",
       "</g>\n",
       "<polyline clip-path=\"url(#clip3300)\" style=\"stroke:#008000; stroke-width:4; stroke-opacity:1; fill:none\" points=\"\n",
       "  1939.64,330.464 2083.64,330.464 \n",
       "  \"/>\n",
       "<circle clip-path=\"url(#clip3300)\" style=\"fill:#000000; stroke:none; fill-opacity:1\" cx=\"2023.64\" cy=\"330.464\" r=\"25\"/>\n",
       "<circle clip-path=\"url(#clip3300)\" style=\"fill:#008000; stroke:none; fill-opacity:1\" cx=\"2023.64\" cy=\"330.464\" r=\"21\"/>\n",
       "<g clip-path=\"url(#clip3300)\">\n",
       "<text style=\"fill:#000000; fill-opacity:1; font-family:Arial,Helvetica Neue,Helvetica,sans-serif; font-size:48px; text-anchor:start;\" transform=\"rotate(0, 2107.64, 347.964)\" x=\"2107.64\" y=\"347.964\">goal</text>\n",
       "</g>\n",
       "</svg>\n"
      ]
     },
     "execution_count": 24,
     "metadata": {},
     "output_type": "execute_result"
    }
   ],
   "source": [
    "x = [prob.X[k][1] for k = 1:N]\n",
    "y = [prob.X[k][2] for k = 1:N]\n",
    "\n",
    "plot(x,y,xlabel=\"x\",ylabel=\"y\",label=\"\",title=\"state trajectory\")\n",
    "plot!((x[1],y[1]),marker=:circle,color=:red,label=\"start\")\n",
    "plot!((x[end],y[end]),marker=:circle,color=:green,label=\"goal\")"
   ]
  },
  {
   "cell_type": "code",
   "execution_count": 19,
   "metadata": {},
   "outputs": [
    {
     "data": {
      "image/svg+xml": [
       "<?xml version=\"1.0\" encoding=\"utf-8\"?>\n",
       "<svg xmlns=\"http://www.w3.org/2000/svg\" xmlns:xlink=\"http://www.w3.org/1999/xlink\" width=\"600\" height=\"400\" viewBox=\"0 0 2400 1600\">\n",
       "<defs>\n",
       "  <clipPath id=\"clip1900\">\n",
       "    <rect x=\"0\" y=\"0\" width=\"2400\" height=\"1600\"/>\n",
       "  </clipPath>\n",
       "</defs>\n",
       "<polygon clip-path=\"url(#clip1900)\" points=\"\n",
       "0,1600 2400,1600 2400,0 0,0 \n",
       "  \" fill=\"#ffffff\" fill-rule=\"evenodd\" fill-opacity=\"1\"/>\n",
       "<defs>\n",
       "  <clipPath id=\"clip1901\">\n",
       "    <rect x=\"480\" y=\"0\" width=\"1681\" height=\"1600\"/>\n",
       "  </clipPath>\n",
       "</defs>\n",
       "<polygon clip-path=\"url(#clip1900)\" points=\"\n",
       "189.504,1440.48 2321.26,1440.48 2321.26,125.984 189.504,125.984 \n",
       "  \" fill=\"#ffffff\" fill-rule=\"evenodd\" fill-opacity=\"1\"/>\n",
       "<defs>\n",
       "  <clipPath id=\"clip1902\">\n",
       "    <rect x=\"189\" y=\"125\" width=\"2133\" height=\"1315\"/>\n",
       "  </clipPath>\n",
       "</defs>\n",
       "<polyline clip-path=\"url(#clip1902)\" style=\"stroke:#000000; stroke-width:2; stroke-opacity:0.1; fill:none\" points=\"\n",
       "  229.523,1440.48 229.523,125.984 \n",
       "  \"/>\n",
       "<polyline clip-path=\"url(#clip1902)\" style=\"stroke:#000000; stroke-width:2; stroke-opacity:0.1; fill:none\" points=\"\n",
       "  737.374,1440.48 737.374,125.984 \n",
       "  \"/>\n",
       "<polyline clip-path=\"url(#clip1902)\" style=\"stroke:#000000; stroke-width:2; stroke-opacity:0.1; fill:none\" points=\"\n",
       "  1245.22,1440.48 1245.22,125.984 \n",
       "  \"/>\n",
       "<polyline clip-path=\"url(#clip1902)\" style=\"stroke:#000000; stroke-width:2; stroke-opacity:0.1; fill:none\" points=\"\n",
       "  1753.08,1440.48 1753.08,125.984 \n",
       "  \"/>\n",
       "<polyline clip-path=\"url(#clip1902)\" style=\"stroke:#000000; stroke-width:2; stroke-opacity:0.1; fill:none\" points=\"\n",
       "  2260.93,1440.48 2260.93,125.984 \n",
       "  \"/>\n",
       "<polyline clip-path=\"url(#clip1902)\" style=\"stroke:#000000; stroke-width:2; stroke-opacity:0.1; fill:none\" points=\"\n",
       "  189.504,1388.43 2321.26,1388.43 \n",
       "  \"/>\n",
       "<polyline clip-path=\"url(#clip1902)\" style=\"stroke:#000000; stroke-width:2; stroke-opacity:0.1; fill:none\" points=\"\n",
       "  189.504,1067.85 2321.26,1067.85 \n",
       "  \"/>\n",
       "<polyline clip-path=\"url(#clip1902)\" style=\"stroke:#000000; stroke-width:2; stroke-opacity:0.1; fill:none\" points=\"\n",
       "  189.504,747.279 2321.26,747.279 \n",
       "  \"/>\n",
       "<polyline clip-path=\"url(#clip1902)\" style=\"stroke:#000000; stroke-width:2; stroke-opacity:0.1; fill:none\" points=\"\n",
       "  189.504,426.703 2321.26,426.703 \n",
       "  \"/>\n",
       "<polyline clip-path=\"url(#clip1900)\" style=\"stroke:#000000; stroke-width:4; stroke-opacity:1; fill:none\" points=\"\n",
       "  189.504,1440.48 2321.26,1440.48 \n",
       "  \"/>\n",
       "<polyline clip-path=\"url(#clip1900)\" style=\"stroke:#000000; stroke-width:4; stroke-opacity:1; fill:none\" points=\"\n",
       "  189.504,1440.48 189.504,125.984 \n",
       "  \"/>\n",
       "<polyline clip-path=\"url(#clip1900)\" style=\"stroke:#000000; stroke-width:4; stroke-opacity:1; fill:none\" points=\"\n",
       "  229.523,1440.48 229.523,1420.77 \n",
       "  \"/>\n",
       "<polyline clip-path=\"url(#clip1900)\" style=\"stroke:#000000; stroke-width:4; stroke-opacity:1; fill:none\" points=\"\n",
       "  737.374,1440.48 737.374,1420.77 \n",
       "  \"/>\n",
       "<polyline clip-path=\"url(#clip1900)\" style=\"stroke:#000000; stroke-width:4; stroke-opacity:1; fill:none\" points=\"\n",
       "  1245.22,1440.48 1245.22,1420.77 \n",
       "  \"/>\n",
       "<polyline clip-path=\"url(#clip1900)\" style=\"stroke:#000000; stroke-width:4; stroke-opacity:1; fill:none\" points=\"\n",
       "  1753.08,1440.48 1753.08,1420.77 \n",
       "  \"/>\n",
       "<polyline clip-path=\"url(#clip1900)\" style=\"stroke:#000000; stroke-width:4; stroke-opacity:1; fill:none\" points=\"\n",
       "  2260.93,1440.48 2260.93,1420.77 \n",
       "  \"/>\n",
       "<polyline clip-path=\"url(#clip1900)\" style=\"stroke:#000000; stroke-width:4; stroke-opacity:1; fill:none\" points=\"\n",
       "  189.504,1388.43 221.48,1388.43 \n",
       "  \"/>\n",
       "<polyline clip-path=\"url(#clip1900)\" style=\"stroke:#000000; stroke-width:4; stroke-opacity:1; fill:none\" points=\"\n",
       "  189.504,1067.85 221.48,1067.85 \n",
       "  \"/>\n",
       "<polyline clip-path=\"url(#clip1900)\" style=\"stroke:#000000; stroke-width:4; stroke-opacity:1; fill:none\" points=\"\n",
       "  189.504,747.279 221.48,747.279 \n",
       "  \"/>\n",
       "<polyline clip-path=\"url(#clip1900)\" style=\"stroke:#000000; stroke-width:4; stroke-opacity:1; fill:none\" points=\"\n",
       "  189.504,426.703 221.48,426.703 \n",
       "  \"/>\n",
       "<g clip-path=\"url(#clip1900)\">\n",
       "<text style=\"fill:#000000; fill-opacity:1; font-family:Arial,Helvetica Neue,Helvetica,sans-serif; font-size:48px; text-anchor:middle;\" transform=\"rotate(0, 229.523, 1494.48)\" x=\"229.523\" y=\"1494.48\">0</text>\n",
       "</g>\n",
       "<g clip-path=\"url(#clip1900)\">\n",
       "<text style=\"fill:#000000; fill-opacity:1; font-family:Arial,Helvetica Neue,Helvetica,sans-serif; font-size:48px; text-anchor:middle;\" transform=\"rotate(0, 737.374, 1494.48)\" x=\"737.374\" y=\"1494.48\">25</text>\n",
       "</g>\n",
       "<g clip-path=\"url(#clip1900)\">\n",
       "<text style=\"fill:#000000; fill-opacity:1; font-family:Arial,Helvetica Neue,Helvetica,sans-serif; font-size:48px; text-anchor:middle;\" transform=\"rotate(0, 1245.22, 1494.48)\" x=\"1245.22\" y=\"1494.48\">50</text>\n",
       "</g>\n",
       "<g clip-path=\"url(#clip1900)\">\n",
       "<text style=\"fill:#000000; fill-opacity:1; font-family:Arial,Helvetica Neue,Helvetica,sans-serif; font-size:48px; text-anchor:middle;\" transform=\"rotate(0, 1753.08, 1494.48)\" x=\"1753.08\" y=\"1494.48\">75</text>\n",
       "</g>\n",
       "<g clip-path=\"url(#clip1900)\">\n",
       "<text style=\"fill:#000000; fill-opacity:1; font-family:Arial,Helvetica Neue,Helvetica,sans-serif; font-size:48px; text-anchor:middle;\" transform=\"rotate(0, 2260.93, 1494.48)\" x=\"2260.93\" y=\"1494.48\">100</text>\n",
       "</g>\n",
       "<g clip-path=\"url(#clip1900)\">\n",
       "<text style=\"fill:#000000; fill-opacity:1; font-family:Arial,Helvetica Neue,Helvetica,sans-serif; font-size:48px; text-anchor:end;\" transform=\"rotate(0, 165.504, 1405.93)\" x=\"165.504\" y=\"1405.93\">-0.4</text>\n",
       "</g>\n",
       "<g clip-path=\"url(#clip1900)\">\n",
       "<text style=\"fill:#000000; fill-opacity:1; font-family:Arial,Helvetica Neue,Helvetica,sans-serif; font-size:48px; text-anchor:end;\" transform=\"rotate(0, 165.504, 1085.35)\" x=\"165.504\" y=\"1085.35\">-0.2</text>\n",
       "</g>\n",
       "<g clip-path=\"url(#clip1900)\">\n",
       "<text style=\"fill:#000000; fill-opacity:1; font-family:Arial,Helvetica Neue,Helvetica,sans-serif; font-size:48px; text-anchor:end;\" transform=\"rotate(0, 165.504, 764.779)\" x=\"165.504\" y=\"764.779\">0.0</text>\n",
       "</g>\n",
       "<g clip-path=\"url(#clip1900)\">\n",
       "<text style=\"fill:#000000; fill-opacity:1; font-family:Arial,Helvetica Neue,Helvetica,sans-serif; font-size:48px; text-anchor:end;\" transform=\"rotate(0, 165.504, 444.203)\" x=\"165.504\" y=\"444.203\">0.2</text>\n",
       "</g>\n",
       "<g clip-path=\"url(#clip1900)\">\n",
       "<text style=\"fill:#000000; fill-opacity:1; font-family:Arial,Helvetica Neue,Helvetica,sans-serif; font-size:84px; text-anchor:middle;\" transform=\"rotate(0, 1255.38, 73.2)\" x=\"1255.38\" y=\"73.2\">control trajectory</text>\n",
       "</g>\n",
       "<g clip-path=\"url(#clip1900)\">\n",
       "<text style=\"fill:#000000; fill-opacity:1; font-family:Arial,Helvetica Neue,Helvetica,sans-serif; font-size:66px; text-anchor:middle;\" transform=\"rotate(0, 1255.38, 1590.4)\" x=\"1255.38\" y=\"1590.4\">time step</text>\n",
       "</g>\n",
       "<polyline clip-path=\"url(#clip1902)\" style=\"stroke:#009af9; stroke-width:4; stroke-opacity:1; fill:none\" points=\"\n",
       "  249.837,163.187 270.151,197.392 290.465,236.806 310.779,280.814 331.093,328.794 351.407,380.123 371.721,434.178 392.035,490.339 412.349,547.994 432.663,606.546 \n",
       "  452.977,665.423 473.291,724.077 493.605,781.997 513.919,838.712 534.233,893.795 554.547,946.871 574.862,997.612 595.176,1045.75 615.49,1091.05 635.804,1133.35 \n",
       "  656.118,1172.54 676.432,1208.52 696.746,1241.26 717.06,1270.76 737.374,1297.05 757.688,1320.19 778.002,1340.24 798.316,1357.31 818.63,1371.5 838.944,1382.92 \n",
       "  859.258,1391.69 879.572,1397.92 899.886,1401.75 920.2,1403.28 940.514,1402.63 960.828,1399.89 981.142,1395.18 1001.46,1388.57 1021.77,1380.16 1042.08,1370.01 \n",
       "  1062.4,1358.21 1082.71,1344.8 1103.03,1329.84 1123.34,1313.39 1143.65,1295.49 1163.97,1276.18 1184.28,1255.5 1204.6,1233.49 1224.91,1210.18 1245.22,1185.63 \n",
       "  1265.54,1159.87 1285.85,1132.95 1306.17,1104.94 1326.48,1075.89 1346.8,1045.88 1367.11,1015 1387.42,983.326 1407.74,950.981 1428.05,918.078 1448.37,884.747 \n",
       "  1468.68,851.127 1488.99,817.369 1509.31,783.631 1529.62,750.079 1549.94,716.882 1570.25,684.21 1590.56,652.236 1610.88,621.128 1631.19,591.048 1651.51,562.153 \n",
       "  1671.82,534.59 1692.13,508.497 1712.45,483.998 1732.76,461.207 1753.08,440.226 1773.39,421.142 1793.7,404.031 1814.02,388.955 1834.33,375.962 1854.65,365.087 \n",
       "  1874.96,356.347 1895.27,349.74 1915.59,345.245 1935.9,342.818 1956.22,342.388 1976.53,343.863 1996.84,347.124 2017.16,352.041 2037.47,358.477 2057.79,366.31 \n",
       "  2078.1,375.45 2098.41,385.855 2118.73,397.537 2139.04,410.552 2159.36,425.033 2179.67,441.287 2199.99,459.811 2220.3,480.679 2240.61,502.493 2260.93,515.052 \n",
       "  \n",
       "  \"/>\n",
       "<polyline clip-path=\"url(#clip1902)\" style=\"stroke:#e26f46; stroke-width:4; stroke-opacity:1; fill:none\" points=\"\n",
       "  249.837,910.468 270.151,970.247 290.465,1026.69 310.779,1079.5 331.093,1128.42 351.407,1173.22 371.721,1213.7 392.035,1249.72 412.349,1281.14 432.663,1307.9 \n",
       "  452.977,1329.96 473.291,1347.33 493.605,1360.07 513.919,1368.25 534.233,1372.03 554.547,1371.56 574.862,1367.04 595.176,1358.7 615.49,1346.79 635.804,1331.56 \n",
       "  656.118,1313.29 676.432,1292.26 696.746,1268.73 717.06,1243 737.374,1215.31 757.688,1185.93 778.002,1155.09 798.316,1123.03 818.63,1089.96 838.944,1056.06 \n",
       "  859.258,1021.52 879.572,986.489 899.886,951.122 920.2,915.546 940.514,879.878 960.828,844.224 981.142,808.679 1001.46,773.33 1021.77,738.26 1042.08,703.542 \n",
       "  1062.4,669.251 1082.71,635.456 1103.03,602.23 1123.34,569.643 1143.65,537.77 1163.97,506.689 1184.28,476.482 1204.6,447.236 1224.91,419.043 1245.22,392.001 \n",
       "  1265.54,366.213 1285.85,341.787 1306.17,318.835 1326.48,297.473 1346.8,277.817 1367.11,259.985 1387.42,244.09 1407.74,230.244 1428.05,218.548 1448.37,209.098 \n",
       "  1468.68,201.974 1488.99,197.245 1509.31,194.961 1529.62,195.155 1549.94,197.837 1570.25,203.001 1590.56,210.615 1610.88,220.628 1631.19,232.968 1651.51,247.546 \n",
       "  1671.82,264.251 1692.13,282.961 1712.45,303.538 1732.76,325.833 1753.08,349.687 1773.39,374.935 1793.7,401.403 1814.02,428.914 1834.33,457.286 1854.65,486.33 \n",
       "  1874.96,515.856 1895.27,545.67 1915.59,575.577 1935.9,605.383 1956.22,634.898 1976.53,663.943 1996.84,692.354 2017.16,719.99 2037.47,746.741 2057.79,772.534 \n",
       "  2078.1,797.337 2098.41,821.182 2118.73,844.182 2139.04,866.575 2159.36,888.75 2179.67,911.219 2199.99,934.436 2220.3,958.405 2240.61,982.298 2260.93,993.987 \n",
       "  \n",
       "  \"/>\n",
       "</svg>\n"
      ]
     },
     "execution_count": 19,
     "metadata": {},
     "output_type": "execute_result"
    }
   ],
   "source": [
    "plot(prob.U,xlabel=\"time step\",legend=:none,title=\"control trajectory\")"
   ]
  },
  {
   "cell_type": "code",
   "execution_count": null,
   "metadata": {},
   "outputs": [],
   "source": []
  },
  {
   "cell_type": "code",
   "execution_count": null,
   "metadata": {},
   "outputs": [],
   "source": []
  },
  {
   "cell_type": "code",
   "execution_count": null,
   "metadata": {},
   "outputs": [],
   "source": []
  }
 ],
 "metadata": {
  "@webio": {
   "lastCommId": null,
   "lastKernelId": null
  },
  "kernelspec": {
   "display_name": "Julia 1.1.0",
   "language": "julia",
   "name": "julia-1.1"
  },
  "language_info": {
   "file_extension": ".jl",
   "mimetype": "application/julia",
   "name": "julia",
   "version": "1.1.0"
  }
 },
 "nbformat": 4,
 "nbformat_minor": 2
}
