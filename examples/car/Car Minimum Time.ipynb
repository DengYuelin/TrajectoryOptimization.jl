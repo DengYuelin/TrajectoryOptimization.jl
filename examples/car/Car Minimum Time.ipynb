{
 "cells": [
  {
   "cell_type": "markdown",
   "metadata": {},
   "source": [
    "## Car Minimum Time"
   ]
  },
  {
   "cell_type": "code",
   "execution_count": null,
   "metadata": {},
   "outputs": [],
   "source": [
    "using TrajectoryOptimization\n",
    "using Plots, LinearAlgebra"
   ]
  },
  {
   "cell_type": "markdown",
   "metadata": {},
   "source": [
    "Import the car model"
   ]
  },
  {
   "cell_type": "code",
   "execution_count": null,
   "metadata": {},
   "outputs": [],
   "source": [
    "model = Dynamics.car_model\n",
    "n = model.n # number of states\n",
    "m = model.m; # number of controls\n",
    "\n",
    "dt = 0.1 # discretization time step\n",
    "model_d = rk4(model,dt); # discrete time model"
   ]
  },
  {
   "cell_type": "markdown",
   "metadata": {},
   "source": [
    "Define numerical type"
   ]
  },
  {
   "cell_type": "code",
   "execution_count": null,
   "metadata": {},
   "outputs": [],
   "source": [
    "T = Float64;"
   ]
  },
  {
   "cell_type": "markdown",
   "metadata": {},
   "source": [
    "Define initial and goals states"
   ]
  },
  {
   "cell_type": "code",
   "execution_count": null,
   "metadata": {},
   "outputs": [],
   "source": [
    "x0 = [0.0;0.0;0.0]\n",
    "xf = [0.0;1.0;0.0];"
   ]
  },
  {
   "cell_type": "markdown",
   "metadata": {},
   "source": [
    "Define a cost function, e.g., quadratic"
   ]
  },
  {
   "cell_type": "code",
   "execution_count": null,
   "metadata": {},
   "outputs": [],
   "source": [
    "Qf = 100.0*Diagonal(I,n)\n",
    "Q = (1e-2)*Diagonal(I,n)\n",
    "R = (1e-2)*Diagonal(I,m)\n",
    "cost = LQRCost(Q,R,Qf,xf);"
   ]
  },
  {
   "cell_type": "markdown",
   "metadata": {},
   "source": [
    "Define constraints"
   ]
  },
  {
   "cell_type": "code",
   "execution_count": null,
   "metadata": {},
   "outputs": [],
   "source": [
    "u_bnd = 2.\n",
    "bnd = bound_constraint(n,m,u_min=-u_bnd,u_max=u_bnd,trim=true)\n",
    "\n",
    "goal_con = goal_constraint(xf)\n",
    "\n",
    "con = [bnd, goal_con];"
   ]
  },
  {
   "cell_type": "markdown",
   "metadata": {},
   "source": [
    "Set options"
   ]
  },
  {
   "cell_type": "code",
   "execution_count": null,
   "metadata": {},
   "outputs": [],
   "source": [
    "verbose=false\n",
    "opts_ilqr = iLQRSolverOptions{T}(verbose=false,live_plotting=:off)\n",
    "\n",
    "opts_al = AugmentedLagrangianSolverOptions{T}(verbose=false,opts_uncon=opts_ilqr,\n",
    "    iterations=30,penalty_scaling=10.0)\n",
    "\n",
    "opts_altro = TrajectoryOptimization.ALTROSolverOptions{T}(verbose=false,opts_al=opts_al,R_minimum_time=15.0,\n",
    "    dt_max=0.2,dt_min=1.0e-3);"
   ]
  },
  {
   "cell_type": "markdown",
   "metadata": {},
   "source": [
    "Define a problem"
   ]
  },
  {
   "cell_type": "code",
   "execution_count": null,
   "metadata": {},
   "outputs": [],
   "source": [
    "N = 51\n",
    "tf = 3.0\n",
    "U = [ones(m) for k = 1:N-1]\n",
    "dt = 0.06\n",
    "obj = Objective(cost,N)\n",
    "constraints = TrajectoryOptimization.ProblemConstraints(con,N)\n",
    "\n",
    "prob = Problem(model_d,Objective(cost,N),U,constraints=TrajectoryOptimization.ProblemConstraints(con,N),dt=dt,x0=x0)\n",
    "initial_controls!(prob, U);"
   ]
  },
  {
   "cell_type": "markdown",
   "metadata": {},
   "source": [
    "Solve problem"
   ]
  },
  {
   "cell_type": "code",
   "execution_count": null,
   "metadata": {},
   "outputs": [],
   "source": [
    "solve!(prob, opts_altro) # solve with iLQR"
   ]
  },
  {
   "cell_type": "markdown",
   "metadata": {},
   "source": [
    "Define minimum time problem"
   ]
  },
  {
   "cell_type": "code",
   "execution_count": null,
   "metadata": {},
   "outputs": [],
   "source": [
    "U = [ones(m) for k = 1:N-1]\n",
    "\n",
    "prob_mt = Problem(model_d,Objective(cost,N),U,\n",
    "    constraints=TrajectoryOptimization.ProblemConstraints(con,N),\n",
    "    dt=dt,x0=x0,tf=:min);"
   ]
  },
  {
   "cell_type": "markdown",
   "metadata": {},
   "source": [
    "Solve minimum time problem"
   ]
  },
  {
   "cell_type": "code",
   "execution_count": null,
   "metadata": {},
   "outputs": [],
   "source": [
    "solve!(prob_mt, opts_altro);# solve with iLQR"
   ]
  },
  {
   "cell_type": "markdown",
   "metadata": {},
   "source": [
    "Plot state trajectories"
   ]
  },
  {
   "cell_type": "code",
   "execution_count": null,
   "metadata": {},
   "outputs": [],
   "source": [
    "x = [prob.X[k][1] for k = 1:N]\n",
    "y = [prob.X[k][2] for k = 1:N]\n",
    "\n",
    "x_min_time = [prob_mt.X[k][1] for k = 1:N]\n",
    "y_min_time = [prob_mt.X[k][2] for k = 1:N];"
   ]
  },
  {
   "cell_type": "code",
   "execution_count": null,
   "metadata": {},
   "outputs": [],
   "source": [
    "plot()\n",
    "# plot_obstacles(circles,:orange)\n",
    "plot!(x,y,xlabel=\"x\",ylabel=\"y\",label=\"ALTRO\",legend=:right,color=:blue,linestyle=:dash,ratio=:equal,title=\"state trajectory\")\n",
    "plot!(x_min_time,y_min_time,xlim=(-0.75,0.75),xlabel=\"x\",ylabel=\"y\",label=\"ALTRO Min. Time.\",color=:blue,width=2,ratio=:equal,title=\"state trajectory\")\n",
    "\n",
    "plot!((x[1],y[1]),marker=:circle,color=:red,label=\"start\")\n",
    "plot!((x[end],y[end]),marker=:circle,color=:green,label=\"goal\")"
   ]
  },
  {
   "cell_type": "markdown",
   "metadata": {},
   "source": [
    "Compute total time"
   ]
  },
  {
   "cell_type": "code",
   "execution_count": null,
   "metadata": {},
   "outputs": [],
   "source": [
    "tt = TrajectoryOptimization.total_time(prob)\n",
    "tt_mt = TrajectoryOptimization.total_time(prob_mt)"
   ]
  },
  {
   "cell_type": "markdown",
   "metadata": {},
   "source": [
    "Plot control trajectories"
   ]
  },
  {
   "cell_type": "code",
   "execution_count": null,
   "metadata": {},
   "outputs": [],
   "source": [
    "t_range = range(0, stop=tt, length=N)[1:end-1]\n",
    "u1 = [prob.U[k][1] for k = 1:N-1]\n",
    "u2 = [prob.U[k][2] for k = 1:N-1];"
   ]
  },
  {
   "cell_type": "code",
   "execution_count": null,
   "metadata": {},
   "outputs": [],
   "source": [
    "t_range_mt = range(0, stop=tt_mt, length=N)[1:end-1]\n",
    "u1_mt = [prob_mt.U[k][1] for k = 1:N-1]\n",
    "u2_mt = [prob_mt.U[k][2] for k = 1:N-1];"
   ]
  },
  {
   "cell_type": "code",
   "execution_count": null,
   "metadata": {},
   "outputs": [],
   "source": [
    "plot(title=\"Control Trajectory\",xlabel=\"time (s)\")\n",
    "plot!(t_range,u1,label=\"u1\")\n",
    "plot!(t_range,u2,label=\"u2\")\n",
    "plot!(t_range_mt,u1_mt,width=2,label=\"u1 (Min. Time)\")\n",
    "plot!(t_range_mt,u2_mt,width=2,label=\"u2 (Min. Time)\")"
   ]
  }
 ],
 "metadata": {
  "@webio": {
   "lastCommId": null,
   "lastKernelId": null
  },
  "kernelspec": {
   "display_name": "Julia 1.1.0",
   "language": "julia",
   "name": "julia-1.1"
  },
  "language_info": {
   "file_extension": ".jl",
   "mimetype": "application/julia",
   "name": "julia",
   "version": "1.1.0"
  }
 },
 "nbformat": 4,
 "nbformat_minor": 2
}
