{
 "cells": [
  {
   "cell_type": "markdown",
   "metadata": {},
   "source": [
    "## Pendulum Minimum Time"
   ]
  },
  {
   "cell_type": "code",
   "execution_count": 1,
   "metadata": {},
   "outputs": [
    {
     "name": "stderr",
     "output_type": "stream",
     "text": [
      "┌ Info: Recompiling stale cache file /home/taylor/.julia/compiled/v1.1/TrajectoryOptimization/UVgeA.ji for TrajectoryOptimization [c79d492b-0548-5874-b488-5a62c1d9d0ca]\n",
      "└ @ Base loading.jl:1184\n",
      "WARNING: Method definition (::getfield(TrajectoryOptimization, Symbol(\"#∇f!#88\")){f, ∇f})(Any, Any) in module TrajectoryOptimization at /home/taylor/.julia/dev/TrajectoryOptimization/src/model_robust.jl:720 overwritten at /home/taylor/.julia/dev/TrajectoryOptimization/src/model_robust.jl:722.\n",
      "WARNING: Method definition (::getfield(TrajectoryOptimization, Symbol(\"#∇f!#88\")){f, ∇f})(Any, Any, Any, Any) in module TrajectoryOptimization at /home/taylor/.julia/dev/TrajectoryOptimization/src/model_robust.jl:728 overwritten at /home/taylor/.julia/dev/TrajectoryOptimization/src/model_robust.jl:730.\n",
      "WARNING: Method definition (::getfield(TrajectoryOptimization, Symbol(\"#∇f!#89\")){∇f, f})(Any, Any, Any) in module TrajectoryOptimization at /home/taylor/.julia/dev/TrajectoryOptimization/src/model_robust.jl:758 overwritten at /home/taylor/.julia/dev/TrajectoryOptimization/src/model_robust.jl:760.\n",
      "WARNING: Method definition (::getfield(TrajectoryOptimization, Symbol(\"#∇f!#89\")){∇f, f})(Any, Any, Any, Any, Any) in module TrajectoryOptimization at /home/taylor/.julia/dev/TrajectoryOptimization/src/model_robust.jl:766 overwritten at /home/taylor/.julia/dev/TrajectoryOptimization/src/model_robust.jl:768.\n",
      "┌ Warning: Package TrajectoryOptimization does not have MatrixCalculus in its dependencies:\n",
      "│ - If you have TrajectoryOptimization checked out for development and have\n",
      "│   added MatrixCalculus as a dependency but haven't updated your primary\n",
      "│   environment's manifest file, try `Pkg.resolve()`.\n",
      "│ - Otherwise you may need to report an issue with TrajectoryOptimization\n",
      "└ Loading MatrixCalculus into TrajectoryOptimization from project dependency, future warnings for TrajectoryOptimization are suppressed.\n"
     ]
    }
   ],
   "source": [
    "using TrajectoryOptimization\n",
    "using Plots, LinearAlgebra"
   ]
  },
  {
   "cell_type": "markdown",
   "metadata": {},
   "source": [
    "Import the pendulum model"
   ]
  },
  {
   "cell_type": "code",
   "execution_count": 2,
   "metadata": {},
   "outputs": [],
   "source": [
    "model = Dynamics.pendulum_model\n",
    "n = model.n # number of states\n",
    "m = model.m; # number of controls\n",
    "\n",
    "dt = 0.1 # discretization time step\n",
    "model_d = rk4(model,dt); # discrete time model"
   ]
  },
  {
   "cell_type": "markdown",
   "metadata": {},
   "source": [
    "Define numerical type"
   ]
  },
  {
   "cell_type": "code",
   "execution_count": 3,
   "metadata": {},
   "outputs": [],
   "source": [
    "T = Float64;"
   ]
  },
  {
   "cell_type": "markdown",
   "metadata": {},
   "source": [
    "Define initial and goals states"
   ]
  },
  {
   "cell_type": "code",
   "execution_count": 5,
   "metadata": {},
   "outputs": [
    {
     "data": {
      "text/plain": [
       "2-element Array{Float64,1}:\n",
       " 3.141592653589793\n",
       " 0.0              "
      ]
     },
     "execution_count": 5,
     "metadata": {},
     "output_type": "execute_result"
    }
   ],
   "source": [
    "x0 = [0.0;0.0]\n",
    "xf = [π; 0.0]"
   ]
  },
  {
   "cell_type": "markdown",
   "metadata": {},
   "source": [
    "Define a cost function, e.g., quadratic"
   ]
  },
  {
   "cell_type": "code",
   "execution_count": 7,
   "metadata": {},
   "outputs": [],
   "source": [
    "Q = Array(1e-3*Diagonal(I,n))\n",
    "R = Array(1e-3*Diagonal(I,m))\n",
    "Qf = Array(Diagonal(I,n)*0.0)\n",
    "cost = LQRCost(Q,R,Qf,xf);"
   ]
  },
  {
   "cell_type": "markdown",
   "metadata": {},
   "source": [
    "Define constraints"
   ]
  },
  {
   "cell_type": "code",
   "execution_count": 72,
   "metadata": {},
   "outputs": [],
   "source": [
    "u_bnd = 2.\n",
    "x_min = [-0.25; -0.001; -Inf]\n",
    "x_max = [0.25; 1.001; Inf]\n",
    "bnd = bound_constraint(n,m,x_min=x_min,x_max=x_max,u_min=-u_bnd,u_max=u_bnd,trim=true)\n",
    "\n",
    "goal_con = goal_constraint(xf)\n",
    "\n",
    "con = [bnd, goal_con];"
   ]
  },
  {
   "cell_type": "markdown",
   "metadata": {},
   "source": [
    "Set options"
   ]
  },
  {
   "cell_type": "code",
   "execution_count": 71,
   "metadata": {},
   "outputs": [],
   "source": [
    "verbose=false\n",
    "opts_ilqr = iLQRSolverOptions{T}(verbose=false,live_plotting=:off)\n",
    "\n",
    "opts_al = AugmentedLagrangianSolverOptions{T}(verbose=false,opts_uncon=opts_ilqr,\n",
    "    iterations=30,penalty_scaling=10.0)\n",
    "\n",
    "opts_altro = TrajectoryOptimization.ALTROSolverOptions{T}(verbose=false,opts_al=opts_al,R_minimum_time=15.0,\n",
    "    dt_max=0.2,dt_min=1.0e-3);"
   ]
  },
  {
   "cell_type": "markdown",
   "metadata": {},
   "source": [
    "Define a problem"
   ]
  },
  {
   "cell_type": "code",
   "execution_count": 74,
   "metadata": {},
   "outputs": [],
   "source": [
    "N = 51\n",
    "tf = 3.0\n",
    "U = [ones(m) for k = 1:N-1]\n",
    "dt = 0.06\n",
    "obj = Objective(cost,N)\n",
    "constraints = TrajectoryOptimization.ProblemConstraints(con,N)\n",
    "\n",
    "prob = Problem(model_d,Objective(cost,N),U,constraints=TrajectoryOptimization.ProblemConstraints(con,N),dt=dt,x0=x0)\n",
    "initial_controls!(prob, U);"
   ]
  },
  {
   "cell_type": "markdown",
   "metadata": {},
   "source": [
    "Solve problem"
   ]
  },
  {
   "cell_type": "code",
   "execution_count": 75,
   "metadata": {},
   "outputs": [],
   "source": [
    "solve!(prob, opts_altro) # solve with iLQR"
   ]
  },
  {
   "cell_type": "markdown",
   "metadata": {},
   "source": [
    "Define minimum time problem"
   ]
  },
  {
   "cell_type": "code",
   "execution_count": 78,
   "metadata": {},
   "outputs": [],
   "source": [
    "prob_mt = Problem(model_d,Objective(cost,N),U,constraints=TrajectoryOptimization.ProblemConstraints(con,N),dt=dt,x0=x0,tf=:min);"
   ]
  },
  {
   "cell_type": "code",
   "execution_count": 79,
   "metadata": {},
   "outputs": [
    {
     "name": "stdout",
     "output_type": "stream",
     "text": [
      "Minimum Time Solve\n"
     ]
    }
   ],
   "source": [
    "solve!(prob_mt, opts_altro) # solve with iLQR"
   ]
  },
  {
   "cell_type": "code",
   "execution_count": 80,
   "metadata": {},
   "outputs": [],
   "source": [
    "x = [prob.X[k][1] for k = 1:N]\n",
    "y = [prob.X[k][2] for k = 1:N]\n",
    "\n",
    "x_min_time = [prob_mt.X[k][1] for k = 1:N]\n",
    "y_min_time = [prob_mt.X[k][2] for k = 1:N];"
   ]
  },
  {
   "cell_type": "code",
   "execution_count": 83,
   "metadata": {},
   "outputs": [
    {
     "data": {
      "image/svg+xml": [
       "<?xml version=\"1.0\" encoding=\"utf-8\"?>\n",
       "<svg xmlns=\"http://www.w3.org/2000/svg\" xmlns:xlink=\"http://www.w3.org/1999/xlink\" width=\"600\" height=\"400\" viewBox=\"0 0 2400 1600\">\n",
       "<defs>\n",
       "  <clipPath id=\"clip2700\">\n",
       "    <rect x=\"0\" y=\"0\" width=\"2400\" height=\"1600\"/>\n",
       "  </clipPath>\n",
       "</defs>\n",
       "<polygon clip-path=\"url(#clip2700)\" points=\"\n",
       "0,1600 2400,1600 2400,0 0,0 \n",
       "  \" fill=\"#ffffff\" fill-rule=\"evenodd\" fill-opacity=\"1\"/>\n",
       "<defs>\n",
       "  <clipPath id=\"clip2701\">\n",
       "    <rect x=\"480\" y=\"0\" width=\"1681\" height=\"1600\"/>\n",
       "  </clipPath>\n",
       "</defs>\n",
       "<polygon clip-path=\"url(#clip2700)\" points=\"\n",
       "359.114,1440.48 2213.29,1440.48 2213.29,125.984 359.114,125.984 \n",
       "  \" fill=\"#ffffff\" fill-rule=\"evenodd\" fill-opacity=\"1\"/>\n",
       "<defs>\n",
       "  <clipPath id=\"clip2702\">\n",
       "    <rect x=\"359\" y=\"125\" width=\"1855\" height=\"1315\"/>\n",
       "  </clipPath>\n",
       "</defs>\n",
       "<polyline clip-path=\"url(#clip2702)\" style=\"stroke:#000000; stroke-width:2; stroke-opacity:0.1; fill:none\" points=\"\n",
       "  359.114,1440.48 359.114,125.984 \n",
       "  \"/>\n",
       "<polyline clip-path=\"url(#clip2702)\" style=\"stroke:#000000; stroke-width:2; stroke-opacity:0.1; fill:none\" points=\"\n",
       "  668.144,1440.48 668.144,125.984 \n",
       "  \"/>\n",
       "<polyline clip-path=\"url(#clip2702)\" style=\"stroke:#000000; stroke-width:2; stroke-opacity:0.1; fill:none\" points=\"\n",
       "  977.174,1440.48 977.174,125.984 \n",
       "  \"/>\n",
       "<polyline clip-path=\"url(#clip2702)\" style=\"stroke:#000000; stroke-width:2; stroke-opacity:0.1; fill:none\" points=\"\n",
       "  1286.2,1440.48 1286.2,125.984 \n",
       "  \"/>\n",
       "<polyline clip-path=\"url(#clip2702)\" style=\"stroke:#000000; stroke-width:2; stroke-opacity:0.1; fill:none\" points=\"\n",
       "  1595.23,1440.48 1595.23,125.984 \n",
       "  \"/>\n",
       "<polyline clip-path=\"url(#clip2702)\" style=\"stroke:#000000; stroke-width:2; stroke-opacity:0.1; fill:none\" points=\"\n",
       "  1904.26,1440.48 1904.26,125.984 \n",
       "  \"/>\n",
       "<polyline clip-path=\"url(#clip2702)\" style=\"stroke:#000000; stroke-width:2; stroke-opacity:0.1; fill:none\" points=\"\n",
       "  2213.29,1440.48 2213.29,125.984 \n",
       "  \"/>\n",
       "<polyline clip-path=\"url(#clip2702)\" style=\"stroke:#000000; stroke-width:2; stroke-opacity:0.1; fill:none\" points=\"\n",
       "  359.114,1401.52 2213.29,1401.52 \n",
       "  \"/>\n",
       "<polyline clip-path=\"url(#clip2702)\" style=\"stroke:#000000; stroke-width:2; stroke-opacity:0.1; fill:none\" points=\"\n",
       "  359.114,1092.49 2213.29,1092.49 \n",
       "  \"/>\n",
       "<polyline clip-path=\"url(#clip2702)\" style=\"stroke:#000000; stroke-width:2; stroke-opacity:0.1; fill:none\" points=\"\n",
       "  359.114,783.457 2213.29,783.457 \n",
       "  \"/>\n",
       "<polyline clip-path=\"url(#clip2702)\" style=\"stroke:#000000; stroke-width:2; stroke-opacity:0.1; fill:none\" points=\"\n",
       "  359.114,474.427 2213.29,474.427 \n",
       "  \"/>\n",
       "<polyline clip-path=\"url(#clip2702)\" style=\"stroke:#000000; stroke-width:2; stroke-opacity:0.1; fill:none\" points=\"\n",
       "  359.114,165.397 2213.29,165.397 \n",
       "  \"/>\n",
       "<polyline clip-path=\"url(#clip2700)\" style=\"stroke:#000000; stroke-width:4; stroke-opacity:1; fill:none\" points=\"\n",
       "  359.114,1440.48 2213.29,1440.48 \n",
       "  \"/>\n",
       "<polyline clip-path=\"url(#clip2700)\" style=\"stroke:#000000; stroke-width:4; stroke-opacity:1; fill:none\" points=\"\n",
       "  359.114,1440.48 359.114,125.984 \n",
       "  \"/>\n",
       "<polyline clip-path=\"url(#clip2700)\" style=\"stroke:#000000; stroke-width:4; stroke-opacity:1; fill:none\" points=\"\n",
       "  359.114,1440.48 359.114,1420.77 \n",
       "  \"/>\n",
       "<polyline clip-path=\"url(#clip2700)\" style=\"stroke:#000000; stroke-width:4; stroke-opacity:1; fill:none\" points=\"\n",
       "  668.144,1440.48 668.144,1420.77 \n",
       "  \"/>\n",
       "<polyline clip-path=\"url(#clip2700)\" style=\"stroke:#000000; stroke-width:4; stroke-opacity:1; fill:none\" points=\"\n",
       "  977.174,1440.48 977.174,1420.77 \n",
       "  \"/>\n",
       "<polyline clip-path=\"url(#clip2700)\" style=\"stroke:#000000; stroke-width:4; stroke-opacity:1; fill:none\" points=\"\n",
       "  1286.2,1440.48 1286.2,1420.77 \n",
       "  \"/>\n",
       "<polyline clip-path=\"url(#clip2700)\" style=\"stroke:#000000; stroke-width:4; stroke-opacity:1; fill:none\" points=\"\n",
       "  1595.23,1440.48 1595.23,1420.77 \n",
       "  \"/>\n",
       "<polyline clip-path=\"url(#clip2700)\" style=\"stroke:#000000; stroke-width:4; stroke-opacity:1; fill:none\" points=\"\n",
       "  1904.26,1440.48 1904.26,1420.77 \n",
       "  \"/>\n",
       "<polyline clip-path=\"url(#clip2700)\" style=\"stroke:#000000; stroke-width:4; stroke-opacity:1; fill:none\" points=\"\n",
       "  2213.29,1440.48 2213.29,1420.77 \n",
       "  \"/>\n",
       "<polyline clip-path=\"url(#clip2700)\" style=\"stroke:#000000; stroke-width:4; stroke-opacity:1; fill:none\" points=\"\n",
       "  359.114,1401.52 386.927,1401.52 \n",
       "  \"/>\n",
       "<polyline clip-path=\"url(#clip2700)\" style=\"stroke:#000000; stroke-width:4; stroke-opacity:1; fill:none\" points=\"\n",
       "  359.114,1092.49 386.927,1092.49 \n",
       "  \"/>\n",
       "<polyline clip-path=\"url(#clip2700)\" style=\"stroke:#000000; stroke-width:4; stroke-opacity:1; fill:none\" points=\"\n",
       "  359.114,783.457 386.927,783.457 \n",
       "  \"/>\n",
       "<polyline clip-path=\"url(#clip2700)\" style=\"stroke:#000000; stroke-width:4; stroke-opacity:1; fill:none\" points=\"\n",
       "  359.114,474.427 386.927,474.427 \n",
       "  \"/>\n",
       "<polyline clip-path=\"url(#clip2700)\" style=\"stroke:#000000; stroke-width:4; stroke-opacity:1; fill:none\" points=\"\n",
       "  359.114,165.397 386.927,165.397 \n",
       "  \"/>\n",
       "<g clip-path=\"url(#clip2700)\">\n",
       "<text style=\"fill:#000000; fill-opacity:1; font-family:Arial,Helvetica Neue,Helvetica,sans-serif; font-size:48px; text-anchor:middle;\" transform=\"rotate(0, 359.114, 1494.48)\" x=\"359.114\" y=\"1494.48\">-0.75</text>\n",
       "</g>\n",
       "<g clip-path=\"url(#clip2700)\">\n",
       "<text style=\"fill:#000000; fill-opacity:1; font-family:Arial,Helvetica Neue,Helvetica,sans-serif; font-size:48px; text-anchor:middle;\" transform=\"rotate(0, 668.144, 1494.48)\" x=\"668.144\" y=\"1494.48\">-0.50</text>\n",
       "</g>\n",
       "<g clip-path=\"url(#clip2700)\">\n",
       "<text style=\"fill:#000000; fill-opacity:1; font-family:Arial,Helvetica Neue,Helvetica,sans-serif; font-size:48px; text-anchor:middle;\" transform=\"rotate(0, 977.174, 1494.48)\" x=\"977.174\" y=\"1494.48\">-0.25</text>\n",
       "</g>\n",
       "<g clip-path=\"url(#clip2700)\">\n",
       "<text style=\"fill:#000000; fill-opacity:1; font-family:Arial,Helvetica Neue,Helvetica,sans-serif; font-size:48px; text-anchor:middle;\" transform=\"rotate(0, 1286.2, 1494.48)\" x=\"1286.2\" y=\"1494.48\">0.00</text>\n",
       "</g>\n",
       "<g clip-path=\"url(#clip2700)\">\n",
       "<text style=\"fill:#000000; fill-opacity:1; font-family:Arial,Helvetica Neue,Helvetica,sans-serif; font-size:48px; text-anchor:middle;\" transform=\"rotate(0, 1595.23, 1494.48)\" x=\"1595.23\" y=\"1494.48\">0.25</text>\n",
       "</g>\n",
       "<g clip-path=\"url(#clip2700)\">\n",
       "<text style=\"fill:#000000; fill-opacity:1; font-family:Arial,Helvetica Neue,Helvetica,sans-serif; font-size:48px; text-anchor:middle;\" transform=\"rotate(0, 1904.26, 1494.48)\" x=\"1904.26\" y=\"1494.48\">0.50</text>\n",
       "</g>\n",
       "<g clip-path=\"url(#clip2700)\">\n",
       "<text style=\"fill:#000000; fill-opacity:1; font-family:Arial,Helvetica Neue,Helvetica,sans-serif; font-size:48px; text-anchor:middle;\" transform=\"rotate(0, 2213.29, 1494.48)\" x=\"2213.29\" y=\"1494.48\">0.75</text>\n",
       "</g>\n",
       "<g clip-path=\"url(#clip2700)\">\n",
       "<text style=\"fill:#000000; fill-opacity:1; font-family:Arial,Helvetica Neue,Helvetica,sans-serif; font-size:48px; text-anchor:end;\" transform=\"rotate(0, 335.114, 1419.02)\" x=\"335.114\" y=\"1419.02\">0.00</text>\n",
       "</g>\n",
       "<g clip-path=\"url(#clip2700)\">\n",
       "<text style=\"fill:#000000; fill-opacity:1; font-family:Arial,Helvetica Neue,Helvetica,sans-serif; font-size:48px; text-anchor:end;\" transform=\"rotate(0, 335.114, 1109.99)\" x=\"335.114\" y=\"1109.99\">0.25</text>\n",
       "</g>\n",
       "<g clip-path=\"url(#clip2700)\">\n",
       "<text style=\"fill:#000000; fill-opacity:1; font-family:Arial,Helvetica Neue,Helvetica,sans-serif; font-size:48px; text-anchor:end;\" transform=\"rotate(0, 335.114, 800.957)\" x=\"335.114\" y=\"800.957\">0.50</text>\n",
       "</g>\n",
       "<g clip-path=\"url(#clip2700)\">\n",
       "<text style=\"fill:#000000; fill-opacity:1; font-family:Arial,Helvetica Neue,Helvetica,sans-serif; font-size:48px; text-anchor:end;\" transform=\"rotate(0, 335.114, 491.927)\" x=\"335.114\" y=\"491.927\">0.75</text>\n",
       "</g>\n",
       "<g clip-path=\"url(#clip2700)\">\n",
       "<text style=\"fill:#000000; fill-opacity:1; font-family:Arial,Helvetica Neue,Helvetica,sans-serif; font-size:48px; text-anchor:end;\" transform=\"rotate(0, 335.114, 182.897)\" x=\"335.114\" y=\"182.897\">1.00</text>\n",
       "</g>\n",
       "<g clip-path=\"url(#clip2700)\">\n",
       "<text style=\"fill:#000000; fill-opacity:1; font-family:Arial,Helvetica Neue,Helvetica,sans-serif; font-size:84px; text-anchor:middle;\" transform=\"rotate(0, 1286.2, 73.2)\" x=\"1286.2\" y=\"73.2\">state trajectory</text>\n",
       "</g>\n",
       "<g clip-path=\"url(#clip2700)\">\n",
       "<text style=\"fill:#000000; fill-opacity:1; font-family:Arial,Helvetica Neue,Helvetica,sans-serif; font-size:66px; text-anchor:middle;\" transform=\"rotate(0, 1286.2, 1590.4)\" x=\"1286.2\" y=\"1590.4\">x</text>\n",
       "</g>\n",
       "<g clip-path=\"url(#clip2700)\">\n",
       "<text style=\"fill:#000000; fill-opacity:1; font-family:Arial,Helvetica Neue,Helvetica,sans-serif; font-size:66px; text-anchor:middle;\" transform=\"rotate(-90, 236.714, 783.233)\" x=\"236.714\" y=\"783.233\">y</text>\n",
       "</g>\n",
       "<polyline clip-path=\"url(#clip2702)\" style=\"stroke:#0000ff; stroke-width:8; stroke-opacity:1; fill:none\" points=\"\n",
       "  1286.2,1401.52 1244.36,1401.17 1198.37,1400.21 1150.98,1399.08 1104.98,1398.27 1062.99,1398.18 1027.41,1398.96 1000.28,1400.4 983.194,1401.95 977.039,1402.77 \n",
       "  977.102,1402.76 977.149,1402.75 977.158,1402.75 977.158,1402.75 977.156,1402.75 977.153,1402.75 977.15,1402.75 977.147,1402.75 977.143,1402.75 977.137,1402.76 \n",
       "  977.125,1402.77 977.099,1402.79 977.096,1402.79 979.578,1399.82 1021.55,1342.08 1067.2,1270.04 1114.5,1185.04 1161.84,1089.32 1208.25,985.546 1253.32,876.671 \n",
       "  1297.13,765.779 1340,656.022 1382.28,550.584 1424.07,452.658 1465.03,365.366 1504.07,291.603 1539.31,233.764 1568.06,193.364 1587.2,170.618 1593.81,164.028 \n",
       "  1594.21,163.701 1593.61,164.116 1594.15,163.806 1595.24,163.31 1595.4,163.251 1595.61,163.194 1595.65,163.187 1570.7,165.643 1495.31,167.888 1391.01,166.735 \n",
       "  1286.23,165.557 \n",
       "  \"/>\n",
       "<polyline clip-path=\"url(#clip2702)\" style=\"stroke:#0000ff; stroke-width:4; stroke-opacity:1; fill:none\" stroke-dasharray=\"16, 10\" points=\"\n",
       "  1286.2,1401.52 1321.04,1403.28 1198.85,1387.39 1079.87,1374.36 1194.66,1375.99 1083.37,1384.63 977.916,1402.28 977.284,1402.44 977.268,1402.45 977.244,1402.46 \n",
       "  977.227,1402.47 977.218,1402.47 977.278,1402.43 977.312,1402.4 977.27,1402.44 977.22,1402.49 977.198,1402.52 977.204,1402.51 977.221,1402.48 977.315,1402.31 \n",
       "  1012.93,1326.44 1048.19,1248.49 1082.94,1168.45 1112.35,1084.9 1142.1,1000.49 1172.03,915.481 1202.06,830.244 1238.22,747.446 1274.18,665.17 1309.83,583.528 \n",
       "  1350.87,505.373 1391.49,428.074 1431.64,351.613 1476.41,279.073 1482.71,270.265 1535.15,206.558 1479.66,265.553 1537.06,211.928 1595.19,164.031 1595.14,164.07 \n",
       "  1595.17,164.052 1595.18,164.045 1594.47,164.389 1594.52,164.369 1594.79,164.277 1594.68,164.305 1595.24,164.195 1557.9,168.692 1456.61,172.74 1391.97,169.923 \n",
       "  1285.61,165.351 \n",
       "  \"/>\n",
       "<circle clip-path=\"url(#clip2702)\" style=\"fill:#000000; stroke:none; fill-opacity:1\" cx=\"1286.2\" cy=\"1401.52\" r=\"18\"/>\n",
       "<circle clip-path=\"url(#clip2702)\" style=\"fill:#ff0000; stroke:none; fill-opacity:1\" cx=\"1286.2\" cy=\"1401.52\" r=\"14\"/>\n",
       "<circle clip-path=\"url(#clip2702)\" style=\"fill:#000000; stroke:none; fill-opacity:1\" cx=\"1286.23\" cy=\"165.557\" r=\"18\"/>\n",
       "<circle clip-path=\"url(#clip2702)\" style=\"fill:#008000; stroke:none; fill-opacity:1\" cx=\"1286.23\" cy=\"165.557\" r=\"14\"/>\n",
       "<polygon clip-path=\"url(#clip2700)\" points=\"\n",
       "431.114,511.904 1069.61,511.904 1069.61,209.504 431.114,209.504 \n",
       "  \" fill=\"#ffffff\" fill-rule=\"evenodd\" fill-opacity=\"1\"/>\n",
       "<polyline clip-path=\"url(#clip2700)\" style=\"stroke:#000000; stroke-width:4; stroke-opacity:1; fill:none\" points=\"\n",
       "  431.114,511.904 1069.61,511.904 1069.61,209.504 431.114,209.504 431.114,511.904 \n",
       "  \"/>\n",
       "<polyline clip-path=\"url(#clip2700)\" style=\"stroke:#0000ff; stroke-width:8; stroke-opacity:1; fill:none\" points=\"\n",
       "  455.114,269.984 599.114,269.984 \n",
       "  \"/>\n",
       "<g clip-path=\"url(#clip2700)\">\n",
       "<text style=\"fill:#000000; fill-opacity:1; font-family:Arial,Helvetica Neue,Helvetica,sans-serif; font-size:48px; text-anchor:start;\" transform=\"rotate(0, 623.114, 287.484)\" x=\"623.114\" y=\"287.484\">ALTRO</text>\n",
       "</g>\n",
       "<polyline clip-path=\"url(#clip2700)\" style=\"stroke:#0000ff; stroke-width:4; stroke-opacity:1; fill:none\" stroke-dasharray=\"16, 10\" points=\"\n",
       "  455.114,330.464 599.114,330.464 \n",
       "  \"/>\n",
       "<g clip-path=\"url(#clip2700)\">\n",
       "<text style=\"fill:#000000; fill-opacity:1; font-family:Arial,Helvetica Neue,Helvetica,sans-serif; font-size:48px; text-anchor:start;\" transform=\"rotate(0, 623.114, 347.964)\" x=\"623.114\" y=\"347.964\">ALTRO Min. Time.</text>\n",
       "</g>\n",
       "<polyline clip-path=\"url(#clip2700)\" style=\"stroke:#ff0000; stroke-width:4; stroke-opacity:1; fill:none\" points=\"\n",
       "  455.114,390.944 599.114,390.944 \n",
       "  \"/>\n",
       "<circle clip-path=\"url(#clip2700)\" style=\"fill:#000000; stroke:none; fill-opacity:1\" cx=\"539.114\" cy=\"390.944\" r=\"25\"/>\n",
       "<circle clip-path=\"url(#clip2700)\" style=\"fill:#ff0000; stroke:none; fill-opacity:1\" cx=\"539.114\" cy=\"390.944\" r=\"21\"/>\n",
       "<g clip-path=\"url(#clip2700)\">\n",
       "<text style=\"fill:#000000; fill-opacity:1; font-family:Arial,Helvetica Neue,Helvetica,sans-serif; font-size:48px; text-anchor:start;\" transform=\"rotate(0, 623.114, 408.444)\" x=\"623.114\" y=\"408.444\">start</text>\n",
       "</g>\n",
       "<polyline clip-path=\"url(#clip2700)\" style=\"stroke:#008000; stroke-width:4; stroke-opacity:1; fill:none\" points=\"\n",
       "  455.114,451.424 599.114,451.424 \n",
       "  \"/>\n",
       "<circle clip-path=\"url(#clip2700)\" style=\"fill:#000000; stroke:none; fill-opacity:1\" cx=\"539.114\" cy=\"451.424\" r=\"25\"/>\n",
       "<circle clip-path=\"url(#clip2700)\" style=\"fill:#008000; stroke:none; fill-opacity:1\" cx=\"539.114\" cy=\"451.424\" r=\"21\"/>\n",
       "<g clip-path=\"url(#clip2700)\">\n",
       "<text style=\"fill:#000000; fill-opacity:1; font-family:Arial,Helvetica Neue,Helvetica,sans-serif; font-size:48px; text-anchor:start;\" transform=\"rotate(0, 623.114, 468.924)\" x=\"623.114\" y=\"468.924\">goal</text>\n",
       "</g>\n",
       "</svg>\n"
      ]
     },
     "execution_count": 83,
     "metadata": {},
     "output_type": "execute_result"
    }
   ],
   "source": [
    "plot()\n",
    "# plot_obstacles(circles,:orange)\n",
    "plot!(x,y,xlabel=\"x\",ylabel=\"y\",label=\"ALTRO\",legend=:topleft,color=:blue,width=2,ratio=:equal,title=\"state trajectory\")\n",
    "plot!(x_min_time,y_min_time,xlim=(-0.75,0.75),xlabel=\"x\",ylabel=\"y\",label=\"ALTRO Min. Time.\",legend=:topleft,color=:blue,linestyle=:dash,width=1,ratio=:equal,title=\"state trajectory\")\n",
    "\n",
    "plot!((x[1],y[1]),marker=:circle,color=:red,label=\"start\")\n",
    "plot!((x[end],y[end]),marker=:circle,color=:green,label=\"goal\")"
   ]
  },
  {
   "cell_type": "code",
   "execution_count": 84,
   "metadata": {},
   "outputs": [
    {
     "data": {
      "text/plain": [
       "1.80440185654622"
      ]
     },
     "execution_count": 84,
     "metadata": {},
     "output_type": "execute_result"
    }
   ],
   "source": [
    "tt = TrajectoryOptimization.total_time(prob)\n",
    "tt_min_time = TrajectoryOptimization.total_time(prob_mt)"
   ]
  },
  {
   "cell_type": "code",
   "execution_count": 86,
   "metadata": {},
   "outputs": [
    {
     "data": {
      "image/svg+xml": [
       "<?xml version=\"1.0\" encoding=\"utf-8\"?>\n",
       "<svg xmlns=\"http://www.w3.org/2000/svg\" xmlns:xlink=\"http://www.w3.org/1999/xlink\" width=\"600\" height=\"400\" viewBox=\"0 0 2400 1600\">\n",
       "<defs>\n",
       "  <clipPath id=\"clip3500\">\n",
       "    <rect x=\"0\" y=\"0\" width=\"2400\" height=\"1600\"/>\n",
       "  </clipPath>\n",
       "</defs>\n",
       "<polygon clip-path=\"url(#clip3500)\" points=\"\n",
       "0,1600 2400,1600 2400,0 0,0 \n",
       "  \" fill=\"#ffffff\" fill-rule=\"evenodd\" fill-opacity=\"1\"/>\n",
       "<defs>\n",
       "  <clipPath id=\"clip3501\">\n",
       "    <rect x=\"480\" y=\"0\" width=\"1681\" height=\"1600\"/>\n",
       "  </clipPath>\n",
       "</defs>\n",
       "<polygon clip-path=\"url(#clip3500)\" points=\"\n",
       "149.361,1503.47 2321.26,1503.47 2321.26,47.2441 149.361,47.2441 \n",
       "  \" fill=\"#ffffff\" fill-rule=\"evenodd\" fill-opacity=\"1\"/>\n",
       "<defs>\n",
       "  <clipPath id=\"clip3502\">\n",
       "    <rect x=\"149\" y=\"47\" width=\"2173\" height=\"1457\"/>\n",
       "  </clipPath>\n",
       "</defs>\n",
       "<polyline clip-path=\"url(#clip3502)\" style=\"stroke:#000000; stroke-width:2; stroke-opacity:0.1; fill:none\" points=\"\n",
       "  169.014,1503.47 169.014,47.2441 \n",
       "  \"/>\n",
       "<polyline clip-path=\"url(#clip3502)\" style=\"stroke:#000000; stroke-width:2; stroke-opacity:0.1; fill:none\" points=\"\n",
       "  587.169,1503.47 587.169,47.2441 \n",
       "  \"/>\n",
       "<polyline clip-path=\"url(#clip3502)\" style=\"stroke:#000000; stroke-width:2; stroke-opacity:0.1; fill:none\" points=\"\n",
       "  1005.32,1503.47 1005.32,47.2441 \n",
       "  \"/>\n",
       "<polyline clip-path=\"url(#clip3502)\" style=\"stroke:#000000; stroke-width:2; stroke-opacity:0.1; fill:none\" points=\"\n",
       "  1423.48,1503.47 1423.48,47.2441 \n",
       "  \"/>\n",
       "<polyline clip-path=\"url(#clip3502)\" style=\"stroke:#000000; stroke-width:2; stroke-opacity:0.1; fill:none\" points=\"\n",
       "  1841.64,1503.47 1841.64,47.2441 \n",
       "  \"/>\n",
       "<polyline clip-path=\"url(#clip3502)\" style=\"stroke:#000000; stroke-width:2; stroke-opacity:0.1; fill:none\" points=\"\n",
       "  2259.79,1503.47 2259.79,47.2441 \n",
       "  \"/>\n",
       "<polyline clip-path=\"url(#clip3502)\" style=\"stroke:#000000; stroke-width:2; stroke-opacity:0.1; fill:none\" points=\"\n",
       "  149.361,1462.24 2321.26,1462.24 \n",
       "  \"/>\n",
       "<polyline clip-path=\"url(#clip3502)\" style=\"stroke:#000000; stroke-width:2; stroke-opacity:0.1; fill:none\" points=\"\n",
       "  149.361,1118.79 2321.26,1118.79 \n",
       "  \"/>\n",
       "<polyline clip-path=\"url(#clip3502)\" style=\"stroke:#000000; stroke-width:2; stroke-opacity:0.1; fill:none\" points=\"\n",
       "  149.361,775.348 2321.26,775.348 \n",
       "  \"/>\n",
       "<polyline clip-path=\"url(#clip3502)\" style=\"stroke:#000000; stroke-width:2; stroke-opacity:0.1; fill:none\" points=\"\n",
       "  149.361,431.904 2321.26,431.904 \n",
       "  \"/>\n",
       "<polyline clip-path=\"url(#clip3502)\" style=\"stroke:#000000; stroke-width:2; stroke-opacity:0.1; fill:none\" points=\"\n",
       "  149.361,88.4592 2321.26,88.4592 \n",
       "  \"/>\n",
       "<polyline clip-path=\"url(#clip3500)\" style=\"stroke:#000000; stroke-width:4; stroke-opacity:1; fill:none\" points=\"\n",
       "  149.361,1503.47 2321.26,1503.47 \n",
       "  \"/>\n",
       "<polyline clip-path=\"url(#clip3500)\" style=\"stroke:#000000; stroke-width:4; stroke-opacity:1; fill:none\" points=\"\n",
       "  149.361,1503.47 149.361,47.2441 \n",
       "  \"/>\n",
       "<polyline clip-path=\"url(#clip3500)\" style=\"stroke:#000000; stroke-width:4; stroke-opacity:1; fill:none\" points=\"\n",
       "  169.014,1503.47 169.014,1481.63 \n",
       "  \"/>\n",
       "<polyline clip-path=\"url(#clip3500)\" style=\"stroke:#000000; stroke-width:4; stroke-opacity:1; fill:none\" points=\"\n",
       "  587.169,1503.47 587.169,1481.63 \n",
       "  \"/>\n",
       "<polyline clip-path=\"url(#clip3500)\" style=\"stroke:#000000; stroke-width:4; stroke-opacity:1; fill:none\" points=\"\n",
       "  1005.32,1503.47 1005.32,1481.63 \n",
       "  \"/>\n",
       "<polyline clip-path=\"url(#clip3500)\" style=\"stroke:#000000; stroke-width:4; stroke-opacity:1; fill:none\" points=\"\n",
       "  1423.48,1503.47 1423.48,1481.63 \n",
       "  \"/>\n",
       "<polyline clip-path=\"url(#clip3500)\" style=\"stroke:#000000; stroke-width:4; stroke-opacity:1; fill:none\" points=\"\n",
       "  1841.64,1503.47 1841.64,1481.63 \n",
       "  \"/>\n",
       "<polyline clip-path=\"url(#clip3500)\" style=\"stroke:#000000; stroke-width:4; stroke-opacity:1; fill:none\" points=\"\n",
       "  2259.79,1503.47 2259.79,1481.63 \n",
       "  \"/>\n",
       "<polyline clip-path=\"url(#clip3500)\" style=\"stroke:#000000; stroke-width:4; stroke-opacity:1; fill:none\" points=\"\n",
       "  149.361,1462.24 181.939,1462.24 \n",
       "  \"/>\n",
       "<polyline clip-path=\"url(#clip3500)\" style=\"stroke:#000000; stroke-width:4; stroke-opacity:1; fill:none\" points=\"\n",
       "  149.361,1118.79 181.939,1118.79 \n",
       "  \"/>\n",
       "<polyline clip-path=\"url(#clip3500)\" style=\"stroke:#000000; stroke-width:4; stroke-opacity:1; fill:none\" points=\"\n",
       "  149.361,775.348 181.939,775.348 \n",
       "  \"/>\n",
       "<polyline clip-path=\"url(#clip3500)\" style=\"stroke:#000000; stroke-width:4; stroke-opacity:1; fill:none\" points=\"\n",
       "  149.361,431.904 181.939,431.904 \n",
       "  \"/>\n",
       "<polyline clip-path=\"url(#clip3500)\" style=\"stroke:#000000; stroke-width:4; stroke-opacity:1; fill:none\" points=\"\n",
       "  149.361,88.4592 181.939,88.4592 \n",
       "  \"/>\n",
       "<g clip-path=\"url(#clip3500)\">\n",
       "<text style=\"fill:#000000; fill-opacity:1; font-family:Arial,Helvetica Neue,Helvetica,sans-serif; font-size:48px; text-anchor:middle;\" transform=\"rotate(0, 169.014, 1557.47)\" x=\"169.014\" y=\"1557.47\">0</text>\n",
       "</g>\n",
       "<g clip-path=\"url(#clip3500)\">\n",
       "<text style=\"fill:#000000; fill-opacity:1; font-family:Arial,Helvetica Neue,Helvetica,sans-serif; font-size:48px; text-anchor:middle;\" transform=\"rotate(0, 587.169, 1557.47)\" x=\"587.169\" y=\"1557.47\">10</text>\n",
       "</g>\n",
       "<g clip-path=\"url(#clip3500)\">\n",
       "<text style=\"fill:#000000; fill-opacity:1; font-family:Arial,Helvetica Neue,Helvetica,sans-serif; font-size:48px; text-anchor:middle;\" transform=\"rotate(0, 1005.32, 1557.47)\" x=\"1005.32\" y=\"1557.47\">20</text>\n",
       "</g>\n",
       "<g clip-path=\"url(#clip3500)\">\n",
       "<text style=\"fill:#000000; fill-opacity:1; font-family:Arial,Helvetica Neue,Helvetica,sans-serif; font-size:48px; text-anchor:middle;\" transform=\"rotate(0, 1423.48, 1557.47)\" x=\"1423.48\" y=\"1557.47\">30</text>\n",
       "</g>\n",
       "<g clip-path=\"url(#clip3500)\">\n",
       "<text style=\"fill:#000000; fill-opacity:1; font-family:Arial,Helvetica Neue,Helvetica,sans-serif; font-size:48px; text-anchor:middle;\" transform=\"rotate(0, 1841.64, 1557.47)\" x=\"1841.64\" y=\"1557.47\">40</text>\n",
       "</g>\n",
       "<g clip-path=\"url(#clip3500)\">\n",
       "<text style=\"fill:#000000; fill-opacity:1; font-family:Arial,Helvetica Neue,Helvetica,sans-serif; font-size:48px; text-anchor:middle;\" transform=\"rotate(0, 2259.79, 1557.47)\" x=\"2259.79\" y=\"1557.47\">50</text>\n",
       "</g>\n",
       "<g clip-path=\"url(#clip3500)\">\n",
       "<text style=\"fill:#000000; fill-opacity:1; font-family:Arial,Helvetica Neue,Helvetica,sans-serif; font-size:48px; text-anchor:end;\" transform=\"rotate(0, 125.361, 1479.74)\" x=\"125.361\" y=\"1479.74\">-2</text>\n",
       "</g>\n",
       "<g clip-path=\"url(#clip3500)\">\n",
       "<text style=\"fill:#000000; fill-opacity:1; font-family:Arial,Helvetica Neue,Helvetica,sans-serif; font-size:48px; text-anchor:end;\" transform=\"rotate(0, 125.361, 1136.29)\" x=\"125.361\" y=\"1136.29\">-1</text>\n",
       "</g>\n",
       "<g clip-path=\"url(#clip3500)\">\n",
       "<text style=\"fill:#000000; fill-opacity:1; font-family:Arial,Helvetica Neue,Helvetica,sans-serif; font-size:48px; text-anchor:end;\" transform=\"rotate(0, 125.361, 792.848)\" x=\"125.361\" y=\"792.848\">0</text>\n",
       "</g>\n",
       "<g clip-path=\"url(#clip3500)\">\n",
       "<text style=\"fill:#000000; fill-opacity:1; font-family:Arial,Helvetica Neue,Helvetica,sans-serif; font-size:48px; text-anchor:end;\" transform=\"rotate(0, 125.361, 449.404)\" x=\"125.361\" y=\"449.404\">1</text>\n",
       "</g>\n",
       "<g clip-path=\"url(#clip3500)\">\n",
       "<text style=\"fill:#000000; fill-opacity:1; font-family:Arial,Helvetica Neue,Helvetica,sans-serif; font-size:48px; text-anchor:end;\" transform=\"rotate(0, 125.361, 105.959)\" x=\"125.361\" y=\"105.959\">2</text>\n",
       "</g>\n",
       "<polyline clip-path=\"url(#clip3502)\" style=\"stroke:#009af9; stroke-width:4; stroke-opacity:1; fill:none\" points=\"\n",
       "  210.829,583.527 252.645,1462.23 294.461,1462.24 336.276,88.4917 378.092,1462.24 419.907,1462.24 461.723,779.793 503.538,775.471 545.354,775.545 587.169,775.497 \n",
       "  628.985,775.435 670.8,774.73 712.616,774.979 754.431,775.848 796.247,775.977 838.063,775.651 879.878,775.247 921.694,775.09 963.509,773.716 1005.32,88.4592 \n",
       "  1047.14,88.462 1088.96,88.4608 1130.77,88.462 1172.59,88.4591 1214.4,88.4617 1256.22,88.4617 1298.03,88.4611 1339.85,88.4611 1381.66,88.4589 1423.48,88.4593 \n",
       "  1465.3,88.4622 1507.11,88.459 1548.93,88.4591 1590.74,686.704 1632.56,88.4605 1674.37,1462.24 1716.19,88.4598 1758,88.4619 1799.82,775.965 1841.64,775.037 \n",
       "  1883.45,775.217 1925.27,782.71 1967.08,774.874 2008.9,772.854 2050.71,776.235 2092.53,770.97 2134.34,1044.09 2176.16,1462.24 2217.98,1198.67 2259.79,1462.26 \n",
       "  \n",
       "  \"/>\n",
       "<polyline clip-path=\"url(#clip3502)\" style=\"stroke:#e26f46; stroke-width:4; stroke-opacity:1; fill:none\" points=\"\n",
       "  210.829,1462.23 252.645,1163.92 294.461,88.4653 336.276,88.4654 378.092,88.5888 419.907,88.4592 461.723,88.4647 503.538,88.4699 545.354,88.4606 587.169,88.4615 \n",
       "  628.985,88.4621 670.8,88.4624 712.616,88.4626 754.431,88.4621 796.247,88.4597 838.063,88.4661 879.878,89.577 921.694,89.1895 963.509,89.2045 1005.32,88.4593 \n",
       "  1047.14,1172.37 1088.96,88.4582 1130.77,88.4583 1172.59,1462.23 1214.4,88.4629 1256.22,1462.23 1298.03,1462.24 1339.85,88.4711 1381.66,1462.24 1423.48,1462.21 \n",
       "  1465.3,88.4624 1507.11,1462.24 1548.93,1462.24 1590.74,1462.24 1632.56,1462.24 1674.37,1462.24 1716.19,1462.24 1758,1462.06 1799.82,1462.23 1841.64,1462.24 \n",
       "  1883.45,1462.24 1925.27,1462.24 1967.08,1462.24 2008.9,1462.24 2050.71,1462.23 2092.53,1462.24 2134.34,1462.24 2176.16,1462.24 2217.98,1462.24 2259.79,88.5657 \n",
       "  \n",
       "  \"/>\n",
       "<polyline clip-path=\"url(#clip3502)\" style=\"stroke:#3da44d; stroke-width:4; stroke-opacity:1; fill:none\" points=\"\n",
       "  210.829,757.987 252.645,758.228 294.461,758.714 336.276,759.393 378.092,759.836 419.907,760.49 461.723,761.338 503.538,762.066 545.354,762.682 587.169,763.195 \n",
       "  628.985,763.613 670.8,763.941 712.616,764.184 754.431,764.346 796.247,764.43 838.063,764.437 879.878,764.368 921.694,764.224 963.509,764.002 1005.32,763.702 \n",
       "  1047.14,763.462 1088.96,763.224 1130.77,763.04 1172.59,762.912 1214.4,762.825 1256.22,762.791 1298.03,762.794 1339.85,762.872 1381.66,762.969 1423.48,763.083 \n",
       "  1465.3,763.214 1507.11,763.349 1548.93,763.504 1590.74,763.684 1632.56,763.883 1674.37,764.094 1716.19,764.434 1758,764.882 1799.82,765.17 1841.64,765.308 \n",
       "  1883.45,765.301 1925.27,765.15 1967.08,764.853 2008.9,764.398 2050.71,763.777 2092.53,762.978 2134.34,761.988 2176.16,761.262 2217.98,760.761 2259.79,760.555 \n",
       "  \n",
       "  \"/>\n",
       "<polygon clip-path=\"url(#clip3500)\" points=\"\n",
       "1958.43,372.684 2249.26,372.684 2249.26,130.764 1958.43,130.764 \n",
       "  \" fill=\"#ffffff\" fill-rule=\"evenodd\" fill-opacity=\"1\"/>\n",
       "<polyline clip-path=\"url(#clip3500)\" style=\"stroke:#000000; stroke-width:4; stroke-opacity:1; fill:none\" points=\"\n",
       "  1958.43,372.684 2249.26,372.684 2249.26,130.764 1958.43,130.764 1958.43,372.684 \n",
       "  \"/>\n",
       "<polyline clip-path=\"url(#clip3500)\" style=\"stroke:#009af9; stroke-width:4; stroke-opacity:1; fill:none\" points=\"\n",
       "  1982.43,191.244 2126.43,191.244 \n",
       "  \"/>\n",
       "<g clip-path=\"url(#clip3500)\">\n",
       "<text style=\"fill:#000000; fill-opacity:1; font-family:Arial,Helvetica Neue,Helvetica,sans-serif; font-size:48px; text-anchor:start;\" transform=\"rotate(0, 2150.43, 208.744)\" x=\"2150.43\" y=\"208.744\">y1</text>\n",
       "</g>\n",
       "<polyline clip-path=\"url(#clip3500)\" style=\"stroke:#e26f46; stroke-width:4; stroke-opacity:1; fill:none\" points=\"\n",
       "  1982.43,251.724 2126.43,251.724 \n",
       "  \"/>\n",
       "<g clip-path=\"url(#clip3500)\">\n",
       "<text style=\"fill:#000000; fill-opacity:1; font-family:Arial,Helvetica Neue,Helvetica,sans-serif; font-size:48px; text-anchor:start;\" transform=\"rotate(0, 2150.43, 269.224)\" x=\"2150.43\" y=\"269.224\">y2</text>\n",
       "</g>\n",
       "<polyline clip-path=\"url(#clip3500)\" style=\"stroke:#3da44d; stroke-width:4; stroke-opacity:1; fill:none\" points=\"\n",
       "  1982.43,312.204 2126.43,312.204 \n",
       "  \"/>\n",
       "<g clip-path=\"url(#clip3500)\">\n",
       "<text style=\"fill:#000000; fill-opacity:1; font-family:Arial,Helvetica Neue,Helvetica,sans-serif; font-size:48px; text-anchor:start;\" transform=\"rotate(0, 2150.43, 329.704)\" x=\"2150.43\" y=\"329.704\">y3</text>\n",
       "</g>\n",
       "</svg>\n"
      ]
     },
     "execution_count": 86,
     "metadata": {},
     "output_type": "execute_result"
    }
   ],
   "source": [
    "plot(prob_mt.U)"
   ]
  },
  {
   "cell_type": "code",
   "execution_count": null,
   "metadata": {},
   "outputs": [],
   "source": []
  },
  {
   "cell_type": "code",
   "execution_count": null,
   "metadata": {},
   "outputs": [],
   "source": []
  },
  {
   "cell_type": "code",
   "execution_count": null,
   "metadata": {},
   "outputs": [],
   "source": []
  }
 ],
 "metadata": {
  "@webio": {
   "lastCommId": null,
   "lastKernelId": null
  },
  "kernelspec": {
   "display_name": "Julia 1.1.0",
   "language": "julia",
   "name": "julia-1.1"
  },
  "language_info": {
   "file_extension": ".jl",
   "mimetype": "application/julia",
   "name": "julia",
   "version": "1.1.0"
  }
 },
 "nbformat": 4,
 "nbformat_minor": 2
}
