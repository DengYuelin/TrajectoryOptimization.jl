{
 "cells": [
  {
   "cell_type": "code",
   "execution_count": 2,
   "metadata": {},
   "outputs": [
    {
     "name": "stderr",
     "output_type": "stream",
     "text": [
      "WARNING: could not import TrajectoryOptimization.hold_trajectory into Main\n"
     ]
    },
    {
     "ename": "ErrorException",
     "evalue": "could not open file /home/taylor/.julia/dev/TrajectoryOptimization/examples/kuka_visualizer.jl",
     "output_type": "error",
     "traceback": [
      "could not open file /home/taylor/.julia/dev/TrajectoryOptimization/examples/kuka_visualizer.jl",
      "",
      "Stacktrace:",
      " [1] include at ./boot.jl:326 [inlined]",
      " [2] include_relative(::Module, ::String) at ./loading.jl:1038",
      " [3] include(::Module, ::String) at ./sysimg.jl:29",
      " [4] include(::String) at ./client.jl:403",
      " [5] top-level scope at In[2]:10"
     ]
    }
   ],
   "source": [
    "using MeshCatMechanisms\n",
    "using LinearAlgebra\n",
    "using RigidBodyDynamics\n",
    "using Plots\n",
    "using GeometryTypes\n",
    "using CoordinateTransformations\n",
    "using TrajectoryOptimization\n",
    "import TrajectoryOptimization: hold_trajectory, Trajectory, total_time\n",
    "import RigidBodyDynamics: transform\n",
    "include(\"../kuka_visualizer.jl\")"
   ]
  },
  {
   "cell_type": "code",
   "execution_count": null,
   "metadata": {},
   "outputs": [],
   "source": [
    "model, obj = Dynamics.kuka\n",
    "n,m = model.n, model.m\n",
    "nn = m # Number of positions"
   ]
  },
  {
   "cell_type": "code",
   "execution_count": null,
   "metadata": {},
   "outputs": [],
   "source": []
  },
  {
   "cell_type": "code",
   "execution_count": null,
   "metadata": {},
   "outputs": [],
   "source": [
    "kuka = parse_urdf(Dynamics.urdf_kuka,remove_fixed_tree_joints=false)\n",
    "kuka_visuals = URDFVisuals(Dynamics.urdf_kuka)\n",
    "state = MechanismState(kuka)\n",
    "world = root_frame(kuka)\n",
    "\n",
    "# Create Visualizer\n",
    "vis = Visualizer()\n",
    "mvis = MechanismVisualizer(kuka, kuka_visuals, vis[:base])\n",
    "open(vis)"
   ]
  }
 ],
 "metadata": {
  "kernelspec": {
   "display_name": "Julia 1.1.0",
   "language": "julia",
   "name": "julia-1.1"
  },
  "language_info": {
   "file_extension": ".jl",
   "mimetype": "application/julia",
   "name": "julia",
   "version": "1.1.0"
  }
 },
 "nbformat": 4,
 "nbformat_minor": 2
}
