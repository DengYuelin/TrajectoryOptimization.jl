{
 "cells": [
  {
   "cell_type": "code",
   "execution_count": 2,
   "metadata": {},
   "outputs": [],
   "source": [
    "using MeshCatMechanisms\n",
    "using MeshCat\n",
    "using LinearAlgebra\n",
    "using RigidBodyDynamics\n",
    "using Plots\n",
    "using GeometryTypes\n",
    "using CoordinateTransformations\n",
    "using TrajectoryOptimization"
   ]
  },
  {
   "cell_type": "code",
   "execution_count": 3,
   "metadata": {},
   "outputs": [
    {
     "data": {
      "text/plain": [
       "DIRCOLSolverOptions{Float64}\n",
       "  nlp: Symbol SNOPT7\n",
       "  opts: Dict{Symbol,Any}\n",
       "  verbose: Bool false\n",
       "  feasibility_tolerance: Float64 -1.0\n"
      ]
     },
     "execution_count": 3,
     "metadata": {},
     "output_type": "execute_result"
    }
   ],
   "source": [
    "T = Float64\n",
    "\n",
    "# options\n",
    "max_con_viol = 1.0e-8\n",
    "verbose=false\n",
    "opts_ilqr = iLQRSolverOptions{T}(verbose=verbose,iterations=300,live_plotting=:off)\n",
    "\n",
    "opts_al = AugmentedLagrangianSolverOptions{T}(verbose=verbose,opts_uncon=opts_ilqr,\n",
    "    iterations=20,cost_tolerance=1.0e-6,cost_tolerance_intermediate=1.0e-5,\n",
    "    constraint_tolerance=max_con_viol,penalty_scaling=50.,penalty_initial=0.01)\n",
    "\n",
    "opts_pn = ProjectedNewtonSolverOptions{T}(verbose=verbose,feasibility_tolerance=max_con_viol,\n",
    "    solve_type=:feasible)\n",
    "\n",
    "opts_altro = ALTROSolverOptions{T}(verbose=verbose,opts_al=opts_al,opts_pn=opts_pn,\n",
    "    projected_newton=false,projected_newton_tolerance=1.0e-5);\n",
    "\n",
    "opts_ipopt = DIRCOLSolverOptions{T}(verbose=verbose,nlp=:Ipopt,\n",
    "    opts=Dict(:print_level=>3,:tol=>max_con_viol,:constr_viol_tol=>max_con_viol))\n",
    "\n",
    "opts_snopt = DIRCOLSolverOptions{T}(verbose=verbose,nlp=:SNOPT7,\n",
    "    opts=Dict(:Major_print_level=>0,:Minor_print_level=>0,:Major_optimality_tolerance=>max_con_viol,\n",
    "    :Major_feasibility_tolerance=>max_con_viol, :Minor_feasibility_tolerance=>max_con_viol))"
   ]
  },
  {
   "cell_type": "code",
   "execution_count": 5,
   "metadata": {},
   "outputs": [],
   "source": [
    "prob_altro = copy(Problems.kuka_obstacles);"
   ]
  },
  {
   "cell_type": "code",
   "execution_count": null,
   "metadata": {},
   "outputs": [],
   "source": [
    "# ALTRO w/o Newton\n",
    "p1, s1 = solve(prob_altro, opts_altro)\n",
    "max_violation_direct(p1)"
   ]
  },
  {
   "cell_type": "code",
   "execution_count": null,
   "metadata": {},
   "outputs": [],
   "source": [
    "plot(p1.X,title=\"Kuka state (ALTRO)\")"
   ]
  },
  {
   "cell_type": "code",
   "execution_count": null,
   "metadata": {},
   "outputs": [],
   "source": [
    "plot(p1.U,title=\"Kuka control (ALTRO)\")"
   ]
  },
  {
   "cell_type": "code",
   "execution_count": null,
   "metadata": {},
   "outputs": [],
   "source": [
    "# Visualization\n",
    "kuka = parse_urdf(Dynamics.urdf_kuka,remove_fixed_tree_joints=false)\n",
    "kuka_visuals = URDFVisuals(Dynamics.urdf_kuka)\n",
    "\n",
    "function plot_sphere(vis::MechanismVisualizer,frame::CartesianFrame3D,center,radius,mat,name=\"\")\n",
    "    geom = HyperSphere(Point3f0(center), convert(Float32,radius))\n",
    "    setelement!(vis,frame,geom,mat,name)\n",
    "end\n",
    "\n",
    "function plot_cylinder(vis::MechanismVisualizer,frame::CartesianFrame3D,c1,c2,radius,mat,name=\"\")\n",
    "    geom = Cylinder(Point3f0(c1),Point3f0(c2),convert(Float32,radius))\n",
    "    setelement!(vis,frame,geom,mat,name)\n",
    "end\n",
    "\n",
    "function addcircles!(vis,circles,robot)\n",
    "    world = root_frame(robot)\n",
    "    for (i,circle) in enumerate(circles)\n",
    "        p = Point3D(world,collect(circle[1:3]))\n",
    "        setelement!(vis,p,circle[4],\"obs$i\")\n",
    "    end\n",
    "end\n",
    "\n",
    "function addcylinders!(vis,cylinders,robot,height=1.5,clr=MeshPhongMaterial(color=RGBA(0, 0, 1, 0.5)))\n",
    "    world = root_frame(robot)\n",
    "    for (i,cyl) in enumerate(cylinders)\n",
    "        plot_cylinder(vis,world,[cyl[1],cyl[2],0],[cyl[1],cyl[2],height],cyl[3],clr,\"cyl_$i\")\n",
    "    end\n",
    "end\n",
    "\n",
    "function visualize_kuka_obstacles(prob,circles_kuka,cylinders_kuka)\n",
    "    N = length(prob.X)\n",
    "    vis = Visualizer()\n",
    "    open(vis)\n",
    "    mvis = MechanismVisualizer(kuka, kuka_visuals, vis[:base])\n",
    "    addcircles!(mvis,circles_kuka,kuka)\n",
    "    addcylinders!(mvis,cylinders_kuka,kuka)\n",
    "    q = [prob.X[k][1:convert(Int,prob.model.n/2)] for k = 1:N]\n",
    "    t = range(0,stop=prob.tf,length=N)\n",
    "    setanimation!(mvis,t,q)\n",
    "end\n",
    "\n",
    "visualize_kuka_obstacles(p1,Problems.kuka_obstacles_objects[1],Problems.kuka_obstacles_objects[2])\n"
   ]
  }
 ],
 "metadata": {
  "kernelspec": {
   "display_name": "Julia 1.1.0",
   "language": "julia",
   "name": "julia-1.1"
  },
  "language_info": {
   "file_extension": ".jl",
   "mimetype": "application/julia",
   "name": "julia",
   "version": "1.1.0"
  }
 },
 "nbformat": 4,
 "nbformat_minor": 2
}
