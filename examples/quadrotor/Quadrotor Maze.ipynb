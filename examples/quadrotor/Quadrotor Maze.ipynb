{
 "cells": [
  {
   "cell_type": "markdown",
   "metadata": {},
   "source": [
    "## Quadrotor Maze with Visualization"
   ]
  },
  {
   "cell_type": "code",
   "execution_count": 1,
   "metadata": {},
   "outputs": [
    {
     "data": {
      "text/html": [
       "    <script class='js-collapse-script'>\n",
       "        var curMatch =\n",
       "            window.location.href\n",
       "            .match(/(.*?)\\/notebooks\\/.*\\.ipynb/);\n",
       "\n",
       "        curMatch = curMatch ||\n",
       "            window.location.href\n",
       "            .match(/(.*?)\\/apps\\/.*\\.ipynb/);\n",
       "\n",
       "        if ( curMatch ) {\n",
       "            $('head').append('<base href=\"' + curMatch[1] + '/\">');\n",
       "        }\n",
       "    </script>\n"
      ],
      "text/plain": [
       "HTML{String}(\"    <script class='js-collapse-script'>\\n        var curMatch =\\n            window.location.href\\n            .match(/(.*?)\\\\/notebooks\\\\/.*\\\\.ipynb/);\\n\\n        curMatch = curMatch ||\\n            window.location.href\\n            .match(/(.*?)\\\\/apps\\\\/.*\\\\.ipynb/);\\n\\n        if ( curMatch ) {\\n            \\$('head').append('<base href=\\\"' + curMatch[1] + '/\\\">');\\n        }\\n    </script>\\n\")"
      ]
     },
     "metadata": {},
     "output_type": "display_data"
    },
    {
     "data": {
      "text/html": [
       "<script class='js-collapse-script' src='/assetserver/c443b012d0ad3ce8e6cc9de306cd3766b1d18a79-assets/webio/dist/bundle.js'></script>"
      ],
      "text/plain": [
       "HTML{String}(\"<script class='js-collapse-script' src='/assetserver/c443b012d0ad3ce8e6cc9de306cd3766b1d18a79-assets/webio/dist/bundle.js'></script>\")"
      ]
     },
     "metadata": {},
     "output_type": "display_data"
    },
    {
     "data": {
      "text/html": [
       "<script class='js-collapse-script' src='/assetserver/c443b012d0ad3ce8e6cc9de306cd3766b1d18a79-assets/providers/ijulia_setup.js'></script>"
      ],
      "text/plain": [
       "HTML{String}(\"<script class='js-collapse-script' src='/assetserver/c443b012d0ad3ce8e6cc9de306cd3766b1d18a79-assets/providers/ijulia_setup.js'></script>\")"
      ]
     },
     "metadata": {},
     "output_type": "display_data"
    },
    {
     "data": {
      "text/html": [
       "  <script class='js-collapse-script'>\n",
       "    $('.js-collapse-script').parent('.output_subarea').css('padding', '0');\n",
       "  </script>\n"
      ],
      "text/plain": [
       "HTML{String}(\"  <script class='js-collapse-script'>\\n    \\$('.js-collapse-script').parent('.output_subarea').css('padding', '0');\\n  </script>\\n\")"
      ]
     },
     "metadata": {},
     "output_type": "display_data"
    }
   ],
   "source": [
    "using TrajectoryOptimization\n",
    "using Plots, LinearAlgebra, MeshCat, GeometryTypes, CoordinateTransformations, FileIO, MeshIO"
   ]
  },
  {
   "cell_type": "markdown",
   "metadata": {},
   "source": [
    "Import the quadrotor model"
   ]
  },
  {
   "cell_type": "code",
   "execution_count": 46,
   "metadata": {},
   "outputs": [],
   "source": [
    "model = Dynamics.quadrotor_model\n",
    "n = model.n # number of states\n",
    "m = model.m; # number of controls"
   ]
  },
  {
   "cell_type": "markdown",
   "metadata": {},
   "source": [
    "Define numerical type"
   ]
  },
  {
   "cell_type": "code",
   "execution_count": 47,
   "metadata": {},
   "outputs": [],
   "source": [
    "T = Float64;"
   ]
  },
  {
   "cell_type": "markdown",
   "metadata": {},
   "source": [
    "Define initial and goals states"
   ]
  },
  {
   "cell_type": "code",
   "execution_count": 48,
   "metadata": {},
   "outputs": [],
   "source": [
    "q0 = [1.;0.;0.;0.] # unit quaternion\n",
    "\n",
    "x0 = zeros(T,n)\n",
    "x0[1:3] = [0.; 0.; 10.]\n",
    "x0[4:7] = q0\n",
    "\n",
    "xf = zero(x0)\n",
    "xf[1:3] = [0.;60.; 10.]\n",
    "xf[4:7] = q0;"
   ]
  },
  {
   "cell_type": "markdown",
   "metadata": {},
   "source": [
    "Define a cost function, e.g., quadratic"
   ]
  },
  {
   "cell_type": "code",
   "execution_count": 49,
   "metadata": {},
   "outputs": [],
   "source": [
    "Q = (5.0)*Diagonal(I,n)\n",
    "R = (5.0)*Diagonal(I,m)\n",
    "Qf = 1000.0*Diagonal(I,n)\n",
    "cost = LQRCost(Q, R, Qf, xf);"
   ]
  },
  {
   "cell_type": "markdown",
   "metadata": {},
   "source": [
    "Define constraints"
   ]
  },
  {
   "cell_type": "code",
   "execution_count": 50,
   "metadata": {},
   "outputs": [],
   "source": [
    "r_quad = 3.0\n",
    "r_cylinder = 2.\n",
    "cylinders = []\n",
    "zh = 3\n",
    "l1 = 5\n",
    "l2 = 4\n",
    "l3 = 10\n",
    "l4 = 10\n",
    "\n",
    "push!(cylinders,(0,30,r_cylinder))\n",
    "push!(cylinders,(-2,30,r_cylinder))\n",
    "push!(cylinders,(2,30,r_cylinder))\n",
    "# push!(cylinders,(-3,30,r_cylinder))\n",
    "\n",
    "# push!(cylinders,(3,30,r_cylinder))\n",
    "# push!(cylinders,(6,30,r_cylinder))\n",
    "\n",
    "\n",
    "for i = range(-25,stop=-10,length=l1)\n",
    "    push!(cylinders,(i, 10,r_cylinder))\n",
    "end\n",
    "\n",
    "for i = range(10,stop=25,length=l1)\n",
    "    push!(cylinders,(i, 10, r_cylinder))\n",
    "end\n",
    "\n",
    "# for i = range(-7.5,stop=7.5,length=l3)\n",
    "#     push!(cylinders,(i, 30, r_cylinder))\n",
    "# end\n",
    "\n",
    "for i = range(-25,stop=-10,length=l1)\n",
    "    push!(cylinders,(i, 50, r_cylinder))\n",
    "end\n",
    "\n",
    "for i = range(10,stop=25,length=l1)\n",
    "    push!(cylinders,(i, 50, r_cylinder))\n",
    "end\n",
    "\n",
    "for i = range(10+2*r_cylinder,stop=50-2*r_cylinder,length=l4)\n",
    "    push!(cylinders,(-25, i, r_cylinder))\n",
    "end\n",
    "\n",
    "for i = range(10+2*r_cylinder,stop=50-2*r_cylinder,length=l4)\n",
    "    push!(cylinders,(25, i, r_cylinder))\n",
    "end\n",
    "\n",
    "n_cylinders = length(cylinders)\n",
    "\n",
    "function cI_maze(c,x,u)\n",
    "    for i = 1:n_cylinders\n",
    "        c[i] = circle_constraint(x,cylinders[i][1],cylinders[i][2],cylinders[i][3]+r_quad)\n",
    "    end\n",
    "    c\n",
    "end\n",
    "\n",
    "maze = Constraint{Inequality}(cI_maze,n,m,n_cylinders,:maze)\n",
    "\n",
    "u_min = 0.\n",
    "u_max = 20.\n",
    "x_max = Inf*ones(model.n)\n",
    "x_min = -Inf*ones(model.n)\n",
    "\n",
    "x_max[1:3] = [25.0; Inf; 20]\n",
    "x_min[1:3] = [-25.0; -Inf; 0.]\n",
    "bnd = BoundConstraint(n,m,u_min=u_min,u_max=u_max,x_min=x_min,x_max=x_max,trim=true)\n",
    "\n",
    "goal = goal_constraint(xf)\n",
    "con = [bnd,maze,goal]; # constraint set"
   ]
  },
  {
   "cell_type": "markdown",
   "metadata": {},
   "source": [
    "Solver options"
   ]
  },
  {
   "cell_type": "code",
   "execution_count": 51,
   "metadata": {},
   "outputs": [],
   "source": [
    "verbose=false\n",
    "opts_ilqr = iLQRSolverOptions{T}(verbose=true,iterations=150,live_plotting=:off)\n",
    "\n",
    "opts_al = AugmentedLagrangianSolverOptions{T}(verbose=true,opts_uncon=opts_ilqr,\n",
    "    iterations=10,cost_tolerance=1.0e-4,cost_tolerance_intermediate=1.0e-4,constraint_tolerance=1.0e-3,penalty_scaling=10.,penalty_initial=100.)\n",
    "\n",
    "opts_altro = ALTROSolverOptions{T}(verbose=true,resolve_feasible_problem=false,opts_al=opts_al,R_inf=1.0);"
   ]
  },
  {
   "cell_type": "markdown",
   "metadata": {},
   "source": [
    "Define a problem"
   ]
  },
  {
   "cell_type": "code",
   "execution_count": 52,
   "metadata": {},
   "outputs": [],
   "source": [
    "N = 101 # number of knot points\n",
    "tf = 5.0\n",
    "dt = tf/(N-1) # total time\n",
    "\n",
    "U = [0.5*9.81/4.0*ones(m) for k = 1:N-1] # initial hovering control trajectory\n",
    "obj = Objective(cost,N) # objective with same stagewise costs\n",
    "\n",
    "con_set = ProblemConstraints(con,N) # constraint trajectory\n",
    "\n",
    "prob = Problem(model,obj, constraints=con_set, x0=x0, integration=:rk4, N=N, dt=dt)\n",
    "initial_controls!(prob,U); # initialize problem with controls"
   ]
  },
  {
   "cell_type": "markdown",
   "metadata": {},
   "source": [
    "State trajectory guess"
   ]
  },
  {
   "cell_type": "code",
   "execution_count": 53,
   "metadata": {
    "scrolled": false
   },
   "outputs": [],
   "source": [
    "X_guess = zeros(n,7)\n",
    "X_guess[:,1] = x0\n",
    "X_guess[:,7] = xf\n",
    "X_guess[1:3,2:6] .= [0 -12.5 -20 -12.5 0 ;15 20 30 40 45 ;10 10 10 10 10]\n",
    "\n",
    "X_guess[4:7,:] .= q0\n",
    "X0 = TrajectoryOptimization.interp_rows(N,tf,X_guess);"
   ]
  },
  {
   "cell_type": "markdown",
   "metadata": {},
   "source": [
    "Solve problem"
   ]
  },
  {
   "cell_type": "code",
   "execution_count": 45,
   "metadata": {},
   "outputs": [
    {
     "name": "stderr",
     "output_type": "stream",
     "text": [
      "┌ Info: Infeasible Solve\n",
      "└ @ TrajectoryOptimization /home/taylor/.julia/dev/TrajectoryOptimization/src/altro.jl:61\n"
     ]
    },
    {
     "ename": "DimensionMismatch",
     "evalue": "DimensionMismatch(\"tried to assign 17 elements to 4 destinations\")",
     "output_type": "error",
     "traceback": [
      "DimensionMismatch(\"tried to assign 17 elements to 4 destinations\")",
      "",
      "Stacktrace:",
      " [1] throw_setindex_mismatch(::Array{Float64,1}, ::Tuple{Int64}) at ./indices.jl:167",
      " [2] setindex_shape_check at ./indices.jl:218 [inlined]",
      " [3] setindex! at ./array.jl:792 [inlined]",
      " [4] (::getfield(TrajectoryOptimization, Symbol(\"#∇f!#69\")){NamedTuple{(:x, :u, :px, :pu),Tuple{UnitRange{Int64},UnitRange{Int64},Tuple{UnitRange{Int64},UnitRange{Int64}},Tuple{UnitRange{Int64},UnitRange{Int64}}}},PartedArrays.PartedArray{Float64,2,Array{Float64,2},NamedTuple{(:x, :u, :px, :pu),Tuple{UnitRange{Int64},UnitRange{Int64},Tuple{UnitRange{Int64},UnitRange{Int64}},Tuple{UnitRange{Int64},UnitRange{Int64}}}}},Array{Float64,1},getfield(TrajectoryOptimization, Symbol(\"#∇fz#68\")){getfield(TrajectoryOptimization, Symbol(\"#f_aug#67\")){typeof(cI_maze),NamedTuple{(:x, :u, :px, :pu),Tuple{UnitRange{Int64},UnitRange{Int64},Tuple{UnitRange{Int64},UnitRange{Int64}},Tuple{UnitRange{Int64},UnitRange{Int64}}}}}},typeof(cI_maze),Array{Float64,1}})(::SubArray{Float64,2,Array{Float64,2},Tuple{UnitRange{Int64},UnitRange{Int64}},false}, ::Array{Float64,1}, ::Array{Float64,1}) at /home/taylor/.julia/dev/TrajectoryOptimization/src/model.jl:356",
      " [5] jacobian!(::SubArray{Float64,2,Array{Float64,2},Tuple{UnitRange{Int64},UnitRange{Int64}},false}, ::Constraint{Inequality}, ::Array{Float64,1}, ::Array{Float64,1}) at /home/taylor/.julia/dev/TrajectoryOptimization/src/constraints.jl:93",
      " [6] jacobian!(::PartedArrays.PartedArray{Float64,2,Array{Float64,2},NamedTuple{(:bound, :maze, :goal, :infeasible, :x, :u),NTuple{6,Tuple{UnitRange{Int64},UnitRange{Int64}}}}}, ::Array{TrajectoryOptimization.AbstractConstraint,1}, ::Array{Float64,1}, ::Array{Float64,1}) at /home/taylor/.julia/dev/TrajectoryOptimization/src/constraints.jl:392",
      " [7] cost_expansion!(::Array{TrajectoryOptimization.Expansion{Float64},1}, ::TrajectoryOptimization.AugmentedLagrangianObjective{Float64}, ::Array{Array{Float64,1},1}, ::Array{Array{Float64,1},1}) at /home/taylor/.julia/dev/TrajectoryOptimization/src/augmented_lagrangian.jl:181",
      " [8] cost_expansion!(::Problem{Float64,Discrete}, ::iLQRSolver{Float64}) at /home/taylor/.julia/dev/TrajectoryOptimization/src/ilqr.jl:70",
      " [9] step! at /home/taylor/.julia/dev/TrajectoryOptimization/src/ilqr.jl:63 [inlined]",
      " [10] (::getfield(TrajectoryOptimization, Symbol(\"##156#157\")){Problem{Float64,Discrete},iLQRSolver{Float64},TrajectoryOptimization.SolverLogger})() at /home/taylor/.julia/dev/TrajectoryOptimization/src/ilqr.jl:39",
      " [11] with_logstate(::getfield(TrajectoryOptimization, Symbol(\"##156#157\")){Problem{Float64,Discrete},iLQRSolver{Float64},TrajectoryOptimization.SolverLogger}, ::Base.CoreLogging.LogState) at ./logging.jl:395",
      " [12] with_logger at ./logging.jl:491 [inlined]",
      " [13] solve!(::Problem{Float64,Discrete}, ::iLQRSolver{Float64}) at /home/taylor/.julia/dev/TrajectoryOptimization/src/ilqr.jl:37",
      " [14] step!(::Problem{Float64,Discrete}, ::AugmentedLagrangianSolver{Float64}, ::iLQRSolver{Float64}) at /home/taylor/.julia/dev/TrajectoryOptimization/src/augmented_lagrangian.jl:46",
      " [15] (::getfield(TrajectoryOptimization, Symbol(\"##162#163\")){Problem{Float64,Discrete},AugmentedLagrangianSolver{Float64},iLQRSolver{Float64},Problem{Float64,Discrete},TrajectoryOptimization.SolverLogger})() at /home/taylor/.julia/dev/TrajectoryOptimization/src/augmented_lagrangian.jl:13",
      " [16] with_logstate(::getfield(TrajectoryOptimization, Symbol(\"##162#163\")){Problem{Float64,Discrete},AugmentedLagrangianSolver{Float64},iLQRSolver{Float64},Problem{Float64,Discrete},TrajectoryOptimization.SolverLogger}, ::Base.CoreLogging.LogState) at ./logging.jl:395",
      " [17] with_logger(::Function, ::TrajectoryOptimization.SolverLogger) at ./logging.jl:491",
      " [18] solve!(::Problem{Float64,Discrete}, ::AugmentedLagrangianSolver{Float64}) at /home/taylor/.julia/dev/TrajectoryOptimization/src/augmented_lagrangian.jl:10",
      " [19] solve!(::Problem{Float64,Discrete}, ::AugmentedLagrangianSolverOptions{Float64}) at /home/taylor/.julia/dev/TrajectoryOptimization/src/augmented_lagrangian.jl:24",
      " [20] solve!(::Problem{Float64,Discrete}, ::ALTROSolverOptions{Float64}) at /home/taylor/.julia/dev/TrajectoryOptimization/src/altro.jl:8",
      " [21] top-level scope at In[45]:1"
     ]
    }
   ],
   "source": [
    "solve!(prob, ALTROSolverOptions{T}(verbose=true))"
   ]
  },
  {
   "cell_type": "code",
   "execution_count": 39,
   "metadata": {},
   "outputs": [
    {
     "data": {
      "image/svg+xml": [
       "<?xml version=\"1.0\" encoding=\"utf-8\"?>\n",
       "<svg xmlns=\"http://www.w3.org/2000/svg\" xmlns:xlink=\"http://www.w3.org/1999/xlink\" width=\"600\" height=\"400\" viewBox=\"0 0 2400 1600\">\n",
       "<defs>\n",
       "  <clipPath id=\"clip3800\">\n",
       "    <rect x=\"0\" y=\"0\" width=\"2400\" height=\"1600\"/>\n",
       "  </clipPath>\n",
       "</defs>\n",
       "<polygon clip-path=\"url(#clip3800)\" points=\"\n",
       "0,1600 2400,1600 2400,0 0,0 \n",
       "  \" fill=\"#ffffff\" fill-rule=\"evenodd\" fill-opacity=\"1\"/>\n",
       "<defs>\n",
       "  <clipPath id=\"clip3801\">\n",
       "    <rect x=\"480\" y=\"0\" width=\"1681\" height=\"1600\"/>\n",
       "  </clipPath>\n",
       "</defs>\n",
       "<polygon clip-path=\"url(#clip3800)\" points=\"\n",
       "168.627,1487.47 2352.76,1487.47 2352.76,47.2441 168.627,47.2441 \n",
       "  \" fill=\"#ffffff\" fill-rule=\"evenodd\" fill-opacity=\"1\"/>\n",
       "<defs>\n",
       "  <clipPath id=\"clip3802\">\n",
       "    <rect x=\"168\" y=\"47\" width=\"2185\" height=\"1441\"/>\n",
       "  </clipPath>\n",
       "</defs>\n",
       "<polyline clip-path=\"url(#clip3802)\" style=\"stroke:#000000; stroke-width:2; stroke-opacity:0.1; fill:none\" points=\"\n",
       "  209.837,1487.47 209.837,47.2441 \n",
       "  \"/>\n",
       "<polyline clip-path=\"url(#clip3802)\" style=\"stroke:#000000; stroke-width:2; stroke-opacity:0.1; fill:none\" points=\"\n",
       "  724.962,1487.47 724.962,47.2441 \n",
       "  \"/>\n",
       "<polyline clip-path=\"url(#clip3802)\" style=\"stroke:#000000; stroke-width:2; stroke-opacity:0.1; fill:none\" points=\"\n",
       "  1240.09,1487.47 1240.09,47.2441 \n",
       "  \"/>\n",
       "<polyline clip-path=\"url(#clip3802)\" style=\"stroke:#000000; stroke-width:2; stroke-opacity:0.1; fill:none\" points=\"\n",
       "  1755.21,1487.47 1755.21,47.2441 \n",
       "  \"/>\n",
       "<polyline clip-path=\"url(#clip3802)\" style=\"stroke:#000000; stroke-width:2; stroke-opacity:0.1; fill:none\" points=\"\n",
       "  2270.34,1487.47 2270.34,47.2441 \n",
       "  \"/>\n",
       "<polyline clip-path=\"url(#clip3802)\" style=\"stroke:#000000; stroke-width:2; stroke-opacity:0.1; fill:none\" points=\"\n",
       "  168.627,1373.37 2352.76,1373.37 \n",
       "  \"/>\n",
       "<polyline clip-path=\"url(#clip3802)\" style=\"stroke:#000000; stroke-width:2; stroke-opacity:0.1; fill:none\" points=\"\n",
       "  168.627,1052.03 2352.76,1052.03 \n",
       "  \"/>\n",
       "<polyline clip-path=\"url(#clip3802)\" style=\"stroke:#000000; stroke-width:2; stroke-opacity:0.1; fill:none\" points=\"\n",
       "  168.627,730.688 2352.76,730.688 \n",
       "  \"/>\n",
       "<polyline clip-path=\"url(#clip3802)\" style=\"stroke:#000000; stroke-width:2; stroke-opacity:0.1; fill:none\" points=\"\n",
       "  168.627,409.347 2352.76,409.347 \n",
       "  \"/>\n",
       "<polyline clip-path=\"url(#clip3802)\" style=\"stroke:#000000; stroke-width:2; stroke-opacity:0.1; fill:none\" points=\"\n",
       "  168.627,88.0053 2352.76,88.0053 \n",
       "  \"/>\n",
       "<polyline clip-path=\"url(#clip3800)\" style=\"stroke:#000000; stroke-width:4; stroke-opacity:1; fill:none\" points=\"\n",
       "  168.627,1487.47 2352.76,1487.47 \n",
       "  \"/>\n",
       "<polyline clip-path=\"url(#clip3800)\" style=\"stroke:#000000; stroke-width:4; stroke-opacity:1; fill:none\" points=\"\n",
       "  168.627,1487.47 168.627,47.2441 \n",
       "  \"/>\n",
       "<polyline clip-path=\"url(#clip3800)\" style=\"stroke:#000000; stroke-width:4; stroke-opacity:1; fill:none\" points=\"\n",
       "  209.837,1487.47 209.837,1465.87 \n",
       "  \"/>\n",
       "<polyline clip-path=\"url(#clip3800)\" style=\"stroke:#000000; stroke-width:4; stroke-opacity:1; fill:none\" points=\"\n",
       "  724.962,1487.47 724.962,1465.87 \n",
       "  \"/>\n",
       "<polyline clip-path=\"url(#clip3800)\" style=\"stroke:#000000; stroke-width:4; stroke-opacity:1; fill:none\" points=\"\n",
       "  1240.09,1487.47 1240.09,1465.87 \n",
       "  \"/>\n",
       "<polyline clip-path=\"url(#clip3800)\" style=\"stroke:#000000; stroke-width:4; stroke-opacity:1; fill:none\" points=\"\n",
       "  1755.21,1487.47 1755.21,1465.87 \n",
       "  \"/>\n",
       "<polyline clip-path=\"url(#clip3800)\" style=\"stroke:#000000; stroke-width:4; stroke-opacity:1; fill:none\" points=\"\n",
       "  2270.34,1487.47 2270.34,1465.87 \n",
       "  \"/>\n",
       "<polyline clip-path=\"url(#clip3800)\" style=\"stroke:#000000; stroke-width:4; stroke-opacity:1; fill:none\" points=\"\n",
       "  168.627,1373.37 201.389,1373.37 \n",
       "  \"/>\n",
       "<polyline clip-path=\"url(#clip3800)\" style=\"stroke:#000000; stroke-width:4; stroke-opacity:1; fill:none\" points=\"\n",
       "  168.627,1052.03 201.389,1052.03 \n",
       "  \"/>\n",
       "<polyline clip-path=\"url(#clip3800)\" style=\"stroke:#000000; stroke-width:4; stroke-opacity:1; fill:none\" points=\"\n",
       "  168.627,730.688 201.389,730.688 \n",
       "  \"/>\n",
       "<polyline clip-path=\"url(#clip3800)\" style=\"stroke:#000000; stroke-width:4; stroke-opacity:1; fill:none\" points=\"\n",
       "  168.627,409.347 201.389,409.347 \n",
       "  \"/>\n",
       "<polyline clip-path=\"url(#clip3800)\" style=\"stroke:#000000; stroke-width:4; stroke-opacity:1; fill:none\" points=\"\n",
       "  168.627,88.0053 201.389,88.0053 \n",
       "  \"/>\n",
       "<g clip-path=\"url(#clip3800)\">\n",
       "<text style=\"fill:#000000; fill-opacity:1; font-family:Arial,Helvetica Neue,Helvetica,sans-serif; font-size:48px; text-anchor:middle;\" transform=\"rotate(0, 209.837, 1541.47)\" x=\"209.837\" y=\"1541.47\">0</text>\n",
       "</g>\n",
       "<g clip-path=\"url(#clip3800)\">\n",
       "<text style=\"fill:#000000; fill-opacity:1; font-family:Arial,Helvetica Neue,Helvetica,sans-serif; font-size:48px; text-anchor:middle;\" transform=\"rotate(0, 724.962, 1541.47)\" x=\"724.962\" y=\"1541.47\">25</text>\n",
       "</g>\n",
       "<g clip-path=\"url(#clip3800)\">\n",
       "<text style=\"fill:#000000; fill-opacity:1; font-family:Arial,Helvetica Neue,Helvetica,sans-serif; font-size:48px; text-anchor:middle;\" transform=\"rotate(0, 1240.09, 1541.47)\" x=\"1240.09\" y=\"1541.47\">50</text>\n",
       "</g>\n",
       "<g clip-path=\"url(#clip3800)\">\n",
       "<text style=\"fill:#000000; fill-opacity:1; font-family:Arial,Helvetica Neue,Helvetica,sans-serif; font-size:48px; text-anchor:middle;\" transform=\"rotate(0, 1755.21, 1541.47)\" x=\"1755.21\" y=\"1541.47\">75</text>\n",
       "</g>\n",
       "<g clip-path=\"url(#clip3800)\">\n",
       "<text style=\"fill:#000000; fill-opacity:1; font-family:Arial,Helvetica Neue,Helvetica,sans-serif; font-size:48px; text-anchor:middle;\" transform=\"rotate(0, 2270.34, 1541.47)\" x=\"2270.34\" y=\"1541.47\">100</text>\n",
       "</g>\n",
       "<g clip-path=\"url(#clip3800)\">\n",
       "<text style=\"fill:#000000; fill-opacity:1; font-family:Arial,Helvetica Neue,Helvetica,sans-serif; font-size:48px; text-anchor:end;\" transform=\"rotate(0, 144.627, 1390.87)\" x=\"144.627\" y=\"1390.87\">-20</text>\n",
       "</g>\n",
       "<g clip-path=\"url(#clip3800)\">\n",
       "<text style=\"fill:#000000; fill-opacity:1; font-family:Arial,Helvetica Neue,Helvetica,sans-serif; font-size:48px; text-anchor:end;\" transform=\"rotate(0, 144.627, 1069.53)\" x=\"144.627\" y=\"1069.53\">0</text>\n",
       "</g>\n",
       "<g clip-path=\"url(#clip3800)\">\n",
       "<text style=\"fill:#000000; fill-opacity:1; font-family:Arial,Helvetica Neue,Helvetica,sans-serif; font-size:48px; text-anchor:end;\" transform=\"rotate(0, 144.627, 748.188)\" x=\"144.627\" y=\"748.188\">20</text>\n",
       "</g>\n",
       "<g clip-path=\"url(#clip3800)\">\n",
       "<text style=\"fill:#000000; fill-opacity:1; font-family:Arial,Helvetica Neue,Helvetica,sans-serif; font-size:48px; text-anchor:end;\" transform=\"rotate(0, 144.627, 426.847)\" x=\"144.627\" y=\"426.847\">40</text>\n",
       "</g>\n",
       "<g clip-path=\"url(#clip3800)\">\n",
       "<text style=\"fill:#000000; fill-opacity:1; font-family:Arial,Helvetica Neue,Helvetica,sans-serif; font-size:48px; text-anchor:end;\" transform=\"rotate(0, 144.627, 105.505)\" x=\"144.627\" y=\"105.505\">60</text>\n",
       "</g>\n",
       "<polyline clip-path=\"url(#clip3802)\" style=\"stroke:#009af9; stroke-width:4; stroke-opacity:1; fill:none\" points=\"\n",
       "  230.442,1052.03 251.047,1052.01 271.652,1051.44 292.257,1049.61 312.862,1046.42 333.467,1041.94 354.072,1036.39 374.677,1029.98 395.282,1022.96 415.887,1015.57 \n",
       "  436.492,1008.02 457.097,1000.43 477.702,992.841 498.307,985.26 518.912,977.742 539.517,970.399 560.122,963.387 580.727,956.881 601.332,951.059 621.937,946.11 \n",
       "  642.542,942.242 663.147,939.646 683.752,938.37 704.357,938.259 724.962,939.091 745.567,940.673 766.172,942.845 786.777,945.476 807.382,948.459 827.987,951.702 \n",
       "  848.592,955.131 869.197,958.683 889.802,962.305 910.407,965.952 931.012,969.59 951.617,973.188 972.222,976.724 992.827,980.18 1013.43,983.542 1034.04,986.8 \n",
       "  1054.64,989.948 1075.25,992.981 1095.85,995.897 1116.46,998.695 1137.06,1001.38 1157.67,1003.94 1178.27,1006.39 1198.88,1008.73 1219.48,1010.97 1240.09,1013.1 \n",
       "  1260.69,1015.13 1281.3,1017.07 1301.9,1018.91 1322.51,1020.67 1343.11,1022.34 1363.72,1023.94 1384.32,1025.45 1404.93,1026.9 1425.53,1028.28 1446.14,1029.6 \n",
       "  1466.74,1030.85 1487.35,1032.05 1507.95,1033.19 1528.56,1034.28 1549.16,1035.32 1569.77,1036.32 1590.37,1037.27 1610.98,1038.18 1631.58,1039.06 1652.19,1039.89 \n",
       "  1672.79,1040.7 1693.4,1041.47 1714,1042.21 1734.61,1042.92 1755.21,1043.6 1775.82,1044.25 1796.42,1044.88 1817.03,1045.49 1837.63,1046.07 1858.24,1046.63 \n",
       "  1878.84,1047.16 1899.45,1047.67 1920.05,1048.15 1940.66,1048.61 1961.26,1049.04 1981.87,1049.45 2002.47,1049.83 2023.08,1050.19 2043.68,1050.51 2064.29,1050.81 \n",
       "  2084.89,1051.07 2105.5,1051.3 2126.1,1051.5 2146.71,1051.66 2167.31,1051.8 2187.92,1051.9 2208.52,1051.96 2229.13,1052 2249.73,1052.02 2270.34,1052.03 \n",
       "  2290.94,1052.03 \n",
       "  \"/>\n",
       "<polyline clip-path=\"url(#clip3802)\" style=\"stroke:#e26f46; stroke-width:4; stroke-opacity:1; fill:none\" points=\"\n",
       "  230.442,1052.03 251.047,1051.95 271.652,1049.31 292.257,1040.89 312.862,1026.58 333.467,1007.25 354.072,984.176 374.677,958.403 395.282,930.811 415.887,902.149 \n",
       "  436.492,872.992 457.097,843.683 477.702,814.346 498.307,785.003 518.912,755.701 539.517,726.583 560.122,697.862 580.727,669.752 601.332,642.426 621.937,616.008 \n",
       "  642.542,590.601 663.147,566.3 683.752,543.139 704.357,521.061 724.962,499.986 745.567,479.856 766.172,460.627 786.777,442.26 807.382,424.724 827.987,407.99 \n",
       "  848.592,392.032 869.197,376.821 889.802,362.333 910.407,348.539 931.012,335.412 951.617,322.923 972.222,311.046 992.827,299.751 1013.43,289.013 1034.04,278.805 \n",
       "  1054.64,269.1 1075.25,259.874 1095.85,251.104 1116.46,242.766 1137.06,234.839 1157.67,227.301 1178.27,220.133 1198.88,213.316 1219.48,206.832 1240.09,200.664 \n",
       "  1260.69,194.795 1281.3,189.211 1301.9,183.895 1322.51,178.835 1343.11,174.017 1363.72,169.428 1384.32,165.056 1404.93,160.889 1425.53,156.916 1446.14,153.128 \n",
       "  1466.74,149.513 1487.35,146.063 1507.95,142.767 1528.56,139.619 1549.16,136.608 1569.77,133.729 1590.37,130.972 1610.98,128.332 1631.58,125.802 1652.19,123.375 \n",
       "  1672.79,121.047 1693.4,118.812 1714,116.665 1734.61,114.602 1755.21,112.619 1775.82,110.713 1796.42,108.882 1817.03,107.123 1837.63,105.434 1858.24,103.815 \n",
       "  1878.84,102.265 1899.45,100.784 1920.05,99.3725 1940.66,98.032 1961.26,96.7641 1981.87,95.571 2002.47,94.4554 2023.08,93.4203 2043.68,92.4689 2064.29,91.6047 \n",
       "  2084.89,90.831 2105.5,90.151 2126.1,89.5673 2146.71,89.0817 2167.31,88.6942 2187.92,88.4026 2208.52,88.2014 2229.13,88.0802 2249.73,88.0227 2270.34,88.0065 \n",
       "  2290.94,88.0053 \n",
       "  \"/>\n",
       "<polyline clip-path=\"url(#clip3802)\" style=\"stroke:#3da44d; stroke-width:4; stroke-opacity:1; fill:none\" points=\"\n",
       "  230.442,891.359 251.047,890.791 271.652,888.254 292.257,885.181 312.862,883.021 333.467,881.68 354.072,880.886 374.677,880.401 395.282,880.006 415.887,879.593 \n",
       "  436.492,879.228 457.097,879.079 477.702,879.265 498.307,879.759 518.912,880.402 539.517,881.01 560.122,881.467 580.727,881.755 601.332,881.914 621.937,882.002 \n",
       "  642.542,882.063 663.147,882.113 683.752,882.166 704.357,882.241 724.962,882.352 745.567,882.501 766.172,882.688 786.777,882.908 807.382,883.154 827.987,883.421 \n",
       "  848.592,883.703 869.197,883.994 889.802,884.288 910.407,884.583 931.012,884.873 951.617,885.157 972.222,885.433 992.827,885.7 1013.43,885.956 1034.04,886.201 \n",
       "  1054.64,886.436 1075.25,886.659 1095.85,886.872 1116.46,887.074 1137.06,887.266 1157.67,887.448 1178.27,887.622 1198.88,887.786 1219.48,887.943 1240.09,888.092 \n",
       "  1260.69,888.233 1281.3,888.368 1301.9,888.496 1322.51,888.618 1343.11,888.734 1363.72,888.844 1384.32,888.95 1404.93,889.05 1425.53,889.146 1446.14,889.236 \n",
       "  1466.74,889.323 1487.35,889.405 1507.95,889.483 1528.56,889.557 1549.16,889.627 1569.77,889.694 1590.37,889.756 1610.98,889.816 1631.58,889.872 1652.19,889.925 \n",
       "  1672.79,889.975 1693.4,890.023 1714,890.067 1734.61,890.11 1755.21,890.151 1775.82,890.19 1796.42,890.228 1817.03,890.265 1837.63,890.302 1858.24,890.339 \n",
       "  1878.84,890.377 1899.45,890.417 1920.05,890.46 1940.66,890.506 1961.26,890.556 1981.87,890.612 2002.47,890.673 2023.08,890.741 2043.68,890.815 2064.29,890.895 \n",
       "  2084.89,890.98 2105.5,891.068 2126.1,891.155 2146.71,891.237 2167.31,891.309 2187.92,891.365 2208.52,891.399 2229.13,891.409 2249.73,891.396 2270.34,891.371 \n",
       "  2290.94,891.359 \n",
       "  \"/>\n",
       "<polyline clip-path=\"url(#clip3802)\" style=\"stroke:#c271d2; stroke-width:4; stroke-opacity:1; fill:none\" points=\"\n",
       "  230.442,1035.96 251.047,1036.74 271.652,1040.08 292.257,1041.28 312.862,1041.13 333.467,1040.89 354.072,1040.5 374.677,1039.79 395.282,1038.8 415.887,1037.75 \n",
       "  436.492,1036.87 457.097,1036.28 477.702,1036.02 498.307,1036.1 518.912,1036.49 539.517,1037.08 560.122,1037.74 580.727,1038.36 601.332,1038.88 621.937,1039.26 \n",
       "  642.542,1039.5 663.147,1039.58 683.752,1039.51 704.357,1039.36 724.962,1039.18 745.567,1039 766.172,1038.83 786.777,1038.69 807.382,1038.56 827.987,1038.45 \n",
       "  848.592,1038.36 869.197,1038.27 889.802,1038.19 910.407,1038.12 931.012,1038.05 951.617,1037.97 972.222,1037.9 992.827,1037.83 1013.43,1037.75 1034.04,1037.68 \n",
       "  1054.64,1037.6 1075.25,1037.52 1095.85,1037.44 1116.46,1037.36 1137.06,1037.28 1157.67,1037.21 1178.27,1037.13 1198.88,1037.06 1219.48,1036.99 1240.09,1036.92 \n",
       "  1260.69,1036.85 1281.3,1036.78 1301.9,1036.72 1322.51,1036.66 1343.11,1036.61 1363.72,1036.55 1384.32,1036.5 1404.93,1036.46 1425.53,1036.41 1446.14,1036.37 \n",
       "  1466.74,1036.33 1487.35,1036.3 1507.95,1036.27 1528.56,1036.24 1549.16,1036.21 1569.77,1036.18 1590.37,1036.16 1610.98,1036.14 1631.58,1036.12 1652.19,1036.11 \n",
       "  1672.79,1036.09 1693.4,1036.08 1714,1036.07 1734.61,1036.06 1755.21,1036.05 1775.82,1036.04 1796.42,1036.04 1817.03,1036.03 1837.63,1036.03 1858.24,1036.03 \n",
       "  1878.84,1036.03 1899.45,1036.03 1920.05,1036.03 1940.66,1036.03 1961.26,1036.04 1981.87,1036.04 2002.47,1036.05 2023.08,1036.05 2043.68,1036.06 2064.29,1036.07 \n",
       "  2084.89,1036.08 2105.5,1036.08 2126.1,1036.08 2146.71,1036.08 2167.31,1036.07 2187.92,1036.05 2208.52,1036.03 2229.13,1036 2249.73,1035.97 2270.34,1035.95 \n",
       "  2290.94,1035.95 \n",
       "  \"/>\n",
       "<polyline clip-path=\"url(#clip3802)\" style=\"stroke:#ac8d18; stroke-width:4; stroke-opacity:1; fill:none\" points=\"\n",
       "  230.442,1052.03 251.047,1056.87 271.652,1062.58 292.257,1063.72 312.862,1063.52 333.467,1063.25 354.072,1062.83 374.677,1062.04 395.282,1060.8 415.887,1059.15 \n",
       "  436.492,1057.22 457.097,1055.15 477.702,1053.02 498.307,1050.93 518.912,1048.99 539.517,1047.37 560.122,1046.16 580.727,1045.38 601.332,1044.94 621.937,1044.75 \n",
       "  642.542,1044.67 663.147,1044.59 683.752,1044.45 704.357,1044.27 724.962,1044.1 745.567,1043.96 766.172,1043.86 786.777,1043.8 807.382,1043.78 827.987,1043.79 \n",
       "  848.592,1043.84 869.197,1043.91 889.802,1044.01 910.407,1044.12 931.012,1044.25 951.617,1044.39 972.222,1044.54 992.827,1044.69 1013.43,1044.86 1034.04,1045.03 \n",
       "  1054.64,1045.21 1075.25,1045.39 1095.85,1045.57 1116.46,1045.75 1137.06,1045.94 1157.67,1046.13 1178.27,1046.32 1198.88,1046.51 1219.48,1046.7 1240.09,1046.89 \n",
       "  1260.69,1047.08 1281.3,1047.27 1301.9,1047.46 1322.51,1047.64 1343.11,1047.83 1363.72,1048.01 1384.32,1048.18 1404.93,1048.36 1425.53,1048.53 1446.14,1048.69 \n",
       "  1466.74,1048.85 1487.35,1049.01 1507.95,1049.16 1528.56,1049.31 1549.16,1049.45 1569.77,1049.58 1590.37,1049.71 1610.98,1049.83 1631.58,1049.95 1652.19,1050.06 \n",
       "  1672.79,1050.16 1693.4,1050.25 1714,1050.33 1734.61,1050.4 1755.21,1050.47 1775.82,1050.52 1796.42,1050.56 1817.03,1050.59 1837.63,1050.61 1858.24,1050.62 \n",
       "  1878.84,1050.62 1899.45,1050.6 1920.05,1050.58 1940.66,1050.54 1961.26,1050.49 1981.87,1050.44 2002.47,1050.38 2023.08,1050.31 2043.68,1050.25 2064.29,1050.19 \n",
       "  2084.89,1050.14 2105.5,1050.1 2126.1,1050.09 2146.71,1050.11 2167.31,1050.18 2187.92,1050.31 2208.52,1050.51 2229.13,1050.8 2249.73,1051.21 2270.34,1051.74 \n",
       "  2290.94,1052.03 \n",
       "  \"/>\n",
       "<polyline clip-path=\"url(#clip3802)\" style=\"stroke:#00a9ad; stroke-width:4; stroke-opacity:1; fill:none\" points=\"\n",
       "  230.442,1052.03 251.047,1051.09 271.652,1049.95 292.257,1049.54 312.862,1049.26 333.467,1049.12 354.072,1049.07 374.677,1049.2 395.282,1049.57 415.887,1050.21 \n",
       "  436.492,1051.05 457.097,1051.97 477.702,1052.91 498.307,1053.84 518.912,1054.76 539.517,1055.64 560.122,1056.47 580.727,1057.23 601.332,1057.9 621.937,1058.43 \n",
       "  642.542,1058.76 663.147,1058.8 683.752,1058.54 704.357,1058.08 724.962,1057.5 745.567,1056.87 766.172,1056.24 786.777,1055.61 807.382,1055.01 827.987,1054.45 \n",
       "  848.592,1053.94 869.197,1053.48 889.802,1053.07 910.407,1052.71 931.012,1052.39 951.617,1052.11 972.222,1051.88 992.827,1051.68 1013.43,1051.51 1034.04,1051.36 \n",
       "  1054.64,1051.25 1075.25,1051.15 1095.85,1051.07 1116.46,1051.01 1137.06,1050.97 1157.67,1050.93 1178.27,1050.91 1198.88,1050.9 1219.48,1050.9 1240.09,1050.9 \n",
       "  1260.69,1050.91 1281.3,1050.92 1301.9,1050.94 1322.51,1050.96 1343.11,1050.99 1363.72,1051.01 1384.32,1051.04 1404.93,1051.08 1425.53,1051.11 1446.14,1051.14 \n",
       "  1466.74,1051.17 1487.35,1051.21 1507.95,1051.24 1528.56,1051.28 1549.16,1051.31 1569.77,1051.34 1590.37,1051.37 1610.98,1051.4 1631.58,1051.43 1652.19,1051.46 \n",
       "  1672.79,1051.48 1693.4,1051.51 1714,1051.53 1734.61,1051.54 1755.21,1051.56 1775.82,1051.57 1796.42,1051.58 1817.03,1051.59 1837.63,1051.59 1858.24,1051.59 \n",
       "  1878.84,1051.59 1899.45,1051.58 1920.05,1051.57 1940.66,1051.56 1961.26,1051.54 1981.87,1051.52 2002.47,1051.5 2023.08,1051.47 2043.68,1051.45 2064.29,1051.43 \n",
       "  2084.89,1051.41 2105.5,1051.4 2126.1,1051.39 2146.71,1051.39 2167.31,1051.41 2187.92,1051.45 2208.52,1051.52 2229.13,1051.62 2249.73,1051.75 2270.34,1051.93 \n",
       "  2290.94,1052.03 \n",
       "  \"/>\n",
       "<polyline clip-path=\"url(#clip3802)\" style=\"stroke:#ed5d92; stroke-width:4; stroke-opacity:1; fill:none\" points=\"\n",
       "  230.442,1052.03 251.047,1052.2 271.652,1052.29 292.257,1052.19 312.862,1052.21 333.467,1052.32 354.072,1052.5 374.677,1052.68 395.282,1052.82 415.887,1052.88 \n",
       "  436.492,1052.88 457.097,1052.84 477.702,1052.77 498.307,1052.68 518.912,1052.59 539.517,1052.54 560.122,1052.58 580.727,1052.73 601.332,1052.98 621.937,1053.27 \n",
       "  642.542,1053.5 663.147,1053.57 683.752,1053.45 704.357,1053.19 724.962,1052.87 745.567,1052.52 766.172,1052.19 786.777,1051.87 807.382,1051.58 827.987,1051.32 \n",
       "  848.592,1051.1 869.197,1050.91 889.802,1050.75 910.407,1050.62 931.012,1050.51 951.617,1050.43 972.222,1050.37 992.827,1050.32 1013.43,1050.29 1034.04,1050.27 \n",
       "  1054.64,1050.27 1075.25,1050.27 1095.85,1050.28 1116.46,1050.29 1137.06,1050.31 1157.67,1050.33 1178.27,1050.36 1198.88,1050.39 1219.48,1050.42 1240.09,1050.45 \n",
       "  1260.69,1050.49 1281.3,1050.52 1301.9,1050.56 1322.51,1050.59 1343.11,1050.63 1363.72,1050.67 1384.32,1050.71 1404.93,1050.74 1425.53,1050.78 1446.14,1050.82 \n",
       "  1466.74,1050.85 1487.35,1050.89 1507.95,1050.93 1528.56,1050.96 1549.16,1051 1569.77,1051.03 1590.37,1051.07 1610.98,1051.1 1631.58,1051.14 1652.19,1051.17 \n",
       "  1672.79,1051.21 1693.4,1051.24 1714,1051.27 1734.61,1051.3 1755.21,1051.33 1775.82,1051.37 1796.42,1051.4 1817.03,1051.43 1837.63,1051.46 1858.24,1051.49 \n",
       "  1878.84,1051.52 1899.45,1051.55 1920.05,1051.58 1940.66,1051.61 1961.26,1051.64 1981.87,1051.66 2002.47,1051.69 2023.08,1051.72 2043.68,1051.75 2064.29,1051.78 \n",
       "  2084.89,1051.8 2105.5,1051.83 2126.1,1051.86 2146.71,1051.89 2167.31,1051.91 2187.92,1051.94 2208.52,1051.96 2229.13,1051.99 2249.73,1052.01 2270.34,1052.02 \n",
       "  2290.94,1052.03 \n",
       "  \"/>\n",
       "<polyline clip-path=\"url(#clip3802)\" style=\"stroke:#c68125; stroke-width:4; stroke-opacity:1; fill:none\" points=\"\n",
       "  230.442,1052.03 251.047,1050.8 271.652,1028.68 292.257,1001.93 312.862,973.966 333.467,950.418 354.072,931.219 374.677,916.517 395.282,906.783 415.887,901.88 \n",
       "  436.492,900.349 457.097,900.174 477.702,900.198 498.307,900.68 518.912,902.8 539.517,907.737 560.122,916.085 580.727,927.971 601.332,943.477 621.937,962.888 \n",
       "  642.542,986.612 663.147,1013.64 683.752,1039.23 704.357,1060.14 724.962,1076.89 745.567,1090.14 766.172,1100.52 786.777,1108.53 807.382,1114.58 827.987,1119 \n",
       "  848.592,1122.04 869.197,1123.93 889.802,1124.85 910.407,1124.99 931.012,1124.47 951.617,1123.44 972.222,1122 992.827,1120.24 1013.43,1118.26 1034.04,1116.1 \n",
       "  1054.64,1113.84 1075.25,1111.52 1095.85,1109.16 1116.46,1106.8 1137.06,1104.47 1157.67,1102.18 1178.27,1099.94 1198.88,1097.77 1219.48,1095.66 1240.09,1093.64 \n",
       "  1260.69,1091.69 1281.3,1089.82 1301.9,1088.03 1322.51,1086.32 1343.11,1084.7 1363.72,1083.15 1384.32,1081.68 1404.93,1080.28 1425.53,1078.96 1446.14,1077.71 \n",
       "  1466.74,1076.52 1487.35,1075.4 1507.95,1074.34 1528.56,1073.34 1549.16,1072.4 1569.77,1071.51 1590.37,1070.67 1610.98,1069.88 1631.58,1069.13 1652.19,1068.42 \n",
       "  1672.79,1067.76 1693.4,1067.13 1714,1066.53 1734.61,1065.95 1755.21,1065.41 1775.82,1064.88 1796.42,1064.37 1817.03,1063.88 1837.63,1063.39 1858.24,1062.91 \n",
       "  1878.84,1062.43 1899.45,1061.95 1920.05,1061.47 1940.66,1060.97 1961.26,1060.46 1981.87,1059.93 2002.47,1059.38 2023.08,1058.82 2043.68,1058.23 2064.29,1057.62 \n",
       "  2084.89,1056.98 2105.5,1056.33 2126.1,1055.66 2146.71,1054.99 2167.31,1054.33 2187.92,1053.69 2208.52,1053.1 2229.13,1052.61 2249.73,1052.25 2270.34,1052.06 \n",
       "  2290.94,1052.03 \n",
       "  \"/>\n",
       "<polyline clip-path=\"url(#clip3802)\" style=\"stroke:#00a98d; stroke-width:4; stroke-opacity:1; fill:none\" points=\"\n",
       "  230.442,1052.03 251.047,1045.94 271.652,944.275 292.257,823.151 312.862,708.653 333.467,622.282 354.072,558.854 374.677,514.414 395.282,486.243 415.887,471.635 \n",
       "  436.492,466.363 457.097,465.396 477.702,465.232 498.307,465.233 518.912,467.037 539.517,472.66 560.122,482.846 580.727,496.986 601.332,514.024 621.937,533.216 \n",
       "  642.542,554.468 663.147,577.555 683.752,600.218 704.357,620.934 724.962,640.324 745.567,658.71 766.172,676.287 786.777,693.186 807.382,709.49 827.987,725.246 \n",
       "  848.592,740.472 869.197,755.169 889.802,769.328 910.407,782.939 931.012,795.995 951.617,808.491 972.222,820.431 992.827,831.822 1013.43,842.675 1034.04,853.005 \n",
       "  1054.64,862.83 1075.25,872.168 1095.85,881.039 1116.46,889.464 1137.06,897.462 1157.67,905.053 1178.27,912.257 1198.88,919.091 1219.48,925.575 1240.09,931.725 \n",
       "  1260.69,937.556 1281.3,943.086 1301.9,948.328 1322.51,953.295 1343.11,958.002 1363.72,962.46 1384.32,966.681 1404.93,970.676 1425.53,974.456 1446.14,978.031 \n",
       "  1466.74,981.41 1487.35,984.604 1507.95,987.62 1528.56,990.468 1549.16,993.156 1569.77,995.693 1590.37,998.087 1610.98,1000.35 1631.58,1002.48 1652.19,1004.5 \n",
       "  1672.79,1006.41 1693.4,1008.22 1714,1009.94 1734.61,1011.58 1755.21,1013.16 1775.82,1014.67 1796.42,1016.13 1817.03,1017.56 1837.63,1018.95 1858.24,1020.34 \n",
       "  1878.84,1021.72 1899.45,1023.1 1920.05,1024.51 1940.66,1025.94 1961.26,1027.41 1981.87,1028.93 2002.47,1030.51 2023.08,1032.15 2043.68,1033.86 2064.29,1035.64 \n",
       "  2084.89,1037.48 2105.5,1039.38 2126.1,1041.33 2146.71,1043.3 2167.31,1045.25 2187.92,1047.13 2208.52,1048.85 2229.13,1050.31 2249.73,1051.38 2270.34,1051.94 \n",
       "  2290.94,1052.03 \n",
       "  \"/>\n",
       "<polyline clip-path=\"url(#clip3802)\" style=\"stroke:#8e971d; stroke-width:4; stroke-opacity:1; fill:none\" points=\"\n",
       "  230.442,1052.03 251.047,1030.32 271.652,986.561 292.257,998.959 312.862,1018.23 333.467,1031.54 354.072,1040 374.677,1043.63 395.282,1043.62 415.887,1043.27 \n",
       "  436.492,1045.93 457.097,1052.12 477.702,1059.39 498.307,1064.42 518.912,1065.47 539.517,1063.19 560.122,1059.6 580.727,1056.43 601.332,1054.43 621.937,1053.52 \n",
       "  642.542,1053.19 663.147,1052.98 683.752,1053.13 704.357,1053.78 724.962,1054.57 745.567,1055.35 766.172,1056.06 786.777,1056.67 807.382,1057.16 827.987,1057.51 \n",
       "  848.592,1057.75 869.197,1057.88 889.802,1057.91 910.407,1057.87 931.012,1057.77 951.617,1057.62 972.222,1057.44 992.827,1057.24 1013.43,1057.03 1034.04,1056.81 \n",
       "  1054.64,1056.59 1075.25,1056.37 1095.85,1056.16 1116.46,1055.95 1137.06,1055.76 1157.67,1055.57 1178.27,1055.39 1198.88,1055.22 1219.48,1055.06 1240.09,1054.92 \n",
       "  1260.69,1054.77 1281.3,1054.64 1301.9,1054.52 1322.51,1054.4 1343.11,1054.29 1363.72,1054.18 1384.32,1054.08 1404.93,1053.98 1425.53,1053.89 1446.14,1053.8 \n",
       "  1466.74,1053.71 1487.35,1053.62 1507.95,1053.54 1528.56,1053.47 1549.16,1053.39 1569.77,1053.32 1590.37,1053.25 1610.98,1053.18 1631.58,1053.12 1652.19,1053.06 \n",
       "  1672.79,1053 1693.4,1052.95 1714,1052.9 1734.61,1052.86 1755.21,1052.83 1775.82,1052.8 1796.42,1052.78 1817.03,1052.77 1837.63,1052.77 1858.24,1052.78 \n",
       "  1878.84,1052.81 1899.45,1052.85 1920.05,1052.91 1940.66,1052.99 1961.26,1053.09 1981.87,1053.2 2002.47,1053.32 2023.08,1053.45 2043.68,1053.58 2064.29,1053.69 \n",
       "  2084.89,1053.77 2105.5,1053.79 2126.1,1053.74 2146.71,1053.6 2167.31,1053.34 2187.92,1052.95 2208.52,1052.47 2229.13,1051.96 2249.73,1051.56 2270.34,1051.52 \n",
       "  2290.94,1052.03 \n",
       "  \"/>\n",
       "<polyline clip-path=\"url(#clip3802)\" style=\"stroke:#00a8cb; stroke-width:4; stroke-opacity:1; fill:none\" points=\"\n",
       "  230.442,1052.03 251.047,1446.71 271.652,1189.72 292.257,1047.54 312.862,1037.48 333.467,1036.22 354.072,1020.14 374.677,997.866 395.282,978.283 415.887,967.288 \n",
       "  436.492,964.114 457.097,964.194 477.702,964.986 498.307,968.067 518.912,976.285 539.517,990.171 560.122,1007.23 580.727,1023.9 601.332,1037.48 621.937,1046.38 \n",
       "  642.542,1049.62 663.147,1048.52 683.752,1046.96 704.357,1046.73 724.962,1047.29 745.567,1048.23 766.172,1049.35 786.777,1050.51 807.382,1051.66 827.987,1052.76 \n",
       "  848.592,1053.77 869.197,1054.69 889.802,1055.52 910.407,1056.25 931.012,1056.9 951.617,1057.46 972.222,1057.95 992.827,1058.37 1013.43,1058.73 1034.04,1059.03 \n",
       "  1054.64,1059.28 1075.25,1059.5 1095.85,1059.67 1116.46,1059.8 1137.06,1059.9 1157.67,1059.97 1178.27,1060.01 1198.88,1060.03 1219.48,1060.02 1240.09,1059.99 \n",
       "  1260.69,1059.93 1281.3,1059.86 1301.9,1059.77 1322.51,1059.67 1343.11,1059.55 1363.72,1059.41 1384.32,1059.27 1404.93,1059.11 1425.53,1058.93 1446.14,1058.75 \n",
       "  1466.74,1058.55 1487.35,1058.34 1507.95,1058.13 1528.56,1057.89 1549.16,1057.65 1569.77,1057.39 1590.37,1057.12 1610.98,1056.84 1631.58,1056.54 1652.19,1056.22 \n",
       "  1672.79,1055.89 1693.4,1055.53 1714,1055.16 1734.61,1054.77 1755.21,1054.36 1775.82,1053.94 1796.42,1053.49 1817.03,1053.04 1837.63,1052.57 1858.24,1052.09 \n",
       "  1878.84,1051.62 1899.45,1051.15 1920.05,1050.71 1940.66,1050.3 1961.26,1049.94 1981.87,1049.64 2002.47,1049.44 2023.08,1049.35 2043.68,1049.42 2064.29,1049.67 \n",
       "  2084.89,1050.17 2105.5,1050.95 2126.1,1052.08 2146.71,1053.64 2167.31,1055.72 2187.92,1058.4 2208.52,1061.78 2229.13,1065.93 2249.73,1070.83 2270.34,1075.43 \n",
       "  2290.94,1052.03 \n",
       "  \"/>\n",
       "<polyline clip-path=\"url(#clip3802)\" style=\"stroke:#9b7fe8; stroke-width:4; stroke-opacity:1; fill:none\" points=\"\n",
       "  230.442,1052.03 251.047,973.191 271.652,1031.74 292.257,1042.76 312.862,1047.04 333.467,1046.31 354.072,1050.32 374.677,1059.53 395.282,1070.62 415.887,1079.34 \n",
       "  436.492,1083.79 457.097,1085.12 477.702,1085.54 498.307,1086.3 518.912,1087.34 539.517,1087.99 560.122,1087.75 580.727,1086.29 601.332,1083.02 621.937,1076.48 \n",
       "  642.542,1064.19 663.147,1047.1 683.752,1033.13 704.357,1025.94 724.962,1022.86 745.567,1022.08 766.172,1022.68 786.777,1024.14 807.382,1026.1 827.987,1028.35 \n",
       "  848.592,1030.7 869.197,1033.05 889.802,1035.31 910.407,1037.44 931.012,1039.4 951.617,1041.18 972.222,1042.78 992.827,1044.21 1013.43,1045.47 1034.04,1046.57 \n",
       "  1054.64,1047.54 1075.25,1048.39 1095.85,1049.13 1116.46,1049.77 1137.06,1050.32 1157.67,1050.8 1178.27,1051.21 1198.88,1051.57 1219.48,1051.87 1240.09,1052.13 \n",
       "  1260.69,1052.36 1281.3,1052.54 1301.9,1052.7 1322.51,1052.83 1343.11,1052.94 1363.72,1053.03 1384.32,1053.11 1404.93,1053.16 1425.53,1053.2 1446.14,1053.23 \n",
       "  1466.74,1053.25 1487.35,1053.26 1507.95,1053.26 1528.56,1053.25 1549.16,1053.23 1569.77,1053.21 1590.37,1053.17 1610.98,1053.13 1631.58,1053.09 1652.19,1053.03 \n",
       "  1672.79,1052.97 1693.4,1052.89 1714,1052.82 1734.61,1052.73 1755.21,1052.63 1775.82,1052.53 1796.42,1052.42 1817.03,1052.3 1837.63,1052.18 1858.24,1052.05 \n",
       "  1878.84,1051.92 1899.45,1051.79 1920.05,1051.66 1940.66,1051.54 1961.26,1051.43 1981.87,1051.34 2002.47,1051.28 2023.08,1051.25 2043.68,1051.27 2064.29,1051.35 \n",
       "  2084.89,1051.5 2105.5,1051.74 2126.1,1052.1 2146.71,1052.61 2167.31,1053.29 2187.92,1054.17 2208.52,1055.3 2229.13,1056.68 2249.73,1058.32 2270.34,1059.91 \n",
       "  2290.94,1052.03 \n",
       "  \"/>\n",
       "<polyline clip-path=\"url(#clip3802)\" style=\"stroke:#608cf6; stroke-width:4; stroke-opacity:1; fill:none\" points=\"\n",
       "  230.442,1052.03 251.047,1065.46 271.652,1049.89 292.257,1039.24 312.862,1046.98 333.467,1050.99 354.072,1053.29 374.677,1054.7 395.282,1055.58 415.887,1056.04 \n",
       "  436.492,1056.09 457.097,1055.84 477.702,1055.49 498.307,1055.26 518.912,1055.26 539.517,1055.42 560.122,1055.63 580.727,1055.76 601.332,1055.75 621.937,1055.6 \n",
       "  642.542,1055.35 663.147,1055.15 683.752,1055.05 704.357,1055.01 724.962,1054.99 745.567,1054.97 766.172,1054.94 786.777,1054.91 807.382,1054.88 827.987,1054.85 \n",
       "  848.592,1054.82 869.197,1054.78 889.802,1054.74 910.407,1054.71 931.012,1054.67 951.617,1054.62 972.222,1054.58 992.827,1054.54 1013.43,1054.5 1034.04,1054.45 \n",
       "  1054.64,1054.41 1075.25,1054.37 1095.85,1054.32 1116.46,1054.28 1137.06,1054.24 1157.67,1054.19 1178.27,1054.15 1198.88,1054.11 1219.48,1054.07 1240.09,1054.03 \n",
       "  1260.69,1053.99 1281.3,1053.95 1301.9,1053.91 1322.51,1053.87 1343.11,1053.84 1363.72,1053.8 1384.32,1053.77 1404.93,1053.74 1425.53,1053.7 1446.14,1053.67 \n",
       "  1466.74,1053.64 1487.35,1053.61 1507.95,1053.58 1528.56,1053.56 1549.16,1053.53 1569.77,1053.5 1590.37,1053.48 1610.98,1053.46 1631.58,1053.43 1652.19,1053.41 \n",
       "  1672.79,1053.39 1693.4,1053.37 1714,1053.35 1734.61,1053.33 1755.21,1053.31 1775.82,1053.3 1796.42,1053.28 1817.03,1053.26 1837.63,1053.25 1858.24,1053.24 \n",
       "  1878.84,1053.22 1899.45,1053.21 1920.05,1053.2 1940.66,1053.19 1961.26,1053.18 1981.87,1053.17 2002.47,1053.16 2023.08,1053.15 2043.68,1053.14 2064.29,1053.14 \n",
       "  2084.89,1053.13 2105.5,1053.12 2126.1,1053.11 2146.71,1053.1 2167.31,1053.09 2187.92,1053.06 2208.52,1053.01 2229.13,1052.93 2249.73,1052.79 2270.34,1052.52 \n",
       "  2290.94,1052.03 \n",
       "  \"/>\n",
       "<polygon clip-path=\"url(#clip3800)\" points=\"\n",
       "1963.16,977.484 2280.76,977.484 2280.76,130.764 1963.16,130.764 \n",
       "  \" fill=\"#ffffff\" fill-rule=\"evenodd\" fill-opacity=\"1\"/>\n",
       "<polyline clip-path=\"url(#clip3800)\" style=\"stroke:#000000; stroke-width:4; stroke-opacity:1; fill:none\" points=\"\n",
       "  1963.16,977.484 2280.76,977.484 2280.76,130.764 1963.16,130.764 1963.16,977.484 \n",
       "  \"/>\n",
       "<polyline clip-path=\"url(#clip3800)\" style=\"stroke:#009af9; stroke-width:4; stroke-opacity:1; fill:none\" points=\"\n",
       "  1987.16,191.244 2131.16,191.244 \n",
       "  \"/>\n",
       "<g clip-path=\"url(#clip3800)\">\n",
       "<text style=\"fill:#000000; fill-opacity:1; font-family:Arial,Helvetica Neue,Helvetica,sans-serif; font-size:48px; text-anchor:start;\" transform=\"rotate(0, 2155.16, 208.744)\" x=\"2155.16\" y=\"208.744\">y1</text>\n",
       "</g>\n",
       "<polyline clip-path=\"url(#clip3800)\" style=\"stroke:#e26f46; stroke-width:4; stroke-opacity:1; fill:none\" points=\"\n",
       "  1987.16,251.724 2131.16,251.724 \n",
       "  \"/>\n",
       "<g clip-path=\"url(#clip3800)\">\n",
       "<text style=\"fill:#000000; fill-opacity:1; font-family:Arial,Helvetica Neue,Helvetica,sans-serif; font-size:48px; text-anchor:start;\" transform=\"rotate(0, 2155.16, 269.224)\" x=\"2155.16\" y=\"269.224\">y2</text>\n",
       "</g>\n",
       "<polyline clip-path=\"url(#clip3800)\" style=\"stroke:#3da44d; stroke-width:4; stroke-opacity:1; fill:none\" points=\"\n",
       "  1987.16,312.204 2131.16,312.204 \n",
       "  \"/>\n",
       "<g clip-path=\"url(#clip3800)\">\n",
       "<text style=\"fill:#000000; fill-opacity:1; font-family:Arial,Helvetica Neue,Helvetica,sans-serif; font-size:48px; text-anchor:start;\" transform=\"rotate(0, 2155.16, 329.704)\" x=\"2155.16\" y=\"329.704\">y3</text>\n",
       "</g>\n",
       "<polyline clip-path=\"url(#clip3800)\" style=\"stroke:#c271d2; stroke-width:4; stroke-opacity:1; fill:none\" points=\"\n",
       "  1987.16,372.684 2131.16,372.684 \n",
       "  \"/>\n",
       "<g clip-path=\"url(#clip3800)\">\n",
       "<text style=\"fill:#000000; fill-opacity:1; font-family:Arial,Helvetica Neue,Helvetica,sans-serif; font-size:48px; text-anchor:start;\" transform=\"rotate(0, 2155.16, 390.184)\" x=\"2155.16\" y=\"390.184\">y4</text>\n",
       "</g>\n",
       "<polyline clip-path=\"url(#clip3800)\" style=\"stroke:#ac8d18; stroke-width:4; stroke-opacity:1; fill:none\" points=\"\n",
       "  1987.16,433.164 2131.16,433.164 \n",
       "  \"/>\n",
       "<g clip-path=\"url(#clip3800)\">\n",
       "<text style=\"fill:#000000; fill-opacity:1; font-family:Arial,Helvetica Neue,Helvetica,sans-serif; font-size:48px; text-anchor:start;\" transform=\"rotate(0, 2155.16, 450.664)\" x=\"2155.16\" y=\"450.664\">y5</text>\n",
       "</g>\n",
       "<polyline clip-path=\"url(#clip3800)\" style=\"stroke:#00a9ad; stroke-width:4; stroke-opacity:1; fill:none\" points=\"\n",
       "  1987.16,493.644 2131.16,493.644 \n",
       "  \"/>\n",
       "<g clip-path=\"url(#clip3800)\">\n",
       "<text style=\"fill:#000000; fill-opacity:1; font-family:Arial,Helvetica Neue,Helvetica,sans-serif; font-size:48px; text-anchor:start;\" transform=\"rotate(0, 2155.16, 511.144)\" x=\"2155.16\" y=\"511.144\">y6</text>\n",
       "</g>\n",
       "<polyline clip-path=\"url(#clip3800)\" style=\"stroke:#ed5d92; stroke-width:4; stroke-opacity:1; fill:none\" points=\"\n",
       "  1987.16,554.124 2131.16,554.124 \n",
       "  \"/>\n",
       "<g clip-path=\"url(#clip3800)\">\n",
       "<text style=\"fill:#000000; fill-opacity:1; font-family:Arial,Helvetica Neue,Helvetica,sans-serif; font-size:48px; text-anchor:start;\" transform=\"rotate(0, 2155.16, 571.624)\" x=\"2155.16\" y=\"571.624\">y7</text>\n",
       "</g>\n",
       "<polyline clip-path=\"url(#clip3800)\" style=\"stroke:#c68125; stroke-width:4; stroke-opacity:1; fill:none\" points=\"\n",
       "  1987.16,614.604 2131.16,614.604 \n",
       "  \"/>\n",
       "<g clip-path=\"url(#clip3800)\">\n",
       "<text style=\"fill:#000000; fill-opacity:1; font-family:Arial,Helvetica Neue,Helvetica,sans-serif; font-size:48px; text-anchor:start;\" transform=\"rotate(0, 2155.16, 632.104)\" x=\"2155.16\" y=\"632.104\">y8</text>\n",
       "</g>\n",
       "<polyline clip-path=\"url(#clip3800)\" style=\"stroke:#00a98d; stroke-width:4; stroke-opacity:1; fill:none\" points=\"\n",
       "  1987.16,675.084 2131.16,675.084 \n",
       "  \"/>\n",
       "<g clip-path=\"url(#clip3800)\">\n",
       "<text style=\"fill:#000000; fill-opacity:1; font-family:Arial,Helvetica Neue,Helvetica,sans-serif; font-size:48px; text-anchor:start;\" transform=\"rotate(0, 2155.16, 692.584)\" x=\"2155.16\" y=\"692.584\">y9</text>\n",
       "</g>\n",
       "<polyline clip-path=\"url(#clip3800)\" style=\"stroke:#8e971d; stroke-width:4; stroke-opacity:1; fill:none\" points=\"\n",
       "  1987.16,735.564 2131.16,735.564 \n",
       "  \"/>\n",
       "<g clip-path=\"url(#clip3800)\">\n",
       "<text style=\"fill:#000000; fill-opacity:1; font-family:Arial,Helvetica Neue,Helvetica,sans-serif; font-size:48px; text-anchor:start;\" transform=\"rotate(0, 2155.16, 753.064)\" x=\"2155.16\" y=\"753.064\">y10</text>\n",
       "</g>\n",
       "<polyline clip-path=\"url(#clip3800)\" style=\"stroke:#00a8cb; stroke-width:4; stroke-opacity:1; fill:none\" points=\"\n",
       "  1987.16,796.044 2131.16,796.044 \n",
       "  \"/>\n",
       "<g clip-path=\"url(#clip3800)\">\n",
       "<text style=\"fill:#000000; fill-opacity:1; font-family:Arial,Helvetica Neue,Helvetica,sans-serif; font-size:48px; text-anchor:start;\" transform=\"rotate(0, 2155.16, 813.544)\" x=\"2155.16\" y=\"813.544\">y11</text>\n",
       "</g>\n",
       "<polyline clip-path=\"url(#clip3800)\" style=\"stroke:#9b7fe8; stroke-width:4; stroke-opacity:1; fill:none\" points=\"\n",
       "  1987.16,856.524 2131.16,856.524 \n",
       "  \"/>\n",
       "<g clip-path=\"url(#clip3800)\">\n",
       "<text style=\"fill:#000000; fill-opacity:1; font-family:Arial,Helvetica Neue,Helvetica,sans-serif; font-size:48px; text-anchor:start;\" transform=\"rotate(0, 2155.16, 874.024)\" x=\"2155.16\" y=\"874.024\">y12</text>\n",
       "</g>\n",
       "<polyline clip-path=\"url(#clip3800)\" style=\"stroke:#608cf6; stroke-width:4; stroke-opacity:1; fill:none\" points=\"\n",
       "  1987.16,917.004 2131.16,917.004 \n",
       "  \"/>\n",
       "<g clip-path=\"url(#clip3800)\">\n",
       "<text style=\"fill:#000000; fill-opacity:1; font-family:Arial,Helvetica Neue,Helvetica,sans-serif; font-size:48px; text-anchor:start;\" transform=\"rotate(0, 2155.16, 934.504)\" x=\"2155.16\" y=\"934.504\">y13</text>\n",
       "</g>\n",
       "</svg>\n"
      ]
     },
     "execution_count": 39,
     "metadata": {},
     "output_type": "execute_result"
    }
   ],
   "source": [
    "# pos = [prob.X[k][1:3] for k = 1:N]\n",
    "# plot(pos)\n",
    "# Xguess = copy(prob.X)\n",
    "plot(Xguess)"
   ]
  },
  {
   "cell_type": "markdown",
   "metadata": {},
   "source": [
    "Visualization"
   ]
  },
  {
   "cell_type": "code",
   "execution_count": 12,
   "metadata": {
    "scrolled": false
   },
   "outputs": [
    {
     "data": {
      "text/html": [
       "<div class='display:none'></div><unsafe-script style='display:none'>\n",
       "WebIO.mount(this.previousSibling,{&quot;props&quot;:{},&quot;nodeType&quot;:&quot;Scope&quot;,&quot;type&quot;:&quot;node&quot;,&quot;instanceArgs&quot;:{&quot;imports&quot;:{&quot;data&quot;:[],&quot;type&quot;:&quot;async_block&quot;},&quot;id&quot;:&quot;scope-29bfe614-176b-4b5a-b9c0-cf3a9cc1e44c&quot;,&quot;handlers&quot;:{&quot;_promises&quot;:{&quot;importsLoaded&quot;:[function () {\n",
       "    var frame = this.dom.querySelector(&quot;#ifr&quot;);\n",
       "    var doc = frame.contentDocument\n",
       "    var win = frame.contentWindow\n",
       "\n",
       "    // Ensure that the iframe&#39;s baseURI matches the baseURI of the\n",
       "    // outer document. This is necessary to resolve\n",
       "    // https://github.com/JuliaGizmos/WebIO.jl/issues/167\n",
       "    var base = doc.createElement(&quot;base&quot;);\n",
       "    base.setAttribute(&quot;href&quot;, document.baseURI);\n",
       "    doc.head.appendChild(base);\n",
       "\n",
       "    var webio = doc.createElement(&quot;script&quot;)\n",
       "    webio.src = &quot;/assetserver/c443b012d0ad3ce8e6cc9de306cd3766b1d18a79-assets/webio/dist/bundle.js&quot;\n",
       "    var parent = window\n",
       "\n",
       "    function resizeIframe() {\n",
       "        doc.body.style.padding = &#39;0&#39;\n",
       "        doc.body.style.margin = &#39;0&#39;\n",
       "        doc.documentElement.height = &#39;100%&#39;\n",
       "        doc.body.height = &#39;100%&#39;\n",
       "    }\n",
       "\n",
       "    webio.onload = function () {\n",
       "        win.WebIO.sendCallback = parent.WebIO.sendCallback; // Share stuff\n",
       "        win.WebIO.scopes = parent.WebIO.scopes\n",
       "        win.WebIO.obsscopes = parent.WebIO.obsscopes\n",
       "        win.WebIO._connected = true\n",
       "        doc.body.innerHTML = &quot;&lt;html&gt;&lt;body&gt;&quot; + &quot;&lt;div class=&#39;display:none&#39;&gt;&lt;/div&gt;&lt;unsafe-script style=&#39;display:none&#39;&gt;\\nWebIO.mount(this.previousSibling,{&amp;quot;props&amp;quot;:{},&amp;quot;nodeType&amp;quot;:&amp;quot;Scope&amp;quot;,&amp;quot;type&amp;quot;:&amp;quot;node&amp;quot;,&amp;quot;instanceArgs&amp;quot;:{&amp;quot;imports&amp;quot;:{&amp;quot;data&amp;quot;:[{&amp;quot;name&amp;quot;:null,&amp;quot;type&amp;quot;:&amp;quot;js&amp;quot;,&amp;quot;url&amp;quot;:&amp;quot;/assetserver/39091d6b9eb892b592bedf9cea6c288f61f7d3f3-main.min.js&amp;quot;}],&amp;quot;type&amp;quot;:&amp;quot;async_block&amp;quot;},&amp;quot;id&amp;quot;:&amp;quot;scope-811fcc65-140e-41b1-ba7b-07809c0b1f5c&amp;quot;,&amp;quot;handlers&amp;quot;:{&amp;quot;meshcat-command&amp;quot;:[(function (val){return this.viewer.handle_command_message({&amp;quot;data&amp;quot;:val})})],&amp;quot;_promises&amp;quot;:{&amp;quot;importsLoaded&amp;quot;:[(function (mc){var element=this.dom.children[0]; this.viewer=new mc.Viewer(element); WebIO.setval({&amp;quot;name&amp;quot;:&amp;quot;meshcat-request&amp;quot;,&amp;quot;scope&amp;quot;:&amp;quot;scope-811fcc65-140e-41b1-ba7b-07809c0b1f5c&amp;quot;,&amp;quot;id&amp;quot;:&amp;quot;ob_02&amp;quot;,&amp;quot;type&amp;quot;:&amp;quot;observable&amp;quot;},String(Date.now())); window.document.body.style.margin=&amp;quot;0&amp;quot;; return window.meshcat_viewer=this.viewer})]}},&amp;quot;systemjs_options&amp;quot;:null,&amp;quot;observables&amp;quot;:{&amp;quot;meshcat-command&amp;quot;:{&amp;quot;sync&amp;quot;:false,&amp;quot;id&amp;quot;:&amp;quot;ob_01&amp;quot;,&amp;quot;value&amp;quot;:[]},&amp;quot;meshcat-controls&amp;quot;:{&amp;quot;sync&amp;quot;:true,&amp;quot;id&amp;quot;:&amp;quot;ob_03&amp;quot;,&amp;quot;value&amp;quot;:[]},&amp;quot;meshcat-request&amp;quot;:{&amp;quot;sync&amp;quot;:true,&amp;quot;id&amp;quot;:&amp;quot;ob_02&amp;quot;,&amp;quot;value&amp;quot;:&amp;quot;&amp;quot;}}},&amp;quot;children&amp;quot;:[{&amp;quot;props&amp;quot;:{&amp;quot;className&amp;quot;:&amp;quot;meshcat-viewer&amp;quot;,&amp;quot;style&amp;quot;:{&amp;quot;left&amp;quot;:0,&amp;quot;right&amp;quot;:0,&amp;quot;overflow&amp;quot;:&amp;quot;hidden&amp;quot;,&amp;quot;position&amp;quot;:&amp;quot;absolute&amp;quot;,&amp;quot;height&amp;quot;:&amp;quot;100vh&amp;quot;,&amp;quot;margin&amp;quot;:0,&amp;quot;width&amp;quot;:&amp;quot;100vw&amp;quot;}},&amp;quot;nodeType&amp;quot;:&amp;quot;DOM&amp;quot;,&amp;quot;type&amp;quot;:&amp;quot;node&amp;quot;,&amp;quot;instanceArgs&amp;quot;:{&amp;quot;namespace&amp;quot;:&amp;quot;html&amp;quot;,&amp;quot;tag&amp;quot;:&amp;quot;div&amp;quot;},&amp;quot;children&amp;quot;:[]}]})&lt;/unsafe-script&gt;&quot; + &quot;&lt;/body&gt;&lt;/html&gt;&quot;;\n",
       "        setTimeout(function () { resizeIframe() }, 0)\n",
       "    }\n",
       "\n",
       "    doc.body.appendChild(webio)\n",
       "},(function (){return this.dom.style.height=&quot;100%&quot;})]}},&quot;systemjs_options&quot;:null,&quot;observables&quot;:{}},&quot;children&quot;:[{&quot;props&quot;:{&quot;style&quot;:{&quot;flexDirection&quot;:&quot;column&quot;,&quot;height&quot;:&quot;100%&quot;,&quot;minHeight&quot;:&quot;400px&quot;,&quot;display&quot;:&quot;flex&quot;,&quot;width&quot;:&quot;100%&quot;,&quot;overflow&quot;:&quot;hidden&quot;}},&quot;nodeType&quot;:&quot;DOM&quot;,&quot;type&quot;:&quot;node&quot;,&quot;instanceArgs&quot;:{&quot;namespace&quot;:&quot;html&quot;,&quot;tag&quot;:&quot;div&quot;},&quot;children&quot;:[{&quot;props&quot;:{&quot;attributes&quot;:{&quot;height&quot;:&quot;100%&quot;,&quot;scrolling&quot;:&quot;no&quot;,&quot;src&quot;:&quot;javascript:void(0)&quot;,&quot;frameborder&quot;:0},&quot;id&quot;:&quot;ifr&quot;,&quot;style&quot;:{&quot;width&quot;:&quot;100%&quot;,&quot;flexGrow&quot;:&quot;1&quot;}},&quot;nodeType&quot;:&quot;DOM&quot;,&quot;type&quot;:&quot;node&quot;,&quot;instanceArgs&quot;:{&quot;namespace&quot;:&quot;html&quot;,&quot;tag&quot;:&quot;iframe&quot;},&quot;children&quot;:[]}]}]})</unsafe-script>"
      ],
      "text/plain": [
       "WebIO.Scope(\"scope-29bfe614-176b-4b5a-b9c0-cf3a9cc1e44c\", WebIO.Node{WebIO.DOM}(WebIO.DOM(:html, :div), Any[Node{DOM}(DOM(:html, :iframe), Any[], Dict{Symbol,Any}(:attributes=>Dict{String,Any}(\"height\"=>\"100%\",\"scrolling\"=>\"no\",\"src\"=>\"javascript:void(0)\",\"frameborder\"=>0),:id=>\"ifr\",:style=>Dict(\"width\"=>\"100%\",\"flexGrow\"=>\"1\")), 0)], Dict{Symbol,Any}(:style=>Dict(\"flexDirection\"=>\"column\",\"height\"=>\"100%\",\"minHeight\"=>\"400px\",\"display\"=>\"flex\",\"width\"=>\"100%\",\"overflow\"=>\"hidden\")), 1), Dict{String,Tuple{Observables.AbstractObservable,Union{Nothing, Bool}}}(), Set(String[]), nothing, Any[], Dict{Any,Any}(\"_promises\"=>Dict{Any,Any}(\"importsLoaded\"=>Any[JSString(\"function () {\\n    var frame = this.dom.querySelector(\\\"#ifr\\\");\\n    var doc = frame.contentDocument\\n    var win = frame.contentWindow\\n\\n    // Ensure that the iframe's baseURI matches the baseURI of the\\n    // outer document. This is necessary to resolve\\n    // https://github.com/JuliaGizmos/WebIO.jl/issues/167\\n    var base = doc.createElement(\\\"base\\\");\\n    base.setAttribute(\\\"href\\\", document.baseURI);\\n    doc.head.appendChild(base);\\n\\n    var webio = doc.createElement(\\\"script\\\")\\n    webio.src = \\\"/assetserver/c443b012d0ad3ce8e6cc9de306cd3766b1d18a79-assets/webio/dist/bundle.js\\\"\\n    var parent = window\\n\\n    function resizeIframe() {\\n        doc.body.style.padding = '0'\\n        doc.body.style.margin = '0'\\n        doc.documentElement.height = '100%'\\n        doc.body.height = '100%'\\n    }\\n\\n    webio.onload = function () {\\n        win.WebIO.sendCallback = parent.WebIO.sendCallback; // Share stuff\\n        win.WebIO.scopes = parent.WebIO.scopes\\n        win.WebIO.obsscopes = parent.WebIO.obsscopes\\n        win.WebIO._connected = true\\n        doc.body.innerHTML = \\\"<html><body>\\\" + \\\"<div class='display:none'></div><unsafe-script style='display:none'>\\\\nWebIO.mount(this.previousSibling,{&quot;props&quot;:{},&quot;nodeType&quot;:&quot;Scope&quot;,&quot;type&quot;:&quot;node&quot;,&quot;instanceArgs&quot;:{&quot;imports&quot;:{&quot;data&quot;:[{&quot;name&quot;:null,&quot;type&quot;:&quot;js&quot;,&quot;url&quot;:&quot;/assetserver/39091d6b9eb892b592bedf9cea6c288f61f7d3f3-main.min.js&quot;}],&quot;type&quot;:&quot;async_block&quot;},&quot;id&quot;:&quot;scope-811fcc65-140e-41b1-ba7b-07809c0b1f5c&quot;,&quot;handlers&quot;:{&quot;meshcat-command&quot;:[(function (val){return this.viewer.handle_command_message({&quot;data&quot;:val})})],&quot;_promises&quot;:{&quot;importsLoaded&quot;:[(function (mc){var element=this.dom.children[0]; this.viewer=new mc.Viewer(element); WebIO.setval({&quot;name&quot;:&quot;meshcat-request&quot;,&quot;scope&quot;:&quot;scope-811fcc65-140e-41b1-ba7b-07809c0b1f5c&quot;,&quot;id&quot;:&quot;ob_02&quot;,&quot;type&quot;:&quot;observable&quot;},String(Date.now())); window.document.body.style.margin=&quot;0&quot;; return window.meshcat_viewer=this.viewer})]}},&quot;systemjs_options&quot;:null,&quot;observables&quot;:{&quot;meshcat-command&quot;:{&quot;sync&quot;:false,&quot;id&quot;:&quot;ob_01&quot;,&quot;value&quot;:[]},&quot;meshcat-controls&quot;:{&quot;sync&quot;:true,&quot;id&quot;:&quot;ob_03&quot;,&quot;value&quot;:[]},&quot;meshcat-request&quot;:{&quot;sync&quot;:true,&quot;id&quot;:&quot;ob_02&quot;,&quot;value&quot;:&quot;&quot;}}},&quot;children&quot;:[{&quot;props&quot;:{&quot;className&quot;:&quot;meshcat-viewer&quot;,&quot;style&quot;:{&quot;left&quot;:0,&quot;right&quot;:0,&quot;overflow&quot;:&quot;hidden&quot;,&quot;position&quot;:&quot;absolute&quot;,&quot;height&quot;:&quot;100vh&quot;,&quot;margin&quot;:0,&quot;width&quot;:&quot;100vw&quot;}},&quot;nodeType&quot;:&quot;DOM&quot;,&quot;type&quot;:&quot;node&quot;,&quot;instanceArgs&quot;:{&quot;namespace&quot;:&quot;html&quot;,&quot;tag&quot;:&quot;div&quot;},&quot;children&quot;:[]}]})</unsafe-script>\\\" + \\\"</body></html>\\\";\\n        setTimeout(function () { resizeIframe() }, 0)\\n    }\\n\\n    doc.body.appendChild(webio)\\n}\"), JSString(\"(function (){return this.dom.style.height=\\\"100%\\\"})\")])), WebIO.ConnectionPool(Channel{Any}(sz_max:9223372036854775807,sz_curr:0), Set(WebIO.AbstractConnection[]), Channel{WebIO.AbstractConnection}(sz_max:32,sz_curr:0)))"
      ]
     },
     "execution_count": 12,
     "metadata": {},
     "output_type": "execute_result"
    }
   ],
   "source": [
    "vis = Visualizer()\n",
    "# open(vis)\n",
    "IJuliaCell(vis)"
   ]
  },
  {
   "cell_type": "markdown",
   "metadata": {},
   "source": [
    "Colors"
   ]
  },
  {
   "cell_type": "code",
   "execution_count": 13,
   "metadata": {},
   "outputs": [],
   "source": [
    "green_ = MeshPhongMaterial(color=RGBA(0, 1, 0, 1.0))\n",
    "green_transparent = MeshPhongMaterial(color=RGBA(0, 1, 0, 0.1))\n",
    "red_ = MeshPhongMaterial(color=RGBA(1, 0, 0, 1.0))\n",
    "red_transparent = MeshPhongMaterial(color=RGBA(1, 0, 0, 0.1))\n",
    "blue_ = MeshPhongMaterial(color=RGBA(0, 0, 1, 1.0))\n",
    "blue_transparent = MeshPhongMaterial(color=RGBA(0, 0, 1, 0.1))\n",
    "blue_semi = MeshPhongMaterial(color=RGBA(0, 0, 1, 0.5))\n",
    "yellow_ = MeshPhongMaterial(color=RGBA(1, 1, 0, 1.0))\n",
    "yellow_transparent = MeshPhongMaterial(color=RGBA(1, 1, 0, 0.75))\n",
    "\n",
    "orange_ = MeshPhongMaterial(color=RGBA(233/255, 164/255, 16/255, 1.0))\n",
    "orange_transparent = MeshPhongMaterial(color=RGBA(233/255, 164/255, 16/255, 0.1))\n",
    "black_ = MeshPhongMaterial(color=RGBA(0, 0, 0, 1.0))\n",
    "black_transparent = MeshPhongMaterial(color=RGBA(0, 0, 0, 0.1))\n",
    "black_semi = MeshPhongMaterial(color=RGBA(0, 0, 0, 0.5));"
   ]
  },
  {
   "cell_type": "code",
   "execution_count": 14,
   "metadata": {},
   "outputs": [
    {
     "data": {
      "text/plain": [
       "addcylinders! (generic function with 2 methods)"
      ]
     },
     "execution_count": 14,
     "metadata": {},
     "output_type": "execute_result"
    }
   ],
   "source": [
    "function plot_cylinder(c1,c2,radius,mat,name=\"\")\n",
    "    geom = Cylinder(Point3f0(c1),Point3f0(c2),convert(Float32,radius))\n",
    "    setobject!(vis[\"cyl\"][name],geom,red_)\n",
    "end\n",
    "\n",
    "function addcylinders!(vis,cylinders,height=1.5)\n",
    "    for (i,cyl) in enumerate(cylinders)\n",
    "        plot_cylinder([cyl[1],cyl[2],0],[cyl[1],cyl[2],height],cyl[3],blue_,\"cyl_$i\")\n",
    "        # plot_cylinder([cyl[1],cyl[2],0],[0,0,height],cyl[3],blue_,\"cyl_$i\")\n",
    "    end\n",
    "end"
   ]
  },
  {
   "cell_type": "code",
   "execution_count": 15,
   "metadata": {},
   "outputs": [],
   "source": [
    "traj_folder = joinpath(dirname(pathof(TrajectoryOptimization)),\"..\")\n",
    "urdf_folder = joinpath(traj_folder, \"dynamics\",\"urdf\")\n",
    "obj = joinpath(urdf_folder, \"quadrotor_base.obj\")\n",
    "\n",
    "robot_obj = FileIO.load(obj);"
   ]
  },
  {
   "cell_type": "code",
   "execution_count": 16,
   "metadata": {},
   "outputs": [],
   "source": [
    "sphere_small = HyperSphere(Point3f0(0), convert(Float32,0.1*r_quad)) # trajectory points\n",
    "sphere_medium = HyperSphere(Point3f0(0), convert(Float32,0.25*r_quad));"
   ]
  },
  {
   "cell_type": "code",
   "execution_count": 17,
   "metadata": {},
   "outputs": [],
   "source": [
    "obstacles = vis[\"obs\"]\n",
    "traj = vis[\"traj\"]\n",
    "robot = vis[\"robot\"]\n",
    "setobject!(vis[\"robot\"][\"quad\"],robot_obj,black_);"
   ]
  },
  {
   "cell_type": "code",
   "execution_count": 18,
   "metadata": {},
   "outputs": [
    {
     "data": {
      "text/plain": [
       "MeshCat Visualizer with path /Cameras/default"
      ]
     },
     "execution_count": 18,
     "metadata": {},
     "output_type": "execute_result"
    }
   ],
   "source": [
    "settransform!(vis[\"/Cameras/default\"], compose(Translation(0., 72., 60.),LinearMap(RotX(pi/7.5)*RotZ(pi/2))))"
   ]
  },
  {
   "cell_type": "code",
   "execution_count": 19,
   "metadata": {},
   "outputs": [],
   "source": [
    "addcylinders!(vis,cylinders,16.0)"
   ]
  },
  {
   "cell_type": "code",
   "execution_count": 20,
   "metadata": {},
   "outputs": [],
   "source": [
    "traj = vis[\"traj\"]\n",
    "\n",
    "for i = 1:N\n",
    "    setobject!(vis[\"traj\"][\"t$i\"],sphere_small,blue_)\n",
    "    settransform!(vis[\"traj\"][\"t$i\"], Translation(prob.X[i][1], prob.X[i][2], prob.X[i][3]))\n",
    "end"
   ]
  },
  {
   "cell_type": "code",
   "execution_count": 21,
   "metadata": {},
   "outputs": [],
   "source": [
    "anim = MeshCat.Animation(20)\n",
    "for i = 1:N\n",
    "    MeshCat.atframe(anim,vis,i) do frame\n",
    "        settransform!(frame[\"robot\"], compose(Translation(prob.X[i][1:3]...),LinearMap(Quat(prob.X[i][4:7]...))))\n",
    "    end\n",
    "end\n",
    "MeshCat.setanimation!(vis,anim)"
   ]
  },
  {
   "cell_type": "code",
   "execution_count": null,
   "metadata": {},
   "outputs": [],
   "source": []
  },
  {
   "cell_type": "code",
   "execution_count": null,
   "metadata": {},
   "outputs": [],
   "source": []
  }
 ],
 "metadata": {
  "@webio": {
   "lastCommId": null,
   "lastKernelId": null
  },
  "kernelspec": {
   "display_name": "Julia 1.1.0",
   "language": "julia",
   "name": "julia-1.1"
  },
  "language_info": {
   "file_extension": ".jl",
   "mimetype": "application/julia",
   "name": "julia",
   "version": "1.1.0"
  }
 },
 "nbformat": 4,
 "nbformat_minor": 2
}
