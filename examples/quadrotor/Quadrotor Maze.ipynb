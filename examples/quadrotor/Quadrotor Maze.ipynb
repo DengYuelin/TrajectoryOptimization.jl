{
 "cells": [
  {
   "cell_type": "markdown",
   "metadata": {},
   "source": [
    "## Quadrotor Maze with Visualization"
   ]
  },
  {
   "cell_type": "code",
   "execution_count": 1,
   "metadata": {},
   "outputs": [
    {
     "name": "stderr",
     "output_type": "stream",
     "text": [
      "┌ Info: Recompiling stale cache file /home/taylor/.julia/compiled/v1.1/TrajectoryOptimization/UVgeA.ji for TrajectoryOptimization [c79d492b-0548-5874-b488-5a62c1d9d0ca]\n",
      "└ @ Base loading.jl:1184\n"
     ]
    },
    {
     "data": {
      "text/html": [
       "    <script class='js-collapse-script'>\n",
       "        var curMatch =\n",
       "            window.location.href\n",
       "            .match(/(.*?)\\/notebooks\\/.*\\.ipynb/);\n",
       "\n",
       "        curMatch = curMatch ||\n",
       "            window.location.href\n",
       "            .match(/(.*?)\\/apps\\/.*\\.ipynb/);\n",
       "\n",
       "        if ( curMatch ) {\n",
       "            $('head').append('<base href=\"' + curMatch[1] + '/\">');\n",
       "        }\n",
       "    </script>\n"
      ],
      "text/plain": [
       "HTML{String}(\"    <script class='js-collapse-script'>\\n        var curMatch =\\n            window.location.href\\n            .match(/(.*?)\\\\/notebooks\\\\/.*\\\\.ipynb/);\\n\\n        curMatch = curMatch ||\\n            window.location.href\\n            .match(/(.*?)\\\\/apps\\\\/.*\\\\.ipynb/);\\n\\n        if ( curMatch ) {\\n            \\$('head').append('<base href=\\\"' + curMatch[1] + '/\\\">');\\n        }\\n    </script>\\n\")"
      ]
     },
     "metadata": {},
     "output_type": "display_data"
    },
    {
     "data": {
      "text/html": [
       "<script class='js-collapse-script' src='/assetserver/c443b012d0ad3ce8e6cc9de306cd3766b1d18a79-assets/webio/dist/bundle.js'></script>"
      ],
      "text/plain": [
       "HTML{String}(\"<script class='js-collapse-script' src='/assetserver/c443b012d0ad3ce8e6cc9de306cd3766b1d18a79-assets/webio/dist/bundle.js'></script>\")"
      ]
     },
     "metadata": {},
     "output_type": "display_data"
    },
    {
     "data": {
      "text/html": [
       "<script class='js-collapse-script' src='/assetserver/c443b012d0ad3ce8e6cc9de306cd3766b1d18a79-assets/providers/ijulia_setup.js'></script>"
      ],
      "text/plain": [
       "HTML{String}(\"<script class='js-collapse-script' src='/assetserver/c443b012d0ad3ce8e6cc9de306cd3766b1d18a79-assets/providers/ijulia_setup.js'></script>\")"
      ]
     },
     "metadata": {},
     "output_type": "display_data"
    },
    {
     "data": {
      "text/html": [
       "  <script class='js-collapse-script'>\n",
       "    $('.js-collapse-script').parent('.output_subarea').css('padding', '0');\n",
       "  </script>\n"
      ],
      "text/plain": [
       "HTML{String}(\"  <script class='js-collapse-script'>\\n    \\$('.js-collapse-script').parent('.output_subarea').css('padding', '0');\\n  </script>\\n\")"
      ]
     },
     "metadata": {},
     "output_type": "display_data"
    }
   ],
   "source": [
    "using TrajectoryOptimization\n",
    "using Plots, LinearAlgebra, MeshCat, GeometryTypes, CoordinateTransformations, FileIO, MeshIO"
   ]
  },
  {
   "cell_type": "markdown",
   "metadata": {},
   "source": [
    "Import the quadrotor model"
   ]
  },
  {
   "cell_type": "code",
   "execution_count": 2,
   "metadata": {},
   "outputs": [],
   "source": [
    "model = Dynamics.quadrotor_model\n",
    "n = model.n # number of states\n",
    "m = model.m; # number of controls"
   ]
  },
  {
   "cell_type": "markdown",
   "metadata": {},
   "source": [
    "Define numerical type"
   ]
  },
  {
   "cell_type": "code",
   "execution_count": 3,
   "metadata": {},
   "outputs": [],
   "source": [
    "T = Float64;"
   ]
  },
  {
   "cell_type": "markdown",
   "metadata": {},
   "source": [
    "Define initial and goals states"
   ]
  },
  {
   "cell_type": "code",
   "execution_count": 4,
   "metadata": {},
   "outputs": [],
   "source": [
    "q0 = [1.;0.;0.;0.] # unit quaternion\n",
    "\n",
    "x0 = zeros(T,n)\n",
    "x0[1:3] = [0.; 0.; 10.]\n",
    "x0[4:7] = q0\n",
    "\n",
    "xf = zero(x0)\n",
    "xf[1:3] = [0.;60.; 10.]\n",
    "xf[4:7] = q0;"
   ]
  },
  {
   "cell_type": "markdown",
   "metadata": {},
   "source": [
    "Define a cost function, e.g., quadratic"
   ]
  },
  {
   "cell_type": "code",
   "execution_count": 5,
   "metadata": {},
   "outputs": [],
   "source": [
    "Q = (1.0e-2)*Diagonal(I,n)\n",
    "R = (1.0e-2)*Diagonal(I,m)\n",
    "Qf = 1000.0*Diagonal(I,n)\n",
    "_cost = LQRCost(Q, R, Qf, xf);"
   ]
  },
  {
   "cell_type": "markdown",
   "metadata": {},
   "source": [
    "Define constraints"
   ]
  },
  {
   "cell_type": "code",
   "execution_count": 6,
   "metadata": {},
   "outputs": [],
   "source": [
    "r_quad = 3.\n",
    "r_cylinder = 2.\n",
    "cylinders = []\n",
    "zh = 3\n",
    "l1 = 5\n",
    "l2 = 4\n",
    "l3 = 5\n",
    "l4 = 10\n",
    "\n",
    "for i = range(-25,stop=-10,length=l1)\n",
    "    push!(cylinders,(i, 10,r_cylinder))\n",
    "end\n",
    "\n",
    "for i = range(10,stop=25,length=l1)\n",
    "    push!(cylinders,(i, 10, r_cylinder))\n",
    "end\n",
    "\n",
    "for i = range(-7.5,stop=7.5,length=l3)\n",
    "    push!(cylinders,(i, 30, r_cylinder))\n",
    "end\n",
    "\n",
    "for i = range(-25,stop=-10,length=l1)\n",
    "    push!(cylinders,(i, 50, r_cylinder))\n",
    "end\n",
    "\n",
    "for i = range(10,stop=25,length=l1)\n",
    "    push!(cylinders,(i, 50, r_cylinder))\n",
    "end\n",
    "\n",
    "for i = range(10+2*r_cylinder,stop=50-2*r_cylinder,length=l4)\n",
    "    push!(cylinders,(-25, i, r_cylinder))\n",
    "end\n",
    "\n",
    "for i = range(10+2*r_cylinder,stop=50-2*r_cylinder,length=l4)\n",
    "    push!(cylinders,(25, i, r_cylinder))\n",
    "end\n",
    "\n",
    "n_cylinders = length(cylinders)\n",
    "\n",
    "function cI_maze(c,x,u)\n",
    "    for i = 1:n_cylinders\n",
    "        c[i] = circle_constraint(x,cylinders[i][1],cylinders[i][2],cylinders[i][3]+r_quad)\n",
    "    end\n",
    "end\n",
    "\n",
    "maze = Constraint{Inequality}(cI_maze,n,m,n_cylinders,:maze)\n",
    "\n",
    "u_min = 0.\n",
    "u_max = 20.\n",
    "x_max = Inf*ones(model.n)\n",
    "x_min = -Inf*ones(model.n)\n",
    "\n",
    "x_max[1:3] = [25.0; Inf; 20]\n",
    "x_min[1:3] = [-25.0; -Inf; 0.]\n",
    "bnd = BoundConstraint(n,m,u_min=u_min,u_max=u_max,x_min=x_min,x_max=x_max,trim=true)\n",
    "\n",
    "goal = goal_constraint(xf)\n",
    "con = [bnd,maze,goal]; # constraint set"
   ]
  },
  {
   "cell_type": "markdown",
   "metadata": {},
   "source": [
    "Solver options"
   ]
  },
  {
   "cell_type": "code",
   "execution_count": 7,
   "metadata": {},
   "outputs": [],
   "source": [
    "verbose=false\n",
    "opts_ilqr = iLQRSolverOptions{T}(verbose=true,iterations=300,live_plotting=:off)\n",
    "\n",
    "opts_al = AugmentedLagrangianSolverOptions{T}(verbose=true,opts_uncon=opts_ilqr,\n",
    "    iterations=20,cost_tolerance=1.0e-6,cost_tolerance_intermediate=1.0e-5,constraint_tolerance=1.0e-3,penalty_scaling=10.,penalty_initial=1.)\n",
    "\n",
    "opts_altro = ALTROSolverOptions{T}(verbose=true,resolve_feasible_problem=false,opts_al=opts_al,R_inf=0.01);"
   ]
  },
  {
   "cell_type": "markdown",
   "metadata": {},
   "source": [
    "Define a problem"
   ]
  },
  {
   "cell_type": "code",
   "execution_count": 8,
   "metadata": {},
   "outputs": [],
   "source": [
    "N = 101 # number of knot points\n",
    "tf = 5.0\n",
    "dt = tf/(N-1) # total time\n",
    "\n",
    "U = [0.5*9.81/4.0*ones(m) for k = 1:N-1] # initial hovering control trajectory\n",
    "obj = Objective(_cost,N) # objective with same stagewise costs\n",
    "\n",
    "con_set = ProblemConstraints(con,N) # constraint trajectory\n",
    "\n",
    "prob = Problem(model,obj, constraints=con_set, x0=x0, integration=:rk4, N=N, dt=dt)\n",
    "initial_controls!(prob,U); # initialize problem with controls"
   ]
  },
  {
   "cell_type": "markdown",
   "metadata": {},
   "source": [
    "State trajectory guess"
   ]
  },
  {
   "cell_type": "code",
   "execution_count": 9,
   "metadata": {
    "scrolled": false
   },
   "outputs": [],
   "source": [
    "X_guess = zeros(n,7)\n",
    "X_guess[:,1] = x0\n",
    "X_guess[:,7] = xf\n",
    "X_guess[1:3,2:6] .= [0 -12.5 -20 -12.5 0 ;15 20 30 40 45 ;10 10 10 10 10]\n",
    "\n",
    "X_guess[4:7,:] .= q0\n",
    "X0 = TrajectoryOptimization.interp_rows(N,tf,X_guess);\n",
    "copyto!(prob.X,X0);"
   ]
  },
  {
   "cell_type": "markdown",
   "metadata": {},
   "source": [
    "Solve problem"
   ]
  },
  {
   "cell_type": "code",
   "execution_count": 10,
   "metadata": {},
   "outputs": [
    {
     "name": "stderr",
     "output_type": "stream",
     "text": [
      "┌ Info: Infeasible Solve\n",
      "└ @ TrajectoryOptimization /home/taylor/.julia/dev/TrajectoryOptimization/src/altro.jl:61\n",
      "\u001b[32m\u001b[1m    iter cost          expected    z         α         ρ         dJ        grad      zero_count info                                              \u001b[22m\u001b[39m\n",
      "\u001b[32m\u001b[1m____----------------------------------------------------------------------------------------------------------------------------------------------\u001b[22m\u001b[39m\n",
      "    1     5.9246045035  16.3811874  0.052491  0.25      0e+00     0.859869  1.808841 0          \n",
      "    2     5.8094761294  11.5327813  0.009983  0.125     0e+00     0.115128  2.088716 0          \n",
      "    3     5.5772741657  33.4495348  0.006942  0.5       0e+00     0.232202  2.224781 0          \n",
      "    4     5.5710447571  0.04274633  0.14573   0.003906  0e+00     0.006229  2.13539  0          \n",
      "    5     5.5213076151  1.11668647  0.04454   0.125     0e+00     0.049737  1.751395 0          \n",
      "    6     5.5202543536  0.31457195  0.003348  0.03125   0e+00     0.001053  1.747222 0          \n",
      "    7     5.4867920742  3.00731729  0.011127  0.25      0e+00     0.033462  1.393265 0          \n",
      "    8     5.4865079205  0.02167725  0.013108  0.003906  0e+00     0.000284  1.494287 0          \n",
      "    9     5.4766898505  1.92852473  0.005091  0.5       0e+00     0.009818  1.104522 0          \n",
      "    10    5.4433940748  0.0489467   0.680246  0.015625  0e+00     0.033296  1.110002 0          \n",
      "\u001b[32m\u001b[1m    iter cost          expected    z         α         ρ         dJ        grad      zero_count info                                              \u001b[22m\u001b[39m\n",
      "\u001b[32m\u001b[1m____----------------------------------------------------------------------------------------------------------------------------------------------\u001b[22m\u001b[39m\n",
      "    11    5.442816137   0.02378851  0.024295  0.007813  0e+00     0.000578  1.093293 0          \n",
      "    12    5.3580180885  0.96498733  0.087875  0.25      0e+00     0.084798  0.772369 0          \n",
      "    13    5.354110867   0.00954576  0.409315  0.003906  0e+00     0.003907  0.898861 0          \n",
      "    14    5.3434528761  0.09036648  0.117942  0.0625    0e+00     0.010658  0.626418 0          \n",
      "    15    5.3020782618  0.81265888  0.050913  0.5       0e+00     0.041375  0.546485 0          \n",
      "    16    5.2771565971  0.03638708  0.684904  0.015625  0e+00     0.024922  0.68163  0          \n",
      "    17    5.2331390924  0.23849346  0.184565  0.25      0e+00     0.044018  0.426645 0          \n",
      "    18    5.229228963   0.00694753  0.562809  0.003906  0e+00     0.00391   0.528375 0          \n",
      "    19    5.2178604594  0.3792595   0.029976  1         0e+00     0.011369  0.278935 0          \n",
      "    20    5.1823568492  0.0838586   0.423375  0.03125   0e+00     0.035504  0.51094  0          \n",
      "\u001b[32m\u001b[1m    iter cost          expected    z         α         ρ         dJ        grad      zero_count info                                              \u001b[22m\u001b[39m\n",
      "\u001b[32m\u001b[1m____----------------------------------------------------------------------------------------------------------------------------------------------\u001b[22m\u001b[39m\n",
      "    21    5.1525620754  0.72885913  0.040879  0.25      0e+00     0.029795  0.242809 0          \n",
      "    22    5.1422231921  0.35487695  0.029134  0.25      0e+00     0.010339  0.177604 0          \n",
      "    23    5.1170811975  1.0666448   0.023571  1         0e+00     0.025142  0.101615 0          \n",
      "    24    5.1103552797  0.01043576  0.644507  0.007813  0e+00     0.006726  0.367111 0          \n",
      "    25    5.107854711   0.08119884  0.030796  0.125     0e+00     0.002501  0.090401 0          \n",
      "    26    5.1032292047  0.29578321  0.015638  1         0e+00     0.004626  0.04272  0          \n",
      "    27    5.1011583832  0.00512915  0.403736  0.003906  0e+00     0.002071  0.336559 0          \n",
      "    28    5.0999377022  0.06782571  0.017997  0.125     0e+00     0.001221  0.057679 0          \n",
      "    29    5.0971182145  0.24933007  0.011308  1         0e+00     0.002819  0.037075 0          \n",
      "    30    5.0968362839  0.00510608  0.055215  0.003906  0e+00     0.000282  0.322154 0          \n",
      "\u001b[32m\u001b[1m    iter cost          expected    z         α         ρ         dJ        grad      zero_count info                                              \u001b[22m\u001b[39m\n",
      "\u001b[32m\u001b[1m____----------------------------------------------------------------------------------------------------------------------------------------------\u001b[22m\u001b[39m\n",
      "    31    5.0958778874  0.10813862  0.008863  0.125     0e+00     0.000958  0.034517 0          \n",
      "    32    5.0954032079  0.37716446  0.001259  1         0e+00     0.000475  0.018123 0          \n",
      "    33    5.082104699   0.01868107  0.711871  1         0e+00     0.013299  0.049154 0          \n",
      "    34    5.0744982328  0.21122502  0.036011  1         0e+00     0.007606  0.063702 0          \n",
      "    35    5.0739951134  0.00522286  0.09633   0.015625  0e+00     0.000503  0.085048 0          \n",
      "    36    5.0631844575  0.14939699  0.072362  0.5       0e+00     0.010811  0.047987 0          \n",
      "    37    5.0609461205  0.02333395  0.095926  0.5       0e+00     0.002238  0.021074 0          \n",
      "    38    5.0605524037  0.00354964  0.110917  0.25      0e+00     0.000394  0.015771 0          \n",
      "    39    5.0605524034  1.25e-08    0.030951  1.91e-06  0e+00     3.87e-10  0.013193 0          \n",
      "\u001b[33m\u001b[1miter  total  c_max       cost      info                                              \u001b[22m\u001b[39m\n",
      "\u001b[33m\u001b[1m-------------------------------------------------------------------------------------\u001b[22m\u001b[39m\n",
      "1     0       0.14022766  5.060552 \n",
      "\u001b[32m\u001b[1m    iter cost          expected    z         α         ρ         dJ        grad      zero_count info                                              \u001b[22m\u001b[39m\n",
      "\u001b[32m\u001b[1m____----------------------------------------------------------------------------------------------------------------------------------------------\u001b[22m\u001b[39m\n",
      "    1     5.0771705566  0e+00       0e+00     0e+00     10        0e+00     0.096959 1          \n",
      "    2     5.0771705566  0e+00       0e+00     0e+00     20        0e+00     0.013941 2          \n",
      "    3     5.0771705566  0e+00       0e+00     0e+00     30        0e+00     0.009349 3          \n",
      "    4     5.0771705566  0e+00       0e+00     0e+00     40        0e+00     0.007049 4          \n",
      "    5     5.0771705566  0e+00       0e+00     0e+00     50        0e+00     0.005663 5          \n",
      "    6     5.0771705566  0e+00       0e+00     0e+00     60        0e+00     0.004736 6          \n",
      "    7     5.0771705566  0e+00       0e+00     0e+00     70        0e+00     0.004072 7          \n",
      "    8     5.0771705566  0e+00       0e+00     0e+00     80        0e+00     0.003572 8          \n",
      "    9     5.0771705566  0e+00       0e+00     0e+00     90        0e+00     0.003183 9          \n",
      "    10    5.0771705566  0e+00       0e+00     0e+00     100       0e+00     0.002871 10         \n",
      "\u001b[32m\u001b[1m    iter cost          expected    z         α         ρ         dJ        grad      zero_count info                                              \u001b[22m\u001b[39m\n",
      "\u001b[32m\u001b[1m____----------------------------------------------------------------------------------------------------------------------------------------------\u001b[22m\u001b[39m\n",
      "    11    5.0771705566  0e+00       0e+00     0e+00     110       0e+00     0.002615 11         \n",
      "\u001b[33m\u001b[1miter  total  c_max       cost      info                                              \u001b[22m\u001b[39m\n",
      "\u001b[33m\u001b[1m-------------------------------------------------------------------------------------\u001b[22m\u001b[39m\n",
      "2     0       0.14022766  5.077171 \n",
      "\u001b[32m\u001b[1m    iter cost          expected    z         α         ρ         dJ        grad      zero_count info                                              \u001b[22m\u001b[39m\n",
      "\u001b[32m\u001b[1m____----------------------------------------------------------------------------------------------------------------------------------------------\u001b[22m\u001b[39m\n",
      "    1     5.2395365769  4.28320677  0.000891  0.125     0e+00     0.003816  0.227012 0          \n",
      "    2     5.2395365769  0e+00       0e+00     0e+00     10        0e+00     0.18477  1          \n",
      "    3     5.2395365769  0e+00       0e+00     0e+00     20        0e+00     0.024828 2          \n",
      "    4     5.2395365769  0e+00       0e+00     0e+00     30        0e+00     0.02265  3          \n",
      "    5     5.2395365769  0e+00       0e+00     0e+00     40        0e+00     0.020861 4          \n"
     ]
    },
    {
     "name": "stderr",
     "output_type": "stream",
     "text": [
      "    6     5.2395365769  0e+00       0e+00     0e+00     50        0e+00     0.019349 5          \n",
      "    7     5.2395365769  0e+00       0e+00     0e+00     60        0e+00     0.01805  6          \n",
      "    8     5.2395365769  0e+00       0e+00     0e+00     70        0e+00     0.016919 7          \n",
      "    9     5.2395365769  0e+00       0e+00     0e+00     80        0e+00     0.015926 8          \n",
      "    10    5.2395365658  0.00727308  1.52e-06  0.000488  50        1.11e-08  0.015045 0          \n",
      "\u001b[33m\u001b[1miter  total  c_max       cost      info                                              \u001b[22m\u001b[39m\n",
      "\u001b[33m\u001b[1m-------------------------------------------------------------------------------------\u001b[22m\u001b[39m\n",
      "3     0       0.12091475  5.239537 \n",
      "\u001b[32m\u001b[1m    iter cost          expected    z         α         ρ         dJ        grad      zero_count info                                              \u001b[22m\u001b[39m\n",
      "\u001b[32m\u001b[1m____----------------------------------------------------------------------------------------------------------------------------------------------\u001b[22m\u001b[39m\n",
      "    1     6.4587481752  8.46231128  0.000616  0.03125   0e+00     0.005217  0.692499 0          \n",
      "    2     5.634967818   136.151955  0.00605   1         0e+00     0.82378   0.647278 0          \n",
      "    3     5.6308931412  0.38931092  0.010466  0.007813  0e+00     0.004075  0.129567 0          \n",
      "    4     5.6304128129  0.09614246  0.004996  0.001953  0e+00     0.00048   0.129473 0          \n",
      "    5     5.3848115094  24.5788398  0.009992  1         0e+00     0.245601  0.085617 0          \n",
      "    6     5.3846532637  0.00075176  0.2105    0.003906  0e+00     0.000158  0.069296 0          \n",
      "    7     5.3832463272  0.05848487  0.024056  0.5       0e+00     0.001407  0.017939 0          \n",
      "    8     5.3832283325  0.00004466  0.402884  0.000488  0e+00     1.8e-05   0.067841 0          \n",
      "    9     5.3829138118  0.01889721  0.016644  0.5       0e+00     0.000315  0.00648  0          \n",
      "    10    5.3828039137  0.00508897  0.021595  0.5       0e+00     0.00011   0.004155 0          \n",
      "\u001b[32m\u001b[1m    iter cost          expected    z         α         ρ         dJ        grad      zero_count info                                              \u001b[22m\u001b[39m\n",
      "\u001b[32m\u001b[1m____----------------------------------------------------------------------------------------------------------------------------------------------\u001b[22m\u001b[39m\n",
      "    11    5.3828018998  5.6118e-06  0.358871  0.000122  0e+00     2.01e-06  0.068056 0          \n",
      "\u001b[33m\u001b[1miter  total  c_max       cost      info                                              \u001b[22m\u001b[39m\n",
      "\u001b[33m\u001b[1m-------------------------------------------------------------------------------------\u001b[22m\u001b[39m\n",
      "4     0       0.01348723  5.382802 \n",
      "\u001b[32m\u001b[1m    iter cost          expected    z         α         ρ         dJ        grad      zero_count info                                              \u001b[22m\u001b[39m\n",
      "\u001b[32m\u001b[1m____----------------------------------------------------------------------------------------------------------------------------------------------\u001b[22m\u001b[39m\n",
      "    1     5.5338993728  0.02687795  0.011668  0.000977  0e+00     0.000314  0.086674 0          \n",
      "    2     5.533097669   0.10708248  0.007487  0.003906  0e+00     0.000802  0.06374  0          \n",
      "    3     5.3667536636  13.664947   0.012173  1         0e+00     0.166344  0.063029 0          \n",
      "    4     5.3667529733  0.00001224  0.056404  0.000244  0e+00     6.9e-07   0.063104 0          \n",
      "\u001b[33m\u001b[1miter  total  c_max       cost      info                                              \u001b[22m\u001b[39m\n",
      "\u001b[33m\u001b[1m-------------------------------------------------------------------------------------\u001b[22m\u001b[39m\n",
      "5     0       0.00034709  5.366753 \n"
     ]
    }
   ],
   "source": [
    "solve!(prob, opts_altro)"
   ]
  },
  {
   "cell_type": "markdown",
   "metadata": {},
   "source": [
    "Visualization"
   ]
  },
  {
   "cell_type": "code",
   "execution_count": 11,
   "metadata": {
    "scrolled": false
   },
   "outputs": [
    {
     "data": {
      "text/html": [
       "<div class='display:none'></div><unsafe-script style='display:none'>\n",
       "WebIO.mount(this.previousSibling,{&quot;props&quot;:{},&quot;nodeType&quot;:&quot;Scope&quot;,&quot;type&quot;:&quot;node&quot;,&quot;instanceArgs&quot;:{&quot;imports&quot;:{&quot;data&quot;:[],&quot;type&quot;:&quot;async_block&quot;},&quot;id&quot;:&quot;scope-29bfe614-176b-4b5a-b9c0-cf3a9cc1e44c&quot;,&quot;handlers&quot;:{&quot;_promises&quot;:{&quot;importsLoaded&quot;:[function () {\n",
       "    var frame = this.dom.querySelector(&quot;#ifr&quot;);\n",
       "    var doc = frame.contentDocument\n",
       "    var win = frame.contentWindow\n",
       "\n",
       "    // Ensure that the iframe&#39;s baseURI matches the baseURI of the\n",
       "    // outer document. This is necessary to resolve\n",
       "    // https://github.com/JuliaGizmos/WebIO.jl/issues/167\n",
       "    var base = doc.createElement(&quot;base&quot;);\n",
       "    base.setAttribute(&quot;href&quot;, document.baseURI);\n",
       "    doc.head.appendChild(base);\n",
       "\n",
       "    var webio = doc.createElement(&quot;script&quot;)\n",
       "    webio.src = &quot;/assetserver/c443b012d0ad3ce8e6cc9de306cd3766b1d18a79-assets/webio/dist/bundle.js&quot;\n",
       "    var parent = window\n",
       "\n",
       "    function resizeIframe() {\n",
       "        doc.body.style.padding = &#39;0&#39;\n",
       "        doc.body.style.margin = &#39;0&#39;\n",
       "        doc.documentElement.height = &#39;100%&#39;\n",
       "        doc.body.height = &#39;100%&#39;\n",
       "    }\n",
       "\n",
       "    webio.onload = function () {\n",
       "        win.WebIO.sendCallback = parent.WebIO.sendCallback; // Share stuff\n",
       "        win.WebIO.scopes = parent.WebIO.scopes\n",
       "        win.WebIO.obsscopes = parent.WebIO.obsscopes\n",
       "        win.WebIO._connected = true\n",
       "        doc.body.innerHTML = &quot;&lt;html&gt;&lt;body&gt;&quot; + &quot;&lt;div class=&#39;display:none&#39;&gt;&lt;/div&gt;&lt;unsafe-script style=&#39;display:none&#39;&gt;\\nWebIO.mount(this.previousSibling,{&amp;quot;props&amp;quot;:{},&amp;quot;nodeType&amp;quot;:&amp;quot;Scope&amp;quot;,&amp;quot;type&amp;quot;:&amp;quot;node&amp;quot;,&amp;quot;instanceArgs&amp;quot;:{&amp;quot;imports&amp;quot;:{&amp;quot;data&amp;quot;:[{&amp;quot;name&amp;quot;:null,&amp;quot;type&amp;quot;:&amp;quot;js&amp;quot;,&amp;quot;url&amp;quot;:&amp;quot;/assetserver/39091d6b9eb892b592bedf9cea6c288f61f7d3f3-main.min.js&amp;quot;}],&amp;quot;type&amp;quot;:&amp;quot;async_block&amp;quot;},&amp;quot;id&amp;quot;:&amp;quot;scope-811fcc65-140e-41b1-ba7b-07809c0b1f5c&amp;quot;,&amp;quot;handlers&amp;quot;:{&amp;quot;meshcat-command&amp;quot;:[(function (val){return this.viewer.handle_command_message({&amp;quot;data&amp;quot;:val})})],&amp;quot;_promises&amp;quot;:{&amp;quot;importsLoaded&amp;quot;:[(function (mc){var element=this.dom.children[0]; this.viewer=new mc.Viewer(element); WebIO.setval({&amp;quot;name&amp;quot;:&amp;quot;meshcat-request&amp;quot;,&amp;quot;scope&amp;quot;:&amp;quot;scope-811fcc65-140e-41b1-ba7b-07809c0b1f5c&amp;quot;,&amp;quot;id&amp;quot;:&amp;quot;ob_02&amp;quot;,&amp;quot;type&amp;quot;:&amp;quot;observable&amp;quot;},String(Date.now())); window.document.body.style.margin=&amp;quot;0&amp;quot;; return window.meshcat_viewer=this.viewer})]}},&amp;quot;systemjs_options&amp;quot;:null,&amp;quot;observables&amp;quot;:{&amp;quot;meshcat-command&amp;quot;:{&amp;quot;sync&amp;quot;:false,&amp;quot;id&amp;quot;:&amp;quot;ob_01&amp;quot;,&amp;quot;value&amp;quot;:[]},&amp;quot;meshcat-controls&amp;quot;:{&amp;quot;sync&amp;quot;:true,&amp;quot;id&amp;quot;:&amp;quot;ob_03&amp;quot;,&amp;quot;value&amp;quot;:[]},&amp;quot;meshcat-request&amp;quot;:{&amp;quot;sync&amp;quot;:true,&amp;quot;id&amp;quot;:&amp;quot;ob_02&amp;quot;,&amp;quot;value&amp;quot;:&amp;quot;&amp;quot;}}},&amp;quot;children&amp;quot;:[{&amp;quot;props&amp;quot;:{&amp;quot;className&amp;quot;:&amp;quot;meshcat-viewer&amp;quot;,&amp;quot;style&amp;quot;:{&amp;quot;left&amp;quot;:0,&amp;quot;right&amp;quot;:0,&amp;quot;overflow&amp;quot;:&amp;quot;hidden&amp;quot;,&amp;quot;position&amp;quot;:&amp;quot;absolute&amp;quot;,&amp;quot;height&amp;quot;:&amp;quot;100vh&amp;quot;,&amp;quot;margin&amp;quot;:0,&amp;quot;width&amp;quot;:&amp;quot;100vw&amp;quot;}},&amp;quot;nodeType&amp;quot;:&amp;quot;DOM&amp;quot;,&amp;quot;type&amp;quot;:&amp;quot;node&amp;quot;,&amp;quot;instanceArgs&amp;quot;:{&amp;quot;namespace&amp;quot;:&amp;quot;html&amp;quot;,&amp;quot;tag&amp;quot;:&amp;quot;div&amp;quot;},&amp;quot;children&amp;quot;:[]}]})&lt;/unsafe-script&gt;&quot; + &quot;&lt;/body&gt;&lt;/html&gt;&quot;;\n",
       "        setTimeout(function () { resizeIframe() }, 0)\n",
       "    }\n",
       "\n",
       "    doc.body.appendChild(webio)\n",
       "},(function (){return this.dom.style.height=&quot;100%&quot;})]}},&quot;systemjs_options&quot;:null,&quot;observables&quot;:{}},&quot;children&quot;:[{&quot;props&quot;:{&quot;style&quot;:{&quot;flexDirection&quot;:&quot;column&quot;,&quot;height&quot;:&quot;100%&quot;,&quot;minHeight&quot;:&quot;400px&quot;,&quot;display&quot;:&quot;flex&quot;,&quot;width&quot;:&quot;100%&quot;,&quot;overflow&quot;:&quot;hidden&quot;}},&quot;nodeType&quot;:&quot;DOM&quot;,&quot;type&quot;:&quot;node&quot;,&quot;instanceArgs&quot;:{&quot;namespace&quot;:&quot;html&quot;,&quot;tag&quot;:&quot;div&quot;},&quot;children&quot;:[{&quot;props&quot;:{&quot;attributes&quot;:{&quot;height&quot;:&quot;100%&quot;,&quot;scrolling&quot;:&quot;no&quot;,&quot;src&quot;:&quot;javascript:void(0)&quot;,&quot;frameborder&quot;:0},&quot;id&quot;:&quot;ifr&quot;,&quot;style&quot;:{&quot;width&quot;:&quot;100%&quot;,&quot;flexGrow&quot;:&quot;1&quot;}},&quot;nodeType&quot;:&quot;DOM&quot;,&quot;type&quot;:&quot;node&quot;,&quot;instanceArgs&quot;:{&quot;namespace&quot;:&quot;html&quot;,&quot;tag&quot;:&quot;iframe&quot;},&quot;children&quot;:[]}]}]})</unsafe-script>"
      ],
      "text/plain": [
       "WebIO.Scope(\"scope-29bfe614-176b-4b5a-b9c0-cf3a9cc1e44c\", WebIO.Node{WebIO.DOM}(WebIO.DOM(:html, :div), Any[Node{DOM}(DOM(:html, :iframe), Any[], Dict{Symbol,Any}(:attributes=>Dict{String,Any}(\"height\"=>\"100%\",\"scrolling\"=>\"no\",\"src\"=>\"javascript:void(0)\",\"frameborder\"=>0),:id=>\"ifr\",:style=>Dict(\"width\"=>\"100%\",\"flexGrow\"=>\"1\")), 0)], Dict{Symbol,Any}(:style=>Dict(\"flexDirection\"=>\"column\",\"height\"=>\"100%\",\"minHeight\"=>\"400px\",\"display\"=>\"flex\",\"width\"=>\"100%\",\"overflow\"=>\"hidden\")), 1), Dict{String,Tuple{Observables.AbstractObservable,Union{Nothing, Bool}}}(), Set(String[]), nothing, Any[], Dict{Any,Any}(\"_promises\"=>Dict{Any,Any}(\"importsLoaded\"=>Any[JSString(\"function () {\\n    var frame = this.dom.querySelector(\\\"#ifr\\\");\\n    var doc = frame.contentDocument\\n    var win = frame.contentWindow\\n\\n    // Ensure that the iframe's baseURI matches the baseURI of the\\n    // outer document. This is necessary to resolve\\n    // https://github.com/JuliaGizmos/WebIO.jl/issues/167\\n    var base = doc.createElement(\\\"base\\\");\\n    base.setAttribute(\\\"href\\\", document.baseURI);\\n    doc.head.appendChild(base);\\n\\n    var webio = doc.createElement(\\\"script\\\")\\n    webio.src = \\\"/assetserver/c443b012d0ad3ce8e6cc9de306cd3766b1d18a79-assets/webio/dist/bundle.js\\\"\\n    var parent = window\\n\\n    function resizeIframe() {\\n        doc.body.style.padding = '0'\\n        doc.body.style.margin = '0'\\n        doc.documentElement.height = '100%'\\n        doc.body.height = '100%'\\n    }\\n\\n    webio.onload = function () {\\n        win.WebIO.sendCallback = parent.WebIO.sendCallback; // Share stuff\\n        win.WebIO.scopes = parent.WebIO.scopes\\n        win.WebIO.obsscopes = parent.WebIO.obsscopes\\n        win.WebIO._connected = true\\n        doc.body.innerHTML = \\\"<html><body>\\\" + \\\"<div class='display:none'></div><unsafe-script style='display:none'>\\\\nWebIO.mount(this.previousSibling,{&quot;props&quot;:{},&quot;nodeType&quot;:&quot;Scope&quot;,&quot;type&quot;:&quot;node&quot;,&quot;instanceArgs&quot;:{&quot;imports&quot;:{&quot;data&quot;:[{&quot;name&quot;:null,&quot;type&quot;:&quot;js&quot;,&quot;url&quot;:&quot;/assetserver/39091d6b9eb892b592bedf9cea6c288f61f7d3f3-main.min.js&quot;}],&quot;type&quot;:&quot;async_block&quot;},&quot;id&quot;:&quot;scope-811fcc65-140e-41b1-ba7b-07809c0b1f5c&quot;,&quot;handlers&quot;:{&quot;meshcat-command&quot;:[(function (val){return this.viewer.handle_command_message({&quot;data&quot;:val})})],&quot;_promises&quot;:{&quot;importsLoaded&quot;:[(function (mc){var element=this.dom.children[0]; this.viewer=new mc.Viewer(element); WebIO.setval({&quot;name&quot;:&quot;meshcat-request&quot;,&quot;scope&quot;:&quot;scope-811fcc65-140e-41b1-ba7b-07809c0b1f5c&quot;,&quot;id&quot;:&quot;ob_02&quot;,&quot;type&quot;:&quot;observable&quot;},String(Date.now())); window.document.body.style.margin=&quot;0&quot;; return window.meshcat_viewer=this.viewer})]}},&quot;systemjs_options&quot;:null,&quot;observables&quot;:{&quot;meshcat-command&quot;:{&quot;sync&quot;:false,&quot;id&quot;:&quot;ob_01&quot;,&quot;value&quot;:[]},&quot;meshcat-controls&quot;:{&quot;sync&quot;:true,&quot;id&quot;:&quot;ob_03&quot;,&quot;value&quot;:[]},&quot;meshcat-request&quot;:{&quot;sync&quot;:true,&quot;id&quot;:&quot;ob_02&quot;,&quot;value&quot;:&quot;&quot;}}},&quot;children&quot;:[{&quot;props&quot;:{&quot;className&quot;:&quot;meshcat-viewer&quot;,&quot;style&quot;:{&quot;left&quot;:0,&quot;right&quot;:0,&quot;overflow&quot;:&quot;hidden&quot;,&quot;position&quot;:&quot;absolute&quot;,&quot;height&quot;:&quot;100vh&quot;,&quot;margin&quot;:0,&quot;width&quot;:&quot;100vw&quot;}},&quot;nodeType&quot;:&quot;DOM&quot;,&quot;type&quot;:&quot;node&quot;,&quot;instanceArgs&quot;:{&quot;namespace&quot;:&quot;html&quot;,&quot;tag&quot;:&quot;div&quot;},&quot;children&quot;:[]}]})</unsafe-script>\\\" + \\\"</body></html>\\\";\\n        setTimeout(function () { resizeIframe() }, 0)\\n    }\\n\\n    doc.body.appendChild(webio)\\n}\"), JSString(\"(function (){return this.dom.style.height=\\\"100%\\\"})\")])), WebIO.ConnectionPool(Channel{Any}(sz_max:9223372036854775807,sz_curr:0), Set(WebIO.AbstractConnection[]), Channel{WebIO.AbstractConnection}(sz_max:32,sz_curr:0)))"
      ]
     },
     "execution_count": 11,
     "metadata": {},
     "output_type": "execute_result"
    }
   ],
   "source": [
    "vis = Visualizer()\n",
    "# open(vis)\n",
    "IJuliaCell(vis)"
   ]
  },
  {
   "cell_type": "markdown",
   "metadata": {},
   "source": [
    "Colors"
   ]
  },
  {
   "cell_type": "code",
   "execution_count": 12,
   "metadata": {},
   "outputs": [],
   "source": [
    "green_ = MeshPhongMaterial(color=RGBA(0, 1, 0, 1.0))\n",
    "green_transparent = MeshPhongMaterial(color=RGBA(0, 1, 0, 0.1))\n",
    "red_ = MeshPhongMaterial(color=RGBA(1, 0, 0, 1.0))\n",
    "red_transparent = MeshPhongMaterial(color=RGBA(1, 0, 0, 0.1))\n",
    "blue_ = MeshPhongMaterial(color=RGBA(0, 0, 1, 1.0))\n",
    "blue_transparent = MeshPhongMaterial(color=RGBA(0, 0, 1, 0.1))\n",
    "blue_semi = MeshPhongMaterial(color=RGBA(0, 0, 1, 0.5))\n",
    "yellow_ = MeshPhongMaterial(color=RGBA(1, 1, 0, 1.0))\n",
    "yellow_transparent = MeshPhongMaterial(color=RGBA(1, 1, 0, 0.75))\n",
    "\n",
    "orange_ = MeshPhongMaterial(color=RGBA(233/255, 164/255, 16/255, 1.0))\n",
    "orange_transparent = MeshPhongMaterial(color=RGBA(233/255, 164/255, 16/255, 0.1))\n",
    "black_ = MeshPhongMaterial(color=RGBA(0, 0, 0, 1.0))\n",
    "black_transparent = MeshPhongMaterial(color=RGBA(0, 0, 0, 0.1))\n",
    "black_semi = MeshPhongMaterial(color=RGBA(0, 0, 0, 0.5));"
   ]
  },
  {
   "cell_type": "code",
   "execution_count": 13,
   "metadata": {},
   "outputs": [
    {
     "data": {
      "text/plain": [
       "addcylinders! (generic function with 2 methods)"
      ]
     },
     "execution_count": 13,
     "metadata": {},
     "output_type": "execute_result"
    }
   ],
   "source": [
    "function plot_cylinder(c1,c2,radius,mat,name=\"\")\n",
    "    geom = Cylinder(Point3f0(c1),Point3f0(c2),convert(Float32,radius))\n",
    "    setobject!(vis[\"cyl\"][name],geom,red_)\n",
    "end\n",
    "\n",
    "function addcylinders!(vis,cylinders,height=1.5)\n",
    "    for (i,cyl) in enumerate(cylinders)\n",
    "        plot_cylinder([cyl[1],cyl[2],0],[cyl[1],cyl[2],height],cyl[3],blue_,\"cyl_$i\")\n",
    "        # plot_cylinder([cyl[1],cyl[2],0],[0,0,height],cyl[3],blue_,\"cyl_$i\")\n",
    "    end\n",
    "end"
   ]
  },
  {
   "cell_type": "code",
   "execution_count": 14,
   "metadata": {},
   "outputs": [],
   "source": [
    "traj_folder = joinpath(dirname(pathof(TrajectoryOptimization)),\"..\")\n",
    "urdf_folder = joinpath(traj_folder, \"dynamics\",\"urdf\")\n",
    "obj = joinpath(urdf_folder, \"quadrotor_base.obj\")\n",
    "\n",
    "robot_obj = FileIO.load(obj);"
   ]
  },
  {
   "cell_type": "code",
   "execution_count": 15,
   "metadata": {},
   "outputs": [],
   "source": [
    "sphere_small = HyperSphere(Point3f0(0), convert(Float32,0.1*r_quad)) # trajectory points\n",
    "sphere_medium = HyperSphere(Point3f0(0), convert(Float32,0.25*r_quad));"
   ]
  },
  {
   "cell_type": "code",
   "execution_count": 16,
   "metadata": {},
   "outputs": [],
   "source": [
    "obstacles = vis[\"obs\"]\n",
    "traj = vis[\"traj\"]\n",
    "robot = vis[\"robot\"]\n",
    "setobject!(vis[\"robot\"][\"quad\"],robot_obj,black_);"
   ]
  },
  {
   "cell_type": "code",
   "execution_count": 17,
   "metadata": {},
   "outputs": [
    {
     "data": {
      "text/plain": [
       "MeshCat Visualizer with path /Cameras/default"
      ]
     },
     "execution_count": 17,
     "metadata": {},
     "output_type": "execute_result"
    }
   ],
   "source": [
    "settransform!(vis[\"/Cameras/default\"], compose(Translation(0., 72., 60.),LinearMap(RotX(pi/7.5)*RotZ(pi/2))))"
   ]
  },
  {
   "cell_type": "code",
   "execution_count": 18,
   "metadata": {},
   "outputs": [],
   "source": [
    "addcylinders!(vis,cylinders,16.0)"
   ]
  },
  {
   "cell_type": "code",
   "execution_count": 19,
   "metadata": {},
   "outputs": [],
   "source": [
    "traj = vis[\"traj\"]\n",
    "\n",
    "for i = 1:N\n",
    "    setobject!(vis[\"traj\"][\"t$i\"],sphere_small,blue_)\n",
    "    settransform!(vis[\"traj\"][\"t$i\"], Translation(prob.X[i][1], prob.X[i][2], prob.X[i][3]))\n",
    "end"
   ]
  },
  {
   "cell_type": "code",
   "execution_count": 20,
   "metadata": {},
   "outputs": [],
   "source": [
    "anim = MeshCat.Animation(20)\n",
    "for i = 1:N\n",
    "    MeshCat.atframe(anim,vis,i) do frame\n",
    "        settransform!(frame[\"robot\"], compose(Translation(prob.X[i][1:3]...),LinearMap(Quat(prob.X[i][4:7]...))))\n",
    "    end\n",
    "end\n",
    "MeshCat.setanimation!(vis,anim)"
   ]
  },
  {
   "cell_type": "code",
   "execution_count": null,
   "metadata": {},
   "outputs": [],
   "source": []
  },
  {
   "cell_type": "code",
   "execution_count": null,
   "metadata": {},
   "outputs": [],
   "source": []
  },
  {
   "cell_type": "code",
   "execution_count": null,
   "metadata": {},
   "outputs": [],
   "source": []
  }
 ],
 "metadata": {
  "@webio": {
   "lastCommId": null,
   "lastKernelId": null
  },
  "kernelspec": {
   "display_name": "Julia 1.1.0",
   "language": "julia",
   "name": "julia-1.1"
  },
  "language_info": {
   "file_extension": ".jl",
   "mimetype": "application/julia",
   "name": "julia",
   "version": "1.1.0"
  }
 },
 "nbformat": 4,
 "nbformat_minor": 2
}
