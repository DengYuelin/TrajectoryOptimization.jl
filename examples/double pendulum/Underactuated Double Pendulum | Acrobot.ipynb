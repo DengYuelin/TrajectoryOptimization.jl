{
 "cells": [
  {
   "cell_type": "markdown",
   "metadata": {},
   "source": [
    "## Acrobot"
   ]
  },
  {
   "cell_type": "code",
   "execution_count": 1,
   "metadata": {},
   "outputs": [
    {
     "name": "stderr",
     "output_type": "stream",
     "text": [
      "┌ Info: Recompiling stale cache file /home/taylor/.julia/compiled/v1.1/TrajectoryOptimization/UVgeA.ji for TrajectoryOptimization [c79d492b-0548-5874-b488-5a62c1d9d0ca]\n",
      "└ @ Base loading.jl:1184\n",
      "WARNING: Method definition (::getfield(TrajectoryOptimization, Symbol(\"#∇f!#91\")){f, ∇f})(Any, Any) in module TrajectoryOptimization at /home/taylor/.julia/dev/TrajectoryOptimization/src/model_robust.jl:733 overwritten at /home/taylor/.julia/dev/TrajectoryOptimization/src/model_robust.jl:735.\n",
      "WARNING: Method definition (::getfield(TrajectoryOptimization, Symbol(\"#∇f!#91\")){f, ∇f})(Any, Any, Any, Any) in module TrajectoryOptimization at /home/taylor/.julia/dev/TrajectoryOptimization/src/model_robust.jl:741 overwritten at /home/taylor/.julia/dev/TrajectoryOptimization/src/model_robust.jl:743.\n",
      "WARNING: Method definition (::getfield(TrajectoryOptimization, Symbol(\"#∇f!#92\")){∇f, f})(Any, Any, Any) in module TrajectoryOptimization at /home/taylor/.julia/dev/TrajectoryOptimization/src/model_robust.jl:771 overwritten at /home/taylor/.julia/dev/TrajectoryOptimization/src/model_robust.jl:773.\n",
      "WARNING: Method definition (::getfield(TrajectoryOptimization, Symbol(\"#∇f!#92\")){∇f, f})(Any, Any, Any, Any, Any) in module TrajectoryOptimization at /home/taylor/.julia/dev/TrajectoryOptimization/src/model_robust.jl:779 overwritten at /home/taylor/.julia/dev/TrajectoryOptimization/src/model_robust.jl:781.\n",
      "┌ Warning: Package TrajectoryOptimization does not have MatrixCalculus in its dependencies:\n",
      "│ - If you have TrajectoryOptimization checked out for development and have\n",
      "│   added MatrixCalculus as a dependency but haven't updated your primary\n",
      "│   environment's manifest file, try `Pkg.resolve()`.\n",
      "│ - Otherwise you may need to report an issue with TrajectoryOptimization\n",
      "└ Loading MatrixCalculus into TrajectoryOptimization from project dependency, future warnings for TrajectoryOptimization are suppressed.\n"
     ]
    },
    {
     "data": {
      "text/html": [
       "    <script class='js-collapse-script'>\n",
       "        var curMatch =\n",
       "            window.location.href\n",
       "            .match(/(.*?)\\/notebooks\\/.*\\.ipynb/);\n",
       "\n",
       "        curMatch = curMatch ||\n",
       "            window.location.href\n",
       "            .match(/(.*?)\\/apps\\/.*\\.ipynb/);\n",
       "\n",
       "        if ( curMatch ) {\n",
       "            $('head').append('<base href=\"' + curMatch[1] + '/\">');\n",
       "        }\n",
       "    </script>\n"
      ],
      "text/plain": [
       "HTML{String}(\"    <script class='js-collapse-script'>\\n        var curMatch =\\n            window.location.href\\n            .match(/(.*?)\\\\/notebooks\\\\/.*\\\\.ipynb/);\\n\\n        curMatch = curMatch ||\\n            window.location.href\\n            .match(/(.*?)\\\\/apps\\\\/.*\\\\.ipynb/);\\n\\n        if ( curMatch ) {\\n            \\$('head').append('<base href=\\\"' + curMatch[1] + '/\\\">');\\n        }\\n    </script>\\n\")"
      ]
     },
     "metadata": {},
     "output_type": "display_data"
    },
    {
     "data": {
      "text/html": [
       "<script class='js-collapse-script' src='/assetserver/c443b012d0ad3ce8e6cc9de306cd3766b1d18a79-assets/webio/dist/bundle.js'></script>"
      ],
      "text/plain": [
       "HTML{String}(\"<script class='js-collapse-script' src='/assetserver/c443b012d0ad3ce8e6cc9de306cd3766b1d18a79-assets/webio/dist/bundle.js'></script>\")"
      ]
     },
     "metadata": {},
     "output_type": "display_data"
    },
    {
     "data": {
      "text/html": [
       "<script class='js-collapse-script' src='/assetserver/c443b012d0ad3ce8e6cc9de306cd3766b1d18a79-assets/providers/ijulia_setup.js'></script>"
      ],
      "text/plain": [
       "HTML{String}(\"<script class='js-collapse-script' src='/assetserver/c443b012d0ad3ce8e6cc9de306cd3766b1d18a79-assets/providers/ijulia_setup.js'></script>\")"
      ]
     },
     "metadata": {},
     "output_type": "display_data"
    },
    {
     "data": {
      "text/html": [
       "  <script class='js-collapse-script'>\n",
       "    $('.js-collapse-script').parent('.output_subarea').css('padding', '0');\n",
       "  </script>\n"
      ],
      "text/plain": [
       "HTML{String}(\"  <script class='js-collapse-script'>\\n    \\$('.js-collapse-script').parent('.output_subarea').css('padding', '0');\\n  </script>\\n\")"
      ]
     },
     "metadata": {},
     "output_type": "display_data"
    }
   ],
   "source": [
    "using TrajectoryOptimization\n",
    "using Plots, LinearAlgebra, MeshCat, MeshCatMechanisms, RigidBodyDynamics, GeometryTypes, CoordinateTransformations"
   ]
  },
  {
   "cell_type": "markdown",
   "metadata": {},
   "source": [
    "Get path to urdf file"
   ]
  },
  {
   "cell_type": "code",
   "execution_count": 2,
   "metadata": {},
   "outputs": [],
   "source": [
    "traj_folder = joinpath(dirname(pathof(TrajectoryOptimization)),\"..\")\n",
    "urdf_folder = joinpath(traj_folder, \"dynamics/urdf\")\n",
    "urdf = joinpath(urdf_folder, \"doublependulum.urdf\");"
   ]
  },
  {
   "cell_type": "markdown",
   "metadata": {},
   "source": [
    "Create underactuated model from urdf"
   ]
  },
  {
   "cell_type": "code",
   "execution_count": 3,
   "metadata": {},
   "outputs": [],
   "source": [
    "model = Model(urdf,[0.;1.]);\n",
    "n = model.n\n",
    "m = model.m;"
   ]
  },
  {
   "cell_type": "markdown",
   "metadata": {},
   "source": [
    "Define numerical type"
   ]
  },
  {
   "cell_type": "code",
   "execution_count": 4,
   "metadata": {},
   "outputs": [],
   "source": [
    "T = Float64;"
   ]
  },
  {
   "cell_type": "markdown",
   "metadata": {},
   "source": [
    "Define initial and goal states"
   ]
  },
  {
   "cell_type": "code",
   "execution_count": 5,
   "metadata": {},
   "outputs": [],
   "source": [
    "x0 = [0.0;0.0;0.0;0.0]\n",
    "xf = [π;0.0;0.0;0.0];"
   ]
  },
  {
   "cell_type": "markdown",
   "metadata": {},
   "source": [
    "Define a cost function"
   ]
  },
  {
   "cell_type": "code",
   "execution_count": 23,
   "metadata": {},
   "outputs": [],
   "source": [
    "Qf = 1000.0*Diagonal(I,n)\n",
    "Q = (1e-3)*Diagonal(I,n)\n",
    "R = (1e-3)*Diagonal(I,m)\n",
    "cost = LQRCost(Q,R,Qf,xf);"
   ]
  },
  {
   "cell_type": "markdown",
   "metadata": {},
   "source": [
    "Create terminal constraints"
   ]
  },
  {
   "cell_type": "code",
   "execution_count": 24,
   "metadata": {},
   "outputs": [],
   "source": [
    "goal = goal_constraint(xf);"
   ]
  },
  {
   "cell_type": "markdown",
   "metadata": {},
   "source": [
    "Create problem"
   ]
  },
  {
   "cell_type": "code",
   "execution_count": 27,
   "metadata": {},
   "outputs": [],
   "source": [
    "N = 251\n",
    "U = [ones(m) for k = 1:N-1]\n",
    "dt = 0.01\n",
    "obj = Objective(cost,N)\n",
    "con = TrajectoryOptimization.ProblemConstraints([goal],N)\n",
    "\n",
    "prob = Problem(model,obj,constraints=con,x0=x0,N=N,dt=dt)\n",
    "initial_controls!(prob, U);"
   ]
  },
  {
   "cell_type": "markdown",
   "metadata": {},
   "source": [
    "Solver options"
   ]
  },
  {
   "cell_type": "code",
   "execution_count": 28,
   "metadata": {},
   "outputs": [],
   "source": [
    "opts_ilqr = TrajectoryOptimization.iLQRSolverOptions(verbose=true, cost_tolerance=1.0e-6)\n",
    "\n",
    "opts_al = AugmentedLagrangianSolverOptions{T}(verbose=false,opts_uncon=opts_ilqr,\n",
    "    iterations=30,penalty_scaling=10.0, cost_tolerance=1.0e-6,cost_tolerance_intermediate=1.0e-5,\n",
    "    constraint_tolerance=1.0e-4)\n",
    "\n",
    "opts_altro = TrajectoryOptimization.ALTROSolverOptions{T}(verbose=false,opts_al=opts_al);"
   ]
  },
  {
   "cell_type": "markdown",
   "metadata": {},
   "source": [
    "Solve problem"
   ]
  },
  {
   "cell_type": "code",
   "execution_count": 29,
   "metadata": {},
   "outputs": [
    {
     "name": "stderr",
     "output_type": "stream",
     "text": [
      "\u001b[32m\u001b[1m    iter cost          expected    z         α         ρ         dJ        grad      zero_count info                                              \u001b[22m\u001b[39m\n",
      "\u001b[32m\u001b[1m____----------------------------------------------------------------------------------------------------------------------------------------------\u001b[22m\u001b[39m\n",
      "    1     4462.2280572  1344.26012  0.947947  0.125     0e+00     1274.287  192.0295 0          \n",
      "    2     3412.9242038  1045.7146   1.003432  0.125     0e+00     1049.304  171.6224 0          \n",
      "    3     2087.4595642  1493.09249  0.887731  0.25      0e+00     1325.465  131.4885 0          \n",
      "    4     1175.8335106  913.179849  0.998298  0.25      0e+00     911.6261  17.66978 0          \n",
      "    5     723.56190071  514.348456  0.87931   0.25      0e+00     452.2716  19.76768 0          \n",
      "    6     559.14699867  169.556424  0.969677  0.125     0e+00     164.4149  26.20521 0          \n",
      "    7     419.32746854  131.02822   1.067095  0.125     0e+00     139.8195  22.95712 0          \n",
      "    8     319.36087453  98.2624654  1.017343  0.125     0e+00     99.96659  15.37659 0          \n",
      "    9     244.6430642   74.8357356  0.998424  0.125     0e+00     74.71781  15.67801 0          \n",
      "    10    187.57861792  57.325365   0.995448  0.125     0e+00     57.06445  18.429   0          \n",
      "\u001b[32m\u001b[1m    iter cost          expected    z         α         ρ         dJ        grad      zero_count info                                              \u001b[22m\u001b[39m\n",
      "\u001b[32m\u001b[1m____----------------------------------------------------------------------------------------------------------------------------------------------\u001b[22m\u001b[39m\n",
      "    11    106.77190931  82.0412694  0.984952  0.25      0e+00     80.80671  32.68637 0          \n",
      "    12    27.23557297   80.0250645  0.993893  0.5       0e+00     79.53634  11.30368 0          \n",
      "    13    16.986080042  11.8782325  0.86288   0.25      0e+00     10.24949  16.76042 0          \n",
      "    14    16.427405786  7.39372042  0.075561  0.25      0e+00     0.558674  11.90738 0          \n",
      "    15    10.638050205  7.14094222  0.810727  0.25      0e+00     5.789356  8.094418 0          \n",
      "    16    6.5940109383  4.61059677  0.877118  0.25      0e+00     4.044039  5.875405 0          \n",
      "    17    2.2941851816  4.88163447  0.880817  0.5       0e+00     4.299826  5.968844 0          \n",
      "    18    2.1624725146  1.67226042  0.078763  0.5       0e+00     0.131713  2.552924 0          \n",
      "    19    0.1929363105  2.09587759  0.939719  1         0e+00     1.969536  3.690628 0          \n",
      "    20    0.1009496998  0.12451402  0.738765  1         0e+00     0.091987  1.142188 0          \n",
      "\u001b[32m\u001b[1m    iter cost          expected    z         α         ρ         dJ        grad      zero_count info                                              \u001b[22m\u001b[39m\n",
      "\u001b[32m\u001b[1m____----------------------------------------------------------------------------------------------------------------------------------------------\u001b[22m\u001b[39m\n",
      "    21    0.0739638264  0.03306184  0.816224  1         0e+00     0.026986  0.836428 0          \n",
      "    22    0.0684827461  0.00611484  0.896357  1         0e+00     0.005481  0.256422 0          \n",
      "    23    0.0683647833  0.00055487  0.212595  1         0e+00     0.000118  0.088545 0          \n",
      "    24    0.0679817846  0.00042412  0.903049  1         0e+00     0.000383  0.063685 0          \n",
      "    25    0.0679698044  0.0000234   0.511904  1         0e+00     1.2e-05   0.022806 0          \n",
      "    26    0.0679623612  9.3538e-06  0.795741  1         0e+00     7.44e-06  0.013325 0          \n",
      "\u001b[32m\u001b[1m    iter cost          expected    z         α         ρ         dJ        grad      zero_count info                                              \u001b[22m\u001b[39m\n",
      "\u001b[32m\u001b[1m____----------------------------------------------------------------------------------------------------------------------------------------------\u001b[22m\u001b[39m\n",
      "    1     0.0679628609  1.1014e-06  0.636056  1         0e+00     7.01e-07  0.005315 0          \n",
      "\u001b[32m\u001b[1m    iter cost          expected    z         α         ρ         dJ        grad      zero_count info                                              \u001b[22m\u001b[39m\n",
      "\u001b[32m\u001b[1m____----------------------------------------------------------------------------------------------------------------------------------------------\u001b[22m\u001b[39m\n",
      "    1     0.0679732012  1.46e-06    0.936075  1         0e+00     1.37e-06  0.004861 0          \n",
      "\u001b[32m\u001b[1m    iter cost          expected    z         α         ρ         dJ        grad      zero_count info                                              \u001b[22m\u001b[39m\n",
      "\u001b[32m\u001b[1m____----------------------------------------------------------------------------------------------------------------------------------------------\u001b[22m\u001b[39m\n",
      "    1     0.0680249597  0.00004305  1.002185  1         0e+00     4.31e-05  0.016138 0          \n",
      "    2     0.068024829   8.5225e-08  1.53361   1         0e+00     1.31e-07  0.001595 0          \n",
      "\u001b[32m\u001b[1m    iter cost          expected    z         α         ρ         dJ        grad      zero_count info                                              \u001b[22m\u001b[39m\n",
      "\u001b[32m\u001b[1m____----------------------------------------------------------------------------------------------------------------------------------------------\u001b[22m\u001b[39m\n",
      "    1     0.0680662878  0.00019741  1.000352  1         0e+00     0.000197  0.024552 0          \n",
      "    2     0.0680661568  9.1774e-08  1.427313  1         0e+00     1.31e-07  0.001522 0          \n"
     ]
    }
   ],
   "source": [
    "solve!(prob, opts_altro) # solve with ALTRO"
   ]
  },
  {
   "cell_type": "markdown",
   "metadata": {},
   "source": [
    "Plot state trajectory"
   ]
  },
  {
   "cell_type": "code",
   "execution_count": 36,
   "metadata": {},
   "outputs": [
    {
     "data": {
      "image/svg+xml": [
       "<?xml version=\"1.0\" encoding=\"utf-8\"?>\n",
       "<svg xmlns=\"http://www.w3.org/2000/svg\" xmlns:xlink=\"http://www.w3.org/1999/xlink\" width=\"600\" height=\"400\" viewBox=\"0 0 2400 1600\">\n",
       "<defs>\n",
       "  <clipPath id=\"clip0200\">\n",
       "    <rect x=\"0\" y=\"0\" width=\"2400\" height=\"1600\"/>\n",
       "  </clipPath>\n",
       "</defs>\n",
       "<polygon clip-path=\"url(#clip0200)\" points=\"\n",
       "0,1600 2400,1600 2400,0 0,0 \n",
       "  \" fill=\"#ffffff\" fill-rule=\"evenodd\" fill-opacity=\"1\"/>\n",
       "<defs>\n",
       "  <clipPath id=\"clip0201\">\n",
       "    <rect x=\"480\" y=\"0\" width=\"1681\" height=\"1600\"/>\n",
       "  </clipPath>\n",
       "</defs>\n",
       "<polygon clip-path=\"url(#clip0200)\" points=\"\n",
       "176.123,1440.48 2321.26,1440.48 2321.26,125.984 176.123,125.984 \n",
       "  \" fill=\"#ffffff\" fill-rule=\"evenodd\" fill-opacity=\"1\"/>\n",
       "<defs>\n",
       "  <clipPath id=\"clip0202\">\n",
       "    <rect x=\"176\" y=\"125\" width=\"2146\" height=\"1315\"/>\n",
       "  </clipPath>\n",
       "</defs>\n",
       "<polyline clip-path=\"url(#clip0202)\" style=\"stroke:#000000; stroke-width:2; stroke-opacity:0.1; fill:none\" points=\"\n",
       "  228.74,1440.48 228.74,125.984 \n",
       "  \"/>\n",
       "<polyline clip-path=\"url(#clip0202)\" style=\"stroke:#000000; stroke-width:2; stroke-opacity:0.1; fill:none\" points=\"\n",
       "  633.482,1440.48 633.482,125.984 \n",
       "  \"/>\n",
       "<polyline clip-path=\"url(#clip0202)\" style=\"stroke:#000000; stroke-width:2; stroke-opacity:0.1; fill:none\" points=\"\n",
       "  1038.23,1440.48 1038.23,125.984 \n",
       "  \"/>\n",
       "<polyline clip-path=\"url(#clip0202)\" style=\"stroke:#000000; stroke-width:2; stroke-opacity:0.1; fill:none\" points=\"\n",
       "  1442.97,1440.48 1442.97,125.984 \n",
       "  \"/>\n",
       "<polyline clip-path=\"url(#clip0202)\" style=\"stroke:#000000; stroke-width:2; stroke-opacity:0.1; fill:none\" points=\"\n",
       "  1847.71,1440.48 1847.71,125.984 \n",
       "  \"/>\n",
       "<polyline clip-path=\"url(#clip0202)\" style=\"stroke:#000000; stroke-width:2; stroke-opacity:0.1; fill:none\" points=\"\n",
       "  2252.45,1440.48 2252.45,125.984 \n",
       "  \"/>\n",
       "<polyline clip-path=\"url(#clip0202)\" style=\"stroke:#000000; stroke-width:2; stroke-opacity:0.1; fill:none\" points=\"\n",
       "  176.123,1438.52 2321.26,1438.52 \n",
       "  \"/>\n",
       "<polyline clip-path=\"url(#clip0202)\" style=\"stroke:#000000; stroke-width:2; stroke-opacity:0.1; fill:none\" points=\"\n",
       "  176.123,1196.78 2321.26,1196.78 \n",
       "  \"/>\n",
       "<polyline clip-path=\"url(#clip0202)\" style=\"stroke:#000000; stroke-width:2; stroke-opacity:0.1; fill:none\" points=\"\n",
       "  176.123,955.051 2321.26,955.051 \n",
       "  \"/>\n",
       "<polyline clip-path=\"url(#clip0202)\" style=\"stroke:#000000; stroke-width:2; stroke-opacity:0.1; fill:none\" points=\"\n",
       "  176.123,713.318 2321.26,713.318 \n",
       "  \"/>\n",
       "<polyline clip-path=\"url(#clip0202)\" style=\"stroke:#000000; stroke-width:2; stroke-opacity:0.1; fill:none\" points=\"\n",
       "  176.123,471.586 2321.26,471.586 \n",
       "  \"/>\n",
       "<polyline clip-path=\"url(#clip0202)\" style=\"stroke:#000000; stroke-width:2; stroke-opacity:0.1; fill:none\" points=\"\n",
       "  176.123,229.853 2321.26,229.853 \n",
       "  \"/>\n",
       "<polyline clip-path=\"url(#clip0200)\" style=\"stroke:#000000; stroke-width:4; stroke-opacity:1; fill:none\" points=\"\n",
       "  176.123,1440.48 2321.26,1440.48 \n",
       "  \"/>\n",
       "<polyline clip-path=\"url(#clip0200)\" style=\"stroke:#000000; stroke-width:4; stroke-opacity:1; fill:none\" points=\"\n",
       "  176.123,1440.48 176.123,125.984 \n",
       "  \"/>\n",
       "<polyline clip-path=\"url(#clip0200)\" style=\"stroke:#000000; stroke-width:4; stroke-opacity:1; fill:none\" points=\"\n",
       "  228.74,1440.48 228.74,1420.77 \n",
       "  \"/>\n",
       "<polyline clip-path=\"url(#clip0200)\" style=\"stroke:#000000; stroke-width:4; stroke-opacity:1; fill:none\" points=\"\n",
       "  633.482,1440.48 633.482,1420.77 \n",
       "  \"/>\n",
       "<polyline clip-path=\"url(#clip0200)\" style=\"stroke:#000000; stroke-width:4; stroke-opacity:1; fill:none\" points=\"\n",
       "  1038.23,1440.48 1038.23,1420.77 \n",
       "  \"/>\n",
       "<polyline clip-path=\"url(#clip0200)\" style=\"stroke:#000000; stroke-width:4; stroke-opacity:1; fill:none\" points=\"\n",
       "  1442.97,1440.48 1442.97,1420.77 \n",
       "  \"/>\n",
       "<polyline clip-path=\"url(#clip0200)\" style=\"stroke:#000000; stroke-width:4; stroke-opacity:1; fill:none\" points=\"\n",
       "  1847.71,1440.48 1847.71,1420.77 \n",
       "  \"/>\n",
       "<polyline clip-path=\"url(#clip0200)\" style=\"stroke:#000000; stroke-width:4; stroke-opacity:1; fill:none\" points=\"\n",
       "  2252.45,1440.48 2252.45,1420.77 \n",
       "  \"/>\n",
       "<polyline clip-path=\"url(#clip0200)\" style=\"stroke:#000000; stroke-width:4; stroke-opacity:1; fill:none\" points=\"\n",
       "  176.123,1438.52 208.3,1438.52 \n",
       "  \"/>\n",
       "<polyline clip-path=\"url(#clip0200)\" style=\"stroke:#000000; stroke-width:4; stroke-opacity:1; fill:none\" points=\"\n",
       "  176.123,1196.78 208.3,1196.78 \n",
       "  \"/>\n",
       "<polyline clip-path=\"url(#clip0200)\" style=\"stroke:#000000; stroke-width:4; stroke-opacity:1; fill:none\" points=\"\n",
       "  176.123,955.051 208.3,955.051 \n",
       "  \"/>\n",
       "<polyline clip-path=\"url(#clip0200)\" style=\"stroke:#000000; stroke-width:4; stroke-opacity:1; fill:none\" points=\"\n",
       "  176.123,713.318 208.3,713.318 \n",
       "  \"/>\n",
       "<polyline clip-path=\"url(#clip0200)\" style=\"stroke:#000000; stroke-width:4; stroke-opacity:1; fill:none\" points=\"\n",
       "  176.123,471.586 208.3,471.586 \n",
       "  \"/>\n",
       "<polyline clip-path=\"url(#clip0200)\" style=\"stroke:#000000; stroke-width:4; stroke-opacity:1; fill:none\" points=\"\n",
       "  176.123,229.853 208.3,229.853 \n",
       "  \"/>\n",
       "<g clip-path=\"url(#clip0200)\">\n",
       "<text style=\"fill:#000000; fill-opacity:1; font-family:Arial,Helvetica Neue,Helvetica,sans-serif; font-size:48px; text-anchor:middle;\" transform=\"rotate(0, 228.74, 1494.48)\" x=\"228.74\" y=\"1494.48\">0</text>\n",
       "</g>\n",
       "<g clip-path=\"url(#clip0200)\">\n",
       "<text style=\"fill:#000000; fill-opacity:1; font-family:Arial,Helvetica Neue,Helvetica,sans-serif; font-size:48px; text-anchor:middle;\" transform=\"rotate(0, 633.482, 1494.48)\" x=\"633.482\" y=\"1494.48\">50</text>\n",
       "</g>\n",
       "<g clip-path=\"url(#clip0200)\">\n",
       "<text style=\"fill:#000000; fill-opacity:1; font-family:Arial,Helvetica Neue,Helvetica,sans-serif; font-size:48px; text-anchor:middle;\" transform=\"rotate(0, 1038.23, 1494.48)\" x=\"1038.23\" y=\"1494.48\">100</text>\n",
       "</g>\n",
       "<g clip-path=\"url(#clip0200)\">\n",
       "<text style=\"fill:#000000; fill-opacity:1; font-family:Arial,Helvetica Neue,Helvetica,sans-serif; font-size:48px; text-anchor:middle;\" transform=\"rotate(0, 1442.97, 1494.48)\" x=\"1442.97\" y=\"1494.48\">150</text>\n",
       "</g>\n",
       "<g clip-path=\"url(#clip0200)\">\n",
       "<text style=\"fill:#000000; fill-opacity:1; font-family:Arial,Helvetica Neue,Helvetica,sans-serif; font-size:48px; text-anchor:middle;\" transform=\"rotate(0, 1847.71, 1494.48)\" x=\"1847.71\" y=\"1494.48\">200</text>\n",
       "</g>\n",
       "<g clip-path=\"url(#clip0200)\">\n",
       "<text style=\"fill:#000000; fill-opacity:1; font-family:Arial,Helvetica Neue,Helvetica,sans-serif; font-size:48px; text-anchor:middle;\" transform=\"rotate(0, 2252.45, 1494.48)\" x=\"2252.45\" y=\"1494.48\">250</text>\n",
       "</g>\n",
       "<g clip-path=\"url(#clip0200)\">\n",
       "<text style=\"fill:#000000; fill-opacity:1; font-family:Arial,Helvetica Neue,Helvetica,sans-serif; font-size:48px; text-anchor:end;\" transform=\"rotate(0, 152.123, 1456.02)\" x=\"152.123\" y=\"1456.02\">-10</text>\n",
       "</g>\n",
       "<g clip-path=\"url(#clip0200)\">\n",
       "<text style=\"fill:#000000; fill-opacity:1; font-family:Arial,Helvetica Neue,Helvetica,sans-serif; font-size:48px; text-anchor:end;\" transform=\"rotate(0, 152.123, 1214.28)\" x=\"152.123\" y=\"1214.28\">-5</text>\n",
       "</g>\n",
       "<g clip-path=\"url(#clip0200)\">\n",
       "<text style=\"fill:#000000; fill-opacity:1; font-family:Arial,Helvetica Neue,Helvetica,sans-serif; font-size:48px; text-anchor:end;\" transform=\"rotate(0, 152.123, 972.551)\" x=\"152.123\" y=\"972.551\">0</text>\n",
       "</g>\n",
       "<g clip-path=\"url(#clip0200)\">\n",
       "<text style=\"fill:#000000; fill-opacity:1; font-family:Arial,Helvetica Neue,Helvetica,sans-serif; font-size:48px; text-anchor:end;\" transform=\"rotate(0, 152.123, 730.818)\" x=\"152.123\" y=\"730.818\">5</text>\n",
       "</g>\n",
       "<g clip-path=\"url(#clip0200)\">\n",
       "<text style=\"fill:#000000; fill-opacity:1; font-family:Arial,Helvetica Neue,Helvetica,sans-serif; font-size:48px; text-anchor:end;\" transform=\"rotate(0, 152.123, 489.086)\" x=\"152.123\" y=\"489.086\">10</text>\n",
       "</g>\n",
       "<g clip-path=\"url(#clip0200)\">\n",
       "<text style=\"fill:#000000; fill-opacity:1; font-family:Arial,Helvetica Neue,Helvetica,sans-serif; font-size:48px; text-anchor:end;\" transform=\"rotate(0, 152.123, 247.353)\" x=\"152.123\" y=\"247.353\">15</text>\n",
       "</g>\n",
       "<g clip-path=\"url(#clip0200)\">\n",
       "<text style=\"fill:#000000; fill-opacity:1; font-family:Arial,Helvetica Neue,Helvetica,sans-serif; font-size:84px; text-anchor:middle;\" transform=\"rotate(0, 1248.69, 73.2)\" x=\"1248.69\" y=\"73.2\">State Trajectory</text>\n",
       "</g>\n",
       "<g clip-path=\"url(#clip0200)\">\n",
       "<text style=\"fill:#000000; fill-opacity:1; font-family:Arial,Helvetica Neue,Helvetica,sans-serif; font-size:66px; text-anchor:middle;\" transform=\"rotate(0, 1248.69, 1590.4)\" x=\"1248.69\" y=\"1590.4\">time step</text>\n",
       "</g>\n",
       "<polyline clip-path=\"url(#clip0202)\" style=\"stroke:#009af9; stroke-width:4; stroke-opacity:1; fill:none\" points=\"\n",
       "  236.834,955.051 244.929,954.845 253.024,954.239 261.119,953.257 269.214,951.93 277.309,950.301 285.404,948.424 293.498,946.365 301.593,944.192 309.688,941.967 \n",
       "  317.783,939.74 325.878,937.545 333.973,935.407 342.068,933.34 350.162,931.351 358.257,929.443 366.352,927.618 374.447,925.873 382.542,924.209 390.637,922.622 \n",
       "  398.731,921.111 406.826,919.674 414.921,918.309 423.016,917.015 431.111,915.79 439.206,914.634 447.301,913.544 455.395,912.522 463.49,911.565 471.585,910.675 \n",
       "  479.68,909.851 487.775,909.092 495.87,908.399 503.965,907.772 512.059,907.211 520.154,906.717 528.249,906.289 536.344,905.928 544.439,905.634 552.534,905.407 \n",
       "  560.629,905.247 568.723,905.154 576.818,905.127 584.913,905.167 593.008,905.274 601.103,905.445 609.198,905.682 617.293,905.982 625.387,906.346 633.482,906.772 \n",
       "  641.577,907.258 649.672,907.804 657.767,908.407 665.862,909.068 673.957,909.783 682.051,910.551 690.146,911.371 698.241,912.242 706.336,913.16 714.431,914.126 \n",
       "  722.526,915.137 730.621,916.192 738.715,917.289 746.81,918.429 754.905,919.609 763,920.829 771.095,922.089 779.19,923.389 787.285,924.729 795.379,926.11 \n",
       "  803.474,927.532 811.569,928.996 819.664,930.505 827.759,932.062 835.854,933.668 843.949,935.327 852.043,937.044 860.138,938.824 868.233,940.673 876.328,942.599 \n",
       "  884.423,944.61 892.518,946.718 900.613,948.936 908.707,951.279 916.802,953.769 924.897,956.428 932.992,959.285 941.087,962.369 949.182,965.71 957.277,969.318 \n",
       "  965.371,973.16 973.466,977.136 981.561,981.093 989.656,984.888 997.751,988.442 1005.85,991.734 1013.94,994.776 1022.04,997.592 1030.13,1000.21 1038.23,1002.64 \n",
       "  1046.32,1004.92 1054.41,1007.06 1062.51,1009.06 1070.6,1010.94 1078.7,1012.71 1086.79,1014.37 1094.89,1015.92 1102.98,1017.37 1111.08,1018.72 1119.17,1019.98 \n",
       "  1127.27,1021.13 1135.36,1022.18 1143.46,1023.13 1151.55,1023.98 1159.65,1024.72 1167.74,1025.35 1175.84,1025.87 1183.93,1026.28 1192.03,1026.56 1200.12,1026.73 \n",
       "  1208.22,1026.77 1216.31,1026.69 1224.41,1026.47 1232.5,1026.13 1240.6,1025.66 1248.69,1025.07 1256.79,1024.34 1264.88,1023.49 1272.98,1022.52 1281.07,1021.43 \n",
       "  1289.17,1020.23 1297.26,1018.92 1305.36,1017.51 1313.45,1015.99 1321.55,1014.38 1329.64,1012.68 1337.73,1010.9 1345.83,1009.03 1353.92,1007.08 1362.02,1005.06 \n",
       "  1370.11,1002.97 1378.21,1000.81 1386.3,998.586 1394.4,996.3 1402.49,993.956 1410.59,991.555 1418.68,989.1 1426.78,986.594 1434.87,984.04 1442.97,981.439 \n",
       "  1451.06,978.795 1459.16,976.11 1467.25,973.388 1475.35,970.632 1483.44,967.844 1491.54,965.029 1499.63,962.19 1507.73,959.331 1515.82,956.456 1523.92,953.569 \n",
       "  1532.01,950.674 1540.11,947.775 1548.2,944.877 1556.3,941.984 1564.39,939.101 1572.49,936.232 1580.58,933.382 1588.68,930.555 1596.77,927.755 1604.87,924.986 \n",
       "  1612.96,922.252 1621.05,919.558 1629.15,916.905 1637.24,914.299 1645.34,911.741 1653.43,909.234 1661.53,906.78 1669.62,904.382 1677.72,902.042 1685.81,899.759 \n",
       "  1693.91,897.536 1702,895.373 1710.1,893.27 1718.19,891.228 1726.29,889.245 1734.38,887.321 1742.48,885.455 1750.57,883.645 1758.67,881.892 1766.76,880.192 \n",
       "  1774.86,878.544 1782.95,876.946 1791.05,875.396 1799.14,873.892 1807.24,872.432 1815.33,871.013 1823.43,869.633 1831.52,868.29 1839.62,866.981 1847.71,865.705 \n",
       "  1855.81,864.458 1863.9,863.239 1872,862.045 1880.09,860.874 1888.19,859.724 1896.28,858.592 1904.37,857.477 1912.47,856.377 1920.56,855.29 1928.66,854.213 \n",
       "  1936.75,853.145 1944.85,852.084 1952.94,851.027 1961.04,849.974 1969.13,848.922 1977.23,847.87 1985.32,846.815 1993.42,845.756 2001.51,844.691 2009.61,843.618 \n",
       "  2017.7,842.536 2025.8,841.442 2033.89,840.335 2041.99,839.211 2050.08,838.071 2058.18,836.91 2066.27,835.727 2074.37,834.52 2082.46,833.286 2090.56,832.023 \n",
       "  2098.65,830.727 2106.75,829.397 2114.84,828.029 2122.94,826.62 2131.03,825.169 2139.13,823.673 2147.22,822.131 2155.32,820.543 2163.41,818.909 2171.51,817.235 \n",
       "  2179.6,815.529 2187.69,813.805 2195.79,812.084 2203.88,810.395 2211.98,808.776 2220.07,807.27 2228.17,805.925 2236.26,804.793 2244.36,803.922 2252.45,803.362 \n",
       "  2260.55,803.166 \n",
       "  \"/>\n",
       "<polyline clip-path=\"url(#clip0202)\" style=\"stroke:#e26f46; stroke-width:4; stroke-opacity:1; fill:none\" points=\"\n",
       "  236.834,955.051 244.929,955.463 253.024,956.675 261.119,958.641 269.214,961.297 277.309,964.559 285.404,968.318 293.498,972.443 301.593,976.797 309.688,981.258 \n",
       "  317.783,985.727 325.878,990.134 333.973,994.432 342.068,998.595 350.162,1002.61 358.257,1006.46 366.352,1010.16 374.447,1013.71 382.542,1017.11 390.637,1020.36 \n",
       "  398.731,1023.48 406.826,1026.46 414.921,1029.31 423.016,1032.04 431.111,1034.65 439.206,1037.14 447.301,1039.51 455.395,1041.78 463.49,1043.94 471.585,1046 \n",
       "  479.68,1047.95 487.775,1049.8 495.87,1051.55 503.965,1053.19 512.059,1054.74 520.154,1056.2 528.249,1057.55 536.344,1058.81 544.439,1059.97 552.534,1061.03 \n",
       "  560.629,1062 568.723,1062.87 576.818,1063.64 584.913,1064.31 593.008,1064.89 601.103,1065.37 609.198,1065.75 617.293,1066.03 625.387,1066.22 633.482,1066.3 \n",
       "  641.577,1066.28 649.672,1066.17 657.767,1065.95 665.862,1065.63 673.957,1065.21 682.051,1064.69 690.146,1064.07 698.241,1063.34 706.336,1062.52 714.431,1061.59 \n",
       "  722.526,1060.55 730.621,1059.41 738.715,1058.17 746.81,1056.82 754.905,1055.37 763,1053.8 771.095,1052.13 779.19,1050.35 787.285,1048.45 795.379,1046.44 \n",
       "  803.474,1044.31 811.569,1042.07 819.664,1039.69 827.759,1037.19 835.854,1034.55 843.949,1031.77 852.043,1028.83 860.138,1025.74 868.233,1022.47 876.328,1019.02 \n",
       "  884.423,1015.37 892.518,1011.49 900.613,1007.36 908.707,1002.95 916.802,998.214 924.897,993.116 932.992,987.598 941.087,981.597 949.182,975.06 957.277,967.967 \n",
       "  965.371,960.382 973.466,952.508 981.561,944.652 989.656,937.097 997.751,930.001 1005.85,923.406 1013.94,917.285 1022.04,911.588 1030.13,906.261 1038.23,901.256 \n",
       "  1046.32,896.532 1054.41,892.055 1062.51,887.795 1070.6,883.73 1078.7,879.84 1086.79,876.108 1094.89,872.521 1102.98,869.067 1111.08,865.736 1119.17,862.52 \n",
       "  1127.27,859.412 1135.36,856.407 1143.46,853.501 1151.55,850.687 1159.65,847.965 1167.74,845.331 1175.84,842.783 1183.93,840.32 1192.03,837.941 1200.12,835.645 \n",
       "  1208.22,833.432 1216.31,831.301 1224.41,829.253 1232.5,827.289 1240.6,825.408 1248.69,823.61 1256.79,821.896 1264.88,820.267 1272.98,818.721 1281.07,817.259 \n",
       "  1289.17,815.881 1297.26,814.586 1305.36,813.373 1313.45,812.242 1321.55,811.191 1329.64,810.219 1337.73,809.325 1345.83,808.508 1353.92,807.765 1362.02,807.095 \n",
       "  1370.11,806.497 1378.21,805.968 1386.3,805.507 1394.4,805.112 1402.49,804.781 1410.59,804.511 1418.68,804.301 1426.78,804.149 1434.87,804.052 1442.97,804.01 \n",
       "  1451.06,804.019 1459.16,804.078 1467.25,804.185 1475.35,804.339 1483.44,804.536 1491.54,804.776 1499.63,805.058 1507.73,805.378 1515.82,805.737 1523.92,806.132 \n",
       "  1532.01,806.562 1540.11,807.027 1548.2,807.524 1556.3,808.054 1564.39,808.615 1572.49,809.206 1580.58,809.826 1588.68,810.476 1596.77,811.153 1604.87,811.858 \n",
       "  1612.96,812.591 1621.05,813.35 1629.15,814.135 1637.24,814.947 1645.34,815.783 1653.43,816.645 1661.53,817.531 1669.62,818.441 1677.72,819.375 1685.81,820.332 \n",
       "  1693.91,821.312 1702,822.314 1710.1,823.339 1718.19,824.385 1726.29,825.452 1734.38,826.54 1742.48,827.648 1750.57,828.776 1758.67,829.924 1766.76,831.092 \n",
       "  1774.86,832.279 1782.95,833.484 1791.05,834.709 1799.14,835.953 1807.24,837.215 1815.33,838.496 1823.43,839.796 1831.52,841.115 1839.62,842.453 1847.71,843.81 \n",
       "  1855.81,845.188 1863.9,846.585 1872,848.003 1880.09,849.442 1888.19,850.903 1896.28,852.385 1904.37,853.891 1912.47,855.42 1920.56,856.974 1928.66,858.553 \n",
       "  1936.75,860.159 1944.85,861.792 1952.94,863.453 1961.04,865.144 1969.13,866.866 1977.23,868.621 1985.32,870.41 1993.42,872.234 2001.51,874.096 2009.61,875.998 \n",
       "  2017.7,877.941 2025.8,879.928 2033.89,881.961 2041.99,884.043 2050.08,886.177 2058.18,888.366 2066.27,890.613 2074.37,892.923 2082.46,895.298 2090.56,897.743 \n",
       "  2098.65,900.263 2106.75,902.862 2114.84,905.544 2122.94,908.315 2131.03,911.178 2139.13,914.138 2147.22,917.196 2155.32,920.351 2163.41,923.601 2171.51,926.936 \n",
       "  2179.6,930.339 2187.69,933.78 2195.79,937.217 2203.88,940.592 2211.98,943.83 2220.07,946.842 2228.17,949.531 2236.26,951.797 2244.36,953.54 2252.45,954.66 \n",
       "  2260.55,955.051 \n",
       "  \"/>\n",
       "<polyline clip-path=\"url(#clip0202)\" style=\"stroke:#3da44d; stroke-width:4; stroke-opacity:1; fill:none\" points=\"\n",
       "  236.834,955.051 244.929,913.922 253.024,875.047 261.119,838.852 269.214,806.242 277.309,778.505 285.404,756.913 293.498,742.164 301.593,734.051 309.688,731.569 \n",
       "  317.783,733.344 325.878,738.029 333.973,744.534 342.068,752.071 350.162,760.114 358.257,768.333 366.352,776.532 374.447,784.602 382.542,792.49 390.637,800.177 \n",
       "  398.731,807.666 406.826,814.969 414.921,822.106 423.016,829.1 431.111,835.974 439.206,842.751 447.301,849.453 455.395,856.099 463.49,862.709 471.585,869.296 \n",
       "  479.68,875.874 487.775,882.455 495.87,889.045 503.965,895.653 512.059,902.28 520.154,908.929 528.249,915.598 536.344,922.285 544.439,928.984 552.534,935.688 \n",
       "  560.629,942.39 568.723,949.079 576.818,955.745 584.913,962.374 593.008,968.955 601.103,975.474 609.198,981.917 617.293,988.272 625.387,994.524 633.482,1000.66 \n",
       "  641.577,1006.67 649.672,1012.55 657.767,1018.28 665.862,1023.85 673.957,1029.26 682.051,1034.51 690.146,1039.6 698.241,1044.52 706.336,1049.29 714.431,1053.9 \n",
       "  722.526,1058.36 730.621,1062.7 738.715,1066.92 746.81,1071.05 754.905,1075.09 763,1079.09 771.095,1083.06 779.19,1087.04 787.285,1091.06 795.379,1095.15 \n",
       "  803.474,1099.36 811.569,1103.72 819.664,1108.29 827.759,1113.12 835.854,1118.26 843.949,1123.8 852.043,1129.81 860.138,1136.39 868.233,1143.66 876.328,1151.74 \n",
       "  884.423,1160.82 892.518,1171.1 900.613,1182.84 908.707,1196.36 916.802,1212.05 924.897,1230.34 932.992,1251.6 941.087,1275.94 949.182,1302.54 957.277,1328.56 \n",
       "  965.371,1348.17 973.466,1354.35 981.561,1344.56 989.656,1323.28 997.751,1297.34 1005.85,1271.41 1013.94,1247.54 1022.04,1226.23 1030.13,1207.34 1038.23,1190.54 \n",
       "  1046.32,1175.45 1054.41,1161.73 1062.51,1149.11 1070.6,1137.34 1078.7,1126.22 1086.79,1115.58 1094.89,1105.29 1102.98,1095.23 1111.08,1085.28 1119.17,1075.36 \n",
       "  1127.27,1065.39 1135.36,1055.3 1143.46,1045.03 1151.55,1034.53 1159.65,1023.77 1167.74,1012.71 1175.84,1001.35 1183.93,989.663 1192.03,977.677 1200.12,965.412 \n",
       "  1208.22,952.904 1216.31,940.207 1224.41,927.384 1232.5,914.507 1240.6,901.656 1248.69,888.913 1256.79,876.358 1264.88,864.067 1272.98,852.106 1281.07,840.53 \n",
       "  1289.17,829.381 1297.26,818.689 1305.36,808.469 1313.45,798.724 1321.55,789.447 1329.64,780.623 1337.73,772.231 1345.83,764.247 1353.92,756.645 1362.02,749.398 \n",
       "  1370.11,742.482 1378.21,735.876 1386.3,729.561 1394.4,723.521 1402.49,717.747 1410.59,712.232 1418.68,706.972 1426.78,701.97 1434.87,697.229 1442.97,692.758 \n",
       "  1451.06,688.566 1459.16,684.667 1467.25,681.075 1475.35,677.804 1483.44,674.873 1491.54,672.296 1499.63,670.092 1507.73,668.274 1515.82,666.859 1523.92,665.858 \n",
       "  1532.01,665.284 1540.11,665.146 1548.2,665.449 1556.3,666.198 1564.39,667.393 1572.49,669.032 1580.58,671.11 1588.68,673.617 1596.77,676.541 1604.87,679.867 \n",
       "  1612.96,683.576 1621.05,687.645 1629.15,692.051 1637.24,696.766 1645.34,701.761 1653.43,707.003 1661.53,712.461 1669.62,718.099 1677.72,723.883 1685.81,729.778 \n",
       "  1693.91,735.748 1702,741.759 1710.1,747.777 1718.19,753.771 1726.29,759.711 1734.38,765.568 1742.48,771.316 1750.57,776.933 1758.67,782.397 1766.76,787.69 \n",
       "  1774.86,792.796 1782.95,797.703 1791.05,802.399 1799.14,806.877 1807.24,811.13 1815.33,815.154 1823.43,818.945 1831.52,822.503 1839.62,825.828 1847.71,828.921 \n",
       "  1855.81,831.785 1863.9,834.422 1872,836.836 1880.09,839.031 1888.19,841.01 1896.28,842.779 1904.37,844.342 1912.47,845.702 1920.56,846.864 1928.66,847.831 \n",
       "  1936.75,848.608 1944.85,849.197 1952.94,849.601 1961.04,849.821 1969.13,849.86 1977.23,849.717 1985.32,849.393 1993.42,848.888 2001.51,848.199 2009.61,847.325 \n",
       "  2017.7,846.261 2025.8,845.004 2033.89,843.548 2041.99,841.886 2050.08,840.012 2058.18,837.916 2066.27,835.589 2074.37,833.021 2082.46,830.202 2090.56,827.122 \n",
       "  2098.65,823.773 2106.75,820.149 2114.84,816.251 2122.94,812.09 2131.03,807.693 2139.13,803.111 2147.22,798.435 2155.32,793.812 2163.41,789.469 2171.51,785.746 \n",
       "  2179.6,783.117 2187.69,782.213 2195.79,783.802 2203.88,788.715 2211.98,797.726 2220.07,811.401 2228.17,830.027 2236.26,853.65 2244.36,882.246 2252.45,915.921 \n",
       "  2260.55,955.05 \n",
       "  \"/>\n",
       "<polyline clip-path=\"url(#clip0202)\" style=\"stroke:#c271d2; stroke-width:4; stroke-opacity:1; fill:none\" points=\"\n",
       "  236.834,955.051 244.929,1037.36 253.024,1115.17 261.119,1187.64 269.214,1252.95 277.309,1308.54 285.404,1351.88 293.498,1381.57 301.593,1398.03 309.688,1403.28 \n",
       "  317.783,1400.08 325.878,1391.12 333.973,1378.6 342.068,1364.1 350.162,1348.67 358.257,1332.99 366.352,1317.45 374.447,1302.28 382.542,1287.59 390.637,1273.43 \n",
       "  398.731,1259.79 406.826,1246.66 414.921,1234.01 423.016,1221.79 431.111,1209.96 439.206,1198.49 447.301,1187.32 455.395,1176.43 463.49,1165.78 471.585,1155.33 \n",
       "  479.68,1145.05 487.775,1134.92 495.87,1124.91 503.965,1114.99 512.059,1105.16 520.154,1095.38 528.249,1085.64 536.344,1075.93 544.439,1066.24 552.534,1056.55 \n",
       "  560.629,1046.85 568.723,1037.14 576.818,1027.41 584.913,1017.66 593.008,1007.87 601.103,998.053 609.198,988.199 617.293,978.309 625.387,968.382 633.482,958.418 \n",
       "  641.577,948.417 649.672,938.38 657.767,928.308 665.862,918.201 673.957,908.06 682.051,897.884 690.146,887.673 698.241,877.423 706.336,867.134 714.431,856.799 \n",
       "  722.526,846.412 730.621,835.966 738.715,825.448 746.81,814.845 754.905,804.141 763,793.314 771.095,782.338 779.19,771.185 787.285,759.817 795.379,748.193 \n",
       "  803.474,736.26 811.569,723.96 819.664,711.221 827.759,697.958 835.854,684.07 843.949,669.435 852.043,653.907 860.138,637.307 868.233,619.419 876.328,599.972 \n",
       "  884.423,578.635 892.518,554.992 900.613,528.527 908.707,498.6 916.802,464.446 924.897,425.209 932.992,380.115 941.087,328.978 949.182,273.418 957.277,219.105 \n",
       "  965.371,177.688 973.466,163.187 981.561,180.647 989.656,221.023 997.751,270.589 1005.85,319.955 1013.94,364.996 1022.04,404.659 1030.13,439.184 1038.23,469.228 \n",
       "  1046.32,495.501 1054.41,518.641 1062.51,539.186 1070.6,557.578 1078.7,574.178 1086.79,589.282 1094.89,603.13 1102.98,615.922 1111.08,627.827 1119.17,638.985 \n",
       "  1127.27,649.516 1135.36,659.524 1143.46,669.1 1151.55,678.322 1159.65,687.259 1167.74,695.973 1175.84,704.518 1183.93,712.941 1192.03,721.282 1200.12,729.576 \n",
       "  1208.22,737.85 1216.31,746.128 1224.41,754.422 1232.5,762.744 1240.6,771.095 1248.69,779.473 1256.79,787.871 1264.88,796.277 1272.98,804.677 1281.07,813.052 \n",
       "  1289.17,821.386 1297.26,829.659 1305.36,837.853 1313.45,845.949 1321.55,853.933 1329.64,861.788 1337.73,869.502 1345.83,877.063 1353.92,884.461 1362.02,891.687 \n",
       "  1370.11,898.733 1378.21,905.594 1386.3,912.265 1394.4,918.741 1402.49,925.02 1410.59,931.1 1418.68,936.978 1426.78,942.656 1434.87,948.134 1442.97,953.414 \n",
       "  1451.06,958.498 1459.16,963.39 1467.25,968.094 1475.35,972.617 1483.44,976.965 1491.54,981.144 1499.63,985.163 1507.73,989.03 1515.82,992.755 1523.92,996.347 \n",
       "  1532.01,999.815 1540.11,1003.17 1548.2,1006.42 1556.3,1009.57 1564.39,1012.64 1572.49,1015.63 1580.58,1018.55 1588.68,1021.4 1596.77,1024.2 1604.87,1026.94 \n",
       "  1612.96,1029.63 1621.05,1032.28 1629.15,1034.88 1637.24,1037.44 1645.34,1039.95 1653.43,1042.43 1661.53,1044.86 1669.62,1047.25 1677.72,1049.6 1685.81,1051.91 \n",
       "  1693.91,1054.17 1702,1056.39 1710.1,1058.57 1718.19,1060.71 1726.29,1062.8 1734.38,1064.86 1742.48,1066.88 1750.57,1068.87 1758.67,1070.83 1766.76,1072.76 \n",
       "  1774.86,1074.68 1782.95,1076.57 1791.05,1078.46 1799.14,1080.34 1807.24,1082.21 1815.33,1084.1 1823.43,1085.99 1831.52,1087.9 1839.62,1089.83 1847.71,1091.78 \n",
       "  1855.81,1093.78 1863.9,1095.81 1872,1097.89 1880.09,1100.02 1888.19,1102.21 1896.28,1104.46 1904.37,1106.79 1912.47,1109.19 1920.56,1111.68 1928.66,1114.27 \n",
       "  1936.75,1116.95 1944.85,1119.75 1952.94,1122.66 1961.04,1125.7 1969.13,1128.88 1977.23,1132.2 1985.32,1135.69 1993.42,1139.35 2001.51,1143.2 2009.61,1147.25 \n",
       "  2017.7,1151.52 2025.8,1156.03 2033.89,1160.79 2041.99,1165.83 2050.08,1171.17 2058.18,1176.84 2066.27,1182.85 2074.37,1189.24 2082.46,1196.04 2090.56,1203.26 \n",
       "  2098.65,1210.94 2106.75,1219.08 2114.84,1227.69 2122.94,1236.75 2131.03,1246.22 2139.13,1255.98 2147.22,1265.87 2155.32,1275.6 2163.41,1284.7 2171.51,1292.52 \n",
       "  2179.6,1298.09 2187.69,1300.16 2195.79,1297.2 2203.88,1287.54 2211.98,1269.65 2220.07,1242.38 2228.17,1205.18 2236.26,1157.95 2244.36,1100.74 2252.45,1033.36 \n",
       "  2260.55,955.051 \n",
       "  \"/>\n",
       "<polygon clip-path=\"url(#clip0200)\" points=\"\n",
       "1848.69,511.904 2249.26,511.904 2249.26,209.504 1848.69,209.504 \n",
       "  \" fill=\"#ffffff\" fill-rule=\"evenodd\" fill-opacity=\"1\"/>\n",
       "<polyline clip-path=\"url(#clip0200)\" style=\"stroke:#000000; stroke-width:4; stroke-opacity:1; fill:none\" points=\"\n",
       "  1848.69,511.904 2249.26,511.904 2249.26,209.504 1848.69,209.504 1848.69,511.904 \n",
       "  \"/>\n",
       "<polyline clip-path=\"url(#clip0200)\" style=\"stroke:#009af9; stroke-width:4; stroke-opacity:1; fill:none\" points=\"\n",
       "  1872.69,269.984 2016.69,269.984 \n",
       "  \"/>\n",
       "<g clip-path=\"url(#clip0200)\">\n",
       "<text style=\"fill:#000000; fill-opacity:1; font-family:Arial,Helvetica Neue,Helvetica,sans-serif; font-size:48px; text-anchor:start;\" transform=\"rotate(0, 2040.69, 287.484)\" x=\"2040.69\" y=\"287.484\">theta1</text>\n",
       "</g>\n",
       "<polyline clip-path=\"url(#clip0200)\" style=\"stroke:#e26f46; stroke-width:4; stroke-opacity:1; fill:none\" points=\"\n",
       "  1872.69,330.464 2016.69,330.464 \n",
       "  \"/>\n",
       "<g clip-path=\"url(#clip0200)\">\n",
       "<text style=\"fill:#000000; fill-opacity:1; font-family:Arial,Helvetica Neue,Helvetica,sans-serif; font-size:48px; text-anchor:start;\" transform=\"rotate(0, 2040.69, 347.964)\" x=\"2040.69\" y=\"347.964\">theta2</text>\n",
       "</g>\n",
       "<polyline clip-path=\"url(#clip0200)\" style=\"stroke:#3da44d; stroke-width:4; stroke-opacity:1; fill:none\" points=\"\n",
       "  1872.69,390.944 2016.69,390.944 \n",
       "  \"/>\n",
       "<g clip-path=\"url(#clip0200)\">\n",
       "<text style=\"fill:#000000; fill-opacity:1; font-family:Arial,Helvetica Neue,Helvetica,sans-serif; font-size:48px; text-anchor:start;\" transform=\"rotate(0, 2040.69, 408.444)\" x=\"2040.69\" y=\"408.444\">dtheta1</text>\n",
       "</g>\n",
       "<polyline clip-path=\"url(#clip0200)\" style=\"stroke:#c271d2; stroke-width:4; stroke-opacity:1; fill:none\" points=\"\n",
       "  1872.69,451.424 2016.69,451.424 \n",
       "  \"/>\n",
       "<g clip-path=\"url(#clip0200)\">\n",
       "<text style=\"fill:#000000; fill-opacity:1; font-family:Arial,Helvetica Neue,Helvetica,sans-serif; font-size:48px; text-anchor:start;\" transform=\"rotate(0, 2040.69, 468.924)\" x=\"2040.69\" y=\"468.924\">dtheta2</text>\n",
       "</g>\n",
       "</svg>\n"
      ]
     },
     "execution_count": 36,
     "metadata": {},
     "output_type": "execute_result"
    }
   ],
   "source": [
    "plot(prob.X,xlabel=\"time step\",title=\"State Trajectory\",label=[\"theta1\" \"theta2\" \"dtheta1\" \"dtheta2\"])"
   ]
  },
  {
   "cell_type": "code",
   "execution_count": 31,
   "metadata": {},
   "outputs": [
    {
     "data": {
      "image/svg+xml": [
       "<?xml version=\"1.0\" encoding=\"utf-8\"?>\n",
       "<svg xmlns=\"http://www.w3.org/2000/svg\" xmlns:xlink=\"http://www.w3.org/1999/xlink\" width=\"600\" height=\"400\" viewBox=\"0 0 2400 1600\">\n",
       "<defs>\n",
       "  <clipPath id=\"clip9800\">\n",
       "    <rect x=\"0\" y=\"0\" width=\"2400\" height=\"1600\"/>\n",
       "  </clipPath>\n",
       "</defs>\n",
       "<polygon clip-path=\"url(#clip9800)\" points=\"\n",
       "0,1600 2400,1600 2400,0 0,0 \n",
       "  \" fill=\"#ffffff\" fill-rule=\"evenodd\" fill-opacity=\"1\"/>\n",
       "<defs>\n",
       "  <clipPath id=\"clip9801\">\n",
       "    <rect x=\"480\" y=\"0\" width=\"1681\" height=\"1600\"/>\n",
       "  </clipPath>\n",
       "</defs>\n",
       "<polygon clip-path=\"url(#clip9800)\" points=\"\n",
       "176.123,1440.48 2321.26,1440.48 2321.26,125.984 176.123,125.984 \n",
       "  \" fill=\"#ffffff\" fill-rule=\"evenodd\" fill-opacity=\"1\"/>\n",
       "<defs>\n",
       "  <clipPath id=\"clip9802\">\n",
       "    <rect x=\"176\" y=\"125\" width=\"2146\" height=\"1315\"/>\n",
       "  </clipPath>\n",
       "</defs>\n",
       "<polyline clip-path=\"url(#clip9802)\" style=\"stroke:#000000; stroke-width:2; stroke-opacity:0.1; fill:none\" points=\"\n",
       "  228.707,1440.48 228.707,125.984 \n",
       "  \"/>\n",
       "<polyline clip-path=\"url(#clip9802)\" style=\"stroke:#000000; stroke-width:2; stroke-opacity:0.1; fill:none\" points=\"\n",
       "  635.075,1440.48 635.075,125.984 \n",
       "  \"/>\n",
       "<polyline clip-path=\"url(#clip9802)\" style=\"stroke:#000000; stroke-width:2; stroke-opacity:0.1; fill:none\" points=\"\n",
       "  1041.44,1440.48 1041.44,125.984 \n",
       "  \"/>\n",
       "<polyline clip-path=\"url(#clip9802)\" style=\"stroke:#000000; stroke-width:2; stroke-opacity:0.1; fill:none\" points=\"\n",
       "  1447.81,1440.48 1447.81,125.984 \n",
       "  \"/>\n",
       "<polyline clip-path=\"url(#clip9802)\" style=\"stroke:#000000; stroke-width:2; stroke-opacity:0.1; fill:none\" points=\"\n",
       "  1854.18,1440.48 1854.18,125.984 \n",
       "  \"/>\n",
       "<polyline clip-path=\"url(#clip9802)\" style=\"stroke:#000000; stroke-width:2; stroke-opacity:0.1; fill:none\" points=\"\n",
       "  2260.55,1440.48 2260.55,125.984 \n",
       "  \"/>\n",
       "<polyline clip-path=\"url(#clip9802)\" style=\"stroke:#000000; stroke-width:2; stroke-opacity:0.1; fill:none\" points=\"\n",
       "  176.123,1217.75 2321.26,1217.75 \n",
       "  \"/>\n",
       "<polyline clip-path=\"url(#clip9802)\" style=\"stroke:#000000; stroke-width:2; stroke-opacity:0.1; fill:none\" points=\"\n",
       "  176.123,992.57 2321.26,992.57 \n",
       "  \"/>\n",
       "<polyline clip-path=\"url(#clip9802)\" style=\"stroke:#000000; stroke-width:2; stroke-opacity:0.1; fill:none\" points=\"\n",
       "  176.123,767.39 2321.26,767.39 \n",
       "  \"/>\n",
       "<polyline clip-path=\"url(#clip9802)\" style=\"stroke:#000000; stroke-width:2; stroke-opacity:0.1; fill:none\" points=\"\n",
       "  176.123,542.211 2321.26,542.211 \n",
       "  \"/>\n",
       "<polyline clip-path=\"url(#clip9802)\" style=\"stroke:#000000; stroke-width:2; stroke-opacity:0.1; fill:none\" points=\"\n",
       "  176.123,317.031 2321.26,317.031 \n",
       "  \"/>\n",
       "<polyline clip-path=\"url(#clip9800)\" style=\"stroke:#000000; stroke-width:4; stroke-opacity:1; fill:none\" points=\"\n",
       "  176.123,1440.48 2321.26,1440.48 \n",
       "  \"/>\n",
       "<polyline clip-path=\"url(#clip9800)\" style=\"stroke:#000000; stroke-width:4; stroke-opacity:1; fill:none\" points=\"\n",
       "  176.123,1440.48 176.123,125.984 \n",
       "  \"/>\n",
       "<polyline clip-path=\"url(#clip9800)\" style=\"stroke:#000000; stroke-width:4; stroke-opacity:1; fill:none\" points=\"\n",
       "  228.707,1440.48 228.707,1420.77 \n",
       "  \"/>\n",
       "<polyline clip-path=\"url(#clip9800)\" style=\"stroke:#000000; stroke-width:4; stroke-opacity:1; fill:none\" points=\"\n",
       "  635.075,1440.48 635.075,1420.77 \n",
       "  \"/>\n",
       "<polyline clip-path=\"url(#clip9800)\" style=\"stroke:#000000; stroke-width:4; stroke-opacity:1; fill:none\" points=\"\n",
       "  1041.44,1440.48 1041.44,1420.77 \n",
       "  \"/>\n",
       "<polyline clip-path=\"url(#clip9800)\" style=\"stroke:#000000; stroke-width:4; stroke-opacity:1; fill:none\" points=\"\n",
       "  1447.81,1440.48 1447.81,1420.77 \n",
       "  \"/>\n",
       "<polyline clip-path=\"url(#clip9800)\" style=\"stroke:#000000; stroke-width:4; stroke-opacity:1; fill:none\" points=\"\n",
       "  1854.18,1440.48 1854.18,1420.77 \n",
       "  \"/>\n",
       "<polyline clip-path=\"url(#clip9800)\" style=\"stroke:#000000; stroke-width:4; stroke-opacity:1; fill:none\" points=\"\n",
       "  2260.55,1440.48 2260.55,1420.77 \n",
       "  \"/>\n",
       "<polyline clip-path=\"url(#clip9800)\" style=\"stroke:#000000; stroke-width:4; stroke-opacity:1; fill:none\" points=\"\n",
       "  176.123,1217.75 208.3,1217.75 \n",
       "  \"/>\n",
       "<polyline clip-path=\"url(#clip9800)\" style=\"stroke:#000000; stroke-width:4; stroke-opacity:1; fill:none\" points=\"\n",
       "  176.123,992.57 208.3,992.57 \n",
       "  \"/>\n",
       "<polyline clip-path=\"url(#clip9800)\" style=\"stroke:#000000; stroke-width:4; stroke-opacity:1; fill:none\" points=\"\n",
       "  176.123,767.39 208.3,767.39 \n",
       "  \"/>\n",
       "<polyline clip-path=\"url(#clip9800)\" style=\"stroke:#000000; stroke-width:4; stroke-opacity:1; fill:none\" points=\"\n",
       "  176.123,542.211 208.3,542.211 \n",
       "  \"/>\n",
       "<polyline clip-path=\"url(#clip9800)\" style=\"stroke:#000000; stroke-width:4; stroke-opacity:1; fill:none\" points=\"\n",
       "  176.123,317.031 208.3,317.031 \n",
       "  \"/>\n",
       "<g clip-path=\"url(#clip9800)\">\n",
       "<text style=\"fill:#000000; fill-opacity:1; font-family:Arial,Helvetica Neue,Helvetica,sans-serif; font-size:48px; text-anchor:middle;\" transform=\"rotate(0, 228.707, 1494.48)\" x=\"228.707\" y=\"1494.48\">0</text>\n",
       "</g>\n",
       "<g clip-path=\"url(#clip9800)\">\n",
       "<text style=\"fill:#000000; fill-opacity:1; font-family:Arial,Helvetica Neue,Helvetica,sans-serif; font-size:48px; text-anchor:middle;\" transform=\"rotate(0, 635.075, 1494.48)\" x=\"635.075\" y=\"1494.48\">50</text>\n",
       "</g>\n",
       "<g clip-path=\"url(#clip9800)\">\n",
       "<text style=\"fill:#000000; fill-opacity:1; font-family:Arial,Helvetica Neue,Helvetica,sans-serif; font-size:48px; text-anchor:middle;\" transform=\"rotate(0, 1041.44, 1494.48)\" x=\"1041.44\" y=\"1494.48\">100</text>\n",
       "</g>\n",
       "<g clip-path=\"url(#clip9800)\">\n",
       "<text style=\"fill:#000000; fill-opacity:1; font-family:Arial,Helvetica Neue,Helvetica,sans-serif; font-size:48px; text-anchor:middle;\" transform=\"rotate(0, 1447.81, 1494.48)\" x=\"1447.81\" y=\"1494.48\">150</text>\n",
       "</g>\n",
       "<g clip-path=\"url(#clip9800)\">\n",
       "<text style=\"fill:#000000; fill-opacity:1; font-family:Arial,Helvetica Neue,Helvetica,sans-serif; font-size:48px; text-anchor:middle;\" transform=\"rotate(0, 1854.18, 1494.48)\" x=\"1854.18\" y=\"1494.48\">200</text>\n",
       "</g>\n",
       "<g clip-path=\"url(#clip9800)\">\n",
       "<text style=\"fill:#000000; fill-opacity:1; font-family:Arial,Helvetica Neue,Helvetica,sans-serif; font-size:48px; text-anchor:middle;\" transform=\"rotate(0, 2260.55, 1494.48)\" x=\"2260.55\" y=\"1494.48\">250</text>\n",
       "</g>\n",
       "<g clip-path=\"url(#clip9800)\">\n",
       "<text style=\"fill:#000000; fill-opacity:1; font-family:Arial,Helvetica Neue,Helvetica,sans-serif; font-size:48px; text-anchor:end;\" transform=\"rotate(0, 152.123, 1235.25)\" x=\"152.123\" y=\"1235.25\">-20</text>\n",
       "</g>\n",
       "<g clip-path=\"url(#clip9800)\">\n",
       "<text style=\"fill:#000000; fill-opacity:1; font-family:Arial,Helvetica Neue,Helvetica,sans-serif; font-size:48px; text-anchor:end;\" transform=\"rotate(0, 152.123, 1010.07)\" x=\"152.123\" y=\"1010.07\">-10</text>\n",
       "</g>\n",
       "<g clip-path=\"url(#clip9800)\">\n",
       "<text style=\"fill:#000000; fill-opacity:1; font-family:Arial,Helvetica Neue,Helvetica,sans-serif; font-size:48px; text-anchor:end;\" transform=\"rotate(0, 152.123, 784.89)\" x=\"152.123\" y=\"784.89\">0</text>\n",
       "</g>\n",
       "<g clip-path=\"url(#clip9800)\">\n",
       "<text style=\"fill:#000000; fill-opacity:1; font-family:Arial,Helvetica Neue,Helvetica,sans-serif; font-size:48px; text-anchor:end;\" transform=\"rotate(0, 152.123, 559.711)\" x=\"152.123\" y=\"559.711\">10</text>\n",
       "</g>\n",
       "<g clip-path=\"url(#clip9800)\">\n",
       "<text style=\"fill:#000000; fill-opacity:1; font-family:Arial,Helvetica Neue,Helvetica,sans-serif; font-size:48px; text-anchor:end;\" transform=\"rotate(0, 152.123, 334.531)\" x=\"152.123\" y=\"334.531\">20</text>\n",
       "</g>\n",
       "<g clip-path=\"url(#clip9800)\">\n",
       "<text style=\"fill:#000000; fill-opacity:1; font-family:Arial,Helvetica Neue,Helvetica,sans-serif; font-size:84px; text-anchor:middle;\" transform=\"rotate(0, 1248.69, 73.2)\" x=\"1248.69\" y=\"73.2\">Control Trajectory</text>\n",
       "</g>\n",
       "<g clip-path=\"url(#clip9800)\">\n",
       "<text style=\"fill:#000000; fill-opacity:1; font-family:Arial,Helvetica Neue,Helvetica,sans-serif; font-size:66px; text-anchor:middle;\" transform=\"rotate(0, 1248.69, 1590.4)\" x=\"1248.69\" y=\"1590.4\">time step</text>\n",
       "</g>\n",
       "<polyline clip-path=\"url(#clip9802)\" style=\"stroke:#009af9; stroke-width:4; stroke-opacity:1; fill:none\" points=\"\n",
       "  236.834,1403.28 244.962,1372.02 253.089,1341.71 261.216,1310.85 269.344,1277.86 277.471,1241.64 285.599,1202.12 293.726,1160.32 301.853,1117.93 309.981,1076.63 \n",
       "  318.108,1037.65 326.235,1001.65 334.363,968.84 342.49,939.111 350.617,912.207 358.745,887.817 366.872,865.62 375,845.322 383.127,826.659 391.254,809.403 \n",
       "  399.382,793.362 407.509,778.37 415.636,764.289 423.764,751.004 431.891,738.419 440.019,726.453 448.146,715.041 456.273,704.127 464.401,693.67 472.528,683.633 \n",
       "  480.655,673.99 488.783,664.721 496.91,655.813 505.037,647.257 513.165,639.05 521.292,631.192 529.42,623.687 537.547,616.543 545.674,609.77 553.802,603.379 \n",
       "  561.929,597.384 570.056,591.8 578.184,586.643 586.311,581.928 594.438,577.672 602.566,573.889 610.693,570.594 618.821,567.8 626.948,565.52 635.075,563.762 \n",
       "  643.203,562.535 651.33,561.844 659.457,561.692 667.585,562.078 675.712,563 683.839,564.45 691.967,566.421 700.094,568.898 708.222,571.867 716.349,575.307 \n",
       "  724.476,579.196 732.604,583.509 740.731,588.218 748.858,593.292 756.986,598.698 765.113,604.4 773.241,610.362 781.368,616.546 789.495,622.911 797.623,629.418 \n",
       "  805.75,636.024 813.877,642.688 822.005,649.365 830.132,656.012 838.259,662.582 846.387,669.027 854.514,675.295 862.642,681.331 870.769,687.069 878.896,692.438 \n",
       "  887.024,697.348 895.151,701.69 903.278,705.324 911.406,708.065 919.533,709.669 927.66,709.809 935.788,708.065 943.915,703.963 952.043,697.164 960.17,687.967 \n",
       "  968.297,678 976.425,670.031 984.552,666.021 992.679,665.794 1000.81,668.021 1008.93,671.495 1017.06,675.486 1025.19,679.634 1033.32,683.785 1041.44,687.89 \n",
       "  1049.57,691.947 1057.7,695.974 1065.83,699.997 1073.95,704.043 1082.08,708.135 1090.21,712.296 1098.34,716.545 1106.46,720.898 1114.59,725.365 1122.72,729.956 \n",
       "  1130.84,734.676 1138.97,739.526 1147.1,744.507 1155.23,749.612 1163.35,754.834 1171.48,760.161 1179.61,765.579 1187.74,771.07 1195.86,776.613 1203.99,782.186 \n",
       "  1212.12,787.763 1220.25,793.319 1228.37,798.826 1236.5,804.258 1244.63,809.591 1252.76,814.801 1260.88,819.868 1269.01,824.775 1277.14,829.508 1285.26,834.058 \n",
       "  1293.39,838.418 1301.52,842.586 1309.65,846.563 1317.77,850.352 1325.9,853.958 1334.03,857.389 1342.16,860.653 1350.28,863.762 1358.41,866.724 1366.54,869.552 \n",
       "  1374.67,872.258 1382.79,874.855 1390.92,877.354 1399.05,879.769 1407.18,882.115 1415.3,884.404 1423.43,886.652 1431.56,888.874 1439.68,891.085 1447.81,893.301 \n",
       "  1455.94,895.537 1464.07,897.811 1472.19,900.137 1480.32,902.532 1488.45,905.011 1496.58,907.589 1504.7,910.28 1512.83,913.096 1520.96,916.049 1529.09,919.149 \n",
       "  1537.21,922.403 1545.34,925.818 1553.47,929.396 1561.59,933.139 1569.72,937.045 1577.85,941.11 1585.98,945.326 1594.1,949.684 1602.23,954.171 1610.36,958.771 \n",
       "  1618.49,963.468 1626.61,968.242 1634.74,973.071 1642.87,977.933 1651,982.803 1659.12,987.658 1667.25,992.472 1675.38,997.221 1683.51,1001.88 1691.63,1006.43 \n",
       "  1699.76,1010.85 1707.89,1015.11 1716.01,1019.2 1724.14,1023.1 1732.27,1026.81 1740.4,1030.3 1748.52,1033.56 1756.65,1036.6 1764.78,1039.4 1772.91,1041.96 \n",
       "  1781.03,1044.27 1789.16,1046.35 1797.29,1048.17 1805.42,1049.75 1813.54,1051.1 1821.67,1052.2 1829.8,1053.06 1837.93,1053.7 1846.05,1054.1 1854.18,1054.28 \n",
       "  1862.31,1054.23 1870.43,1053.97 1878.56,1053.49 1886.69,1052.8 1894.82,1051.89 1902.94,1050.78 1911.07,1049.46 1919.2,1047.93 1927.33,1046.19 1935.45,1044.25 \n",
       "  1943.58,1042.09 1951.71,1039.72 1959.84,1037.13 1967.96,1034.32 1976.09,1031.28 1984.22,1028 1992.35,1024.47 2000.47,1020.67 2008.6,1016.6 2016.73,1012.24 \n",
       "  2024.85,1007.56 2032.98,1002.54 2041.11,997.146 2049.24,991.346 2057.36,985.098 2065.49,978.351 2073.62,971.044 2081.75,963.107 2089.87,954.452 2098,944.976 \n",
       "  2106.13,934.554 2114.26,923.034 2122.38,910.23 2130.51,895.919 2138.64,879.828 2146.77,861.629 2154.89,840.932 2163.02,817.28 2171.15,790.154 2179.27,759 \n",
       "  2187.4,723.271 2195.53,682.498 2203.66,636.382 2211.78,584.849 2219.91,528.04 2228.04,466.167 2236.17,399.292 2244.29,327.101 2252.42,248.799 2260.55,163.187 \n",
       "  \n",
       "  \"/>\n",
       "<polygon clip-path=\"url(#clip9800)\" points=\"\n",
       "1955.74,330.464 2249.26,330.464 2249.26,209.504 1955.74,209.504 \n",
       "  \" fill=\"#ffffff\" fill-rule=\"evenodd\" fill-opacity=\"1\"/>\n",
       "<polyline clip-path=\"url(#clip9800)\" style=\"stroke:#000000; stroke-width:4; stroke-opacity:1; fill:none\" points=\"\n",
       "  1955.74,330.464 2249.26,330.464 2249.26,209.504 1955.74,209.504 1955.74,330.464 \n",
       "  \"/>\n",
       "<polyline clip-path=\"url(#clip9800)\" style=\"stroke:#009af9; stroke-width:4; stroke-opacity:1; fill:none\" points=\"\n",
       "  1979.74,269.984 2123.74,269.984 \n",
       "  \"/>\n",
       "<g clip-path=\"url(#clip9800)\">\n",
       "<text style=\"fill:#000000; fill-opacity:1; font-family:Arial,Helvetica Neue,Helvetica,sans-serif; font-size:48px; text-anchor:start;\" transform=\"rotate(0, 2147.74, 287.484)\" x=\"2147.74\" y=\"287.484\">u1</text>\n",
       "</g>\n",
       "</svg>\n"
      ]
     },
     "execution_count": 31,
     "metadata": {},
     "output_type": "execute_result"
    }
   ],
   "source": [
    "plot(prob.U,xlabel=\"time step\",title=\"Control Trajectory\",label=[\"u1\" \"u2\"])"
   ]
  },
  {
   "cell_type": "markdown",
   "metadata": {},
   "source": [
    "Visualizer"
   ]
  },
  {
   "cell_type": "code",
   "execution_count": 32,
   "metadata": {},
   "outputs": [
    {
     "data": {
      "text/html": [
       "<div class='display:none'></div><unsafe-script style='display:none'>\n",
       "WebIO.mount(this.previousSibling,{&quot;props&quot;:{},&quot;nodeType&quot;:&quot;Scope&quot;,&quot;type&quot;:&quot;node&quot;,&quot;instanceArgs&quot;:{&quot;imports&quot;:{&quot;data&quot;:[],&quot;type&quot;:&quot;async_block&quot;},&quot;id&quot;:&quot;scope-3a768dde-8c22-4abf-a448-c21b1a849ac1&quot;,&quot;handlers&quot;:{&quot;_promises&quot;:{&quot;importsLoaded&quot;:[function () {\n",
       "    var frame = this.dom.querySelector(&quot;#ifr&quot;);\n",
       "    var doc = frame.contentDocument\n",
       "    var win = frame.contentWindow\n",
       "\n",
       "    // Ensure that the iframe&#39;s baseURI matches the baseURI of the\n",
       "    // outer document. This is necessary to resolve\n",
       "    // https://github.com/JuliaGizmos/WebIO.jl/issues/167\n",
       "    var base = doc.createElement(&quot;base&quot;);\n",
       "    base.setAttribute(&quot;href&quot;, document.baseURI);\n",
       "    doc.head.appendChild(base);\n",
       "\n",
       "    var webio = doc.createElement(&quot;script&quot;)\n",
       "    webio.src = &quot;/assetserver/c443b012d0ad3ce8e6cc9de306cd3766b1d18a79-assets/webio/dist/bundle.js&quot;\n",
       "    var parent = window\n",
       "\n",
       "    function resizeIframe() {\n",
       "        doc.body.style.padding = &#39;0&#39;\n",
       "        doc.body.style.margin = &#39;0&#39;\n",
       "        doc.documentElement.height = &#39;100%&#39;\n",
       "        doc.body.height = &#39;100%&#39;\n",
       "    }\n",
       "\n",
       "    webio.onload = function () {\n",
       "        win.WebIO.sendCallback = parent.WebIO.sendCallback; // Share stuff\n",
       "        win.WebIO.scopes = parent.WebIO.scopes\n",
       "        win.WebIO.obsscopes = parent.WebIO.obsscopes\n",
       "        win.WebIO._connected = true\n",
       "        doc.body.innerHTML = &quot;&lt;html&gt;&lt;body&gt;&quot; + &quot;&lt;div class=&#39;display:none&#39;&gt;&lt;/div&gt;&lt;unsafe-script style=&#39;display:none&#39;&gt;\\nWebIO.mount(this.previousSibling,{&amp;quot;props&amp;quot;:{},&amp;quot;nodeType&amp;quot;:&amp;quot;Scope&amp;quot;,&amp;quot;type&amp;quot;:&amp;quot;node&amp;quot;,&amp;quot;instanceArgs&amp;quot;:{&amp;quot;imports&amp;quot;:{&amp;quot;data&amp;quot;:[{&amp;quot;name&amp;quot;:null,&amp;quot;type&amp;quot;:&amp;quot;js&amp;quot;,&amp;quot;url&amp;quot;:&amp;quot;/assetserver/39091d6b9eb892b592bedf9cea6c288f61f7d3f3-main.min.js&amp;quot;}],&amp;quot;type&amp;quot;:&amp;quot;async_block&amp;quot;},&amp;quot;id&amp;quot;:&amp;quot;scope-4b7fa983-6798-4c7b-bb4a-ffb476b17937&amp;quot;,&amp;quot;handlers&amp;quot;:{&amp;quot;meshcat-command&amp;quot;:[(function (val){return this.viewer.handle_command_message({&amp;quot;data&amp;quot;:val})})],&amp;quot;_promises&amp;quot;:{&amp;quot;importsLoaded&amp;quot;:[(function (mc){var element=this.dom.children[0]; this.viewer=new mc.Viewer(element); WebIO.setval({&amp;quot;name&amp;quot;:&amp;quot;meshcat-request&amp;quot;,&amp;quot;scope&amp;quot;:&amp;quot;scope-4b7fa983-6798-4c7b-bb4a-ffb476b17937&amp;quot;,&amp;quot;id&amp;quot;:&amp;quot;ob_08&amp;quot;,&amp;quot;type&amp;quot;:&amp;quot;observable&amp;quot;},String(Date.now())); window.document.body.style.margin=&amp;quot;0&amp;quot;; return window.meshcat_viewer=this.viewer})]}},&amp;quot;systemjs_options&amp;quot;:null,&amp;quot;observables&amp;quot;:{&amp;quot;meshcat-command&amp;quot;:{&amp;quot;sync&amp;quot;:false,&amp;quot;id&amp;quot;:&amp;quot;ob_07&amp;quot;,&amp;quot;value&amp;quot;:[]},&amp;quot;meshcat-controls&amp;quot;:{&amp;quot;sync&amp;quot;:true,&amp;quot;id&amp;quot;:&amp;quot;ob_09&amp;quot;,&amp;quot;value&amp;quot;:[]},&amp;quot;meshcat-request&amp;quot;:{&amp;quot;sync&amp;quot;:true,&amp;quot;id&amp;quot;:&amp;quot;ob_08&amp;quot;,&amp;quot;value&amp;quot;:&amp;quot;&amp;quot;}}},&amp;quot;children&amp;quot;:[{&amp;quot;props&amp;quot;:{&amp;quot;className&amp;quot;:&amp;quot;meshcat-viewer&amp;quot;,&amp;quot;style&amp;quot;:{&amp;quot;left&amp;quot;:0,&amp;quot;right&amp;quot;:0,&amp;quot;overflow&amp;quot;:&amp;quot;hidden&amp;quot;,&amp;quot;position&amp;quot;:&amp;quot;absolute&amp;quot;,&amp;quot;height&amp;quot;:&amp;quot;100vh&amp;quot;,&amp;quot;margin&amp;quot;:0,&amp;quot;width&amp;quot;:&amp;quot;100vw&amp;quot;}},&amp;quot;nodeType&amp;quot;:&amp;quot;DOM&amp;quot;,&amp;quot;type&amp;quot;:&amp;quot;node&amp;quot;,&amp;quot;instanceArgs&amp;quot;:{&amp;quot;namespace&amp;quot;:&amp;quot;html&amp;quot;,&amp;quot;tag&amp;quot;:&amp;quot;div&amp;quot;},&amp;quot;children&amp;quot;:[]}]})&lt;/unsafe-script&gt;&quot; + &quot;&lt;/body&gt;&lt;/html&gt;&quot;;\n",
       "        setTimeout(function () { resizeIframe() }, 0)\n",
       "    }\n",
       "\n",
       "    doc.body.appendChild(webio)\n",
       "},(function (){return this.dom.style.height=&quot;100%&quot;})]}},&quot;systemjs_options&quot;:null,&quot;observables&quot;:{}},&quot;children&quot;:[{&quot;props&quot;:{&quot;style&quot;:{&quot;flexDirection&quot;:&quot;column&quot;,&quot;height&quot;:&quot;100%&quot;,&quot;minHeight&quot;:&quot;400px&quot;,&quot;display&quot;:&quot;flex&quot;,&quot;width&quot;:&quot;100%&quot;,&quot;overflow&quot;:&quot;hidden&quot;}},&quot;nodeType&quot;:&quot;DOM&quot;,&quot;type&quot;:&quot;node&quot;,&quot;instanceArgs&quot;:{&quot;namespace&quot;:&quot;html&quot;,&quot;tag&quot;:&quot;div&quot;},&quot;children&quot;:[{&quot;props&quot;:{&quot;attributes&quot;:{&quot;height&quot;:&quot;100%&quot;,&quot;scrolling&quot;:&quot;no&quot;,&quot;src&quot;:&quot;javascript:void(0)&quot;,&quot;frameborder&quot;:0},&quot;id&quot;:&quot;ifr&quot;,&quot;style&quot;:{&quot;width&quot;:&quot;100%&quot;,&quot;flexGrow&quot;:&quot;1&quot;}},&quot;nodeType&quot;:&quot;DOM&quot;,&quot;type&quot;:&quot;node&quot;,&quot;instanceArgs&quot;:{&quot;namespace&quot;:&quot;html&quot;,&quot;tag&quot;:&quot;iframe&quot;},&quot;children&quot;:[]}]}]})</unsafe-script>"
      ],
      "text/plain": [
       "WebIO.Scope(\"scope-3a768dde-8c22-4abf-a448-c21b1a849ac1\", WebIO.Node{WebIO.DOM}(WebIO.DOM(:html, :div), Any[Node{DOM}(DOM(:html, :iframe), Any[], Dict{Symbol,Any}(:attributes=>Dict{String,Any}(\"height\"=>\"100%\",\"scrolling\"=>\"no\",\"src\"=>\"javascript:void(0)\",\"frameborder\"=>0),:id=>\"ifr\",:style=>Dict(\"width\"=>\"100%\",\"flexGrow\"=>\"1\")), 0)], Dict{Symbol,Any}(:style=>Dict(\"flexDirection\"=>\"column\",\"height\"=>\"100%\",\"minHeight\"=>\"400px\",\"display\"=>\"flex\",\"width\"=>\"100%\",\"overflow\"=>\"hidden\")), 1), Dict{String,Tuple{Observables.AbstractObservable,Union{Nothing, Bool}}}(), Set(String[]), nothing, Any[], Dict{Any,Any}(\"_promises\"=>Dict{Any,Any}(\"importsLoaded\"=>Any[JSString(\"function () {\\n    var frame = this.dom.querySelector(\\\"#ifr\\\");\\n    var doc = frame.contentDocument\\n    var win = frame.contentWindow\\n\\n    // Ensure that the iframe's baseURI matches the baseURI of the\\n    // outer document. This is necessary to resolve\\n    // https://github.com/JuliaGizmos/WebIO.jl/issues/167\\n    var base = doc.createElement(\\\"base\\\");\\n    base.setAttribute(\\\"href\\\", document.baseURI);\\n    doc.head.appendChild(base);\\n\\n    var webio = doc.createElement(\\\"script\\\")\\n    webio.src = \\\"/assetserver/c443b012d0ad3ce8e6cc9de306cd3766b1d18a79-assets/webio/dist/bundle.js\\\"\\n    var parent = window\\n\\n    function resizeIframe() {\\n        doc.body.style.padding = '0'\\n        doc.body.style.margin = '0'\\n        doc.documentElement.height = '100%'\\n        doc.body.height = '100%'\\n    }\\n\\n    webio.onload = function () {\\n        win.WebIO.sendCallback = parent.WebIO.sendCallback; // Share stuff\\n        win.WebIO.scopes = parent.WebIO.scopes\\n        win.WebIO.obsscopes = parent.WebIO.obsscopes\\n        win.WebIO._connected = true\\n        doc.body.innerHTML = \\\"<html><body>\\\" + \\\"<div class='display:none'></div><unsafe-script style='display:none'>\\\\nWebIO.mount(this.previousSibling,{&quot;props&quot;:{},&quot;nodeType&quot;:&quot;Scope&quot;,&quot;type&quot;:&quot;node&quot;,&quot;instanceArgs&quot;:{&quot;imports&quot;:{&quot;data&quot;:[{&quot;name&quot;:null,&quot;type&quot;:&quot;js&quot;,&quot;url&quot;:&quot;/assetserver/39091d6b9eb892b592bedf9cea6c288f61f7d3f3-main.min.js&quot;}],&quot;type&quot;:&quot;async_block&quot;},&quot;id&quot;:&quot;scope-4b7fa983-6798-4c7b-bb4a-ffb476b17937&quot;,&quot;handlers&quot;:{&quot;meshcat-command&quot;:[(function (val){return this.viewer.handle_command_message({&quot;data&quot;:val})})],&quot;_promises&quot;:{&quot;importsLoaded&quot;:[(function (mc){var element=this.dom.children[0]; this.viewer=new mc.Viewer(element); WebIO.setval({&quot;name&quot;:&quot;meshcat-request&quot;,&quot;scope&quot;:&quot;scope-4b7fa983-6798-4c7b-bb4a-ffb476b17937&quot;,&quot;id&quot;:&quot;ob_08&quot;,&quot;type&quot;:&quot;observable&quot;},String(Date.now())); window.document.body.style.margin=&quot;0&quot;; return window.meshcat_viewer=this.viewer})]}},&quot;systemjs_options&quot;:null,&quot;observables&quot;:{&quot;meshcat-command&quot;:{&quot;sync&quot;:false,&quot;id&quot;:&quot;ob_07&quot;,&quot;value&quot;:[]},&quot;meshcat-controls&quot;:{&quot;sync&quot;:true,&quot;id&quot;:&quot;ob_09&quot;,&quot;value&quot;:[]},&quot;meshcat-request&quot;:{&quot;sync&quot;:true,&quot;id&quot;:&quot;ob_08&quot;,&quot;value&quot;:&quot;&quot;}}},&quot;children&quot;:[{&quot;props&quot;:{&quot;className&quot;:&quot;meshcat-viewer&quot;,&quot;style&quot;:{&quot;left&quot;:0,&quot;right&quot;:0,&quot;overflow&quot;:&quot;hidden&quot;,&quot;position&quot;:&quot;absolute&quot;,&quot;height&quot;:&quot;100vh&quot;,&quot;margin&quot;:0,&quot;width&quot;:&quot;100vw&quot;}},&quot;nodeType&quot;:&quot;DOM&quot;,&quot;type&quot;:&quot;node&quot;,&quot;instanceArgs&quot;:{&quot;namespace&quot;:&quot;html&quot;,&quot;tag&quot;:&quot;div&quot;},&quot;children&quot;:[]}]})</unsafe-script>\\\" + \\\"</body></html>\\\";\\n        setTimeout(function () { resizeIframe() }, 0)\\n    }\\n\\n    doc.body.appendChild(webio)\\n}\"), JSString(\"(function (){return this.dom.style.height=\\\"100%\\\"})\")])), WebIO.ConnectionPool(Channel{Any}(sz_max:9223372036854775807,sz_curr:0), Set(WebIO.AbstractConnection[]), Channel{WebIO.AbstractConnection}(sz_max:32,sz_curr:0)))"
      ]
     },
     "execution_count": 32,
     "metadata": {},
     "output_type": "execute_result"
    }
   ],
   "source": [
    "vis = Visualizer()\n",
    "# open(vis)\n",
    "IJuliaCell(vis)"
   ]
  },
  {
   "cell_type": "markdown",
   "metadata": {},
   "source": [
    "Create mechanism"
   ]
  },
  {
   "cell_type": "code",
   "execution_count": 33,
   "metadata": {},
   "outputs": [],
   "source": [
    "robot = RigidBodyDynamics.parse_urdf(T, urdf)\n",
    "mvis = MechanismVisualizer(robot, URDFVisuals(urdf), vis);"
   ]
  },
  {
   "cell_type": "code",
   "execution_count": 34,
   "metadata": {},
   "outputs": [],
   "source": [
    "# Set camera location\n",
    "settransform!(vis[\"/Cameras/default\"], compose(Translation(0.,1.0,1.0),LinearMap(RotZ(pi/2))));"
   ]
  },
  {
   "cell_type": "markdown",
   "metadata": {},
   "source": [
    "Create generalized coordinate trajectory and animate"
   ]
  },
  {
   "cell_type": "code",
   "execution_count": 35,
   "metadata": {},
   "outputs": [],
   "source": [
    "q = [[prob.X[k][1];prob.X[k][2]] for k = 1:N]\n",
    "t = range(0,stop=N*dt,length=N)\n",
    "\n",
    "setanimation!(mvis,t,q)"
   ]
  },
  {
   "cell_type": "code",
   "execution_count": null,
   "metadata": {},
   "outputs": [],
   "source": []
  }
 ],
 "metadata": {
  "@webio": {
   "lastCommId": null,
   "lastKernelId": null
  },
  "kernelspec": {
   "display_name": "Julia 1.1.0",
   "language": "julia",
   "name": "julia-1.1"
  },
  "language_info": {
   "file_extension": ".jl",
   "mimetype": "application/julia",
   "name": "julia",
   "version": "1.1.0"
  }
 },
 "nbformat": 4,
 "nbformat_minor": 2
}
