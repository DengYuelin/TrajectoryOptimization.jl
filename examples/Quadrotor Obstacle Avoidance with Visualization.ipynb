{
 "cells": [
  {
   "cell_type": "markdown",
   "metadata": {},
   "source": [
    "## Quadrotor Obstacle Avoidance with Visualization"
   ]
  },
  {
   "cell_type": "code",
   "execution_count": 1,
   "metadata": {},
   "outputs": [
    {
     "name": "stderr",
     "output_type": "stream",
     "text": [
      "┌ Info: Recompiling stale cache file /home/taylor/.julia/compiled/v1.1/TrajectoryOptimization/UVgeA.ji for TrajectoryOptimization [c79d492b-0548-5874-b488-5a62c1d9d0ca]\n",
      "└ @ Base loading.jl:1184\n",
      "WARNING: Method definition (::getfield(TrajectoryOptimization, Symbol(\"#∇f!#88\")){f, ∇f})(Any, Any) in module TrajectoryOptimization at /home/taylor/.julia/dev/TrajectoryOptimization/src/model_robust.jl:726 overwritten at /home/taylor/.julia/dev/TrajectoryOptimization/src/model_robust.jl:728.\n",
      "WARNING: Method definition (::getfield(TrajectoryOptimization, Symbol(\"#∇f!#88\")){f, ∇f})(Any, Any, Any, Any) in module TrajectoryOptimization at /home/taylor/.julia/dev/TrajectoryOptimization/src/model_robust.jl:734 overwritten at /home/taylor/.julia/dev/TrajectoryOptimization/src/model_robust.jl:736.\n",
      "WARNING: Method definition (::getfield(TrajectoryOptimization, Symbol(\"#∇f!#89\")){∇f, f})(Any, Any, Any) in module TrajectoryOptimization at /home/taylor/.julia/dev/TrajectoryOptimization/src/model_robust.jl:764 overwritten at /home/taylor/.julia/dev/TrajectoryOptimization/src/model_robust.jl:766.\n",
      "WARNING: Method definition (::getfield(TrajectoryOptimization, Symbol(\"#∇f!#89\")){∇f, f})(Any, Any, Any, Any, Any) in module TrajectoryOptimization at /home/taylor/.julia/dev/TrajectoryOptimization/src/model_robust.jl:772 overwritten at /home/taylor/.julia/dev/TrajectoryOptimization/src/model_robust.jl:774.\n",
      "┌ Warning: Package TrajectoryOptimization does not have MatrixCalculus in its dependencies:\n",
      "│ - If you have TrajectoryOptimization checked out for development and have\n",
      "│   added MatrixCalculus as a dependency but haven't updated your primary\n",
      "│   environment's manifest file, try `Pkg.resolve()`.\n",
      "│ - Otherwise you may need to report an issue with TrajectoryOptimization\n",
      "└ Loading MatrixCalculus into TrajectoryOptimization from project dependency, future warnings for TrajectoryOptimization are suppressed.\n"
     ]
    }
   ],
   "source": [
    "using TrajectoryOptimization\n",
    "using Plots, LinearAlgebra"
   ]
  },
  {
   "cell_type": "markdown",
   "metadata": {},
   "source": [
    "Import the quadrotor model"
   ]
  },
  {
   "cell_type": "code",
   "execution_count": 37,
   "metadata": {},
   "outputs": [],
   "source": [
    "model = Dynamics.quadrotor_model\n",
    "n = model.n # number of states\n",
    "m = model.m; # number of controls"
   ]
  },
  {
   "cell_type": "markdown",
   "metadata": {},
   "source": [
    "Define numerical type"
   ]
  },
  {
   "cell_type": "code",
   "execution_count": 38,
   "metadata": {},
   "outputs": [],
   "source": [
    "T = Float64;"
   ]
  },
  {
   "cell_type": "markdown",
   "metadata": {},
   "source": [
    "Define initial and goals states"
   ]
  },
  {
   "cell_type": "code",
   "execution_count": 72,
   "metadata": {},
   "outputs": [],
   "source": [
    "q0 = [1.;0.;0.;0.] # unit quaternion\n",
    "\n",
    "x0 = zeros(T,n)\n",
    "x0[1:3] = [0.; 0.; 1.]\n",
    "x0[4:7] = q0\n",
    "\n",
    "xf = zero(x0)\n",
    "xf[1:3] = [0.;40.; 1.]\n",
    "xf[4:7] = q0;"
   ]
  },
  {
   "cell_type": "markdown",
   "metadata": {},
   "source": [
    "Define a cost function, e.g., quadratic"
   ]
  },
  {
   "cell_type": "code",
   "execution_count": 73,
   "metadata": {},
   "outputs": [],
   "source": [
    "Q = (1.0e-2)*Diagonal(I,n)\n",
    "R = (1.0e-1)*Diagonal(I,m)\n",
    "Qf = 1000.0*Diagonal(I,n)\n",
    "cost = LQRCost(Q, R, Qf, xf);"
   ]
  },
  {
   "cell_type": "markdown",
   "metadata": {},
   "source": [
    "Define constraints"
   ]
  },
  {
   "cell_type": "code",
   "execution_count": 74,
   "metadata": {},
   "outputs": [],
   "source": [
    "bnd = bound_constraint(n,m,u_min=0.0,u_max=5.0,trim=true); # stagewise constraint\n",
    "goal = goal_constraint(xf)\n",
    "\n",
    "# create obstacle constraints\n",
    "r_quad = 1.0\n",
    "r_sphere = 2.0\n",
    "spheres = ((0.,10.,0.,r_sphere),(0.,20.,0.,r_sphere),(0.,30.,0.,r_sphere))\n",
    "n_spheres = 3\n",
    "\n",
    "function sphere_obs3(c,x,u)\n",
    "    for i = 1:n_spheres\n",
    "        c[i] = TrajectoryOptimization.sphere_constraint(x,spheres[i][1],spheres[i][2],spheres[i][3],spheres[i][4]+r_quad)\n",
    "    end\n",
    "    return nothing\n",
    "end\n",
    "\n",
    "obs = Constraint{Inequality}(sphere_obs3,n,m,n_spheres,:obs)\n",
    "\n",
    "con = [bnd,obs,goal]; # constraint set"
   ]
  },
  {
   "cell_type": "markdown",
   "metadata": {},
   "source": [
    "Define a problem"
   ]
  },
  {
   "cell_type": "code",
   "execution_count": 75,
   "metadata": {},
   "outputs": [],
   "source": [
    "N = 101 # number of knot points\n",
    "dt = 0.1 # total time\n",
    "\n",
    "U = [0.5*9.81/4.0*ones(m) for k = 1:N-1] # initial hovering control trajectory\n",
    "obj = TrajectoryOptimization.Objective(cost,N) # objective with same stagewise costs\n",
    "\n",
    "con = TrajectoryOptimization.ProblemConstraints(con,N) # constraint trajectory\n",
    "\n",
    "prob = Problem(model,obj, constraints=con, x0=x0, integration=:rk4, N=N, dt=dt)\n",
    "initial_controls!(prob,U); # initialize problem with controls"
   ]
  },
  {
   "cell_type": "markdown",
   "metadata": {},
   "source": [
    "Solve problem"
   ]
  },
  {
   "cell_type": "code",
   "execution_count": 76,
   "metadata": {},
   "outputs": [],
   "source": [
    "solve!(prob, TrajectoryOptimization.ALTROSolverOptions{T}(verbose=true)) # solve with iLQR"
   ]
  },
  {
   "cell_type": "markdown",
   "metadata": {},
   "source": [
    "Visualization"
   ]
  },
  {
   "cell_type": "code",
   "execution_count": 85,
   "metadata": {},
   "outputs": [],
   "source": [
    "using MeshCat, GeometryTypes, CoordinateTransformations, FileIO, MeshIO"
   ]
  },
  {
   "cell_type": "code",
   "execution_count": 86,
   "metadata": {},
   "outputs": [
    {
     "name": "stderr",
     "output_type": "stream",
     "text": [
      "┌ Info: Serving MeshCat visualizer at http://127.0.0.1:8705\n",
      "└ @ MeshCat /home/taylor/.julia/packages/MeshCat/WlA0B/src/servers.jl:24\n"
     ]
    },
    {
     "data": {
      "text/plain": [
       "Process(`\u001b[4mxdg-open\u001b[24m \u001b[4mhttp://127.0.0.1:8705\u001b[24m`, ProcessExited(0))"
      ]
     },
     "execution_count": 86,
     "metadata": {},
     "output_type": "execute_result"
    }
   ],
   "source": [
    "vis = Visualizer()\n",
    "open(vis)"
   ]
  },
  {
   "cell_type": "code",
   "execution_count": 87,
   "metadata": {},
   "outputs": [],
   "source": [
    "# color options\n",
    "red_ = MeshPhongMaterial(color=RGBA(1, 0, 0, 1.0))\n",
    "black_ = MeshPhongMaterial(color=RGBA(0, 0, 0, 1.0))\n",
    "blue_ = MeshPhongMaterial(color=RGBA(0, 0, 1, 1.0));"
   ]
  },
  {
   "cell_type": "code",
   "execution_count": 88,
   "metadata": {},
   "outputs": [],
   "source": [
    "# Import quadrotor obj file\n",
    "traj_folder = joinpath(dirname(pathof(TrajectoryOptimization)),\"..\")\n",
    "urdf_folder = joinpath(traj_folder, \"dynamics\",\"urdf\")\n",
    "obj = joinpath(urdf_folder, \"quadrotor_base.obj\")\n",
    "robot_obj = FileIO.load(obj)\n",
    "\n",
    "robot = vis[\"robot\"]\n",
    "robot_obj.vertices .= robot_obj.vertices .* 0.33\n",
    "setobject!(vis[\"robot\"][\"quad\"],robot_obj,black_);"
   ]
  },
  {
   "cell_type": "code",
   "execution_count": 89,
   "metadata": {},
   "outputs": [],
   "source": [
    "# geometries\n",
    "sphere_small = HyperSphere(Point3f0(0), convert(Float32,0.1*r_quad)) # trajectory points\n",
    "sphere_medium = HyperSphere(Point3f0(0), convert(Float32,r_quad));"
   ]
  },
  {
   "cell_type": "code",
   "execution_count": 90,
   "metadata": {},
   "outputs": [],
   "source": [
    "# Create and place obstacles\n",
    "obstacles = vis[\"obs\"]\n",
    "\n",
    "for i = 1:n_spheres\n",
    "    setobject!(vis[\"obs\"][\"s$i\"],HyperSphere(Point3f0(0), convert(Float32,spheres[i][4])),red_)\n",
    "    settransform!(vis[\"obs\"][\"s$i\"], Translation(spheres[i][1], spheres[i][2], spheres[i][3]))\n",
    "end"
   ]
  },
  {
   "cell_type": "code",
   "execution_count": 91,
   "metadata": {},
   "outputs": [],
   "source": [
    "# Create and place trajectory\n",
    "traj = vis[\"traj\"]\n",
    "\n",
    "for i = 1:N\n",
    "    setobject!(vis[\"traj\"][\"t$i\"],sphere_small,blue_)\n",
    "    settransform!(vis[\"traj\"][\"t$i\"], Translation(prob.X[i][1], prob.X[i][2], prob.X[i][3]))\n",
    "end"
   ]
  },
  {
   "cell_type": "code",
   "execution_count": 92,
   "metadata": {},
   "outputs": [],
   "source": [
    "# Set camera location\n",
    "settransform!(vis[\"/Cameras/default\"], compose(Translation(25., 15., 20.),LinearMap(RotY(-pi/12))));"
   ]
  },
  {
   "cell_type": "code",
   "execution_count": 93,
   "metadata": {},
   "outputs": [],
   "source": [
    "# Animation\n",
    "anim = MeshCat.Animation(20)\n",
    "for i = 1:N\n",
    "    MeshCat.atframe(anim,vis,i) do frame\n",
    "        settransform!(frame[\"robot\"], compose(Translation(prob.X[i][1:3]...),LinearMap(Quat(prob.X[i][4:7]...))))\n",
    "    end\n",
    "end\n",
    "MeshCat.setanimation!(vis,anim)"
   ]
  },
  {
   "cell_type": "code",
   "execution_count": null,
   "metadata": {},
   "outputs": [],
   "source": []
  },
  {
   "cell_type": "code",
   "execution_count": null,
   "metadata": {},
   "outputs": [],
   "source": []
  },
  {
   "cell_type": "code",
   "execution_count": null,
   "metadata": {},
   "outputs": [],
   "source": []
  }
 ],
 "metadata": {
  "@webio": {
   "lastCommId": null,
   "lastKernelId": null
  },
  "kernelspec": {
   "display_name": "Julia 1.1.0",
   "language": "julia",
   "name": "julia-1.1"
  },
  "language_info": {
   "file_extension": ".jl",
   "mimetype": "application/julia",
   "name": "julia",
   "version": "1.1.0"
  }
 },
 "nbformat": 4,
 "nbformat_minor": 2
}
