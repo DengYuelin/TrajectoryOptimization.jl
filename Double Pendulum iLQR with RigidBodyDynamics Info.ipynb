{
 "cells": [
  {
   "cell_type": "code",
   "execution_count": 1,
   "metadata": {},
   "outputs": [
    {
     "data": {
      "text/html": [
       "    <script class='js-collapse-script'>\n",
       "        var curMatch =\n",
       "            window.location.href\n",
       "            .match(/(.*?)\\/notebooks\\/.*\\.ipynb/);\n",
       "\n",
       "        curMatch = curMatch ||\n",
       "            window.location.href\n",
       "            .match(/(.*?)\\/apps\\/.*\\.ipynb/);\n",
       "\n",
       "        if ( curMatch ) {\n",
       "            $('head').append('<base href=\"' + curMatch[1] + '/\">');\n",
       "        }\n",
       "    </script>\n"
      ],
      "text/plain": [
       "HTML{String}(\"    <script class='js-collapse-script'>\\n        var curMatch =\\n            window.location.href\\n            .match(/(.*?)\\\\/notebooks\\\\/.*\\\\.ipynb/);\\n\\n        curMatch = curMatch ||\\n            window.location.href\\n            .match(/(.*?)\\\\/apps\\\\/.*\\\\.ipynb/);\\n\\n        if ( curMatch ) {\\n            \\$('head').append('<base href=\\\"' + curMatch[1] + '/\\\">');\\n        }\\n    </script>\\n\")"
      ]
     },
     "metadata": {},
     "output_type": "display_data"
    },
    {
     "data": {
      "text/html": [
       "<script class='js-collapse-script' src='/assetserver/20bf9867c6d8c22b253c6453b69609af00fc1eeb-assets/webio/dist/bundle.js'></script>"
      ],
      "text/plain": [
       "HTML{String}(\"<script class='js-collapse-script' src='/assetserver/20bf9867c6d8c22b253c6453b69609af00fc1eeb-assets/webio/dist/bundle.js'></script>\")"
      ]
     },
     "metadata": {},
     "output_type": "display_data"
    },
    {
     "data": {
      "text/html": [
       "<script class='js-collapse-script' src='/assetserver/20bf9867c6d8c22b253c6453b69609af00fc1eeb-assets/providers/ijulia_setup.js'></script>"
      ],
      "text/plain": [
       "HTML{String}(\"<script class='js-collapse-script' src='/assetserver/20bf9867c6d8c22b253c6453b69609af00fc1eeb-assets/providers/ijulia_setup.js'></script>\")"
      ]
     },
     "metadata": {},
     "output_type": "display_data"
    },
    {
     "data": {
      "text/html": [
       "  <script class='js-collapse-script'>\n",
       "    $('.js-collapse-script').parent('.output_subarea').css('padding', '0');\n",
       "  </script>\n"
      ],
      "text/plain": [
       "HTML{String}(\"  <script class='js-collapse-script'>\\n    \\$('.js-collapse-script').parent('.output_subarea').css('padding', '0');\\n  </script>\\n\")"
      ]
     },
     "metadata": {},
     "output_type": "display_data"
    },
    {
     "name": "stderr",
     "output_type": "stream",
     "text": [
      "\u001b[1m\u001b[36mINFO: \u001b[39m\u001b[22m\u001b[36mLoading HttpServer methods...\n",
      "\u001b[39m"
     ]
    }
   ],
   "source": [
    "using RigidBodyDynamics\n",
    "using ForwardDiff\n",
    "using Plots\n",
    "using MeshCatMechanisms"
   ]
  },
  {
   "cell_type": "code",
   "execution_count": 2,
   "metadata": {},
   "outputs": [
    {
     "data": {
      "text/plain": [
       "Spanning tree:\n",
       "Vertex: world (root)\n",
       "  Vertex: base_link, Edge: base_link_to_world\n",
       "    Vertex: upper_link, Edge: shoulder\n",
       "      Vertex: lower_link, Edge: elbow\n",
       "No non-tree joints."
      ]
     },
     "execution_count": 2,
     "metadata": {},
     "output_type": "execute_result"
    }
   ],
   "source": [
    "urdf = \"doublependulum.urdf\"\n",
    "doublependulum = parse_urdf(Float64,urdf)"
   ]
  },
  {
   "cell_type": "code",
   "execution_count": 8,
   "metadata": {},
   "outputs": [
    {
     "name": "stderr",
     "output_type": "stream",
     "text": [
      "WARNING: redefining constant state\n"
     ]
    },
    {
     "data": {
      "text/plain": [
       "3-element Array{RigidBodyDynamics.Joint{Float64,JT} where JT<:RigidBodyDynamics.JointType{Float64},1}:\n",
       " base_link_to_world\n",
       " shoulder          \n",
       " elbow             "
      ]
     },
     "execution_count": 8,
     "metadata": {},
     "output_type": "execute_result"
    }
   ],
   "source": [
    "const state = MechanismState(doublependulum)\n",
    "fixedjoint, shoulder, elbow = joints(doublependulum)"
   ]
  },
  {
   "cell_type": "code",
   "execution_count": 59,
   "metadata": {},
   "outputs": [],
   "source": [
    "set_configuration!(state, [0., 0.])\n",
    "set_configuration!(vis, configuration(state))"
   ]
  },
  {
   "cell_type": "code",
   "execution_count": 60,
   "metadata": {},
   "outputs": [
    {
     "data": {
      "text/plain": [
       "2"
      ]
     },
     "execution_count": 60,
     "metadata": {},
     "output_type": "execute_result"
    }
   ],
   "source": [
    "q = configuration(state)\n",
    "v = velocity(state)\n",
    "u = [0.;0.]\n",
    "dt = 0.1\n",
    "S = [q;v;u;dt]\n",
    "n = 4\n",
    "m = 2"
   ]
  },
  {
   "cell_type": "code",
   "execution_count": 77,
   "metadata": {},
   "outputs": [
    {
     "data": {
      "text/plain": [
       "4-element Array{Float64,1}:\n",
       "  1.0     \n",
       "  1.0     \n",
       " -4.90073 \n",
       "  0.303889"
      ]
     },
     "execution_count": 77,
     "metadata": {},
     "output_type": "execute_result"
    }
   ],
   "source": [
    "function fc(x,u)\n",
    "    state = MechanismState(doublependulum)\n",
    "    \n",
    "    # set the state variables:\n",
    "    set_configuration!(state, x[1:2])\n",
    "    set_velocity!(state, x[3:4])\n",
    "    \n",
    "    # return momentum converted to an `Array` (as this is the format that ForwardDiff expects)\n",
    "    [x[3];x[4]; Array(mass_matrix(state))\\u - Array(mass_matrix(state))\\Array(dynamics_bias(state))]\n",
    "end\n",
    "fc(ones(4),ones(2))"
   ]
  },
  {
   "cell_type": "code",
   "execution_count": 78,
   "metadata": {},
   "outputs": [
    {
     "data": {
      "text/plain": [
       "4-element Array{Float64,1}:\n",
       " 1.0755  \n",
       " 1.10152 \n",
       " 0.383772\n",
       " 1.24808 "
      ]
     },
     "execution_count": 78,
     "metadata": {},
     "output_type": "execute_result"
    }
   ],
   "source": [
    "function f(x,u,dt)\n",
    "    return x + fc(x + fc(x,u)*dt/2,u)*dt\n",
    "end\n",
    "f(ones(4),ones(2),0.1)"
   ]
  },
  {
   "cell_type": "code",
   "execution_count": 79,
   "metadata": {},
   "outputs": [
    {
     "data": {
      "text/plain": [
       "7×7 Array{Float64,2}:\n",
       " 0.0  0.0  1.0  0.0   0.0       0.0      0.0\n",
       " 0.0  0.0  0.0  1.0   0.0       0.0      0.0\n",
       " 0.0  0.0  0.0  0.0   1.72081  -3.01466  0.0\n",
       " 0.0  0.0  0.0  0.0  -3.01466   6.0332   0.0\n",
       " 0.0  0.0  0.0  0.0   0.0       0.0      0.0\n",
       " 0.0  0.0  0.0  0.0   0.0       0.0      0.0\n",
       " 0.0  0.0  0.0  0.0   0.0       0.0      0.0"
      ]
     },
     "execution_count": 79,
     "metadata": {},
     "output_type": "execute_result"
    }
   ],
   "source": [
    "function fc2(S)\n",
    "    state = MechanismState(doublependulum)\n",
    "    \n",
    "    # set the state variables:\n",
    "    set_configuration!(state, q)\n",
    "    set_velocity!(state, v)\n",
    "    \n",
    "    # return momentum converted to an `Array` (as this is the format that ForwardDiff expects)\n",
    "    [S[3];S[4]; Array(mass_matrix(state))\\S[n+1:n+m] - Array(mass_matrix(state))\\Array(dynamics_bias(state)); 0.;0.;0.]\n",
    "end\n",
    "Hc = S-> ForwardDiff.jacobian(fc, S)\n",
    "Hc(S)"
   ]
  },
  {
   "cell_type": "code",
   "execution_count": 80,
   "metadata": {
    "scrolled": true
   },
   "outputs": [
    {
     "data": {
      "text/plain": [
       "7×7 Array{Float64,2}:\n",
       " 1.0  0.0  0.1  0.0   0.00860407  -0.0150733  0.0\n",
       " 0.0  1.0  0.0  0.1  -0.0150733    0.030166   0.0\n",
       " 0.0  0.0  1.0  0.0   0.172081    -0.301466   0.0\n",
       " 0.0  0.0  0.0  1.0  -0.301466     0.60332    0.0\n",
       " 0.0  0.0  0.0  0.0   1.0          0.0        0.0\n",
       " 0.0  0.0  0.0  0.0   0.0          1.0        0.0\n",
       " 0.0  0.0  0.0  0.0   0.0          0.0        1.0"
      ]
     },
     "execution_count": 80,
     "metadata": {},
     "output_type": "execute_result"
    }
   ],
   "source": [
    "function f2(S)\n",
    "    return S + fc2(S + fc2(S)*S[end]/2)*S[end]\n",
    "end\n",
    "Df = S-> ForwardDiff.jacobian(f, S)\n",
    "Df(S)"
   ]
  },
  {
   "cell_type": "code",
   "execution_count": 63,
   "metadata": {},
   "outputs": [
    {
     "data": {
      "text/plain": [
       "solve (generic function with 3 methods)"
      ]
     },
     "execution_count": 63,
     "metadata": {},
     "output_type": "execute_result"
    }
   ],
   "source": [
    "#iLQR\n",
    "function rollout(x0,U,f,dt,tf)\n",
    "    N = convert(Int64,floor(tf/dt))\n",
    "    X = zeros(size(x0,1),N)\n",
    "    X[:,1] = x0\n",
    "    for k = 1:N-1\n",
    "      X[:,k+1] = f(X[:,k],U[:,k],dt)\n",
    "    end\n",
    "    return X\n",
    "end\n",
    "\n",
    "function cost(X,U,Q,R,Qf,xf)\n",
    "    N = size(X,2)\n",
    "    J = 0.\n",
    "    for k = 1:N-1\n",
    "      J += 0.5*(X[:,k] - xf)'*Q*(X[:,k] - xf) + 0.5*U[:,k]'*R*U[:,k]\n",
    "    end\n",
    "    J += 0.5*(X[:,N] - xf)'*Qf*(X[:,N] - xf)\n",
    "    return J\n",
    "end\n",
    "\n",
    "function backwardpass(X,U,Df,Q,R,Qf,xf)\n",
    "    n, N = size(X)\n",
    "    m = size(U,1)\n",
    "    S = zeros(n,n,N)\n",
    "    s = zeros(n,N)\n",
    "    K = zeros(m,n,N)\n",
    "    l = zeros(m,N)\n",
    "    C1 = zeros(1,n,N)\n",
    "    C2 = zeros(1,m,N)\n",
    "    C3 = zeros(n,n,N)\n",
    "    C4 = zeros(m,m,N)\n",
    "    C5 = zeros(m,n,N)\n",
    "    S[:,:,N] = Qf\n",
    "    s[:,N] = Qf*(X[:,N] - xf)\n",
    "\n",
    "    mu = 0.\n",
    "    k = N-1\n",
    "    while k >= 1\n",
    "        q = Q*(X[:,k] - xf)\n",
    "        r = R*(U[:,k])\n",
    "        Df_aug = Df([X[:,k];U[:,k];dt])\n",
    "        A = Df_aug[1:size(X,1),1:size(X,1)]\n",
    "        B = Df_aug[1:size(X,1),size(X,1)+1:size(X,1)+size(U,1)]\n",
    "        C1[:,:,k] = q' + s[:,k+1]'*A\n",
    "        C2[:,:,k] = r' + s[:,k+1]'*B\n",
    "        C3[:,:,k] = Q + A'*S[:,:,k+1]*A\n",
    "        C4[:,:,k] = R + B'*(S[:,:,k+1] + mu*eye(n))*B\n",
    "        C5[:,:,k] = B'*(S[:,:,k+1] + mu*eye(n))*A\n",
    "\n",
    "        # regularization\n",
    "        if any(x->x < 0, eigvals(C4[:,:,k]))\n",
    "            mu_reg = mu_reg + 1;\n",
    "            k = N-1;\n",
    "        end\n",
    "\n",
    "        K[:,:,k] = C4[:,:,k]\\C5[:,:,k]\n",
    "        l[:,k] = C4[:,:,k]\\C2[:,:,k]'\n",
    "        s[:,k] = C1[:,:,k] - C2[:,:,k]*K[:,:,k] + l[:,k]'*C4[:,:,k]*K[:,:,k] - l[:,k]'*C5[:,:,k]\n",
    "        S[:,:,k] = C3[:,:,k] + K[:,:,k]'*C4[:,:,k]*K[:,:,k] - K[:,:,k]'*C5[:,:,k] - C5[:,:,k]'*K[:,:,k]\n",
    "\n",
    "        k = k - 1;\n",
    "    end\n",
    "    return K, l, S, s\n",
    "end\n",
    "\n",
    "function forwardpass(x0,U,f,Q,R,Qf,xf,dt,tf)\n",
    "    X = rollout(x0,U,f,dt,tf)\n",
    "    J = cost(X,U,Q,R,Qf,xf)\n",
    "    return X, J\n",
    "end\n",
    "\n",
    "function solve(x0,m,f,Df,Q,R,Qf,xf,dt,tf,iterations=100,eps=1e-5)\n",
    "    N = convert(Int64,floor(tf/dt))\n",
    "    U = zeros(m,N-1)\n",
    "    X = zeros(size(x0,1),N)\n",
    "    X, J = forwardpass(x0,U,f,Q,R,Qf,xf,dt,tf)\n",
    "    println(\"Initial Cost: $J\")\n",
    "    \n",
    "    for i = 1:iterations\n",
    "      K, l, S, s = backwardpass(X,U,Df,Q,R,Qf,xf)\n",
    "      X_prev = copy(X)\n",
    "      J_prev = copy(J)\n",
    "      U_ = zeros(m,N-1)\n",
    "      J = Inf\n",
    "      alpha = 1\n",
    "      while J > J_prev\n",
    "          X[:,1] = x0\n",
    "          for k = 1:N-1\n",
    "              U_[:,k] = U[:,k] - K[:,:,k]*(X[:,k] - X_prev[:,k]) - alpha*l[:,k]\n",
    "              X[:,k+1] = f(X[:,k],U_[:,k],dt);\n",
    "          end\n",
    "\n",
    "          J = cost(X,U_,Q,R,Qf,xf)\n",
    "          alpha = alpha/2;\n",
    "      end\n",
    "\n",
    "      U = copy(U_);\n",
    "      println(\"New cost: $J\")\n",
    "\n",
    "      if abs(J - J_prev) < eps\n",
    "          println(\"eps criteria met at iteration: $i\")\n",
    "          break\n",
    "      end\n",
    "\n",
    "    end\n",
    "    \n",
    "    return X, U\n",
    "end"
   ]
  },
  {
   "cell_type": "code",
   "execution_count": 96,
   "metadata": {},
   "outputs": [
    {
     "data": {
      "text/plain": [
       "2×100 Array{Float64,2}:\n",
       " 0.0  0.0  0.0  0.0  0.0  0.0  0.0  0.0  …  0.0  0.0  0.0  0.0  0.0  0.0  0.0\n",
       " 0.0  0.0  0.0  0.0  0.0  0.0  0.0  0.0     0.0  0.0  0.0  0.0  0.0  0.0  0.0"
      ]
     },
     "execution_count": 96,
     "metadata": {},
     "output_type": "execute_result"
    }
   ],
   "source": [
    "n = 4\n",
    "m = 2\n",
    "\n",
    "# initial and goal states\n",
    "x0 = [0.;0.;0.;0.]\n",
    "xf = [pi;0.;0.;0.]\n",
    "\n",
    "# costs\n",
    "Q = 1e-5*eye(n)\n",
    "Qf = 25.*eye(n)\n",
    "R = 1e-5*eye(m)\n",
    "\n",
    "# simulation\n",
    "tf = 1.\n",
    "dt = 0.01\n",
    "U = zeros(m,convert(Int64,floor(tf/dt)))"
   ]
  },
  {
   "cell_type": "code",
   "execution_count": 97,
   "metadata": {},
   "outputs": [
    {
     "data": {
      "text/plain": [
       "4×100 Array{Float64,2}:\n",
       " 0.0  0.0  0.0  0.0  0.0  0.0  0.0  0.0  …  0.0  0.0  0.0  0.0  0.0  0.0  0.0\n",
       " 0.0  0.0  0.0  0.0  0.0  0.0  0.0  0.0     0.0  0.0  0.0  0.0  0.0  0.0  0.0\n",
       " 0.0  0.0  0.0  0.0  0.0  0.0  0.0  0.0     0.0  0.0  0.0  0.0  0.0  0.0  0.0\n",
       " 0.0  0.0  0.0  0.0  0.0  0.0  0.0  0.0     0.0  0.0  0.0  0.0  0.0  0.0  0.0"
      ]
     },
     "execution_count": 97,
     "metadata": {},
     "output_type": "execute_result"
    }
   ],
   "source": [
    "X = rollout(x0,U,f,dt,tf)"
   ]
  },
  {
   "cell_type": "code",
   "execution_count": 98,
   "metadata": {},
   "outputs": [
    {
     "name": "stdout",
     "output_type": "stream",
     "text": [
      "Initial Cost: 123.37494046779551\n",
      "New cost: 1.8567047472965592\n",
      "New cost: 1.7225823287288913\n",
      "New cost: 1.7072838212499848\n",
      "New cost: 1.6984150481859022\n",
      "New cost: 1.687790615752923\n",
      "New cost: 1.6752384588333709\n",
      "New cost: 1.6605101157137494\n",
      "New cost: 1.6432343148722162\n",
      "New cost: 1.6230266571280854\n",
      "New cost: 1.5995363393574407\n",
      "New cost: 1.5724940490673913\n",
      "New cost: 1.5417689048030507\n",
      "New cost: 1.507440717647812\n",
      "New cost: 1.4698839010267122\n",
      "New cost: 1.4298414409332156\n",
      "New cost: 1.3884499462608746\n",
      "New cost: 1.3471756469653213\n",
      "New cost: 1.3076453809498712\n",
      "New cost: 1.2713989047035434\n",
      "New cost: 1.2396301324119552\n",
      "New cost: 1.2130029625639311\n",
      "New cost: 1.1916055671573234\n",
      "New cost: 1.1750485444714176\n",
      "New cost: 1.1626495558490284\n",
      "New cost: 1.1536220732801383\n",
      "New cost: 1.1472106887367979\n",
      "New cost: 1.14276081655698\n",
      "New cost: 1.139740376866717\n",
      "New cost: 1.1377356856368481\n",
      "New cost: 1.1364361784618173\n",
      "New cost: 1.135615477076801\n",
      "New cost: 1.135112710457637\n",
      "New cost: 1.1348161480182408\n",
      "New cost: 1.1346498862952699\n",
      "New cost: 1.1345635080928966\n",
      "New cost: 1.1345243060623644\n",
      "New cost: 1.1345116012392407\n",
      "New cost: 1.1345116012392407\n",
      "eps criteria met at iteration: 38\n",
      "  9.795719 seconds (27.98 M allocations: 1.577 GiB, 7.33% gc time)\n"
     ]
    },
    {
     "data": {
      "image/svg+xml": [
       "<?xml version=\"1.0\" encoding=\"utf-8\"?>\n",
       "<svg xmlns=\"http://www.w3.org/2000/svg\" xmlns:xlink=\"http://www.w3.org/1999/xlink\" width=\"600\" height=\"400\" viewBox=\"0 0 600 400\">\n",
       "<defs>\n",
       "  <clipPath id=\"clip1100\">\n",
       "    <rect x=\"0\" y=\"0\" width=\"600\" height=\"400\"/>\n",
       "  </clipPath>\n",
       "</defs>\n",
       "<polygon clip-path=\"url(#clip1100)\" points=\"\n",
       "0,400 600,400 600,0 0,0 \n",
       "  \" fill=\"#ffffff\" fill-opacity=\"1\"/>\n",
       "<defs>\n",
       "  <clipPath id=\"clip1101\">\n",
       "    <rect x=\"120\" y=\"0\" width=\"421\" height=\"400\"/>\n",
       "  </clipPath>\n",
       "</defs>\n",
       "<polygon clip-path=\"url(#clip1100)\" points=\"\n",
       "29.4661,371.677 580.315,371.677 580.315,31.4961 29.4661,31.4961 \n",
       "  \" fill=\"#ffffff\" fill-opacity=\"1\"/>\n",
       "<defs>\n",
       "  <clipPath id=\"clip1102\">\n",
       "    <rect x=\"29\" y=\"31\" width=\"552\" height=\"341\"/>\n",
       "  </clipPath>\n",
       "</defs>\n",
       "<polyline clip-path=\"url(#clip1102)\" style=\"stroke:#000000; stroke-width:0.5; stroke-opacity:0.1; fill:none\" points=\"\n",
       "  29.4661,371.677 29.4661,31.4961 \n",
       "  \"/>\n",
       "<polyline clip-path=\"url(#clip1102)\" style=\"stroke:#000000; stroke-width:0.5; stroke-opacity:0.1; fill:none\" points=\"\n",
       "  139.636,371.677 139.636,31.4961 \n",
       "  \"/>\n",
       "<polyline clip-path=\"url(#clip1102)\" style=\"stroke:#000000; stroke-width:0.5; stroke-opacity:0.1; fill:none\" points=\"\n",
       "  249.806,371.677 249.806,31.4961 \n",
       "  \"/>\n",
       "<polyline clip-path=\"url(#clip1102)\" style=\"stroke:#000000; stroke-width:0.5; stroke-opacity:0.1; fill:none\" points=\"\n",
       "  359.975,371.677 359.975,31.4961 \n",
       "  \"/>\n",
       "<polyline clip-path=\"url(#clip1102)\" style=\"stroke:#000000; stroke-width:0.5; stroke-opacity:0.1; fill:none\" points=\"\n",
       "  470.145,371.677 470.145,31.4961 \n",
       "  \"/>\n",
       "<polyline clip-path=\"url(#clip1102)\" style=\"stroke:#000000; stroke-width:0.5; stroke-opacity:0.1; fill:none\" points=\"\n",
       "  580.315,371.677 580.315,31.4961 \n",
       "  \"/>\n",
       "<polyline clip-path=\"url(#clip1102)\" style=\"stroke:#000000; stroke-width:0.5; stroke-opacity:0.1; fill:none\" points=\"\n",
       "  29.4661,344.362 580.315,344.362 \n",
       "  \"/>\n",
       "<polyline clip-path=\"url(#clip1102)\" style=\"stroke:#000000; stroke-width:0.5; stroke-opacity:0.1; fill:none\" points=\"\n",
       "  29.4661,268.208 580.315,268.208 \n",
       "  \"/>\n",
       "<polyline clip-path=\"url(#clip1102)\" style=\"stroke:#000000; stroke-width:0.5; stroke-opacity:0.1; fill:none\" points=\"\n",
       "  29.4661,192.054 580.315,192.054 \n",
       "  \"/>\n",
       "<polyline clip-path=\"url(#clip1102)\" style=\"stroke:#000000; stroke-width:0.5; stroke-opacity:0.1; fill:none\" points=\"\n",
       "  29.4661,115.899 580.315,115.899 \n",
       "  \"/>\n",
       "<polyline clip-path=\"url(#clip1102)\" style=\"stroke:#000000; stroke-width:0.5; stroke-opacity:0.1; fill:none\" points=\"\n",
       "  29.4661,39.7447 580.315,39.7447 \n",
       "  \"/>\n",
       "<polyline clip-path=\"url(#clip1100)\" style=\"stroke:#000000; stroke-width:1; stroke-opacity:1; fill:none\" points=\"\n",
       "  29.4661,371.677 580.315,371.677 \n",
       "  \"/>\n",
       "<polyline clip-path=\"url(#clip1100)\" style=\"stroke:#000000; stroke-width:1; stroke-opacity:1; fill:none\" points=\"\n",
       "  29.4661,371.677 29.4661,31.4961 \n",
       "  \"/>\n",
       "<polyline clip-path=\"url(#clip1100)\" style=\"stroke:#000000; stroke-width:1; stroke-opacity:1; fill:none\" points=\"\n",
       "  29.4661,371.677 29.4661,366.574 \n",
       "  \"/>\n",
       "<polyline clip-path=\"url(#clip1100)\" style=\"stroke:#000000; stroke-width:1; stroke-opacity:1; fill:none\" points=\"\n",
       "  139.636,371.677 139.636,366.574 \n",
       "  \"/>\n",
       "<polyline clip-path=\"url(#clip1100)\" style=\"stroke:#000000; stroke-width:1; stroke-opacity:1; fill:none\" points=\"\n",
       "  249.806,371.677 249.806,366.574 \n",
       "  \"/>\n",
       "<polyline clip-path=\"url(#clip1100)\" style=\"stroke:#000000; stroke-width:1; stroke-opacity:1; fill:none\" points=\"\n",
       "  359.975,371.677 359.975,366.574 \n",
       "  \"/>\n",
       "<polyline clip-path=\"url(#clip1100)\" style=\"stroke:#000000; stroke-width:1; stroke-opacity:1; fill:none\" points=\"\n",
       "  470.145,371.677 470.145,366.574 \n",
       "  \"/>\n",
       "<polyline clip-path=\"url(#clip1100)\" style=\"stroke:#000000; stroke-width:1; stroke-opacity:1; fill:none\" points=\"\n",
       "  580.315,371.677 580.315,366.574 \n",
       "  \"/>\n",
       "<polyline clip-path=\"url(#clip1100)\" style=\"stroke:#000000; stroke-width:1; stroke-opacity:1; fill:none\" points=\"\n",
       "  29.4661,344.362 37.7289,344.362 \n",
       "  \"/>\n",
       "<polyline clip-path=\"url(#clip1100)\" style=\"stroke:#000000; stroke-width:1; stroke-opacity:1; fill:none\" points=\"\n",
       "  29.4661,268.208 37.7289,268.208 \n",
       "  \"/>\n",
       "<polyline clip-path=\"url(#clip1100)\" style=\"stroke:#000000; stroke-width:1; stroke-opacity:1; fill:none\" points=\"\n",
       "  29.4661,192.054 37.7289,192.054 \n",
       "  \"/>\n",
       "<polyline clip-path=\"url(#clip1100)\" style=\"stroke:#000000; stroke-width:1; stroke-opacity:1; fill:none\" points=\"\n",
       "  29.4661,115.899 37.7289,115.899 \n",
       "  \"/>\n",
       "<polyline clip-path=\"url(#clip1100)\" style=\"stroke:#000000; stroke-width:1; stroke-opacity:1; fill:none\" points=\"\n",
       "  29.4661,39.7447 37.7289,39.7447 \n",
       "  \"/>\n",
       "<g clip-path=\"url(#clip1100)\">\n",
       "<text style=\"fill:#000000; fill-opacity:1; font-family:Arial,Helvetica Neue,Helvetica,sans-serif; font-size:12; text-anchor:middle;\" transform=\"rotate(0, 29.4661, 385.477)\" x=\"29.4661\" y=\"385.477\">0.0</text>\n",
       "</g>\n",
       "<g clip-path=\"url(#clip1100)\">\n",
       "<text style=\"fill:#000000; fill-opacity:1; font-family:Arial,Helvetica Neue,Helvetica,sans-serif; font-size:12; text-anchor:middle;\" transform=\"rotate(0, 139.636, 385.477)\" x=\"139.636\" y=\"385.477\">0.2</text>\n",
       "</g>\n",
       "<g clip-path=\"url(#clip1100)\">\n",
       "<text style=\"fill:#000000; fill-opacity:1; font-family:Arial,Helvetica Neue,Helvetica,sans-serif; font-size:12; text-anchor:middle;\" transform=\"rotate(0, 249.806, 385.477)\" x=\"249.806\" y=\"385.477\">0.4</text>\n",
       "</g>\n",
       "<g clip-path=\"url(#clip1100)\">\n",
       "<text style=\"fill:#000000; fill-opacity:1; font-family:Arial,Helvetica Neue,Helvetica,sans-serif; font-size:12; text-anchor:middle;\" transform=\"rotate(0, 359.975, 385.477)\" x=\"359.975\" y=\"385.477\">0.6</text>\n",
       "</g>\n",
       "<g clip-path=\"url(#clip1100)\">\n",
       "<text style=\"fill:#000000; fill-opacity:1; font-family:Arial,Helvetica Neue,Helvetica,sans-serif; font-size:12; text-anchor:middle;\" transform=\"rotate(0, 470.145, 385.477)\" x=\"470.145\" y=\"385.477\">0.8</text>\n",
       "</g>\n",
       "<g clip-path=\"url(#clip1100)\">\n",
       "<text style=\"fill:#000000; fill-opacity:1; font-family:Arial,Helvetica Neue,Helvetica,sans-serif; font-size:12; text-anchor:middle;\" transform=\"rotate(0, 580.315, 385.477)\" x=\"580.315\" y=\"385.477\">1.0</text>\n",
       "</g>\n",
       "<g clip-path=\"url(#clip1100)\">\n",
       "<text style=\"fill:#000000; fill-opacity:1; font-family:Arial,Helvetica Neue,Helvetica,sans-serif; font-size:12; text-anchor:end;\" transform=\"rotate(0, 23.4661, 348.862)\" x=\"23.4661\" y=\"348.862\">-1</text>\n",
       "</g>\n",
       "<g clip-path=\"url(#clip1100)\">\n",
       "<text style=\"fill:#000000; fill-opacity:1; font-family:Arial,Helvetica Neue,Helvetica,sans-serif; font-size:12; text-anchor:end;\" transform=\"rotate(0, 23.4661, 272.708)\" x=\"23.4661\" y=\"272.708\">0</text>\n",
       "</g>\n",
       "<g clip-path=\"url(#clip1100)\">\n",
       "<text style=\"fill:#000000; fill-opacity:1; font-family:Arial,Helvetica Neue,Helvetica,sans-serif; font-size:12; text-anchor:end;\" transform=\"rotate(0, 23.4661, 196.554)\" x=\"23.4661\" y=\"196.554\">1</text>\n",
       "</g>\n",
       "<g clip-path=\"url(#clip1100)\">\n",
       "<text style=\"fill:#000000; fill-opacity:1; font-family:Arial,Helvetica Neue,Helvetica,sans-serif; font-size:12; text-anchor:end;\" transform=\"rotate(0, 23.4661, 120.399)\" x=\"23.4661\" y=\"120.399\">2</text>\n",
       "</g>\n",
       "<g clip-path=\"url(#clip1100)\">\n",
       "<text style=\"fill:#000000; fill-opacity:1; font-family:Arial,Helvetica Neue,Helvetica,sans-serif; font-size:12; text-anchor:end;\" transform=\"rotate(0, 23.4661, 44.2447)\" x=\"23.4661\" y=\"44.2447\">3</text>\n",
       "</g>\n",
       "<g clip-path=\"url(#clip1100)\">\n",
       "<text style=\"fill:#000000; fill-opacity:1; font-family:Arial,Helvetica Neue,Helvetica,sans-serif; font-size:21; text-anchor:middle;\" transform=\"rotate(0, 304.891, 18)\" x=\"304.891\" y=\"18\">Double Pendulum (iLQR and Rigid Body Dynamics)</text>\n",
       "</g>\n",
       "<polyline clip-path=\"url(#clip1102)\" style=\"stroke:#009af9; stroke-width:1; stroke-opacity:1; fill:none\" points=\"\n",
       "  29.4661,268.208 35.0303,268.046 40.5944,267.562 46.1585,266.764 51.7227,265.659 57.2868,264.253 62.8509,262.555 68.415,260.573 73.9792,258.318 79.5433,255.802 \n",
       "  85.1074,253.039 90.6716,250.047 96.2357,246.843 101.8,243.446 107.364,239.876 112.928,236.15 118.492,232.286 124.056,228.299 129.62,224.203 135.185,220.008 \n",
       "  140.749,215.726 146.313,211.363 151.877,206.927 157.441,202.425 163.005,197.862 168.569,193.244 174.134,188.577 179.698,183.865 185.262,179.117 190.826,174.339 \n",
       "  196.39,169.538 201.954,164.723 207.518,159.904 213.082,155.09 218.647,150.294 224.211,145.525 229.775,140.798 235.339,136.125 240.903,131.52 246.467,126.994 \n",
       "  252.031,122.563 257.595,118.238 263.16,114.031 268.724,109.955 274.288,106.018 279.852,102.23 285.416,98.5984 290.98,95.1292 296.544,91.827 302.108,88.6946 \n",
       "  307.673,85.7335 313.237,82.9436 318.801,80.3235 324.365,77.8702 329.929,75.5798 335.493,73.447 341.057,71.4656 346.622,69.6284 352.186,67.9275 357.75,66.3538 \n",
       "  363.314,64.8981 368.878,63.5501 374.442,62.2992 380.006,61.1341 385.57,60.0434 391.135,59.0154 396.699,58.0383 402.263,57.1005 407.827,56.1906 413.391,55.2983 \n",
       "  418.955,54.4137 424.519,53.5286 430.083,52.6358 435.648,51.7299 441.212,50.8072 446.776,49.8654 452.34,48.9041 457.904,47.924 463.468,46.9274 469.032,45.9174 \n",
       "  474.596,44.8982 480.161,43.8746 485.725,42.8518 491.289,41.8355 496.853,40.8317 502.417,39.8464 507.981,38.886 513.545,37.9565 519.11,37.0643 524.674,36.2156 \n",
       "  530.238,35.4165 535.802,34.6734 541.366,33.9923 546.93,33.3795 552.494,32.8413 558.058,32.384 563.623,32.0142 569.187,31.7383 574.751,31.5632 580.315,31.4961 \n",
       "  \n",
       "  \"/>\n",
       "<polyline clip-path=\"url(#clip1102)\" style=\"stroke:#e26f46; stroke-width:1; stroke-opacity:1; fill:none\" points=\"\n",
       "  29.4661,268.208 35.0303,268.403 40.5944,268.985 46.1585,269.945 51.7227,271.274 57.2868,272.963 62.8509,275.001 68.415,277.375 73.9792,280.069 79.5433,283.06 \n",
       "  85.1074,286.322 90.6716,289.824 96.2357,293.531 101.8,297.403 107.364,301.403 112.928,305.49 118.492,309.627 124.056,313.781 129.62,317.921 135.185,322.019 \n",
       "  140.749,326.051 146.313,329.997 151.877,333.838 157.441,337.558 163.005,341.143 168.569,344.579 174.134,347.854 179.698,350.956 185.262,353.877 190.826,356.604 \n",
       "  196.39,359.129 201.954,361.444 207.518,363.539 213.082,365.407 218.647,367.042 224.211,368.437 229.775,369.587 235.339,370.489 240.903,371.138 246.467,371.535 \n",
       "  252.031,371.677 257.595,371.566 263.16,371.205 268.724,370.596 274.288,369.744 279.852,368.656 285.416,367.337 290.98,365.797 296.544,364.045 302.108,362.089 \n",
       "  307.673,359.942 313.237,357.613 318.801,355.115 324.365,352.461 329.929,349.663 335.493,346.734 341.057,343.688 346.622,340.54 352.186,337.303 357.75,333.994 \n",
       "  363.314,330.628 368.878,327.221 374.442,323.791 380.006,320.355 385.57,316.932 391.135,313.541 396.699,310.2 402.263,306.929 407.827,303.745 413.391,300.667 \n",
       "  418.955,297.711 424.519,294.891 430.083,292.219 435.648,289.706 441.212,287.357 446.776,285.177 452.34,283.167 457.904,281.327 463.468,279.654 469.032,278.142 \n",
       "  474.596,276.787 480.161,275.58 485.725,274.514 491.289,273.581 496.853,272.771 502.417,272.076 507.981,271.486 513.545,270.993 519.11,270.588 524.674,270.263 \n",
       "  530.238,270.008 535.802,269.815 541.366,269.676 546.93,269.582 552.494,269.526 558.058,269.498 563.623,269.49 569.187,269.495 574.751,269.501 580.315,269.501 \n",
       "  \n",
       "  \"/>\n",
       "<polygon clip-path=\"url(#clip1100)\" points=\"\n",
       "489.608,97.7361 562.315,97.7361 562.315,52.3761 489.608,52.3761 \n",
       "  \" fill=\"#ffffff\" fill-opacity=\"1\"/>\n",
       "<polyline clip-path=\"url(#clip1100)\" style=\"stroke:#000000; stroke-width:1; stroke-opacity:1; fill:none\" points=\"\n",
       "  489.608,97.7361 562.315,97.7361 562.315,52.3761 489.608,52.3761 489.608,97.7361 \n",
       "  \"/>\n",
       "<polyline clip-path=\"url(#clip1100)\" style=\"stroke:#009af9; stroke-width:1; stroke-opacity:1; fill:none\" points=\"\n",
       "  495.608,67.4961 531.608,67.4961 \n",
       "  \"/>\n",
       "<g clip-path=\"url(#clip1100)\">\n",
       "<text style=\"fill:#000000; fill-opacity:1; font-family:Arial,Helvetica Neue,Helvetica,sans-serif; font-size:12; text-anchor:start;\" transform=\"rotate(0, 537.608, 71.9961)\" x=\"537.608\" y=\"71.9961\">y1</text>\n",
       "</g>\n",
       "<polyline clip-path=\"url(#clip1100)\" style=\"stroke:#e26f46; stroke-width:1; stroke-opacity:1; fill:none\" points=\"\n",
       "  495.608,82.6161 531.608,82.6161 \n",
       "  \"/>\n",
       "<g clip-path=\"url(#clip1100)\">\n",
       "<text style=\"fill:#000000; fill-opacity:1; font-family:Arial,Helvetica Neue,Helvetica,sans-serif; font-size:12; text-anchor:start;\" transform=\"rotate(0, 537.608, 87.1161)\" x=\"537.608\" y=\"87.1161\">y2</text>\n",
       "</g>\n",
       "</svg>\n"
      ]
     },
     "execution_count": 98,
     "metadata": {},
     "output_type": "execute_result"
    }
   ],
   "source": [
    "X, U = @time solve(x0,m,f,Df,Q,R,Qf,xf,dt,tf)\n",
    "\n",
    "P = plot(linspace(0,tf,size(X,2)),X[1,:],title=\"Double Pendulum (iLQR and Rigid Body Dynamics)\")\n",
    "P = plot!(linspace(0,tf,size(X,2)),X[2,:])"
   ]
  },
  {
   "cell_type": "code",
   "execution_count": 99,
   "metadata": {},
   "outputs": [
    {
     "data": {
      "text/html": [
       "<div class='display:none'></div><unsafe-script style='display:none'>\n",
       "WebIO.mount(this.previousSibling,{&quot;props&quot;:{},&quot;nodeType&quot;:&quot;Scope&quot;,&quot;type&quot;:&quot;node&quot;,&quot;instanceArgs&quot;:{&quot;imports&quot;:{&quot;data&quot;:[],&quot;type&quot;:&quot;async_block&quot;},&quot;id&quot;:&quot;scope-52d46f6f-d460-48bc-a95b-e8637d1b0051&quot;,&quot;handlers&quot;:{&quot;_promises&quot;:{&quot;importsLoaded&quot;:[function () {\n",
       "    var frame = this.dom.querySelector(&quot;#ifr&quot;);\n",
       "    var doc = frame.contentDocument\n",
       "    var win = frame.contentWindow\n",
       "\n",
       "    // Determine if we&#39;re running on a Jupyter hosting service\n",
       "    // that requires a base URL when retrieving assets\n",
       "    var curMatch =\n",
       "        window.location.href\n",
       "        .match(/(.*?)\\/notebooks\\/.*\\.ipynb/);\n",
       "    curMatch = curMatch ||\n",
       "        window.location.href\n",
       "        .match(/(.*?)\\/apps\\/.*\\.ipynb/);\n",
       "    if (curMatch) {\n",
       "        var base = doc.createElement(&quot;base&quot;);\n",
       "        base.setAttribute(&quot;href&quot;, curMatch[1] + &#39;/&#39;);\n",
       "        doc.head.appendChild(base);\n",
       "    }\n",
       "\n",
       "    var webio = doc.createElement(&quot;script&quot;)\n",
       "    webio.src = &quot;pkg/WebIO/webio/dist/bundle.js&quot;\n",
       "    var parent = window\n",
       "\n",
       "    function resizeIframe() {\n",
       "        doc.body.style.padding = &#39;0&#39;\n",
       "        doc.body.style.margin = &#39;0&#39;\n",
       "        doc.documentElement.height = &#39;100%&#39;\n",
       "        doc.body.height = &#39;100%&#39;\n",
       "    }\n",
       "\n",
       "    webio.onload = function () {\n",
       "        win.WebIO.sendCallback = parent.WebIO.sendCallback; // Share stuff\n",
       "        win.WebIO.scopes = parent.WebIO.scopes\n",
       "        win.WebIO.obsscopes = parent.WebIO.obsscopes\n",
       "        win.WebIO._connected = true\n",
       "        doc.body.innerHTML = &quot;&lt;html&gt;&lt;body&gt;&quot; + &quot;&lt;div class=&#39;display:none&#39;&gt;&lt;/div&gt;&lt;unsafe-script style=&#39;display:none&#39;&gt;\\nWebIO.mount(this.previousSibling,{&amp;quot;props&amp;quot;:{},&amp;quot;nodeType&amp;quot;:&amp;quot;Scope&amp;quot;,&amp;quot;type&amp;quot;:&amp;quot;node&amp;quot;,&amp;quot;instanceArgs&amp;quot;:{&amp;quot;imports&amp;quot;:{&amp;quot;data&amp;quot;:[{&amp;quot;name&amp;quot;:null,&amp;quot;type&amp;quot;:&amp;quot;js&amp;quot;,&amp;quot;url&amp;quot;:&amp;quot;pkg/MeshCat/meshcat/dist/main.min.js&amp;quot;}],&amp;quot;type&amp;quot;:&amp;quot;async_block&amp;quot;},&amp;quot;id&amp;quot;:&amp;quot;scope-5c329a29-cb47-486f-934c-5b72f06579be&amp;quot;,&amp;quot;handlers&amp;quot;:{&amp;quot;meshcat-command&amp;quot;:[(function (val){return this.viewer.handle_command_message({&amp;quot;data&amp;quot;:val})})],&amp;quot;_promises&amp;quot;:{&amp;quot;importsLoaded&amp;quot;:[(function (mc){var element=this.dom.children[0]; this.viewer=new mc.Viewer(element); WebIO.setval({&amp;quot;name&amp;quot;:&amp;quot;meshcat-request&amp;quot;,&amp;quot;scope&amp;quot;:&amp;quot;scope-5c329a29-cb47-486f-934c-5b72f06579be&amp;quot;,&amp;quot;id&amp;quot;:&amp;quot;ob_11&amp;quot;,&amp;quot;type&amp;quot;:&amp;quot;observable&amp;quot;},String(Date.now())); return window.document.body.style.margin=&amp;quot;0&amp;quot;})]}},&amp;quot;systemjs_options&amp;quot;:null,&amp;quot;observables&amp;quot;:{&amp;quot;meshcat-command&amp;quot;:{&amp;quot;sync&amp;quot;:false,&amp;quot;id&amp;quot;:&amp;quot;ob_10&amp;quot;,&amp;quot;value&amp;quot;:[131,166,109,97,116,114,105,120,199,64,23,0,0,128,63,0,0,0,0,0,0,0,0,0,0,0,0,0,0,0,0,0,0,128,63,0,0,0,0,0,0,0,0,0,0,0,0,0,0,0,0,0,0,128,63,0,0,0,0,0,0,0,0,205,204,204,61,0,0,128,191,0,0,128,63,164,116,121,112,101,173,115,101,116,95,116,114,97,110,115,102,111,114,109,164,112,97,116,104,218,0,46,47,109,101,115,104,99,97,116,47,119,111,114,108,100,47,98,97,115,101,95,108,105,110,107,47,117,112,112,101,114,95,108,105,110,107,47,108,111,119,101,114,95,108,105,110,107]},&amp;quot;meshcat-controls&amp;quot;:{&amp;quot;sync&amp;quot;:true,&amp;quot;id&amp;quot;:&amp;quot;ob_12&amp;quot;,&amp;quot;value&amp;quot;:[]},&amp;quot;meshcat-request&amp;quot;:{&amp;quot;sync&amp;quot;:true,&amp;quot;id&amp;quot;:&amp;quot;ob_11&amp;quot;,&amp;quot;value&amp;quot;:&amp;quot;&amp;quot;}}},&amp;quot;children&amp;quot;:[{&amp;quot;props&amp;quot;:{&amp;quot;className&amp;quot;:&amp;quot;meshcat-viewer&amp;quot;,&amp;quot;style&amp;quot;:{&amp;quot;left&amp;quot;:0,&amp;quot;right&amp;quot;:0,&amp;quot;overflow&amp;quot;:&amp;quot;hidden&amp;quot;,&amp;quot;position&amp;quot;:&amp;quot;absolute&amp;quot;,&amp;quot;height&amp;quot;:&amp;quot;100vh&amp;quot;,&amp;quot;margin&amp;quot;:0,&amp;quot;width&amp;quot;:&amp;quot;100vw&amp;quot;}},&amp;quot;nodeType&amp;quot;:&amp;quot;DOM&amp;quot;,&amp;quot;type&amp;quot;:&amp;quot;node&amp;quot;,&amp;quot;instanceArgs&amp;quot;:{&amp;quot;namespace&amp;quot;:&amp;quot;html&amp;quot;,&amp;quot;tag&amp;quot;:&amp;quot;div&amp;quot;},&amp;quot;children&amp;quot;:[]}]})&lt;/unsafe-script&gt;&quot; + &quot;&lt;/body&gt;&lt;/html&gt;&quot;;\n",
       "        setTimeout(function () { resizeIframe() }, 0)\n",
       "    }\n",
       "\n",
       "    doc.body.appendChild(webio)\n",
       "},(function (){return this.dom.style.height=&quot;100%&quot;})]}},&quot;systemjs_options&quot;:null,&quot;observables&quot;:{}},&quot;children&quot;:[{&quot;props&quot;:{&quot;style&quot;:{&quot;flexDirection&quot;:&quot;column&quot;,&quot;height&quot;:&quot;100%&quot;,&quot;minHeight&quot;:&quot;400px&quot;,&quot;display&quot;:&quot;flex&quot;,&quot;width&quot;:&quot;100%&quot;,&quot;overflow&quot;:&quot;hidden&quot;}},&quot;nodeType&quot;:&quot;DOM&quot;,&quot;type&quot;:&quot;node&quot;,&quot;instanceArgs&quot;:{&quot;namespace&quot;:&quot;html&quot;,&quot;tag&quot;:&quot;div&quot;},&quot;children&quot;:[{&quot;props&quot;:{&quot;attributes&quot;:{&quot;height&quot;:&quot;100%&quot;,&quot;scrolling&quot;:&quot;no&quot;,&quot;src&quot;:&quot;javascript:void(0)&quot;,&quot;frameborder&quot;:0},&quot;id&quot;:&quot;ifr&quot;,&quot;style&quot;:{&quot;width&quot;:&quot;100%&quot;,&quot;flexGrow&quot;:&quot;1&quot;}},&quot;nodeType&quot;:&quot;DOM&quot;,&quot;type&quot;:&quot;node&quot;,&quot;instanceArgs&quot;:{&quot;namespace&quot;:&quot;html&quot;,&quot;tag&quot;:&quot;iframe&quot;},&quot;children&quot;:[]}]}]})</unsafe-script>"
      ],
      "text/plain": [
       "WebIO.Scope(\"scope-52d46f6f-d460-48bc-a95b-e8637d1b0051\", WebIO.Node{WebIO.DOM}(WebIO.DOM(:html, :div), Any[WebIO.Node{WebIO.DOM}(WebIO.DOM(:html, :iframe), Any[], Dict{Symbol,Any}(Pair{Symbol,Any}(:attributes, Dict{String,Any}(Pair{String,Any}(\"height\", \"100%\"),Pair{String,Any}(\"scrolling\", \"no\"),Pair{String,Any}(\"src\", \"javascript:void(0)\"),Pair{String,Any}(\"frameborder\", 0))),Pair{Symbol,Any}(:id, \"ifr\"),Pair{Symbol,Any}(:style, Dict(\"width\"=>\"100%\",\"flexGrow\"=>\"1\"))), 0)], Dict{Symbol,Any}(Pair{Symbol,Any}(:style, Dict(\"flexDirection\"=>\"column\",\"height\"=>\"100%\",\"minHeight\"=>\"400px\",\"display\"=>\"flex\",\"width\"=>\"100%\",\"overflow\"=>\"hidden\"))), 1), Dict{String,Tuple{Observables.Observable,Union{Bool, Void}}}(), Set{String}(), nothing, Any[], Dict{Any,Any}(Pair{Any,Any}(\"_promises\", Dict{Any,Any}(Pair{Any,Any}(\"importsLoaded\", Any[WebIO.JSString(\"function () {\\n    var frame = this.dom.querySelector(\\\"#ifr\\\");\\n    var doc = frame.contentDocument\\n    var win = frame.contentWindow\\n\\n    // Determine if we're running on a Jupyter hosting service\\n    // that requires a base URL when retrieving assets\\n    var curMatch =\\n        window.location.href\\n        .match(/(.*?)\\\\/notebooks\\\\/.*\\\\.ipynb/);\\n    curMatch = curMatch ||\\n        window.location.href\\n        .match(/(.*?)\\\\/apps\\\\/.*\\\\.ipynb/);\\n    if (curMatch) {\\n        var base = doc.createElement(\\\"base\\\");\\n        base.setAttribute(\\\"href\\\", curMatch[1] + '/');\\n        doc.head.appendChild(base);\\n    }\\n\\n    var webio = doc.createElement(\\\"script\\\")\\n    webio.src = \\\"pkg/WebIO/webio/dist/bundle.js\\\"\\n    var parent = window\\n\\n    function resizeIframe() {\\n        doc.body.style.padding = '0'\\n        doc.body.style.margin = '0'\\n        doc.documentElement.height = '100%'\\n        doc.body.height = '100%'\\n    }\\n\\n    webio.onload = function () {\\n        win.WebIO.sendCallback = parent.WebIO.sendCallback; // Share stuff\\n        win.WebIO.scopes = parent.WebIO.scopes\\n        win.WebIO.obsscopes = parent.WebIO.obsscopes\\n        win.WebIO._connected = true\\n        doc.body.innerHTML = \\\"<html><body>\\\" + \\\"<div class='display:none'></div><unsafe-script style='display:none'>\\\\nWebIO.mount(this.previousSibling,{&quot;props&quot;:{},&quot;nodeType&quot;:&quot;Scope&quot;,&quot;type&quot;:&quot;node&quot;,&quot;instanceArgs&quot;:{&quot;imports&quot;:{&quot;data&quot;:[{&quot;name&quot;:null,&quot;type&quot;:&quot;js&quot;,&quot;url&quot;:&quot;pkg/MeshCat/meshcat/dist/main.min.js&quot;}],&quot;type&quot;:&quot;async_block&quot;},&quot;id&quot;:&quot;scope-5c329a29-cb47-486f-934c-5b72f06579be&quot;,&quot;handlers&quot;:{&quot;meshcat-command&quot;:[(function (val){return this.viewer.handle_command_message({&quot;data&quot;:val})})],&quot;_promises&quot;:{&quot;importsLoaded&quot;:[(function (mc){var element=this.dom.children[0]; this.viewer=new mc.Viewer(element); WebIO.setval({&quot;name&quot;:&quot;meshcat-request&quot;,&quot;scope&quot;:&quot;scope-5c329a29-cb47-486f-934c-5b72f06579be&quot;,&quot;id&quot;:&quot;ob_11&quot;,&quot;type&quot;:&quot;observable&quot;},String(Date.now())); return window.document.body.style.margin=&quot;0&quot;})]}},&quot;systemjs_options&quot;:null,&quot;observables&quot;:{&quot;meshcat-command&quot;:{&quot;sync&quot;:false,&quot;id&quot;:&quot;ob_10&quot;,&quot;value&quot;:[131,166,109,97,116,114,105,120,199,64,23,0,0,128,63,0,0,0,0,0,0,0,0,0,0,0,0,0,0,0,0,0,0,128,63,0,0,0,0,0,0,0,0,0,0,0,0,0,0,0,0,0,0,128,63,0,0,0,0,0,0,0,0,205,204,204,61,0,0,128,191,0,0,128,63,164,116,121,112,101,173,115,101,116,95,116,114,97,110,115,102,111,114,109,164,112,97,116,104,218,0,46,47,109,101,115,104,99,97,116,47,119,111,114,108,100,47,98,97,115,101,95,108,105,110,107,47,117,112,112,101,114,95,108,105,110,107,47,108,111,119,101,114,95,108,105,110,107]},&quot;meshcat-controls&quot;:{&quot;sync&quot;:true,&quot;id&quot;:&quot;ob_12&quot;,&quot;value&quot;:[]},&quot;meshcat-request&quot;:{&quot;sync&quot;:true,&quot;id&quot;:&quot;ob_11&quot;,&quot;value&quot;:&quot;&quot;}}},&quot;children&quot;:[{&quot;props&quot;:{&quot;className&quot;:&quot;meshcat-viewer&quot;,&quot;style&quot;:{&quot;left&quot;:0,&quot;right&quot;:0,&quot;overflow&quot;:&quot;hidden&quot;,&quot;position&quot;:&quot;absolute&quot;,&quot;height&quot;:&quot;100vh&quot;,&quot;margin&quot;:0,&quot;width&quot;:&quot;100vw&quot;}},&quot;nodeType&quot;:&quot;DOM&quot;,&quot;type&quot;:&quot;node&quot;,&quot;instanceArgs&quot;:{&quot;namespace&quot;:&quot;html&quot;,&quot;tag&quot;:&quot;div&quot;},&quot;children&quot;:[]}]})</unsafe-script>\\\" + \\\"</body></html>\\\";\\n        setTimeout(function () { resizeIframe() }, 0)\\n    }\\n\\n    doc.body.appendChild(webio)\\n}\"), WebIO.JSString(\"(function (){return this.dom.style.height=\\\"100%\\\"})\")])))), WebIO.ConnectionPool(Channel{Any}(sz_max:9223372036854775807,sz_curr:0), Set{WebIO.AbstractConnection}(), Channel{WebIO.AbstractConnection}(sz_max:32,sz_curr:0)))"
      ]
     },
     "execution_count": 99,
     "metadata": {},
     "output_type": "execute_result"
    }
   ],
   "source": [
    "vis = MechanismVisualizer(doublependulum,URDFVisuals(urdf));\n",
    "IJuliaCell(vis)"
   ]
  },
  {
   "cell_type": "code",
   "execution_count": 100,
   "metadata": {
    "collapsed": true
   },
   "outputs": [],
   "source": [
    "for i = 1:size(X,2)\n",
    "    set_configuration!(state, X[1:2,i])\n",
    "    set_configuration!(vis, configuration(state))\n",
    "    sleep(0.1)\n",
    "end"
   ]
  },
  {
   "cell_type": "code",
   "execution_count": null,
   "metadata": {
    "collapsed": true
   },
   "outputs": [],
   "source": []
  }
 ],
 "metadata": {
  "kernelspec": {
   "display_name": "Julia 0.6.3",
   "language": "julia",
   "name": "julia-0.6"
  },
  "language_info": {
   "file_extension": ".jl",
   "mimetype": "application/julia",
   "name": "julia",
   "version": "0.6.3"
  }
 },
 "nbformat": 4,
 "nbformat_minor": 2
}
