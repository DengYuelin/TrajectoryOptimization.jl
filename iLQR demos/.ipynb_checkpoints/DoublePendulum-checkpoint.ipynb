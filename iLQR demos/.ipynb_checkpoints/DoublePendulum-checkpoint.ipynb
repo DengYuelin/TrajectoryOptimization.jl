{
 "cells": [
  {
   "cell_type": "code",
   "execution_count": 1,
   "metadata": {},
   "outputs": [
    {
     "data": {
      "text/html": [
       "    <script class='js-collapse-script'>\n",
       "        var curMatch =\n",
       "            window.location.href\n",
       "            .match(/(.*?)\\/notebooks\\/.*\\.ipynb/);\n",
       "\n",
       "        curMatch = curMatch ||\n",
       "            window.location.href\n",
       "            .match(/(.*?)\\/apps\\/.*\\.ipynb/);\n",
       "\n",
       "        if ( curMatch ) {\n",
       "            $('head').append('<base href=\"' + curMatch[1] + '/\">');\n",
       "        }\n",
       "    </script>\n"
      ],
      "text/plain": [
       "HTML{String}(\"    <script class='js-collapse-script'>\\n        var curMatch =\\n            window.location.href\\n            .match(/(.*?)\\\\/notebooks\\\\/.*\\\\.ipynb/);\\n\\n        curMatch = curMatch ||\\n            window.location.href\\n            .match(/(.*?)\\\\/apps\\\\/.*\\\\.ipynb/);\\n\\n        if ( curMatch ) {\\n            \\$('head').append('<base href=\\\"' + curMatch[1] + '/\\\">');\\n        }\\n    </script>\\n\")"
      ]
     },
     "metadata": {},
     "output_type": "display_data"
    },
    {
     "data": {
      "text/html": [
       "<script class='js-collapse-script' src='/assetserver/20bf9867c6d8c22b253c6453b69609af00fc1eeb-assets/webio/dist/bundle.js'></script>"
      ],
      "text/plain": [
       "HTML{String}(\"<script class='js-collapse-script' src='/assetserver/20bf9867c6d8c22b253c6453b69609af00fc1eeb-assets/webio/dist/bundle.js'></script>\")"
      ]
     },
     "metadata": {},
     "output_type": "display_data"
    },
    {
     "data": {
      "text/html": [
       "<script class='js-collapse-script' src='/assetserver/20bf9867c6d8c22b253c6453b69609af00fc1eeb-assets/providers/ijulia_setup.js'></script>"
      ],
      "text/plain": [
       "HTML{String}(\"<script class='js-collapse-script' src='/assetserver/20bf9867c6d8c22b253c6453b69609af00fc1eeb-assets/providers/ijulia_setup.js'></script>\")"
      ]
     },
     "metadata": {},
     "output_type": "display_data"
    },
    {
     "data": {
      "text/html": [
       "  <script class='js-collapse-script'>\n",
       "    $('.js-collapse-script').parent('.output_subarea').css('padding', '0');\n",
       "  </script>\n"
      ],
      "text/plain": [
       "HTML{String}(\"  <script class='js-collapse-script'>\\n    \\$('.js-collapse-script').parent('.output_subarea').css('padding', '0');\\n  </script>\\n\")"
      ]
     },
     "metadata": {},
     "output_type": "display_data"
    },
    {
     "name": "stderr",
     "output_type": "stream",
     "text": [
      "\u001b[1m\u001b[36mINFO: \u001b[39m\u001b[22m\u001b[36mLoading HttpServer methods...\n",
      "\u001b[39m"
     ]
    }
   ],
   "source": [
    "using RigidBodyDynamics\n",
    "using ForwardDiff\n",
    "using Plots\n",
    "using MeshCatMechanisms"
   ]
  },
  {
   "cell_type": "code",
   "execution_count": 107,
   "metadata": {},
   "outputs": [
    {
     "data": {
      "text/plain": [
       "3-element Array{RigidBodyDynamics.Joint{Float64,JT} where JT<:RigidBodyDynamics.JointType{Float64},1}:\n",
       " base_link_to_world\n",
       " shoulder          \n",
       " elbow             "
      ]
     },
     "execution_count": 107,
     "metadata": {},
     "output_type": "execute_result"
    }
   ],
   "source": [
    "# Doubl\n",
    "urdf = \"doublependulum.urdf\"\n",
    "doublependulum = parse_urdf(Float64,urdf)\n",
    "state = MechanismState(doublependulum)\n"
   ]
  },
  {
   "cell_type": "code",
   "execution_count": 108,
   "metadata": {},
   "outputs": [
    {
     "data": {
      "text/plain": [
       "(::#79) (generic function with 1 method)"
      ]
     },
     "execution_count": 108,
     "metadata": {},
     "output_type": "execute_result"
    }
   ],
   "source": [
    "# Dynamics (RK4 discretization)\n",
    "function fc(x,u)\n",
    "    state = MechanismState{eltype(x)}(doublependulum)\n",
    "    \n",
    "    # set the state variables:\n",
    "    set_configuration!(state, x[1:2])\n",
    "    set_velocity!(state, x[3:4])\n",
    "    \n",
    "    [x[3];x[4]; Array(mass_matrix(state))\\u - Array(mass_matrix(state))\\Array(dynamics_bias(state))]\n",
    "end\n",
    "\n",
    "function f(x,u,dt)\n",
    "    # Runge-Kutta 4\n",
    "    k1 = dt*fc(x,u)\n",
    "    k2 = dt*fc(x + k1/2,u)\n",
    "    k3 = dt*fc(x + k2/2,u)\n",
    "    k4 = dt*fc(x + k3, u)\n",
    "    return x + (k1 + 2*k2 + 2*k3 + k4)/6\n",
    "end\n",
    "\n",
    "function fc2(S)\n",
    "    state = MechanismState{eltype(S)}(doublependulum)\n",
    "    \n",
    "    # set the state variables:\n",
    "    set_configuration!(state, S[1:2])\n",
    "    set_velocity!(state, S[3:4])\n",
    "    [S[3];S[4]; Array(mass_matrix(state))\\S[5:6] - Array(mass_matrix(state))\\Array(dynamics_bias(state)); 0.;0.;0.]\n",
    "end\n",
    "\n",
    "function f2(S)\n",
    "    k1 = dt*fc2(S)\n",
    "    k2 = dt*fc2(S + k1/2)\n",
    "    k3 = dt*fc2(S + k2/2)\n",
    "    k4 = dt*fc2(S + k3)\n",
    "    return S + (k1 + 2*k2 + 2*k3 + k4)/6\n",
    "end\n",
    "\n",
    "F = S-> ForwardDiff.jacobian(f2, S)"
   ]
  },
  {
   "cell_type": "code",
   "execution_count": 112,
   "metadata": {},
   "outputs": [
    {
     "data": {
      "text/plain": [
       "solve (generic function with 5 methods)"
      ]
     },
     "execution_count": 112,
     "metadata": {},
     "output_type": "execute_result"
    }
   ],
   "source": [
    "#iLQR\n",
    "function rollout(x0,U,f,dt,tf)\n",
    "    N = convert(Int64,floor(tf/dt))\n",
    "    X = zeros(size(x0,1),N)\n",
    "    X[:,1] = x0\n",
    "    for k = 1:N-1\n",
    "      X[:,k+1] = f(X[:,k],U[:,k],dt)\n",
    "    end\n",
    "    return X\n",
    "end\n",
    "\n",
    "function cost(X,U,Q,R,Qf,xf)\n",
    "    N = size(X,2)\n",
    "    J = 0.0\n",
    "    for k = 1:N-1\n",
    "      J += 0.5*(X[:,k] - xf)'*Q*(X[:,k] - xf) + 0.5*U[:,k]'*R*U[:,k]\n",
    "    end\n",
    "    J += 0.5*(X[:,N] - xf)'*Qf*(X[:,N] - xf)\n",
    "    return J\n",
    "end\n",
    "\n",
    "function backwardpass(X,U,F,Q,R,Qf,xf)\n",
    "    n, N = size(X)\n",
    "    m = size(U,1)\n",
    "    \n",
    "    S = zeros(n,n,N)\n",
    "    s = zeros(n,N)\n",
    "    \n",
    "    Qx = zeros(n,1,N)\n",
    "    Qu = zeros(m,1,N)\n",
    "    Qxx = zeros(n,n,N)\n",
    "    Quu = zeros(m,m,N)\n",
    "    Qux = zeros(m,n,N)\n",
    "    \n",
    "    K = zeros(m,n,N-1)\n",
    "    l = zeros(m,N-1)\n",
    "    \n",
    "    S[:,:,N] = Qf\n",
    "    s[:,N] = Qf*(X[:,N] - xf)\n",
    "    v1 = 0.0\n",
    "    v2 = 0.0\n",
    "\n",
    "    mu = 0.0\n",
    "    k = N-1\n",
    "    \n",
    "    while k >= 1\n",
    "        q = Q*(X[:,k] - xf)\n",
    "        r = R*(U[:,k])\n",
    "        F_aug = F([X[:,k];U[:,k];dt])\n",
    "        fx = F_aug[1:size(X,1),1:size(X,1)]\n",
    "        fu = F_aug[1:size(X,1),size(X,1)+1:size(X,1)+size(U,1)]\n",
    "        \n",
    "        Qx[:,:,k] = q + fx'*s[:,k+1]\n",
    "        Qu[:,:,k] = r + fu'*s[:,k+1]\n",
    "        Qxx[:,:,k] = Q + fx'*S[:,:,k+1]*fx\n",
    "        Quu[:,:,k] = R + fu'*(S[:,:,k+1] + mu*eye(n))*fu\n",
    "        Qux[:,:,k] = fu'*(S[:,:,k+1] + mu*eye(n))*fx\n",
    "\n",
    "        # regularization        \n",
    "        if any(x->x < 0.0, (eigvals(Quu[:,:,k])))\n",
    "            mu = mu + 1.0;\n",
    "            k = N-1;\n",
    "            println(\"regularized\")\n",
    "        end\n",
    "        \n",
    "        K[:,:,k] = Quu[:,:,k]\\Qux[:,:,k]\n",
    "        l[:,k] = Quu[:,:,k]\\Qu[:,:,k]'\n",
    "        s[:,k] = Qx[:,:,k]' - Qu[:,:,k]'*K[:,:,k] + l[:,k]'*Quu[:,:,k]*K[:,:,k] - l[:,k]'*Qux[:,:,k]\n",
    "        S[:,:,k] = Qxx[:,:,k] + K[:,:,k]'*Quu[:,:,k]*K[:,:,k] - K[:,:,k]'*Qux[:,:,k] - Qux[:,:,k]'*K[:,:,k]\n",
    "\n",
    "        # terms for line search\n",
    "        v1 += l[:,k]'*Qu[:,:,k]\n",
    "        v2 += l[:,k]'*Quu[:,:,k]*l[:,k]\n",
    "        \n",
    "        k = k - 1;\n",
    "    end\n",
    "    return K, l, v1, v2\n",
    "end\n",
    "\n",
    "function forwardpass(X,U,f,J,K,l,v1,v2,c1=0.0,c2=1.0)\n",
    "    N = size(X,2)\n",
    "    m = size(U,1)\n",
    "    X_prev = copy(X)\n",
    "    J_prev = copy(J)\n",
    "    U_ = zeros(m,N-1)\n",
    "    J = Inf\n",
    "    dV = 0.0\n",
    "    dJ = 0.0\n",
    "    z = 0.0\n",
    "    \n",
    "    alpha = 1.0\n",
    "\n",
    "    while J > J_prev || z < c1 || z > c2 \n",
    "        for k = 1:N-1\n",
    "          U_[:,k] = U[:,k] - K[:,:,k]*(X[:,k] - X_prev[:,k]) - alpha*l[:,k]\n",
    "          X[:,k+1] = f(X[:,k],U_[:,k],dt);\n",
    "        end\n",
    "\n",
    "        J = cost(X,U_,Q,R,Qf,xf)\n",
    "        \n",
    "        dV = alpha*v1 + (alpha^2)*v2/2.0\n",
    "        dJ = J_prev - J\n",
    "        z = dJ/dV[1]\n",
    "\n",
    "        alpha = alpha/2.0;\n",
    "    end\n",
    "\n",
    "    println(\"New cost: $J\")\n",
    "    println(\"- Expected improvement: $(dV[1])\")\n",
    "    println(\"- Actual improvement: $(dJ)\")\n",
    "    println(\"- (z = $z)\\n\")\n",
    "    \n",
    "    return X, U_, J\n",
    "end\n",
    "\n",
    "function solve(x0,m,f,F,Q,R,Qf,xf,dt,tf;iterations=100,eps=1e-5,control_init=\"zeros\")\n",
    "    N = convert(Int64,floor(tf/dt))\n",
    "    X = zeros(size(x0,1),N)\n",
    "    \n",
    "    if control_init == \"random\"\n",
    "        U = rand(m,N-1)\n",
    "    else\n",
    "        U = zeros(m,N-1)\n",
    "    end\n",
    "        \n",
    "    X = rollout(x0,U,f,dt,tf)\n",
    "    J_prev = cost(X,U,Q,R,Qf,xf)\n",
    "    println(\"Initial Cost: $J_prev\\n\")\n",
    "    \n",
    "    for i = 1:iterations\n",
    "        println(\"*** Iteration: $i ***\")\n",
    "        K, l, v1, v2 = backwardpass(X,U,F,Q,R,Qf,xf)\n",
    "        X, U, J = forwardpass(X,U,f,J_prev,K,l,v1,v2)\n",
    "\n",
    "        if abs(J-J_prev) < eps\n",
    "          println(\"-----SOLVED-----\")\n",
    "          println(\"eps criteria met at iteration: $i\")\n",
    "          break\n",
    "        end\n",
    "        J_prev = copy(J)\n",
    "    end\n",
    "    \n",
    "    return X, U\n",
    "end"
   ]
  },
  {
   "cell_type": "code",
   "execution_count": null,
   "metadata": {
    "collapsed": true
   },
   "outputs": [],
   "source": [
    "n = 4\n",
    "m = 2\n",
    "\n",
    "# initial and goal states\n",
    "x0 = [0.;0.;0.;0.]\n",
    "xf = [pi;0.;0.;0.]\n",
    "\n",
    "set_configuration!(state, x0[1:2])\n",
    "set_velocity!(state, x0[3:4])\n",
    "\n",
    "# costs\n",
    "Q = 1e-5*eye(n)\n",
    "Qf = 50.*eye(n)\n",
    "R = 1e-5*eye(m)\n",
    "\n",
    "# simulation\n",
    "tf = 2.\n",
    "dt = 0.01"
   ]
  },
  {
   "cell_type": "code",
   "execution_count": null,
   "metadata": {
    "collapsed": true
   },
   "outputs": [],
   "source": [
    "X, U = @time solve(x0,m,f,Df,Q,R,Qf,xf,dt,tf)\n",
    "\n",
    "P = plot(linspace(0,tf,size(X,2)),X[1,:],title=\"Double Pendulum (iLQR and Rigid Body Dynamics)\")\n",
    "P = plot!(linspace(0,tf,size(X,2)),X[2,:],ylabel=\"State\")"
   ]
  },
  {
   "cell_type": "code",
   "execution_count": 120,
   "metadata": {},
   "outputs": [
    {
     "data": {
      "image/svg+xml": [
       "<?xml version=\"1.0\" encoding=\"utf-8\"?>\n",
       "<svg xmlns=\"http://www.w3.org/2000/svg\" xmlns:xlink=\"http://www.w3.org/1999/xlink\" width=\"600\" height=\"400\" viewBox=\"0 0 600 400\">\n",
       "<defs>\n",
       "  <clipPath id=\"clip0700\">\n",
       "    <rect x=\"0\" y=\"0\" width=\"600\" height=\"400\"/>\n",
       "  </clipPath>\n",
       "</defs>\n",
       "<polygon clip-path=\"url(#clip0700)\" points=\"\n",
       "0,400 600,400 600,0 0,0 \n",
       "  \" fill=\"#ffffff\" fill-opacity=\"1\"/>\n",
       "<defs>\n",
       "  <clipPath id=\"clip0701\">\n",
       "    <rect x=\"120\" y=\"0\" width=\"421\" height=\"400\"/>\n",
       "  </clipPath>\n",
       "</defs>\n",
       "<polygon clip-path=\"url(#clip0700)\" points=\"\n",
       "51.9048,375.869 580.315,375.869 580.315,31.4961 51.9048,31.4961 \n",
       "  \" fill=\"#ffffff\" fill-opacity=\"1\"/>\n",
       "<defs>\n",
       "  <clipPath id=\"clip0702\">\n",
       "    <rect x=\"51\" y=\"31\" width=\"529\" height=\"345\"/>\n",
       "  </clipPath>\n",
       "</defs>\n",
       "<polyline clip-path=\"url(#clip0702)\" style=\"stroke:#000000; stroke-width:0.5; stroke-opacity:0.1; fill:none\" points=\"\n",
       "  51.9048,375.869 51.9048,31.4961 \n",
       "  \"/>\n",
       "<polyline clip-path=\"url(#clip0702)\" style=\"stroke:#000000; stroke-width:0.5; stroke-opacity:0.1; fill:none\" points=\"\n",
       "  184.007,375.869 184.007,31.4961 \n",
       "  \"/>\n",
       "<polyline clip-path=\"url(#clip0702)\" style=\"stroke:#000000; stroke-width:0.5; stroke-opacity:0.1; fill:none\" points=\"\n",
       "  316.11,375.869 316.11,31.4961 \n",
       "  \"/>\n",
       "<polyline clip-path=\"url(#clip0702)\" style=\"stroke:#000000; stroke-width:0.5; stroke-opacity:0.1; fill:none\" points=\"\n",
       "  448.212,375.869 448.212,31.4961 \n",
       "  \"/>\n",
       "<polyline clip-path=\"url(#clip0702)\" style=\"stroke:#000000; stroke-width:0.5; stroke-opacity:0.1; fill:none\" points=\"\n",
       "  580.315,375.869 580.315,31.4961 \n",
       "  \"/>\n",
       "<polyline clip-path=\"url(#clip0702)\" style=\"stroke:#000000; stroke-width:0.5; stroke-opacity:0.1; fill:none\" points=\"\n",
       "  51.9048,324.596 580.315,324.596 \n",
       "  \"/>\n",
       "<polyline clip-path=\"url(#clip0702)\" style=\"stroke:#000000; stroke-width:0.5; stroke-opacity:0.1; fill:none\" points=\"\n",
       "  51.9048,232.269 580.315,232.269 \n",
       "  \"/>\n",
       "<polyline clip-path=\"url(#clip0702)\" style=\"stroke:#000000; stroke-width:0.5; stroke-opacity:0.1; fill:none\" points=\"\n",
       "  51.9048,139.942 580.315,139.942 \n",
       "  \"/>\n",
       "<polyline clip-path=\"url(#clip0702)\" style=\"stroke:#000000; stroke-width:0.5; stroke-opacity:0.1; fill:none\" points=\"\n",
       "  51.9048,47.6153 580.315,47.6153 \n",
       "  \"/>\n",
       "<polyline clip-path=\"url(#clip0700)\" style=\"stroke:#000000; stroke-width:1; stroke-opacity:1; fill:none\" points=\"\n",
       "  51.9048,375.869 580.315,375.869 \n",
       "  \"/>\n",
       "<polyline clip-path=\"url(#clip0700)\" style=\"stroke:#000000; stroke-width:1; stroke-opacity:1; fill:none\" points=\"\n",
       "  51.9048,375.869 51.9048,31.4961 \n",
       "  \"/>\n",
       "<polyline clip-path=\"url(#clip0700)\" style=\"stroke:#000000; stroke-width:1; stroke-opacity:1; fill:none\" points=\"\n",
       "  51.9048,375.869 51.9048,370.703 \n",
       "  \"/>\n",
       "<polyline clip-path=\"url(#clip0700)\" style=\"stroke:#000000; stroke-width:1; stroke-opacity:1; fill:none\" points=\"\n",
       "  184.007,375.869 184.007,370.703 \n",
       "  \"/>\n",
       "<polyline clip-path=\"url(#clip0700)\" style=\"stroke:#000000; stroke-width:1; stroke-opacity:1; fill:none\" points=\"\n",
       "  316.11,375.869 316.11,370.703 \n",
       "  \"/>\n",
       "<polyline clip-path=\"url(#clip0700)\" style=\"stroke:#000000; stroke-width:1; stroke-opacity:1; fill:none\" points=\"\n",
       "  448.212,375.869 448.212,370.703 \n",
       "  \"/>\n",
       "<polyline clip-path=\"url(#clip0700)\" style=\"stroke:#000000; stroke-width:1; stroke-opacity:1; fill:none\" points=\"\n",
       "  580.315,375.869 580.315,370.703 \n",
       "  \"/>\n",
       "<polyline clip-path=\"url(#clip0700)\" style=\"stroke:#000000; stroke-width:1; stroke-opacity:1; fill:none\" points=\"\n",
       "  51.9048,324.596 59.8309,324.596 \n",
       "  \"/>\n",
       "<polyline clip-path=\"url(#clip0700)\" style=\"stroke:#000000; stroke-width:1; stroke-opacity:1; fill:none\" points=\"\n",
       "  51.9048,232.269 59.8309,232.269 \n",
       "  \"/>\n",
       "<polyline clip-path=\"url(#clip0700)\" style=\"stroke:#000000; stroke-width:1; stroke-opacity:1; fill:none\" points=\"\n",
       "  51.9048,139.942 59.8309,139.942 \n",
       "  \"/>\n",
       "<polyline clip-path=\"url(#clip0700)\" style=\"stroke:#000000; stroke-width:1; stroke-opacity:1; fill:none\" points=\"\n",
       "  51.9048,47.6153 59.8309,47.6153 \n",
       "  \"/>\n",
       "<g clip-path=\"url(#clip0700)\">\n",
       "<text style=\"fill:#000000; fill-opacity:1; font-family:Arial,Helvetica Neue,Helvetica,sans-serif; font-size:12; text-anchor:middle;\" transform=\"rotate(0, 51.9048, 389.669)\" x=\"51.9048\" y=\"389.669\">0.0</text>\n",
       "</g>\n",
       "<g clip-path=\"url(#clip0700)\">\n",
       "<text style=\"fill:#000000; fill-opacity:1; font-family:Arial,Helvetica Neue,Helvetica,sans-serif; font-size:12; text-anchor:middle;\" transform=\"rotate(0, 184.007, 389.669)\" x=\"184.007\" y=\"389.669\">0.5</text>\n",
       "</g>\n",
       "<g clip-path=\"url(#clip0700)\">\n",
       "<text style=\"fill:#000000; fill-opacity:1; font-family:Arial,Helvetica Neue,Helvetica,sans-serif; font-size:12; text-anchor:middle;\" transform=\"rotate(0, 316.11, 389.669)\" x=\"316.11\" y=\"389.669\">1.0</text>\n",
       "</g>\n",
       "<g clip-path=\"url(#clip0700)\">\n",
       "<text style=\"fill:#000000; fill-opacity:1; font-family:Arial,Helvetica Neue,Helvetica,sans-serif; font-size:12; text-anchor:middle;\" transform=\"rotate(0, 448.212, 389.669)\" x=\"448.212\" y=\"389.669\">1.5</text>\n",
       "</g>\n",
       "<g clip-path=\"url(#clip0700)\">\n",
       "<text style=\"fill:#000000; fill-opacity:1; font-family:Arial,Helvetica Neue,Helvetica,sans-serif; font-size:12; text-anchor:middle;\" transform=\"rotate(0, 580.315, 389.669)\" x=\"580.315\" y=\"389.669\">2.0</text>\n",
       "</g>\n",
       "<g clip-path=\"url(#clip0700)\">\n",
       "<text style=\"fill:#000000; fill-opacity:1; font-family:Arial,Helvetica Neue,Helvetica,sans-serif; font-size:12; text-anchor:end;\" transform=\"rotate(0, 45.9048, 329.096)\" x=\"45.9048\" y=\"329.096\">-10</text>\n",
       "</g>\n",
       "<g clip-path=\"url(#clip0700)\">\n",
       "<text style=\"fill:#000000; fill-opacity:1; font-family:Arial,Helvetica Neue,Helvetica,sans-serif; font-size:12; text-anchor:end;\" transform=\"rotate(0, 45.9048, 236.769)\" x=\"45.9048\" y=\"236.769\">0</text>\n",
       "</g>\n",
       "<g clip-path=\"url(#clip0700)\">\n",
       "<text style=\"fill:#000000; fill-opacity:1; font-family:Arial,Helvetica Neue,Helvetica,sans-serif; font-size:12; text-anchor:end;\" transform=\"rotate(0, 45.9048, 144.442)\" x=\"45.9048\" y=\"144.442\">10</text>\n",
       "</g>\n",
       "<g clip-path=\"url(#clip0700)\">\n",
       "<text style=\"fill:#000000; fill-opacity:1; font-family:Arial,Helvetica Neue,Helvetica,sans-serif; font-size:12; text-anchor:end;\" transform=\"rotate(0, 45.9048, 52.1153)\" x=\"45.9048\" y=\"52.1153\">20</text>\n",
       "</g>\n",
       "<g clip-path=\"url(#clip0700)\">\n",
       "<text style=\"fill:#000000; fill-opacity:1; font-family:Arial,Helvetica Neue,Helvetica,sans-serif; font-size:21; text-anchor:middle;\" transform=\"rotate(0, 316.11, 18)\" x=\"316.11\" y=\"18\">Double Pendulum (iLQR and Rigid Body Dynamics)</text>\n",
       "</g>\n",
       "<g clip-path=\"url(#clip0700)\">\n",
       "<text style=\"fill:#000000; fill-opacity:1; font-family:Arial,Helvetica Neue,Helvetica,sans-serif; font-size:16; text-anchor:middle;\" transform=\"rotate(-90, 14.4, 203.682)\" x=\"14.4\" y=\"203.682\">Control</text>\n",
       "</g>\n",
       "<polyline clip-path=\"url(#clip0702)\" style=\"stroke:#009af9; stroke-width:1; stroke-opacity:1; fill:none\" points=\"\n",
       "  51.9048,263.715 54.5601,263.715 57.2154,262.849 59.8707,261.941 62.5261,260.993 65.1814,260.007 67.8367,258.984 70.492,257.927 73.1474,256.836 75.8027,255.715 \n",
       "  78.458,254.565 81.1134,253.39 83.7687,252.19 86.424,250.97 89.0793,249.731 91.7347,248.477 94.39,247.209 97.0453,245.93 99.7007,244.644 102.356,243.352 \n",
       "  105.011,242.057 107.667,240.761 110.322,239.466 112.977,238.174 115.633,236.886 118.288,235.604 120.943,234.329 123.599,233.06 126.254,231.8 128.909,230.547 \n",
       "  131.565,229.302 134.22,228.065 136.875,226.835 139.531,225.612 142.186,224.396 144.841,223.186 147.497,221.982 150.152,220.785 152.807,219.594 155.463,218.41 \n",
       "  158.118,217.232 160.773,216.063 163.429,214.904 166.084,213.754 168.739,212.617 171.394,211.494 174.05,210.387 176.705,209.299 179.36,208.233 182.016,207.19 \n",
       "  184.671,206.175 187.326,205.192 189.982,204.242 192.637,203.332 195.292,202.464 197.948,201.644 200.603,200.877 203.258,200.168 205.914,199.523 208.569,198.948 \n",
       "  211.224,198.451 213.88,198.039 216.535,197.722 219.19,197.51 221.846,197.414 224.501,197.448 227.156,197.627 229.812,197.971 232.467,198.5 235.122,199.241 \n",
       "  237.778,200.225 240.433,201.49 243.088,203.078 245.744,205.043 248.399,207.442 251.054,210.343 253.71,213.812 256.365,217.913 259.02,222.687 261.676,228.126 \n",
       "  264.331,234.128 266.986,240.423 269.642,246.489 272.297,251.502 274.952,254.407 277.608,254.204 280.263,250.373 282.918,243.173 285.574,233.55 288.229,222.742 \n",
       "  290.884,211.891 293.54,201.841 296.195,193.099 298.85,185.885 301.506,180.201 304.161,175.909 306.816,172.791 309.472,170.597 312.127,169.083 314.782,168.022 \n",
       "  317.438,167.226 320.093,166.546 322.748,165.87 325.404,165.125 328.059,164.264 330.714,163.261 333.369,162.108 336.025,160.806 338.68,159.362 341.335,157.789 \n",
       "  343.991,156.106 346.646,154.331 349.301,152.49 351.957,150.611 354.612,148.725 357.267,146.867 359.923,145.073 362.578,143.382 365.233,141.83 367.889,140.452 \n",
       "  370.544,139.277 373.199,138.332 375.855,137.635 378.51,137.199 381.165,137.03 383.821,137.129 386.476,137.491 389.131,138.109 391.787,138.973 394.442,140.072 \n",
       "  397.097,141.397 399.753,142.939 402.408,144.692 405.063,146.653 407.719,148.822 410.374,151.204 413.029,153.805 415.685,156.635 418.34,159.705 420.995,163.026 \n",
       "  423.651,166.609 426.306,170.458 428.961,174.574 431.617,178.948 434.272,183.562 436.927,188.385 439.583,193.375 442.238,198.477 444.893,203.631 447.549,208.769 \n",
       "  450.204,213.827 452.859,218.742 455.515,223.462 458.17,227.946 460.825,232.168 463.481,236.114 466.136,239.783 468.791,243.184 471.447,246.335 474.102,249.259 \n",
       "  476.757,251.98 479.413,254.525 482.068,256.919 484.723,259.187 487.378,261.35 490.034,263.429 492.689,265.441 495.344,267.4 498,269.322 500.655,271.216 \n",
       "  503.31,273.096 505.966,274.969 508.621,276.845 511.276,278.733 513.932,280.641 516.587,282.577 519.242,284.55 521.898,286.57 524.553,288.645 527.208,290.787 \n",
       "  529.864,293.008 532.519,295.321 535.174,297.743 537.83,300.291 540.485,302.985 543.14,305.849 545.796,308.908 548.451,312.189 551.106,315.719 553.762,319.523 \n",
       "  556.417,323.622 559.072,328.03 561.728,332.757 564.383,337.805 567.038,343.181 569.694,348.897 572.349,354.976 575.004,361.459 577.66,368.4 580.315,375.869 \n",
       "  \n",
       "  \"/>\n",
       "<polyline clip-path=\"url(#clip0702)\" style=\"stroke:#e26f46; stroke-width:1; stroke-opacity:1; fill:none\" points=\"\n",
       "  51.9048,265.845 54.5601,265.845 57.2154,264.978 59.8707,264.145 62.5261,263.344 65.1814,262.573 67.8367,261.831 70.492,261.115 73.1474,260.423 75.8027,259.752 \n",
       "  78.458,259.099 81.1134,258.46 83.7687,257.832 86.424,257.211 89.0793,256.595 91.7347,255.978 94.39,255.357 97.0453,254.728 99.7007,254.087 102.356,253.43 \n",
       "  105.011,252.755 107.667,252.058 110.322,251.336 112.977,250.587 115.633,249.809 118.288,249 120.943,248.16 123.599,247.289 126.254,246.387 128.909,245.455 \n",
       "  131.565,244.494 134.22,243.504 136.875,242.489 139.531,241.45 142.186,240.388 144.841,239.306 147.497,238.205 150.152,237.087 152.807,235.954 155.463,234.805 \n",
       "  158.118,233.642 160.773,232.464 163.429,231.272 166.084,230.065 168.739,228.842 171.394,227.6 174.05,226.338 176.705,225.054 179.36,223.745 182.016,222.408 \n",
       "  184.671,221.039 187.326,219.633 189.982,218.187 192.637,216.695 195.292,215.152 197.948,213.552 200.603,211.888 203.258,210.152 205.914,208.335 208.569,206.428 \n",
       "  211.224,204.42 213.88,202.298 216.535,200.046 219.19,197.648 221.846,195.081 224.501,192.322 227.156,189.338 229.812,186.094 232.467,182.544 235.122,178.632 \n",
       "  237.778,174.289 240.433,169.431 243.088,163.954 245.744,157.738 248.399,150.638 251.054,142.498 253.71,133.154 256.365,122.459 259.02,110.32 261.676,96.7619 \n",
       "  264.331,82.0295 266.986,66.7408 269.642,52.0592 272.297,39.7935 274.952,32.2261 277.608,31.4961 280.263,38.6858 282.918,53.2093 285.574,73.0228 288.229,95.465 \n",
       "  290.884,118.078 293.54,139.035 296.195,157.212 298.85,172.097 301.506,183.64 304.161,192.104 306.816,197.93 309.472,201.641 312.127,203.762 314.782,204.779 \n",
       "  317.438,205.106 320.093,205.075 322.748,204.932 325.404,204.848 328.059,204.929 330.714,205.232 333.369,205.782 336.025,206.582 338.68,207.625 341.335,208.896 \n",
       "  343.991,210.379 346.646,212.057 349.301,213.913 351.957,215.931 354.612,218.096 357.267,220.391 359.923,222.799 362.578,225.304 365.233,227.886 367.889,230.526 \n",
       "  370.544,233.203 373.199,235.897 375.855,238.587 378.51,241.251 381.165,243.869 383.821,246.424 386.476,248.898 389.131,251.279 391.787,253.559 394.442,255.732 \n",
       "  397.097,257.799 399.753,259.763 402.408,261.634 405.063,263.424 407.719,265.146 410.374,266.819 413.029,268.457 415.685,270.078 418.34,271.695 420.995,273.318 \n",
       "  423.651,274.951 426.306,276.596 428.961,278.244 431.617,279.884 434.272,281.495 436.927,283.055 439.583,284.536 442.238,285.91 444.893,287.149 447.549,288.23 \n",
       "  450.204,289.133 452.859,289.847 455.515,290.367 458.17,290.695 460.825,290.838 463.481,290.812 466.136,290.631 468.791,290.315 471.447,289.882 474.102,289.349 \n",
       "  476.757,288.734 479.413,288.049 482.068,287.306 484.723,286.514 487.378,285.68 490.034,284.809 492.689,283.903 495.344,282.964 498,281.992 500.655,280.986 \n",
       "  503.31,279.942 505.966,278.859 508.621,277.73 511.276,276.552 513.932,275.316 516.587,274.016 519.242,272.64 521.898,271.179 524.553,269.619 527.208,267.943 \n",
       "  529.864,266.132 532.519,264.165 535.174,262.015 537.83,259.649 540.485,257.033 543.14,254.125 545.796,250.878 548.451,247.246 551.106,243.18 553.762,238.637 \n",
       "  556.417,233.585 559.072,228.003 561.728,221.887 564.383,215.236 567.038,208.051 569.694,200.313 572.349,191.979 575.004,182.974 577.66,173.189 580.315,162.49 \n",
       "  \n",
       "  \"/>\n",
       "<polygon clip-path=\"url(#clip0700)\" points=\"\n",
       "489.608,97.7361 562.315,97.7361 562.315,52.3761 489.608,52.3761 \n",
       "  \" fill=\"#ffffff\" fill-opacity=\"1\"/>\n",
       "<polyline clip-path=\"url(#clip0700)\" style=\"stroke:#000000; stroke-width:1; stroke-opacity:1; fill:none\" points=\"\n",
       "  489.608,97.7361 562.315,97.7361 562.315,52.3761 489.608,52.3761 489.608,97.7361 \n",
       "  \"/>\n",
       "<polyline clip-path=\"url(#clip0700)\" style=\"stroke:#009af9; stroke-width:1; stroke-opacity:1; fill:none\" points=\"\n",
       "  495.608,67.4961 531.608,67.4961 \n",
       "  \"/>\n",
       "<g clip-path=\"url(#clip0700)\">\n",
       "<text style=\"fill:#000000; fill-opacity:1; font-family:Arial,Helvetica Neue,Helvetica,sans-serif; font-size:12; text-anchor:start;\" transform=\"rotate(0, 537.608, 71.9961)\" x=\"537.608\" y=\"71.9961\">y1</text>\n",
       "</g>\n",
       "<polyline clip-path=\"url(#clip0700)\" style=\"stroke:#e26f46; stroke-width:1; stroke-opacity:1; fill:none\" points=\"\n",
       "  495.608,82.6161 531.608,82.6161 \n",
       "  \"/>\n",
       "<g clip-path=\"url(#clip0700)\">\n",
       "<text style=\"fill:#000000; fill-opacity:1; font-family:Arial,Helvetica Neue,Helvetica,sans-serif; font-size:12; text-anchor:start;\" transform=\"rotate(0, 537.608, 87.1161)\" x=\"537.608\" y=\"87.1161\">y2</text>\n",
       "</g>\n",
       "</svg>\n"
      ]
     },
     "execution_count": 120,
     "metadata": {},
     "output_type": "execute_result"
    }
   ],
   "source": [
    "W = plot(linspace(0,tf,size(X,2)),[U[1,1] U[1,:]']',title=\"Double Pendulum (iLQR and Rigid Body Dynamics)\")\n",
    "W = plot!(linspace(0,tf,size(X,2)),[U[2,1] U[2,:]']',ylabel=\"Control\")"
   ]
  },
  {
   "cell_type": "code",
   "execution_count": 121,
   "metadata": {
    "scrolled": true
   },
   "outputs": [
    {
     "data": {
      "text/html": [
       "<div class='display:none'></div><unsafe-script style='display:none'>\n",
       "WebIO.mount(this.previousSibling,{&quot;props&quot;:{},&quot;nodeType&quot;:&quot;Scope&quot;,&quot;type&quot;:&quot;node&quot;,&quot;instanceArgs&quot;:{&quot;imports&quot;:{&quot;data&quot;:[],&quot;type&quot;:&quot;async_block&quot;},&quot;id&quot;:&quot;scope-bc7241ef-aab5-4987-97b8-3cba4266c8f2&quot;,&quot;handlers&quot;:{&quot;_promises&quot;:{&quot;importsLoaded&quot;:[function () {\n",
       "    var frame = this.dom.querySelector(&quot;#ifr&quot;);\n",
       "    var doc = frame.contentDocument\n",
       "    var win = frame.contentWindow\n",
       "\n",
       "    // Determine if we&#39;re running on a Jupyter hosting service\n",
       "    // that requires a base URL when retrieving assets\n",
       "    var curMatch =\n",
       "        window.location.href\n",
       "        .match(/(.*?)\\/notebooks\\/.*\\.ipynb/);\n",
       "    curMatch = curMatch ||\n",
       "        window.location.href\n",
       "        .match(/(.*?)\\/apps\\/.*\\.ipynb/);\n",
       "    if (curMatch) {\n",
       "        var base = doc.createElement(&quot;base&quot;);\n",
       "        base.setAttribute(&quot;href&quot;, curMatch[1] + &#39;/&#39;);\n",
       "        doc.head.appendChild(base);\n",
       "    }\n",
       "\n",
       "    var webio = doc.createElement(&quot;script&quot;)\n",
       "    webio.src = &quot;pkg/WebIO/webio/dist/bundle.js&quot;\n",
       "    var parent = window\n",
       "\n",
       "    function resizeIframe() {\n",
       "        doc.body.style.padding = &#39;0&#39;\n",
       "        doc.body.style.margin = &#39;0&#39;\n",
       "        doc.documentElement.height = &#39;100%&#39;\n",
       "        doc.body.height = &#39;100%&#39;\n",
       "    }\n",
       "\n",
       "    webio.onload = function () {\n",
       "        win.WebIO.sendCallback = parent.WebIO.sendCallback; // Share stuff\n",
       "        win.WebIO.scopes = parent.WebIO.scopes\n",
       "        win.WebIO.obsscopes = parent.WebIO.obsscopes\n",
       "        win.WebIO._connected = true\n",
       "        doc.body.innerHTML = &quot;&lt;html&gt;&lt;body&gt;&quot; + &quot;&lt;div class=&#39;display:none&#39;&gt;&lt;/div&gt;&lt;unsafe-script style=&#39;display:none&#39;&gt;\\nWebIO.mount(this.previousSibling,{&amp;quot;props&amp;quot;:{},&amp;quot;nodeType&amp;quot;:&amp;quot;Scope&amp;quot;,&amp;quot;type&amp;quot;:&amp;quot;node&amp;quot;,&amp;quot;instanceArgs&amp;quot;:{&amp;quot;imports&amp;quot;:{&amp;quot;data&amp;quot;:[{&amp;quot;name&amp;quot;:null,&amp;quot;type&amp;quot;:&amp;quot;js&amp;quot;,&amp;quot;url&amp;quot;:&amp;quot;pkg/MeshCat/meshcat/dist/main.min.js&amp;quot;}],&amp;quot;type&amp;quot;:&amp;quot;async_block&amp;quot;},&amp;quot;id&amp;quot;:&amp;quot;scope-3dc3c13b-fc16-44e4-98cd-57e1678aac8b&amp;quot;,&amp;quot;handlers&amp;quot;:{&amp;quot;meshcat-command&amp;quot;:[(function (val){return this.viewer.handle_command_message({&amp;quot;data&amp;quot;:val})})],&amp;quot;_promises&amp;quot;:{&amp;quot;importsLoaded&amp;quot;:[(function (mc){var element=this.dom.children[0]; this.viewer=new mc.Viewer(element); WebIO.setval({&amp;quot;name&amp;quot;:&amp;quot;meshcat-request&amp;quot;,&amp;quot;scope&amp;quot;:&amp;quot;scope-3dc3c13b-fc16-44e4-98cd-57e1678aac8b&amp;quot;,&amp;quot;id&amp;quot;:&amp;quot;ob_29&amp;quot;,&amp;quot;type&amp;quot;:&amp;quot;observable&amp;quot;},String(Date.now())); return window.document.body.style.margin=&amp;quot;0&amp;quot;})]}},&amp;quot;systemjs_options&amp;quot;:null,&amp;quot;observables&amp;quot;:{&amp;quot;meshcat-command&amp;quot;:{&amp;quot;sync&amp;quot;:false,&amp;quot;id&amp;quot;:&amp;quot;ob_28&amp;quot;,&amp;quot;value&amp;quot;:[131,166,109,97,116,114,105,120,199,64,23,0,0,128,63,0,0,0,0,0,0,0,0,0,0,0,0,0,0,0,0,0,0,128,63,0,0,0,0,0,0,0,0,0,0,0,0,0,0,0,0,0,0,128,63,0,0,0,0,0,0,0,0,205,204,204,61,0,0,128,191,0,0,128,63,164,116,121,112,101,173,115,101,116,95,116,114,97,110,115,102,111,114,109,164,112,97,116,104,218,0,46,47,109,101,115,104,99,97,116,47,119,111,114,108,100,47,98,97,115,101,95,108,105,110,107,47,117,112,112,101,114,95,108,105,110,107,47,108,111,119,101,114,95,108,105,110,107]},&amp;quot;meshcat-controls&amp;quot;:{&amp;quot;sync&amp;quot;:true,&amp;quot;id&amp;quot;:&amp;quot;ob_30&amp;quot;,&amp;quot;value&amp;quot;:[]},&amp;quot;meshcat-request&amp;quot;:{&amp;quot;sync&amp;quot;:true,&amp;quot;id&amp;quot;:&amp;quot;ob_29&amp;quot;,&amp;quot;value&amp;quot;:&amp;quot;&amp;quot;}}},&amp;quot;children&amp;quot;:[{&amp;quot;props&amp;quot;:{&amp;quot;className&amp;quot;:&amp;quot;meshcat-viewer&amp;quot;,&amp;quot;style&amp;quot;:{&amp;quot;left&amp;quot;:0,&amp;quot;right&amp;quot;:0,&amp;quot;overflow&amp;quot;:&amp;quot;hidden&amp;quot;,&amp;quot;position&amp;quot;:&amp;quot;absolute&amp;quot;,&amp;quot;height&amp;quot;:&amp;quot;100vh&amp;quot;,&amp;quot;margin&amp;quot;:0,&amp;quot;width&amp;quot;:&amp;quot;100vw&amp;quot;}},&amp;quot;nodeType&amp;quot;:&amp;quot;DOM&amp;quot;,&amp;quot;type&amp;quot;:&amp;quot;node&amp;quot;,&amp;quot;instanceArgs&amp;quot;:{&amp;quot;namespace&amp;quot;:&amp;quot;html&amp;quot;,&amp;quot;tag&amp;quot;:&amp;quot;div&amp;quot;},&amp;quot;children&amp;quot;:[]}]})&lt;/unsafe-script&gt;&quot; + &quot;&lt;/body&gt;&lt;/html&gt;&quot;;\n",
       "        setTimeout(function () { resizeIframe() }, 0)\n",
       "    }\n",
       "\n",
       "    doc.body.appendChild(webio)\n",
       "},(function (){return this.dom.style.height=&quot;100%&quot;})]}},&quot;systemjs_options&quot;:null,&quot;observables&quot;:{}},&quot;children&quot;:[{&quot;props&quot;:{&quot;style&quot;:{&quot;flexDirection&quot;:&quot;column&quot;,&quot;height&quot;:&quot;100%&quot;,&quot;minHeight&quot;:&quot;400px&quot;,&quot;display&quot;:&quot;flex&quot;,&quot;width&quot;:&quot;100%&quot;,&quot;overflow&quot;:&quot;hidden&quot;}},&quot;nodeType&quot;:&quot;DOM&quot;,&quot;type&quot;:&quot;node&quot;,&quot;instanceArgs&quot;:{&quot;namespace&quot;:&quot;html&quot;,&quot;tag&quot;:&quot;div&quot;},&quot;children&quot;:[{&quot;props&quot;:{&quot;attributes&quot;:{&quot;height&quot;:&quot;100%&quot;,&quot;scrolling&quot;:&quot;no&quot;,&quot;src&quot;:&quot;javascript:void(0)&quot;,&quot;frameborder&quot;:0},&quot;id&quot;:&quot;ifr&quot;,&quot;style&quot;:{&quot;width&quot;:&quot;100%&quot;,&quot;flexGrow&quot;:&quot;1&quot;}},&quot;nodeType&quot;:&quot;DOM&quot;,&quot;type&quot;:&quot;node&quot;,&quot;instanceArgs&quot;:{&quot;namespace&quot;:&quot;html&quot;,&quot;tag&quot;:&quot;iframe&quot;},&quot;children&quot;:[]}]}]})</unsafe-script>"
      ],
      "text/plain": [
       "WebIO.Scope(\"scope-bc7241ef-aab5-4987-97b8-3cba4266c8f2\", WebIO.Node{WebIO.DOM}(WebIO.DOM(:html, :div), Any[WebIO.Node{WebIO.DOM}(WebIO.DOM(:html, :iframe), Any[], Dict{Symbol,Any}(Pair{Symbol,Any}(:attributes, Dict{String,Any}(Pair{String,Any}(\"height\", \"100%\"),Pair{String,Any}(\"scrolling\", \"no\"),Pair{String,Any}(\"src\", \"javascript:void(0)\"),Pair{String,Any}(\"frameborder\", 0))),Pair{Symbol,Any}(:id, \"ifr\"),Pair{Symbol,Any}(:style, Dict(\"width\"=>\"100%\",\"flexGrow\"=>\"1\"))), 0)], Dict{Symbol,Any}(Pair{Symbol,Any}(:style, Dict(\"flexDirection\"=>\"column\",\"height\"=>\"100%\",\"minHeight\"=>\"400px\",\"display\"=>\"flex\",\"width\"=>\"100%\",\"overflow\"=>\"hidden\"))), 1), Dict{String,Tuple{Observables.Observable,Union{Bool, Void}}}(), Set{String}(), nothing, Any[], Dict{Any,Any}(Pair{Any,Any}(\"_promises\", Dict{Any,Any}(Pair{Any,Any}(\"importsLoaded\", Any[WebIO.JSString(\"function () {\\n    var frame = this.dom.querySelector(\\\"#ifr\\\");\\n    var doc = frame.contentDocument\\n    var win = frame.contentWindow\\n\\n    // Determine if we're running on a Jupyter hosting service\\n    // that requires a base URL when retrieving assets\\n    var curMatch =\\n        window.location.href\\n        .match(/(.*?)\\\\/notebooks\\\\/.*\\\\.ipynb/);\\n    curMatch = curMatch ||\\n        window.location.href\\n        .match(/(.*?)\\\\/apps\\\\/.*\\\\.ipynb/);\\n    if (curMatch) {\\n        var base = doc.createElement(\\\"base\\\");\\n        base.setAttribute(\\\"href\\\", curMatch[1] + '/');\\n        doc.head.appendChild(base);\\n    }\\n\\n    var webio = doc.createElement(\\\"script\\\")\\n    webio.src = \\\"pkg/WebIO/webio/dist/bundle.js\\\"\\n    var parent = window\\n\\n    function resizeIframe() {\\n        doc.body.style.padding = '0'\\n        doc.body.style.margin = '0'\\n        doc.documentElement.height = '100%'\\n        doc.body.height = '100%'\\n    }\\n\\n    webio.onload = function () {\\n        win.WebIO.sendCallback = parent.WebIO.sendCallback; // Share stuff\\n        win.WebIO.scopes = parent.WebIO.scopes\\n        win.WebIO.obsscopes = parent.WebIO.obsscopes\\n        win.WebIO._connected = true\\n        doc.body.innerHTML = \\\"<html><body>\\\" + \\\"<div class='display:none'></div><unsafe-script style='display:none'>\\\\nWebIO.mount(this.previousSibling,{&quot;props&quot;:{},&quot;nodeType&quot;:&quot;Scope&quot;,&quot;type&quot;:&quot;node&quot;,&quot;instanceArgs&quot;:{&quot;imports&quot;:{&quot;data&quot;:[{&quot;name&quot;:null,&quot;type&quot;:&quot;js&quot;,&quot;url&quot;:&quot;pkg/MeshCat/meshcat/dist/main.min.js&quot;}],&quot;type&quot;:&quot;async_block&quot;},&quot;id&quot;:&quot;scope-3dc3c13b-fc16-44e4-98cd-57e1678aac8b&quot;,&quot;handlers&quot;:{&quot;meshcat-command&quot;:[(function (val){return this.viewer.handle_command_message({&quot;data&quot;:val})})],&quot;_promises&quot;:{&quot;importsLoaded&quot;:[(function (mc){var element=this.dom.children[0]; this.viewer=new mc.Viewer(element); WebIO.setval({&quot;name&quot;:&quot;meshcat-request&quot;,&quot;scope&quot;:&quot;scope-3dc3c13b-fc16-44e4-98cd-57e1678aac8b&quot;,&quot;id&quot;:&quot;ob_29&quot;,&quot;type&quot;:&quot;observable&quot;},String(Date.now())); return window.document.body.style.margin=&quot;0&quot;})]}},&quot;systemjs_options&quot;:null,&quot;observables&quot;:{&quot;meshcat-command&quot;:{&quot;sync&quot;:false,&quot;id&quot;:&quot;ob_28&quot;,&quot;value&quot;:[131,166,109,97,116,114,105,120,199,64,23,0,0,128,63,0,0,0,0,0,0,0,0,0,0,0,0,0,0,0,0,0,0,128,63,0,0,0,0,0,0,0,0,0,0,0,0,0,0,0,0,0,0,128,63,0,0,0,0,0,0,0,0,205,204,204,61,0,0,128,191,0,0,128,63,164,116,121,112,101,173,115,101,116,95,116,114,97,110,115,102,111,114,109,164,112,97,116,104,218,0,46,47,109,101,115,104,99,97,116,47,119,111,114,108,100,47,98,97,115,101,95,108,105,110,107,47,117,112,112,101,114,95,108,105,110,107,47,108,111,119,101,114,95,108,105,110,107]},&quot;meshcat-controls&quot;:{&quot;sync&quot;:true,&quot;id&quot;:&quot;ob_30&quot;,&quot;value&quot;:[]},&quot;meshcat-request&quot;:{&quot;sync&quot;:true,&quot;id&quot;:&quot;ob_29&quot;,&quot;value&quot;:&quot;&quot;}}},&quot;children&quot;:[{&quot;props&quot;:{&quot;className&quot;:&quot;meshcat-viewer&quot;,&quot;style&quot;:{&quot;left&quot;:0,&quot;right&quot;:0,&quot;overflow&quot;:&quot;hidden&quot;,&quot;position&quot;:&quot;absolute&quot;,&quot;height&quot;:&quot;100vh&quot;,&quot;margin&quot;:0,&quot;width&quot;:&quot;100vw&quot;}},&quot;nodeType&quot;:&quot;DOM&quot;,&quot;type&quot;:&quot;node&quot;,&quot;instanceArgs&quot;:{&quot;namespace&quot;:&quot;html&quot;,&quot;tag&quot;:&quot;div&quot;},&quot;children&quot;:[]}]})</unsafe-script>\\\" + \\\"</body></html>\\\";\\n        setTimeout(function () { resizeIframe() }, 0)\\n    }\\n\\n    doc.body.appendChild(webio)\\n}\"), WebIO.JSString(\"(function (){return this.dom.style.height=\\\"100%\\\"})\")])))), WebIO.ConnectionPool(Channel{Any}(sz_max:9223372036854775807,sz_curr:0), Set{WebIO.AbstractConnection}(), Channel{WebIO.AbstractConnection}(sz_max:32,sz_curr:0)))"
      ]
     },
     "execution_count": 121,
     "metadata": {},
     "output_type": "execute_result"
    }
   ],
   "source": [
    "vis = MechanismVisualizer(doublependulum,URDFVisuals(urdf));\n",
    "IJuliaCell(vis)"
   ]
  },
  {
   "cell_type": "code",
   "execution_count": 122,
   "metadata": {
    "collapsed": true
   },
   "outputs": [],
   "source": [
    "for i = 1:size(X,2)\n",
    "    set_configuration!(state, X[1:2,i])\n",
    "    set_configuration!(vis, configuration(state))\n",
    "    sleep(dt)\n",
    "end"
   ]
  },
  {
   "cell_type": "code",
   "execution_count": null,
   "metadata": {
    "collapsed": true
   },
   "outputs": [],
   "source": []
  }
 ],
 "metadata": {
  "kernelspec": {
   "display_name": "Julia 0.6.3",
   "language": "julia",
   "name": "julia-0.6"
  },
  "language_info": {
   "file_extension": ".jl",
   "mimetype": "application/julia",
   "name": "julia",
   "version": "0.6.3"
  }
 },
 "nbformat": 4,
 "nbformat_minor": 2
}
