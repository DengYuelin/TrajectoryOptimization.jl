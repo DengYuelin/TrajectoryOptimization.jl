{
 "cells": [
  {
   "cell_type": "code",
   "execution_count": 1,
   "metadata": {},
   "outputs": [
    {
     "data": {
      "text/html": [
       "    <script class='js-collapse-script'>\n",
       "        var curMatch =\n",
       "            window.location.href\n",
       "            .match(/(.*?)\\/notebooks\\/.*\\.ipynb/);\n",
       "\n",
       "        curMatch = curMatch ||\n",
       "            window.location.href\n",
       "            .match(/(.*?)\\/apps\\/.*\\.ipynb/);\n",
       "\n",
       "        if ( curMatch ) {\n",
       "            $('head').append('<base href=\"' + curMatch[1] + '/\">');\n",
       "        }\n",
       "    </script>\n"
      ],
      "text/plain": [
       "HTML{String}(\"    <script class='js-collapse-script'>\\n        var curMatch =\\n            window.location.href\\n            .match(/(.*?)\\\\/notebooks\\\\/.*\\\\.ipynb/);\\n\\n        curMatch = curMatch ||\\n            window.location.href\\n            .match(/(.*?)\\\\/apps\\\\/.*\\\\.ipynb/);\\n\\n        if ( curMatch ) {\\n            \\$('head').append('<base href=\\\"' + curMatch[1] + '/\\\">');\\n        }\\n    </script>\\n\")"
      ]
     },
     "metadata": {},
     "output_type": "display_data"
    },
    {
     "data": {
      "text/html": [
       "<script class='js-collapse-script' src='/assetserver/20bf9867c6d8c22b253c6453b69609af00fc1eeb-assets/webio/dist/bundle.js'></script>"
      ],
      "text/plain": [
       "HTML{String}(\"<script class='js-collapse-script' src='/assetserver/20bf9867c6d8c22b253c6453b69609af00fc1eeb-assets/webio/dist/bundle.js'></script>\")"
      ]
     },
     "metadata": {},
     "output_type": "display_data"
    },
    {
     "data": {
      "text/html": [
       "<script class='js-collapse-script' src='/assetserver/20bf9867c6d8c22b253c6453b69609af00fc1eeb-assets/providers/ijulia_setup.js'></script>"
      ],
      "text/plain": [
       "HTML{String}(\"<script class='js-collapse-script' src='/assetserver/20bf9867c6d8c22b253c6453b69609af00fc1eeb-assets/providers/ijulia_setup.js'></script>\")"
      ]
     },
     "metadata": {},
     "output_type": "display_data"
    },
    {
     "data": {
      "text/html": [
       "  <script class='js-collapse-script'>\n",
       "    $('.js-collapse-script').parent('.output_subarea').css('padding', '0');\n",
       "  </script>\n"
      ],
      "text/plain": [
       "HTML{String}(\"  <script class='js-collapse-script'>\\n    \\$('.js-collapse-script').parent('.output_subarea').css('padding', '0');\\n  </script>\\n\")"
      ]
     },
     "metadata": {},
     "output_type": "display_data"
    },
    {
     "name": "stderr",
     "output_type": "stream",
     "text": [
      "\u001b[1m\u001b[36mINFO: \u001b[39m\u001b[22m\u001b[36mLoading HttpServer methods...\n",
      "\u001b[39m"
     ]
    }
   ],
   "source": [
    "using RigidBodyDynamics\n",
    "using ForwardDiff\n",
    "using Plots\n",
    "using MeshCatMechanisms"
   ]
  },
  {
   "cell_type": "code",
   "execution_count": 2,
   "metadata": {},
   "outputs": [
    {
     "data": {
      "text/plain": [
       "Spanning tree:\n",
       "Vertex: world (root)\n",
       "  Vertex: base_link, Edge: base_link_to_world\n",
       "    Vertex: upper_link, Edge: shoulder\n",
       "      Vertex: lower_link, Edge: elbow\n",
       "No non-tree joints."
      ]
     },
     "execution_count": 2,
     "metadata": {},
     "output_type": "execute_result"
    }
   ],
   "source": [
    "urdf = \"doublependulum.urdf\"\n",
    "doublependulum = parse_urdf(Float64,urdf)"
   ]
  },
  {
   "cell_type": "code",
   "execution_count": 3,
   "metadata": {},
   "outputs": [
    {
     "data": {
      "text/plain": [
       "3-element Array{RigidBodyDynamics.Joint{Float64,JT} where JT<:RigidBodyDynamics.JointType{Float64},1}:\n",
       " base_link_to_world\n",
       " shoulder          \n",
       " elbow             "
      ]
     },
     "execution_count": 3,
     "metadata": {},
     "output_type": "execute_result"
    }
   ],
   "source": [
    "state = MechanismState(doublependulum)\n",
    "fixedjoint, shoulder, elbow = joints(doublependulum)"
   ]
  },
  {
   "cell_type": "code",
   "execution_count": 4,
   "metadata": {},
   "outputs": [
    {
     "data": {
      "text/plain": [
       "f (generic function with 1 method)"
      ]
     },
     "execution_count": 4,
     "metadata": {},
     "output_type": "execute_result"
    }
   ],
   "source": [
    "function fc(x,u)\n",
    "    state = MechanismState{eltype(x)}(doublependulum)\n",
    "    \n",
    "    # set the state variables:\n",
    "    set_configuration!(state, x[1:2])\n",
    "    set_velocity!(state, x[3:4])\n",
    "    \n",
    "    # return momentum converted to an `Array` (as this is the format that ForwardDiff expects)\n",
    "    [x[3];x[4]; Array(mass_matrix(state))\\[0.; u] - Array(mass_matrix(state))\\Array(dynamics_bias(state))]\n",
    "end\n",
    "\n",
    "function f(x,u,dt)\n",
    "    return x + fc(x + fc(x,u)*dt/2,u)*dt\n",
    "end"
   ]
  },
  {
   "cell_type": "code",
   "execution_count": 5,
   "metadata": {},
   "outputs": [
    {
     "data": {
      "text/plain": [
       "(::#1) (generic function with 1 method)"
      ]
     },
     "execution_count": 5,
     "metadata": {},
     "output_type": "execute_result"
    }
   ],
   "source": [
    "function fc2(S)\n",
    "    state = MechanismState{eltype(S)}(doublependulum)\n",
    "    \n",
    "    # set the state variables:\n",
    "    set_configuration!(state, S[1:2])\n",
    "    set_velocity!(state, S[3:4])\n",
    "    [S[3];S[4]; Array(mass_matrix(state))\\[0.;S[5]] - Array(mass_matrix(state))\\Array(dynamics_bias(state)); 0.;0.]\n",
    "end\n",
    "\n",
    "function f2(S)\n",
    "    return S + fc2(S + fc2(S)*S[end]/2)*S[end]\n",
    "end\n",
    "\n",
    "Df = S-> ForwardDiff.jacobian(f2, S)"
   ]
  },
  {
   "cell_type": "code",
   "execution_count": 6,
   "metadata": {},
   "outputs": [
    {
     "data": {
      "text/plain": [
       "solve (generic function with 5 methods)"
      ]
     },
     "execution_count": 6,
     "metadata": {},
     "output_type": "execute_result"
    }
   ],
   "source": [
    "#iLQR\n",
    "function rollout(x0,U,f,dt,tf)\n",
    "    N = convert(Int64,floor(tf/dt))\n",
    "    X = zeros(size(x0,1),N)\n",
    "    X[:,1] = x0\n",
    "    for k = 1:N-1\n",
    "      X[:,k+1] = f(X[:,k],U[:,k],dt)\n",
    "    end\n",
    "    return X\n",
    "end\n",
    "\n",
    "function cost(X,U,Q,R,Qf,xf)\n",
    "    N = size(X,2)\n",
    "    J = 0.\n",
    "    for k = 1:N-1\n",
    "      J += 0.5*(X[:,k] - xf)'*Q*(X[:,k] - xf) + 0.5*U[:,k]'*R*U[:,k]\n",
    "    end\n",
    "    J += 0.5*(X[:,N] - xf)'*Qf*(X[:,N] - xf)\n",
    "    return J\n",
    "end\n",
    "\n",
    "function backwardpass(X,U,Df,Q,R,Qf,xf)\n",
    "    n, N = size(X)\n",
    "    m = size(U,1)\n",
    "    S = zeros(n,n,N)\n",
    "    s = zeros(n,N)\n",
    "    K = zeros(m,n,N-1)\n",
    "    l = zeros(m,N-1)\n",
    "    C1 = zeros(1,n,N)\n",
    "    C2 = zeros(1,m,N)\n",
    "    C3 = zeros(n,n,N)\n",
    "    C4 = zeros(m,m,N)\n",
    "    C5 = zeros(m,n,N)\n",
    "    S[:,:,N] = Qf\n",
    "    s[:,N] = Qf*(X[:,N] - xf)\n",
    "    v1 = 0\n",
    "    v2 = 0\n",
    "\n",
    "    mu = 0.\n",
    "    k = N-1\n",
    "    while k >= 1\n",
    "        q = Q*(X[:,k] - xf)\n",
    "        r = R*(U[:,k])\n",
    "        Df_aug = Df([X[:,k];U[:,k];dt])\n",
    "        A = Df_aug[1:size(X,1),1:size(X,1)]\n",
    "        B = Df_aug[1:size(X,1),size(X,1)+1:size(X,1)+size(U,1)]\n",
    "        C1[:,:,k] = q' + s[:,k+1]'*A\n",
    "        C2[:,:,k] = r' + s[:,k+1]'*B\n",
    "        C3[:,:,k] = Q + A'*S[:,:,k+1]*A\n",
    "        C4[:,:,k] = R + B'*(S[:,:,k+1] + mu*eye(n))*B\n",
    "        C5[:,:,k] = B'*(S[:,:,k+1] + mu*eye(n))*A\n",
    "\n",
    "        # regularization\n",
    "        if any(x->x < 0, eigvals(C4[:,:,k]))\n",
    "            mu_reg = mu_reg + 1;\n",
    "            k = N-1;\n",
    "            println(\"REG.!!!\")\n",
    "        end\n",
    "\n",
    "        K[:,:,k] = C4[:,:,k]\\C5[:,:,k]\n",
    "        l[:,k] = C4[:,:,k]\\C2[:,:,k]'\n",
    "        s[:,k] = C1[:,:,k] - C2[:,:,k]*K[:,:,k] + l[:,k]'*C4[:,:,k]*K[:,:,k] - l[:,k]'*C5[:,:,k]\n",
    "        S[:,:,k] = C3[:,:,k] + K[:,:,k]'*C4[:,:,k]*K[:,:,k] - K[:,:,k]'*C5[:,:,k] - C5[:,:,k]'*K[:,:,k]\n",
    "\n",
    "        # terms for line search\n",
    "        v1 += l[:,k]'*C2[:,:,k]'\n",
    "        v2 += l[:,k]'*C4[:,:,k]*l[:,k]\n",
    "        \n",
    "        k = k - 1;\n",
    "    end\n",
    "    return K, l, S, s, v1, v2\n",
    "end\n",
    "\n",
    "function forwardpass(x0,U,f,Q,R,Qf,xf,dt,tf)\n",
    "    X = rollout(x0,U,f,dt,tf)\n",
    "    J = cost(X,U,Q,R,Qf,xf)\n",
    "    return X, J\n",
    "end\n",
    "\n",
    "function solve(x0,m,f,Df,Q,R,Qf,xf,dt,tf,iterations=100,eps=1e-5,c1=0.25,c2=0.75)\n",
    "    N = convert(Int64,floor(tf/dt))\n",
    "    U = zeros(m,N-1)\n",
    "    X = zeros(size(x0,1),N)\n",
    "    X, J = forwardpass(x0,U,f,Q,R,Qf,xf,dt,tf)\n",
    "    println(\"Initial Cost: $J\")\n",
    "    \n",
    "    for i = 1:iterations\n",
    "      println(\"*** Iteration: $i ***\")\n",
    "      K, l, S, s, v1, v2 = backwardpass(X,U,Df,Q,R,Qf,xf)\n",
    "        \n",
    "      ### check for NaN\n",
    "      if any(isnan,K)\n",
    "          println(\"K\")\n",
    "      end\n",
    "      if any(isnan,l)\n",
    "          println(\"l\")\n",
    "      end\n",
    "        \n",
    "      println(\"K: $K\")\n",
    "      println(\"l: $l\")\n",
    "        \n",
    "      ##\n",
    "      if any(isnan,S)\n",
    "          println(\"S\")\n",
    "      end\n",
    "      if any(isnan,s)\n",
    "          println(\"s\")\n",
    "      end\n",
    "        \n",
    "      println(\"S: $S\")\n",
    "      println(\"s: $s\")\n",
    "    \n",
    "      X_prev = copy(X)\n",
    "      J_prev = copy(J)\n",
    "      U_ = zeros(m,N-1)\n",
    "      J = Inf\n",
    "      alpha = 1\n",
    "      dV = 0\n",
    "      z = 0\n",
    "      while J > J_prev || z < c1 || z > c2\n",
    "          X[:,1] = x0\n",
    "          for k = 1:N-1\n",
    "              U_[:,k] = U[:,k] - K[:,:,k]*(X[:,k] - X_prev[:,k]) - alpha*l[:,k]\n",
    "              X[:,k+1] = f(X[:,k],U_[:,k],dt);\n",
    "                \n",
    "              if any(isnan,X) || any(isnan,U_)\n",
    "                  println(\"*****X problem*******\")\n",
    "                  println(\"bad u: $(U_[:,k])\")\n",
    "                  println(\"K: $(K[:,:,k]), l: $(l[:,k])\")\n",
    "                  println(\"dx: $(X[:,k] - X_prev[:,k])\")\n",
    "                  println(\"X: $(X[:,k])\")\n",
    "                  println(\"X_prev: $(X_prev[:,k])\")\n",
    "\n",
    "                  break\n",
    "              end\n",
    "          end\n",
    "          println(\"rollout: $X\")\n",
    "          println(\"new control: $U_\")\n",
    "          if any(isnan(X))\n",
    "              J = Inf\n",
    "          else\n",
    "              J = cost(X,U_,Q,R,Qf,xf)\n",
    "          end\n",
    "          dV = alpha*v1 + (alpha^2)*v2/2\n",
    "          z = (J_prev - J)/dV[1,1]\n",
    "          alpha = alpha/2;\n",
    "      end\n",
    "\n",
    "      U = copy(U_);\n",
    "      println(\"New cost: $J\")\n",
    "      println(\"-----\")\n",
    "      println(\"Expected improvement: $(-dV)\")\n",
    "      println(\"Actual improvement: $(J - J_prev)\")\n",
    "      println(\"(z = $z)\")\n",
    "\n",
    "      if abs(J - J_prev) < eps\n",
    "          println(\"eps criteria met at iteration: $i\")\n",
    "          println(\"-----SOLVED-----\")\n",
    "          break\n",
    "      end\n",
    "\n",
    "    end\n",
    "    \n",
    "    return X, U\n",
    "end"
   ]
  },
  {
   "cell_type": "code",
   "execution_count": 7,
   "metadata": {},
   "outputs": [
    {
     "data": {
      "text/plain": [
       "0.01"
      ]
     },
     "execution_count": 7,
     "metadata": {},
     "output_type": "execute_result"
    }
   ],
   "source": [
    "n = 4\n",
    "m = 1\n",
    "\n",
    "# initial and goal states\n",
    "x0 = [0.;0.;0.;0.]\n",
    "xf = [pi;0.;0.;0.]\n",
    "\n",
    "set_configuration!(state, x0[1:2])\n",
    "set_velocity!(state, x0[3:4])\n",
    "\n",
    "# costs\n",
    "Q = 1e-5*eye(n)\n",
    "Qf = 25.*eye(n)\n",
    "R = 1e-5*eye(m)\n",
    "\n",
    "# simulation\n",
    "tf = 1.\n",
    "dt = 0.01"
   ]
  },
  {
   "cell_type": "code",
   "execution_count": null,
   "metadata": {},
   "outputs": [
    {
     "name": "stdout",
     "output_type": "stream",
     "text": [
      "Initial Cost: 123.37494046779551"
     ]
    }
   ],
   "source": [
    "X, U = @time solve(x0,m,f,Df,Q,R,Qf,xf,dt,tf)\n",
    "\n",
    "P = plot(linspace(0,tf,size(X,2)),X[1,:],title=\"Acrobat (iLQR and Rigid Body Dynamics)\")\n",
    "P = plot!(linspace(0,tf,size(X,2)),X[2,:],ylabel=\"State\")"
   ]
  },
  {
   "cell_type": "code",
   "execution_count": null,
   "metadata": {},
   "outputs": [],
   "source": [
    "W = plot(linspace(0,tf,size(X,2)),[U[1,1] U[1,:]']',title=\"Double Pendulum (iLQR and Rigid Body Dynamics)\",ylabel=\"Control\")"
   ]
  },
  {
   "cell_type": "code",
   "execution_count": null,
   "metadata": {
    "scrolled": true
   },
   "outputs": [],
   "source": [
    "vis = MechanismVisualizer(doublependulum,URDFVisuals(urdf));\n",
    "IJuliaCell(vis)"
   ]
  },
  {
   "cell_type": "code",
   "execution_count": null,
   "metadata": {},
   "outputs": [],
   "source": [
    "for i = 1:size(X,2)\n",
    "    set_configuration!(state, X[1:2,i])\n",
    "    set_configuration!(vis, configuration(state))\n",
    "    sleep(0.01)\n",
    "end"
   ]
  },
  {
   "cell_type": "code",
   "execution_count": null,
   "metadata": {
    "collapsed": true
   },
   "outputs": [],
   "source": []
  }
 ],
 "metadata": {
  "kernelspec": {
   "display_name": "Julia 0.6.3",
   "language": "julia",
   "name": "julia-0.6"
  },
  "language_info": {
   "file_extension": ".jl",
   "mimetype": "application/julia",
   "name": "julia",
   "version": "0.6.3"
  }
 },
 "nbformat": 4,
 "nbformat_minor": 2
}
