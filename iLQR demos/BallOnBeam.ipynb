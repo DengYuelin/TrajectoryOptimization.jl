{
 "cells": [
  {
   "cell_type": "code",
   "execution_count": 1,
   "metadata": {},
   "outputs": [
    {
     "data": {
      "text/html": [
       "    <script class='js-collapse-script'>\n",
       "        var curMatch =\n",
       "            window.location.href\n",
       "            .match(/(.*?)\\/notebooks\\/.*\\.ipynb/);\n",
       "\n",
       "        curMatch = curMatch ||\n",
       "            window.location.href\n",
       "            .match(/(.*?)\\/apps\\/.*\\.ipynb/);\n",
       "\n",
       "        if ( curMatch ) {\n",
       "            $('head').append('<base href=\"' + curMatch[1] + '/\">');\n",
       "        }\n",
       "    </script>\n"
      ],
      "text/plain": [
       "HTML{String}(\"    <script class='js-collapse-script'>\\n        var curMatch =\\n            window.location.href\\n            .match(/(.*?)\\\\/notebooks\\\\/.*\\\\.ipynb/);\\n\\n        curMatch = curMatch ||\\n            window.location.href\\n            .match(/(.*?)\\\\/apps\\\\/.*\\\\.ipynb/);\\n\\n        if ( curMatch ) {\\n            \\$('head').append('<base href=\\\"' + curMatch[1] + '/\\\">');\\n        }\\n    </script>\\n\")"
      ]
     },
     "metadata": {},
     "output_type": "display_data"
    },
    {
     "data": {
      "text/html": [
       "<script class='js-collapse-script' src='pkg/WebIO/webio/dist/bundle.js'></script>"
      ],
      "text/plain": [
       "HTML{String}(\"<script class='js-collapse-script' src='pkg/WebIO/webio/dist/bundle.js'></script>\")"
      ]
     },
     "metadata": {},
     "output_type": "display_data"
    },
    {
     "data": {
      "text/html": [
       "<script class='js-collapse-script' src='pkg/WebIO/providers/ijulia_setup.js'></script>"
      ],
      "text/plain": [
       "HTML{String}(\"<script class='js-collapse-script' src='pkg/WebIO/providers/ijulia_setup.js'></script>\")"
      ]
     },
     "metadata": {},
     "output_type": "display_data"
    },
    {
     "data": {
      "text/html": [
       "  <script class='js-collapse-script'>\n",
       "    $('.js-collapse-script').parent('.output_subarea').css('padding', '0');\n",
       "  </script>\n"
      ],
      "text/plain": [
       "HTML{String}(\"  <script class='js-collapse-script'>\\n    \\$('.js-collapse-script').parent('.output_subarea').css('padding', '0');\\n  </script>\\n\")"
      ]
     },
     "metadata": {},
     "output_type": "display_data"
    }
   ],
   "source": [
    "using RigidBodyDynamics\n",
    "using ForwardDiff\n",
    "using Plots\n",
    "using MeshCatMechanisms"
   ]
  },
  {
   "cell_type": "code",
   "execution_count": 157,
   "metadata": {},
   "outputs": [
    {
     "data": {
      "text/plain": [
       "0.01"
      ]
     },
     "execution_count": 157,
     "metadata": {},
     "output_type": "execute_result"
    }
   ],
   "source": [
    "# Double Pendulum\n",
    "urdf = \"cartpole.urdf\"\n",
    "cartpole = parse_urdf(Float64,urdf)\n",
    "state = MechanismState(cartpole)\n",
    "\n",
    "n = 4 # number of states\n",
    "m = 1 # number of controls\n",
    "\n",
    "# initial and goal states\n",
    "x0 = [.1;0;0.;0.]\n",
    "xf = [.5;0.;0.;0.]\n",
    "\n",
    "#set_configuration!(state, x0[1:2])\n",
    "#set_velocity!(state, x0[3:4])\n",
    "\n",
    "# costs\n",
    "Q = 5e-4*eye(n)\n",
    "Qf = 500.0*eye(n)\n",
    "R = 1e-5*eye(m)\n",
    "\n",
    "# simulation\n",
    "tf = 1.0\n",
    "dt = 0.01"
   ]
  },
  {
   "cell_type": "code",
   "execution_count": 158,
   "metadata": {},
   "outputs": [
    {
     "data": {
      "text/plain": [
       "6-element Array{Float64,1}:\n",
       "  0.5        \n",
       " -0.000990344\n",
       "  9.77697e-5 \n",
       " -0.198069   \n",
       "  1.0        \n",
       "  0.01       "
      ]
     },
     "execution_count": 158,
     "metadata": {},
     "output_type": "execute_result"
    }
   ],
   "source": [
    "fc(xf,1)\n",
    "f(xf,1,dt)\n",
    "f_aug([xf;1;dt])\n",
    "\n",
    "    "
   ]
  },
  {
   "cell_type": "code",
   "execution_count": 164,
   "metadata": {},
   "outputs": [
    {
     "data": {
      "text/plain": [
       "(::#81) (generic function with 1 method)"
      ]
     },
     "execution_count": 164,
     "metadata": {},
     "output_type": "execute_result"
    }
   ],
   "source": [
    "# Dynamics (RK4 discretization)\n",
    "function fc(x,u)\n",
    "    g = 9.81\n",
    "    m1 = .35\n",
    "    m2 = 2\n",
    "    l = 0.5\n",
    "\n",
    "    z = x[1];\n",
    "    theta = x[2];\n",
    "    zdot = x[3];\n",
    "    thetadot = x[4];\n",
    "    \n",
    "    F_tilde = m1/2 + m2*z/l\n",
    "    F = u[1] + F_tilde*0;\n",
    "    \n",
    "    zddot = z*thetadot^2-g*sin(theta);\n",
    "    thetaddot = (F*l*cos(theta) - 2*m1*z*zdot*thetadot - m1*g*z*cos(theta) - (m2*g*l*cos(theta))/2) / (m2*l^2/3 + m1*z^2);\n",
    "\n",
    "    sys = [zdot; thetadot; zddot; thetaddot];\n",
    "end\n",
    "\n",
    "function f(x,u,dt)\n",
    "    # Runge-Kutta 4\n",
    "    k1 = dt*fc(x,u)\n",
    "    k2 = dt*fc(x + k1/2,u)\n",
    "    k3 = dt*fc(x + k2/2,u)\n",
    "    k4 = dt*fc(x + k3, u)\n",
    "    return x + (k1 + 2*k2 + 2*k3 + k4)/6\n",
    "end\n",
    "\n",
    "function fc_aug(S)\n",
    "    g = 9.81\n",
    "    m1 = .35\n",
    "    m2 = 2\n",
    "    l = 0.5\n",
    "\n",
    "    z = S[1];\n",
    "    theta = S[2];\n",
    "    zdot = S[3];\n",
    "    thetadot = S[4];\n",
    "    \n",
    "    F_tilde = m1/2 + m2*z/l\n",
    "    F = S[5] + F_tilde*0;\n",
    "    \n",
    "    zddot = z*thetadot^2-g*sin(theta);\n",
    "    thetaddot = (F*l*cos(theta) - 2*m1*z*zdot*thetadot - m1*g*z*cos(theta) - (m2*g*l*cos(theta))/2) / (m2*l^2/3 + m1*z^2);\n",
    "\n",
    "    sys = [zdot; thetadot; zddot; thetaddot;0;0];\n",
    "end\n",
    "\n",
    "function f_aug(S)\n",
    "    k1 = S[end]*fc_aug(S)\n",
    "    k2 = S[end]*fc_aug(S + k1/2)\n",
    "    k3 = S[end]*fc_aug(S + k2/2)\n",
    "    k4 = S[end]*fc_aug(S + k3)\n",
    "    return S + (k1 + 2*k2 + 2*k3 + k4)/6\n",
    "end\n",
    "\n",
    "F = S-> ForwardDiff.jacobian(f_aug, S)"
   ]
  },
  {
   "cell_type": "code",
   "execution_count": 165,
   "metadata": {},
   "outputs": [
    {
     "data": {
      "text/plain": [
       "solve (generic function with 3 methods)"
      ]
     },
     "execution_count": 165,
     "metadata": {},
     "output_type": "execute_result"
    }
   ],
   "source": [
    "#iLQR\n",
    "function rollout(x0,U,f,dt,tf)\n",
    "    N = convert(Int64,floor(tf/dt))\n",
    "    X = zeros(size(x0,1),N)\n",
    "    X[:,1] = x0\n",
    "    for k = 1:N-1\n",
    "      X[:,k+1] = f(X[:,k],U[:,k],dt)\n",
    "    end\n",
    "    return X\n",
    "end\n",
    "\n",
    "function cost(X,U,Q,R,Qf,xf)\n",
    "    N = size(X,2)\n",
    "    J = 0.0\n",
    "    for k = 1:N-1\n",
    "      J += 0.5*(X[:,k] - xf)'*Q*(X[:,k] - xf) + 0.5*U[:,k]'*R*U[:,k]\n",
    "    end\n",
    "    J += 0.5*(X[:,N] - xf)'*Qf*(X[:,N] - xf)\n",
    "    return J\n",
    "end\n",
    "\n",
    "function backwardpass(X,U,F,Q,R,Qf,xf)\n",
    "    n, N = size(X)\n",
    "    m = size(U,1)\n",
    "    \n",
    "    S = zeros(n,n,N)\n",
    "    s = zeros(n,N)\n",
    "    \n",
    "    Qx = zeros(n,1,N)\n",
    "    Qu = zeros(m,1,N)\n",
    "    Qxx = zeros(n,n,N)\n",
    "    Quu = zeros(m,m,N)\n",
    "    Qux = zeros(m,n,N)\n",
    "    \n",
    "    K = zeros(m,n,N-1)\n",
    "    l = zeros(m,N-1)\n",
    "    \n",
    "    S[:,:,N] = Qf\n",
    "    s[:,N] = Qf*(X[:,N] - xf)\n",
    "    v1 = 0.0\n",
    "    v2 = 0.0\n",
    "\n",
    "    mu = 0.0\n",
    "    k = N-1\n",
    "    \n",
    "    while k >= 1\n",
    "        q = Q*(X[:,k] - xf)\n",
    "        r = R*(U[:,k])\n",
    "        F_aug = F([X[:,k];U[:,k];dt])\n",
    "        fx = F_aug[1:size(X,1),1:size(X,1)]\n",
    "        fu = F_aug[1:size(X,1),size(X,1)+1:size(X,1)+size(U,1)]\n",
    "        \n",
    "        Qx[:,:,k] = q + fx'*s[:,k+1]\n",
    "        Qu[:,:,k] = r + fu'*s[:,k+1]\n",
    "        Qxx[:,:,k] = Q + fx'*S[:,:,k+1]*fx\n",
    "        Quu[:,:,k] = R + fu'*(S[:,:,k+1] + mu*eye(n))*fu\n",
    "        Qux[:,:,k] = fu'*(S[:,:,k+1] + mu*eye(n))*fx\n",
    "\n",
    "        # regularization        \n",
    "        if any(x->x < 0.0, (eigvals(Quu[:,:,k])))\n",
    "            mu = mu + 1.0;\n",
    "            k = N-1;\n",
    "            println(\"regularized\")\n",
    "        end\n",
    "        \n",
    "        K[:,:,k] = Quu[:,:,k]\\Qux[:,:,k]\n",
    "        l[:,k] = Quu[:,:,k]\\Qu[:,:,k]\n",
    "        s[:,k] = (Qx[:,:,k]' - Qu[:,:,k]'*K[:,:,k] + l[:,k]'*Quu[:,:,k]*K[:,:,k] - l[:,k]'*Qux[:,:,k])'\n",
    "        S[:,:,k] = Qxx[:,:,k] + K[:,:,k]'*Quu[:,:,k]*K[:,:,k] - K[:,:,k]'*Qux[:,:,k] - Qux[:,:,k]'*K[:,:,k]\n",
    "\n",
    "        # terms for line search\n",
    "        v1 += l[:,k]'*Qu[:,:,k]\n",
    "        v2 += l[:,k]'*Quu[:,:,k]*l[:,k]\n",
    "        \n",
    "        k = k - 1;\n",
    "    end\n",
    "    return K, l, v1, v2\n",
    "end\n",
    "\n",
    "function forwardpass(X,U,f,J,K,l,v1,v2,c1=0.5,c2=.85)\n",
    "    N = size(X,2)\n",
    "    m = size(U,1)\n",
    "    X_prev = copy(X)\n",
    "    J_prev = copy(J)\n",
    "    U_ = zeros(m,N-1)\n",
    "    J = Inf\n",
    "    dV = 0.0\n",
    "    dJ = 0.0\n",
    "    z = 0.0\n",
    "    \n",
    "    alpha = 1.0\n",
    "\n",
    "    while J > J_prev || z < c1 || z > c2 \n",
    "        for k = 1:N-1\n",
    "          U_[:,k] = U[:,k] - K[:,:,k]*(X[:,k] - X_prev[:,k]) - alpha*l[:,k]\n",
    "          X[:,k+1] = f(X[:,k],U_[:,k],dt);\n",
    "        end\n",
    "\n",
    "        J = cost(X,U_,Q,R,Qf,xf)\n",
    "        \n",
    "        dV = alpha*v1 + (alpha^2)*v2/2.0\n",
    "        dJ = J_prev - J\n",
    "        z = dJ/dV[1]\n",
    "\n",
    "        @show alpha = alpha/2.0;\n",
    "    end\n",
    "\n",
    "    println(\"New cost: $J\")\n",
    "    println(\"- Expected improvement: $(dV[1])\")\n",
    "    println(\"- Actual improvement: $(dJ)\")\n",
    "    println(\"- (z = $z)\\n\")\n",
    "    \n",
    "    return X, U_, J\n",
    "end\n",
    "\n",
    "function solve(x0,m,f,F,Q,R,Qf,xf,dt,tf,iterations=50,eps=1e-3; control_init=\"random\")\n",
    "    N = convert(Int64,floor(tf/dt))\n",
    "    X = zeros(size(x0,1),N)\n",
    "    \n",
    "    if control_init == \"random\"\n",
    "        U = 10.0*ones(m,N-1)\n",
    "    else\n",
    "        U = zeros(m,N-1)\n",
    "    end\n",
    "        \n",
    "    X = rollout(x0,U,f,dt,tf)\n",
    "    J_prev = cost(X,U,Q,R,Qf,xf)\n",
    "    println(\"Initial Cost: $J_prev\\n\")\n",
    "    \n",
    "    for i = 1:iterations\n",
    "        println(\"*** Iteration: $i ***\")\n",
    "        K, l, v1, v2 = backwardpass(X,U,F,Q,R,Qf,xf)\n",
    "        X, U, J = forwardpass(X,U,f,J_prev,K,l,v1,v2)\n",
    "        \n",
    "        if abs(J-J_prev) < eps\n",
    "          println(\"-----SOLVED-----\")\n",
    "          println(\"eps criteria met at iteration: $i\")\n",
    "          break\n",
    "        end\n",
    "        J_prev = copy(J)\n",
    "    end\n",
    "    \n",
    "    return X, U\n",
    "end"
   ]
  },
  {
   "cell_type": "code",
   "execution_count": 167,
   "metadata": {},
   "outputs": [
    {
     "name": "stdout",
     "output_type": "stream",
     "text": [
      "Initial Cost: 2823.2494176311397\n",
      "\n",
      "*** Iteration: 1 ***\n",
      "alpha = alpha / 2.0 = 0.5\n",
      "alpha = alpha / 2.0 = 0.25\n",
      "New cost: 599.990675328382\n",
      "- Expected improvement: 3528.6544594077964\n",
      "- Actual improvement: 2223.2587423027576\n",
      "- (z = 0.6300585018675591)\n",
      "\n",
      "*** Iteration: 2 ***\n",
      "alpha = alpha / 2.0 = 0.5\n",
      "alpha = alpha / 2.0 = 0.25\n",
      "New cost: 158.42253147955947\n",
      "- Expected improvement: 749.8347262173195\n",
      "- Actual improvement: 441.5681438488226\n",
      "- (z = 0.5888872953062538)\n",
      "\n",
      "*** Iteration: 3 ***\n",
      "alpha = alpha / 2.0 = 0.5\n",
      "alpha = alpha / 2.0 = 0.25\n",
      "New cost: 56.573229784142185\n",
      "- Expected improvement: 197.90499921212552\n",
      "- Actual improvement: 101.84930169541728\n",
      "- (z = 0.5146373366053758)\n",
      "\n",
      "*** Iteration: 4 ***\n",
      "alpha = alpha / 2.0 = 0.5\n",
      "alpha = alpha / 2.0 = 0.25\n",
      "New cost: 15.049480537496956\n",
      "- Expected improvement: 70.53794243595465\n",
      "- Actual improvement: 41.52374924664523\n",
      "- (z = 0.5886725330037372)\n",
      "\n",
      "*** Iteration: 5 ***\n",
      "alpha = alpha / 2.0 = 0.5\n",
      "alpha = alpha / 2.0 = 0.25\n",
      "New cost: 3.891600571350444\n",
      "- Expected improvement: 18.609414679918753\n",
      "- Actual improvement: 11.157879966146513\n",
      "- (z = 0.5995825316411955)\n",
      "\n",
      "*** Iteration: 6 ***\n",
      "alpha = alpha / 2.0 = 0.5\n",
      "alpha = alpha / 2.0 = 0.25\n",
      "New cost: 1.0955041867134294\n",
      "- Expected improvement: 4.659377204307445\n",
      "- Actual improvement: 2.796096384637014\n",
      "- (z = 0.6001008851681106)\n",
      "\n",
      "*** Iteration: 7 ***\n",
      "alpha = alpha / 2.0 = 0.5\n",
      "alpha = alpha / 2.0 = 0.25\n",
      "New cost: 0.3966197088184146\n",
      "- Expected improvement: 1.1642089616494051\n",
      "- Actual improvement: 0.6988844778950148\n",
      "- (z = 0.6003084505593077)\n",
      "\n",
      "*** Iteration: 8 ***\n",
      "alpha = alpha / 2.0 = 0.5\n",
      "alpha = alpha / 2.0 = 0.25\n",
      "New cost: 0.22213039999154346\n",
      "- Expected improvement: 0.2906964852523069\n",
      "- Actual improvement: 0.1744893088268711\n",
      "- (z = 0.6002456778086772)\n",
      "\n",
      "*** Iteration: 9 ***\n",
      "alpha = alpha / 2.0 = 0.5\n",
      "alpha = alpha / 2.0 = 0.25\n",
      "New cost: 0.17853218546303645\n",
      "- Expected improvement: 0.07263953697095957\n",
      "- Actual improvement: 0.04359821452850701\n",
      "- (z = 0.6001995104392951)\n",
      "\n",
      "*** Iteration: 10 ***\n",
      "alpha = alpha / 2.0 = 0.5\n",
      "alpha = alpha / 2.0 = 0.25\n",
      "New cost: 0.16763182964293866\n",
      "- Expected improvement: 0.018162232546202042\n",
      "- Actual improvement: 0.010900355820097796\n",
      "- (z = 0.600166074978332)\n",
      "\n",
      "*** Iteration: 11 ***\n",
      "alpha = alpha / 2.0 = 0.5\n",
      "alpha = alpha / 2.0 = 0.25\n",
      "New cost: 0.16490484209817619\n",
      "- Expected improvement: 0.00454375291966528\n",
      "- Actual improvement: 0.0027269875447624714\n",
      "- (z = 0.6001619350735641)\n",
      "\n",
      "*** Iteration: 12 ***\n",
      "alpha = alpha / 2.0 = 0.5\n",
      "alpha = alpha / 2.0 = 0.25\n",
      "New cost: 0.16422226464857423\n",
      "- Expected improvement: 0.0011372878839147186\n",
      "- Actual improvement: 0.0006825774496019565\n",
      "- (z = 0.6001800065366217)\n",
      "\n",
      "-----SOLVED-----\n",
      "eps criteria met at iteration: 12\n",
      "  0.104295 seconds (595.40 k allocations: 52.254 MiB, 10.33% gc time)\n"
     ]
    }
   ],
   "source": [
    "X, U = @time solve(x0,m,f,F,Q,R,Qf,xf,dt,tf;control_init=\"random\");"
   ]
  },
  {
   "cell_type": "code",
   "execution_count": 154,
   "metadata": {},
   "outputs": [
    {
     "data": {
      "text/plain": [
       "34"
      ]
     },
     "execution_count": 154,
     "metadata": {},
     "output_type": "execute_result"
    }
   ],
   "source": [
    "X\n",
    "Int(round(length(anim.frames)/tf))"
   ]
  },
  {
   "cell_type": "code",
   "execution_count": 168,
   "metadata": {},
   "outputs": [
    {
     "data": {
      "text/plain": [
       "Plots.Animation(\"C:\\\\Users\\\\bjack\\\\AppData\\\\Local\\\\Temp\\\\jl_112.tmp\", String[\"000001.png\", \"000002.png\", \"000003.png\", \"000004.png\", \"000005.png\", \"000006.png\", \"000007.png\", \"000008.png\", \"000009.png\", \"000010.png\"  …  \"000024.png\", \"000025.png\", \"000026.png\", \"000027.png\", \"000028.png\", \"000029.png\", \"000030.png\", \"000031.png\", \"000032.png\", \"000033.png\"])"
      ]
     },
     "execution_count": 168,
     "metadata": {},
     "output_type": "execute_result"
    }
   ],
   "source": [
    "plt = plot()\n",
    "N = size(X,2)\n",
    "l = .6\n",
    "anim = @animate for i = 1:N-1\n",
    "    z = X[1,i]\n",
    "    theta = X[2,i]\n",
    "    plt = plot([0, l*cos(theta)],[0, l*sin(theta)])\n",
    "    plot!([z*cos(theta)], [z*sin(theta)], seriestype=:scatter, markersize=2,\n",
    "        xlims=(-l/5,1.5l),ylims=(-l/5,1.5l),size=(200,200),label=\"\",title=\"Ball on Beam\")\n",
    "end every 3"
   ]
  },
  {
   "cell_type": "code",
   "execution_count": 169,
   "metadata": {},
   "outputs": [
    {
     "name": "stderr",
     "output_type": "stream",
     "text": [
      "\u001b[1m\u001b[36mINFO: \u001b[39m\u001b[22m\u001b[36mSaved animation to C:\\Users\\bjack\\Documents\\GitHub\\JuliaiLQR\\iLQR demos\\BallOnBeam.gif\n",
      "\u001b[39m"
     ]
    },
    {
     "data": {
      "text/html": [
       "<img src=\"BallOnBeam.gif?0.4049791401748606>\" />"
      ],
      "text/plain": [
       "Plots.AnimatedGif(\"C:\\\\Users\\\\bjack\\\\Documents\\\\GitHub\\\\JuliaiLQR\\\\iLQR demos\\\\BallOnBeam.gif\")"
      ]
     },
     "execution_count": 169,
     "metadata": {},
     "output_type": "execute_result"
    }
   ],
   "source": [
    "gif(anim, \"BallOnBeam.gif\", fps=Int(round(length(anim.frames)/tf)))"
   ]
  },
  {
   "cell_type": "code",
   "execution_count": null,
   "metadata": {},
   "outputs": [],
   "source": [
    "P = plot(linspace(0,tf,size(X,2)),X[1,:],title=\"Cartpole\",label=\"y\")\n",
    "P = plot!(linspace(0,tf,size(X,2)),X[2,:],ylabel=\"State\",label=\"\\Theta\")"
   ]
  },
  {
   "cell_type": "code",
   "execution_count": null,
   "metadata": {},
   "outputs": [],
   "source": [
    "W = plot(linspace(0,tf,size(X,2)),[U[1,1] U[1,:]']',title=\"Cartpole\")\n",
    "W = plot!(linspace(0,tf,size(X,2)),[U[2,1] U[2,:]']',ylabel=\"Control\")"
   ]
  },
  {
   "cell_type": "code",
   "execution_count": null,
   "metadata": {
    "scrolled": true
   },
   "outputs": [],
   "source": [
    "vis = MechanismVisualizer(cartpole,URDFVisuals(urdf));\n",
    "IJuliaCell(vis)"
   ]
  },
  {
   "cell_type": "code",
   "execution_count": null,
   "metadata": {},
   "outputs": [],
   "source": [
    "for i = 1:size(X,2)\n",
    "    set_configuration!(state, X[1:2,i])\n",
    "    set_configuration!(vis, configuration(state))\n",
    "    sleep(dt)\n",
    "end"
   ]
  },
  {
   "cell_type": "code",
   "execution_count": null,
   "metadata": {},
   "outputs": [],
   "source": []
  }
 ],
 "metadata": {
  "kernelspec": {
   "display_name": "Julia 0.6.3",
   "language": "julia",
   "name": "julia-0.6"
  },
  "language_info": {
   "file_extension": ".jl",
   "mimetype": "application/julia",
   "name": "julia",
   "version": "0.6.3"
  }
 },
 "nbformat": 4,
 "nbformat_minor": 2
}
